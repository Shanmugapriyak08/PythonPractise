{
 "cells": [
  {
   "cell_type": "code",
   "execution_count": 3,
   "metadata": {},
   "outputs": [
    {
     "ename": "ZeroDivisionError",
     "evalue": "division by zero",
     "output_type": "error",
     "traceback": [
      "\u001b[1;31m---------------------------------------------------------------------------\u001b[0m",
      "\u001b[1;31mZeroDivisionError\u001b[0m                         Traceback (most recent call last)",
      "\u001b[1;32m<ipython-input-3-e8326a161779>\u001b[0m in \u001b[0;36m<module>\u001b[1;34m\u001b[0m\n\u001b[1;32m----> 1\u001b[1;33m \u001b[1;36m2\u001b[0m\u001b[1;33m/\u001b[0m\u001b[1;36m0\u001b[0m\u001b[1;33m\u001b[0m\u001b[1;33m\u001b[0m\u001b[0m\n\u001b[0m",
      "\u001b[1;31mZeroDivisionError\u001b[0m: division by zero"
     ]
    }
   ],
   "source": [
    "2/0"
   ]
  },
  {
   "cell_type": "code",
   "execution_count": 4,
   "metadata": {},
   "outputs": [
    {
     "name": "stdout",
     "output_type": "stream",
     "text": [
      "division by zero\n"
     ]
    }
   ],
   "source": [
    "try:\n",
    "    10/0\n",
    "except ZeroDivisionError as e:\n",
    "    print(e)"
   ]
  },
  {
   "cell_type": "code",
   "execution_count": 7,
   "metadata": {},
   "outputs": [
    {
     "ename": "TypeError",
     "evalue": "unsupported operand type(s) for +: 'int' and 'str'",
     "output_type": "error",
     "traceback": [
      "\u001b[1;31m---------------------------------------------------------------------------\u001b[0m",
      "\u001b[1;31mTypeError\u001b[0m                                 Traceback (most recent call last)",
      "\u001b[1;32m<ipython-input-7-9462191da539>\u001b[0m in \u001b[0;36m<module>\u001b[1;34m\u001b[0m\n\u001b[1;32m----> 1\u001b[1;33m \u001b[1;36m1\u001b[0m\u001b[1;33m+\u001b[0m\u001b[1;34m\"priya\"\u001b[0m\u001b[1;33m\u001b[0m\u001b[1;33m\u001b[0m\u001b[0m\n\u001b[0m",
      "\u001b[1;31mTypeError\u001b[0m: unsupported operand type(s) for +: 'int' and 'str'"
     ]
    }
   ],
   "source": [
    " 1+\"priya\""
   ]
  },
  {
   "cell_type": "code",
   "execution_count": 6,
   "metadata": {},
   "outputs": [
    {
     "name": "stdout",
     "output_type": "stream",
     "text": [
      "unsupported operand type(s) for +: 'int' and 'str'\n"
     ]
    }
   ],
   "source": [
    "try:\n",
    "    1+\"priya\"\n",
    "except Exception as e:\n",
    "    print(e)"
   ]
  },
  {
   "cell_type": "code",
   "execution_count": 8,
   "metadata": {},
   "outputs": [
    {
     "ename": "FileNotFoundError",
     "evalue": "[Errno 2] No such file or directory: 'test.txt'",
     "output_type": "error",
     "traceback": [
      "\u001b[1;31m---------------------------------------------------------------------------\u001b[0m",
      "\u001b[1;31mFileNotFoundError\u001b[0m                         Traceback (most recent call last)",
      "\u001b[1;32m<ipython-input-8-8fc28bae4941>\u001b[0m in \u001b[0;36m<module>\u001b[1;34m\u001b[0m\n\u001b[1;32m----> 1\u001b[1;33m \u001b[0mopen\u001b[0m\u001b[1;33m(\u001b[0m\u001b[1;34m\"test.txt\"\u001b[0m\u001b[1;33m)\u001b[0m\u001b[1;33m\u001b[0m\u001b[1;33m\u001b[0m\u001b[0m\n\u001b[0m",
      "\u001b[1;31mFileNotFoundError\u001b[0m: [Errno 2] No such file or directory: 'test.txt'"
     ]
    }
   ],
   "source": [
    "open(\"test.txt\")"
   ]
  },
  {
   "cell_type": "code",
   "execution_count": 12,
   "metadata": {},
   "outputs": [
    {
     "data": {
      "text/plain": [
       "<_io.TextIOWrapper name='test.txt' mode='w' encoding='cp1252'>"
      ]
     },
     "execution_count": 12,
     "metadata": {},
     "output_type": "execute_result"
    }
   ],
   "source": [
    "open(\"test.txt\",'w')"
   ]
  },
  {
   "cell_type": "code",
   "execution_count": 16,
   "metadata": {},
   "outputs": [
    {
     "ename": "FileNotFoundError",
     "evalue": "[Errno 2] No such file or directory: 'test1.txt'",
     "output_type": "error",
     "traceback": [
      "\u001b[1;31m---------------------------------------------------------------------------\u001b[0m",
      "\u001b[1;31mFileNotFoundError\u001b[0m                         Traceback (most recent call last)",
      "\u001b[1;32m<ipython-input-16-4409f9677fdc>\u001b[0m in \u001b[0;36m<module>\u001b[1;34m\u001b[0m\n\u001b[1;32m----> 1\u001b[1;33m \u001b[0mf\u001b[0m\u001b[1;33m=\u001b[0m\u001b[0mopen\u001b[0m\u001b[1;33m(\u001b[0m\u001b[1;34m\"test1.txt\"\u001b[0m\u001b[1;33m,\u001b[0m\u001b[1;34m'r'\u001b[0m\u001b[1;33m)\u001b[0m\u001b[1;33m\u001b[0m\u001b[1;33m\u001b[0m\u001b[0m\n\u001b[0m\u001b[0;32m      2\u001b[0m \u001b[0mf\u001b[0m\u001b[1;33m.\u001b[0m\u001b[0mwrite\u001b[0m\u001b[1;33m(\u001b[0m\u001b[1;33m)\u001b[0m\u001b[1;33m\u001b[0m\u001b[1;33m\u001b[0m\u001b[0m\n",
      "\u001b[1;31mFileNotFoundError\u001b[0m: [Errno 2] No such file or directory: 'test1.txt'"
     ]
    }
   ],
   "source": [
    "f=open(\"test1.txt\",'r')\n",
    "f.write()"
   ]
  },
  {
   "cell_type": "code",
   "execution_count": 18,
   "metadata": {},
   "outputs": [
    {
     "name": "stdout",
     "output_type": "stream",
     "text": [
      "[Errno 2] No such file or directory: 'test1.txt'\n"
     ]
    }
   ],
   "source": [
    "try:\n",
    "    f=open(\"test1.txt\",'r')\n",
    "    f.write()\n",
    "    a=10/0\n",
    "except Exception as e:\n",
    "    print(e)\n",
    "    "
   ]
  },
  {
   "cell_type": "code",
   "execution_count": 19,
   "metadata": {},
   "outputs": [
    {
     "name": "stdout",
     "output_type": "stream",
     "text": [
      "[Errno 2] No such file or directory: 'test1.txt'\n"
     ]
    }
   ],
   "source": [
    "try:\n",
    "    f=open(\"test1.txt\",'r')\n",
    "    f.write()\n",
    "    a=10/0\n",
    "except IOError as e:\n",
    "    print(e)"
   ]
  },
  {
   "cell_type": "code",
   "execution_count": 20,
   "metadata": {},
   "outputs": [
    {
     "name": "stdout",
     "output_type": "stream",
     "text": [
      "division by zero\n"
     ]
    }
   ],
   "source": [
    "try:\n",
    "    a=10/0\n",
    "    f=open(\"test1.txt\",'r')\n",
    "    f.write()\n",
    "except IOError as e:\n",
    "    print(e)\n",
    "except ZeroDivisionError as e:\n",
    "    print(e)"
   ]
  },
  {
   "cell_type": "code",
   "execution_count": 21,
   "metadata": {},
   "outputs": [
    {
     "name": "stdout",
     "output_type": "stream",
     "text": [
      "division by zero\n"
     ]
    }
   ],
   "source": [
    "try:\n",
    "    a=10/0\n",
    "    try:\n",
    "        f=open(\"test1.txt\",'r')\n",
    "        f.write()\n",
    "    except Exception as s:\n",
    "        print(\"INNER EXCEPT\")\n",
    "except IOError as e:\n",
    "    print(e)\n",
    "except ZeroDivisionError as e:\n",
    "    print(e)\n",
    "except Exception as p:\n",
    "    print(p)"
   ]
  },
  {
   "cell_type": "code",
   "execution_count": 22,
   "metadata": {},
   "outputs": [
    {
     "name": "stdout",
     "output_type": "stream",
     "text": [
      "INNER EXCEPT\n"
     ]
    }
   ],
   "source": [
    "try:\n",
    "    a=10/3\n",
    "    try:\n",
    "        f=open(\"test1.txt\",'r')\n",
    "        f.write()\n",
    "    except Exception as s:\n",
    "        print(\"INNER EXCEPT\")\n",
    "except IOError as e:\n",
    "    print(e)\n",
    "except ZeroDivisionError as e:\n",
    "    print(e)\n",
    "except Exception as p:\n",
    "    print(p)"
   ]
  },
  {
   "cell_type": "code",
   "execution_count": 24,
   "metadata": {},
   "outputs": [
    {
     "name": "stdout",
     "output_type": "stream",
     "text": [
      "INNER EXCEPT\n",
      "This will be excuted only if the try block executed succefully\n"
     ]
    }
   ],
   "source": [
    "try:\n",
    "    a=10/3\n",
    "    try:\n",
    "        f=open(\"test1.txt\",'r')\n",
    "        f.write()\n",
    "    except Exception as s:\n",
    "        print(\"INNER EXCEPT\")\n",
    "    else:\n",
    "        print(\"This will be excuted only if the inner try block executed succefully\")\n",
    "except IOError as e:\n",
    "    print(e)\n",
    "except ZeroDivisionError as e:\n",
    "    print(e)\n",
    "except Exception as p:\n",
    "    print(p)\n",
    "else:\n",
    "    print(\"This will be excuted only if the try block executed succefully\")"
   ]
  },
  {
   "cell_type": "code",
   "execution_count": 25,
   "metadata": {},
   "outputs": [
    {
     "name": "stdout",
     "output_type": "stream",
     "text": [
      "division by zero\n"
     ]
    }
   ],
   "source": [
    "try:\n",
    "    a=10/0\n",
    "    try:\n",
    "        f=open(\"test1.txt\",'r')\n",
    "        f.write()\n",
    "    except Exception as s:\n",
    "        print(\"INNER EXCEPT\")\n",
    "    else:\n",
    "        print(\"This will be excuted only if the inner try block executed succefully\")\n",
    "except IOError as e:\n",
    "    print(e)\n",
    "except ZeroDivisionError as e:\n",
    "    print(e)\n",
    "except Exception as p:\n",
    "    print(p)\n",
    "else:\n",
    "    print(\"This will be excuted only if the try block executed succefully\")"
   ]
  },
  {
   "cell_type": "code",
   "execution_count": 2,
   "metadata": {},
   "outputs": [
    {
     "name": "stdout",
     "output_type": "stream",
     "text": [
      "Enter the value:nkfrdiv\n",
      "This is issue\n"
     ]
    }
   ],
   "source": [
    "try:\n",
    "    a=int(input(\"Enter the value:\"))\n",
    "    print(a/67)\n",
    "except :\n",
    "    print(\"This is issue\")\n",
    "else:\n",
    "    print(\"On successfull execution od try block\")"
   ]
  },
  {
   "cell_type": "code",
   "execution_count": 4,
   "metadata": {},
   "outputs": [
    {
     "name": "stdout",
     "output_type": "stream",
     "text": [
      "Enter the value:434\n",
      "6.477611940298507\n",
      "On successfull execution od try block\n",
      "It will be executed always!!!\n"
     ]
    }
   ],
   "source": [
    "try:\n",
    "    a=int(input(\"Enter the value:\"))\n",
    "    print(a/67)\n",
    "except :\n",
    "    print(\"This is issue\")\n",
    "else:\n",
    "    print(\"On successfull execution of try block\")\n",
    "finally:\n",
    "    print(\"It will be executed always!!!\")"
   ]
  },
  {
   "cell_type": "code",
   "execution_count": 5,
   "metadata": {},
   "outputs": [
    {
     "name": "stdout",
     "output_type": "stream",
     "text": [
      "Enter the value:vrfhymyh\n",
      "This is issue\n",
      "It will be executed always\n"
     ]
    }
   ],
   "source": [
    "try:\n",
    "    a=int(input(\"Enter the value:\"))\n",
    "    print(a/67)\n",
    "except :\n",
    "    print(\"This is issue\")\n",
    "else:\n",
    "    print(\"On successfull execution od try block\")\n",
    "finally:\n",
    "    print(\"It will be executed always\")"
   ]
  },
  {
   "cell_type": "code",
   "execution_count": 16,
   "metadata": {},
   "outputs": [],
   "source": [
    "def askingint():\n",
    "    try:\n",
    "        a=int(input(\"Enter The integer value: \"))\n",
    "        print(a/67)\n",
    "    except:\n",
    "        askingint()\n",
    "    else:\n",
    "        print(\"On successfull execution od try block\")\n",
    "    finally:\n",
    "        print(\"Finally block will execute always\")"
   ]
  },
  {
   "cell_type": "code",
   "execution_count": 17,
   "metadata": {},
   "outputs": [
    {
     "name": "stdout",
     "output_type": "stream",
     "text": [
      "Enter The integer value: def\n",
      "Enter The integer value: fdvfv\n",
      "Enter The integer value: fvfvf\n",
      "Enter The integer value: \n",
      "Enter The integer value: 45\n",
      "0.6716417910447762\n",
      "On successfull execution od try block\n",
      "Finally block will execute always\n",
      "Finally block will execute always\n",
      "Finally block will execute always\n",
      "Finally block will execute always\n",
      "Finally block will execute always\n"
     ]
    }
   ],
   "source": [
    "askingint()"
   ]
  },
  {
   "cell_type": "code",
   "execution_count": 25,
   "metadata": {},
   "outputs": [],
   "source": [
    "def askint():\n",
    "    while True:\n",
    "        try:\n",
    "            a=int(input(\"Enter the digit: \"))\n",
    "        except Exception as e:\n",
    "            print(e)\n",
    "        else:\n",
    "            break\n",
    "        finally:\n",
    "            print(\"Finally executed....\")\n",
    "        "
   ]
  },
  {
   "cell_type": "code",
   "execution_count": 26,
   "metadata": {},
   "outputs": [
    {
     "name": "stdout",
     "output_type": "stream",
     "text": [
      "Enter the digit: hdfj\n",
      "invalid literal for int() with base 10: 'hdfj'\n",
      "Finally executed....\n",
      "Enter the digit: hfrdf\n",
      "invalid literal for int() with base 10: 'hfrdf'\n",
      "Finally executed....\n",
      "Enter the digit: 45\n",
      "Finally executed....\n"
     ]
    }
   ],
   "source": [
    "askint()"
   ]
  },
  {
   "cell_type": "code",
   "execution_count": 39,
   "metadata": {},
   "outputs": [],
   "source": [
    "def askint1():\n",
    "    while True:\n",
    "        try:\n",
    "            a=int(input(\"Enter the digit: \"))\n",
    "        except Exception as e:\n",
    "            print(e)\n",
    "            continue\n",
    "        else:\n",
    "            break\n",
    "        finally:\n",
    "            print(\"Finally executed....\")\n",
    "        a/10\n",
    "        "
   ]
  },
  {
   "cell_type": "code",
   "execution_count": 40,
   "metadata": {},
   "outputs": [
    {
     "name": "stdout",
     "output_type": "stream",
     "text": [
      "Enter the digit: er4\n",
      "invalid literal for int() with base 10: 'er4'\n",
      "Finally executed....\n",
      "Enter the digit: 435\n",
      "Finally executed....\n"
     ]
    }
   ],
   "source": [
    "askint1()"
   ]
  },
  {
   "cell_type": "code",
   "execution_count": 1,
   "metadata": {},
   "outputs": [],
   "source": [
    "## own exception\n",
    "def raise_exp(n):\n",
    "    if n<4:\n",
    "        raise Exception(\"MY error msg - Enter value greater than 4. Since u have entered \",n)\n",
    "    return n"
   ]
  },
  {
   "cell_type": "code",
   "execution_count": 2,
   "metadata": {},
   "outputs": [
    {
     "ename": "Exception",
     "evalue": "('MY error msg - Enter value greater than 4. Since u have entered ', 3)",
     "output_type": "error",
     "traceback": [
      "\u001b[1;31m---------------------------------------------------------------------------\u001b[0m",
      "\u001b[1;31mException\u001b[0m                                 Traceback (most recent call last)",
      "\u001b[1;32m~\\AppData\\Local\\Temp/ipykernel_20596/4013257382.py\u001b[0m in \u001b[0;36m<module>\u001b[1;34m\u001b[0m\n\u001b[1;32m----> 1\u001b[1;33m \u001b[0mraise_exp\u001b[0m\u001b[1;33m(\u001b[0m\u001b[1;36m3\u001b[0m\u001b[1;33m)\u001b[0m\u001b[1;33m\u001b[0m\u001b[1;33m\u001b[0m\u001b[0m\n\u001b[0m",
      "\u001b[1;32m~\\AppData\\Local\\Temp/ipykernel_20596/3862830004.py\u001b[0m in \u001b[0;36mraise_exp\u001b[1;34m(n)\u001b[0m\n\u001b[0;32m      2\u001b[0m \u001b[1;32mdef\u001b[0m \u001b[0mraise_exp\u001b[0m\u001b[1;33m(\u001b[0m\u001b[0mn\u001b[0m\u001b[1;33m)\u001b[0m\u001b[1;33m:\u001b[0m\u001b[1;33m\u001b[0m\u001b[1;33m\u001b[0m\u001b[0m\n\u001b[0;32m      3\u001b[0m     \u001b[1;32mif\u001b[0m \u001b[0mn\u001b[0m\u001b[1;33m<\u001b[0m\u001b[1;36m4\u001b[0m\u001b[1;33m:\u001b[0m\u001b[1;33m\u001b[0m\u001b[1;33m\u001b[0m\u001b[0m\n\u001b[1;32m----> 4\u001b[1;33m         \u001b[1;32mraise\u001b[0m \u001b[0mException\u001b[0m\u001b[1;33m(\u001b[0m\u001b[1;34m\"MY error msg - Enter value greater than 4. Since u have entered \"\u001b[0m\u001b[1;33m,\u001b[0m\u001b[0mn\u001b[0m\u001b[1;33m)\u001b[0m\u001b[1;33m\u001b[0m\u001b[1;33m\u001b[0m\u001b[0m\n\u001b[0m\u001b[0;32m      5\u001b[0m     \u001b[1;32mreturn\u001b[0m \u001b[0mn\u001b[0m\u001b[1;33m\u001b[0m\u001b[1;33m\u001b[0m\u001b[0m\n",
      "\u001b[1;31mException\u001b[0m: ('MY error msg - Enter value greater than 4. Since u have entered ', 3)"
     ]
    }
   ],
   "source": [
    "raise_exp(3)"
   ]
  },
  {
   "cell_type": "code",
   "execution_count": 3,
   "metadata": {},
   "outputs": [
    {
     "data": {
      "text/plain": [
       "5"
      ]
     },
     "execution_count": 3,
     "metadata": {},
     "output_type": "execute_result"
    }
   ],
   "source": [
    "raise_exp(5)"
   ]
  },
  {
   "cell_type": "code",
   "execution_count": 3,
   "metadata": {},
   "outputs": [
    {
     "name": "stdout",
     "output_type": "stream",
     "text": [
      "('MY error msg - Enter value greater than 4. Since u have entered ', 3)\n"
     ]
    }
   ],
   "source": [
    "try:\n",
    "    raise_exp(3)\n",
    "except Exception as e :\n",
    "    print(e)\n",
    "        "
   ]
  },
  {
   "cell_type": "code",
   "execution_count": 15,
   "metadata": {},
   "outputs": [],
   "source": [
    "l=[]\n",
    "def l_ap():\n",
    "    count=1\n",
    "    try:\n",
    "        a=int(input(\"Enter the integer value : \"))\n",
    "        try:\n",
    "            raise_exp(a)\n",
    "        except Exception as e:\n",
    "            print(e)\n",
    "        if (a>4):\n",
    "            if (len(l)<5):\n",
    "                l.append(a)\n",
    "                count=count+1\n",
    "                l_ap()\n",
    "                \n",
    "        else:\n",
    "            l_ap()\n",
    "    except:\n",
    "        print(\"Please check ur input....... Enter integer value !!!\")\n",
    "        l_ap()\n",
    "    print(l)   "
   ]
  },
  {
   "cell_type": "code",
   "execution_count": null,
   "metadata": {},
   "outputs": [
    {
     "name": "stdout",
     "output_type": "stream",
     "text": [
      "Enter the integer value : efe\n",
      "Please check ur input....... Enter integer value !!!\n"
     ]
    }
   ],
   "source": [
    " l_ap()"
   ]
  },
  {
   "cell_type": "code",
   "execution_count": 16,
   "metadata": {},
   "outputs": [
    {
     "name": "stdout",
     "output_type": "stream",
     "text": [
      "Enter the integer value : 2\n",
      "('MY error msg - Enter value greater than 4. Since u have entered ', 2)\n",
      "Enter the integer value : 34\n",
      "Enter the integer value : 567\n",
      "Enter the integer value : 888\n",
      "Enter the integer value : 66\n",
      "Enter the integer value : 788\n",
      "Enter the integer value : 67\n",
      "[34, 567, 888, 66, 788]\n",
      "[34, 567, 888, 66, 788]\n",
      "[34, 567, 888, 66, 788]\n",
      "[34, 567, 888, 66, 788]\n",
      "[34, 567, 888, 66, 788]\n",
      "[34, 567, 888, 66, 788]\n",
      "[34, 567, 888, 66, 788]\n"
     ]
    }
   ],
   "source": [
    " l_ap()"
   ]
  },
  {
   "cell_type": "code",
   "execution_count": 17,
   "metadata": {},
   "outputs": [],
   "source": [
    "\n",
    "def listinput():\n",
    "    l=[]\n",
    "    for i in range(5):\n",
    "        while True:\n",
    "            try:\n",
    "                a=int(input(\"Enter the value : \"))\n",
    "            except :\n",
    "                continue\n",
    "            else:\n",
    "                try:\n",
    "                    if a<4:\n",
    "                        raise_exp(a)\n",
    "                    else:\n",
    "                        l.append(a)\n",
    "                        break\n",
    "                except:\n",
    "                    print(\"Enter value greater than 4\")\n",
    "                    \n",
    "    print(l)"
   ]
  },
  {
   "cell_type": "code",
   "execution_count": 18,
   "metadata": {},
   "outputs": [
    {
     "name": "stdout",
     "output_type": "stream",
     "text": [
      "Enter the value : ry\n",
      "Enter the value : hgyu\n",
      "Enter the value : 2\n",
      "Enter value greater than 4\n",
      "Enter the value : 54\n",
      "Enter the value : 78\n",
      "Enter the value : 4\n",
      "Enter the value : 677\n",
      "Enter the value : 87\n",
      "[54, 78, 4, 677, 87]\n"
     ]
    }
   ],
   "source": [
    "listinput()"
   ]
  },
  {
   "cell_type": "markdown",
   "metadata": {},
   "source": []
  }
 ],
 "metadata": {
  "kernelspec": {
   "display_name": "Python 3 (ipykernel)",
   "language": "python",
   "name": "python3"
  },
  "language_info": {
   "codemirror_mode": {
    "name": "ipython",
    "version": 3
   },
   "file_extension": ".py",
   "mimetype": "text/x-python",
   "name": "python",
   "nbconvert_exporter": "python",
   "pygments_lexer": "ipython3",
   "version": "3.9.7"
  }
 },
 "nbformat": 4,
 "nbformat_minor": 4
}
