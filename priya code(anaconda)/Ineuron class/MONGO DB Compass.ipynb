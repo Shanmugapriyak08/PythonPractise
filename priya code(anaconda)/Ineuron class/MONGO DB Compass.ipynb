{
 "cells": [
  {
   "cell_type": "code",
   "execution_count": 1,
   "metadata": {},
   "outputs": [
    {
     "name": "stdout",
     "output_type": "stream",
     "text": [
      "Requirement already satisfied: pymongo in c:\\users\\dell\\anaconda3\\lib\\site-packages (3.12.1)\n",
      "Note: you may need to restart the kernel to use updated packages.\n"
     ]
    }
   ],
   "source": [
    "pip install pymongo"
   ]
  },
  {
   "cell_type": "code",
   "execution_count": 1,
   "metadata": {},
   "outputs": [
    {
     "name": "stderr",
     "output_type": "stream",
     "text": [
      "C:\\Users\\Dell\\anaconda3\\lib\\site-packages\\requests\\__init__.py:91: RequestsDependencyWarning: urllib3 (1.26.7) or chardet (3.0.4) doesn't match a supported version!\n",
      "  RequestsDependencyWarning)\n"
     ]
    }
   ],
   "source": [
    "import pymongo"
   ]
  },
  {
   "cell_type": "code",
   "execution_count": 3,
   "metadata": {},
   "outputs": [],
   "source": [
    "client = pymongo.MongoClient(\"mongodb://127.0.0.1:27017/\")# 127.0.0.1 - IP address  #27017 - port number"
   ]
  },
  {
   "cell_type": "code",
   "execution_count": 4,
   "metadata": {},
   "outputs": [],
   "source": [
    "student_database = client[\"Student\"] #Database"
   ]
  },
  {
   "cell_type": "code",
   "execution_count": 5,
   "metadata": {},
   "outputs": [],
   "source": [
    "std_coll = student_database[\"student_collection\"] #collection"
   ]
  },
  {
   "cell_type": "code",
   "execution_count": 6,
   "metadata": {},
   "outputs": [
    {
     "data": {
      "text/plain": [
       "<pymongo.results.InsertOneResult at 0x19e44efaa88>"
      ]
     },
     "execution_count": 6,
     "metadata": {},
     "output_type": "execute_result"
    }
   ],
   "source": [
    "std_coll.insert_one({\"Name\":\"Priya\"}) #"
   ]
  },
  {
   "cell_type": "code",
   "execution_count": 7,
   "metadata": {},
   "outputs": [
    {
     "data": {
      "text/plain": [
       "<pymongo.results.InsertManyResult at 0x19e414b2d08>"
      ]
     },
     "execution_count": 7,
     "metadata": {},
     "output_type": "execute_result"
    }
   ],
   "source": [
    "std_coll.insert_many([{\"fname\":\"shanmuga\",\"lname\":\"priya\"},{\"Class\":\"12th\",\"Age\":25}])"
   ]
  },
  {
   "cell_type": "code",
   "execution_count": 11,
   "metadata": {},
   "outputs": [
    {
     "data": {
      "text/plain": [
       "<pymongo.cursor.Cursor at 0x19e45022488>"
      ]
     },
     "execution_count": 11,
     "metadata": {},
     "output_type": "execute_result"
    }
   ],
   "source": [
    "std_coll.find()"
   ]
  },
  {
   "cell_type": "code",
   "execution_count": 12,
   "metadata": {},
   "outputs": [],
   "source": [
    "student_cursor=std_coll.find()"
   ]
  },
  {
   "cell_type": "code",
   "execution_count": 13,
   "metadata": {},
   "outputs": [
    {
     "data": {
      "text/plain": [
       "{'_id': ObjectId('61d499471d91ff767ee19ee3'), 'Name': 'Priya'}"
      ]
     },
     "execution_count": 13,
     "metadata": {},
     "output_type": "execute_result"
    }
   ],
   "source": [
    "student_cursor.next()"
   ]
  },
  {
   "cell_type": "code",
   "execution_count": 15,
   "metadata": {},
   "outputs": [
    {
     "name": "stdout",
     "output_type": "stream",
     "text": [
      "{'_id': ObjectId('61d499471d91ff767ee19ee3'), 'Name': 'Priya'}\n",
      "{'_id': ObjectId('61d49a231d91ff767ee19ee4'), 'fname': 'shanmuga', 'lname': 'priya'}\n",
      "{'_id': ObjectId('61d49a231d91ff767ee19ee5'), 'Class': '12th', 'Age': 25}\n"
     ]
    }
   ],
   "source": [
    "for i in std_coll.find():\n",
    "    print(i)"
   ]
  },
  {
   "cell_type": "code",
   "execution_count": 6,
   "metadata": {},
   "outputs": [
    {
     "data": {
      "text/plain": [
       "<pymongo.results.InsertManyResult at 0x2c291e0bc88>"
      ]
     },
     "execution_count": 6,
     "metadata": {},
     "output_type": "execute_result"
    }
   ],
   "source": [
    "std_coll.insert_many([{\"Name\":\"Roja\"},\n",
    "                      {\"fname\":\"Roja\",\"lname\":\"Kalai\"},\n",
    "                      {\"Class\":\"10th\",\"Age\":26}])"
   ]
  },
  {
   "cell_type": "code",
   "execution_count": 14,
   "metadata": {},
   "outputs": [
    {
     "data": {
      "text/plain": [
       "<pymongo.results.InsertManyResult at 0x2c291e3dc88>"
      ]
     },
     "execution_count": 14,
     "metadata": {},
     "output_type": "execute_result"
    }
   ],
   "source": [
    "std_coll.insert_many([{\"Name\":\"Roja\"},\n",
    "                      {\"fname\":\"Roja\",\"lname\":\"Hanvika\"},\n",
    "                      {\"Class\":\"12th\",\"Age\":25}])"
   ]
  },
  {
   "cell_type": "code",
   "execution_count": 15,
   "metadata": {},
   "outputs": [
    {
     "name": "stdout",
     "output_type": "stream",
     "text": [
      "{'_id': ObjectId('61d499471d91ff767ee19ee3'), 'Name': 'Priya'}\n",
      "{'_id': ObjectId('61d49a231d91ff767ee19ee4'), 'fname': 'shanmuga', 'lname': 'priya'}\n",
      "{'_id': ObjectId('61d49a231d91ff767ee19ee5'), 'Class': '12th', 'Age': 25}\n",
      "{'_id': ObjectId('61d72b138195f49031ccaef9'), 'Name': 'Roja'}\n",
      "{'_id': ObjectId('61d72b138195f49031ccaefa'), 'fname': 'Roja', 'lname': 'Kalai'}\n",
      "{'_id': ObjectId('61d72b138195f49031ccaefb'), 'Class': '10th', 'Age': 26}\n",
      "{'_id': ObjectId('61d72c5d8195f49031ccaefc'), 'Name': 'Roja'}\n",
      "{'_id': ObjectId('61d72c5d8195f49031ccaefd'), 'fname': 'Roja', 'lname': 'Hanvika'}\n",
      "{'_id': ObjectId('61d72c5d8195f49031ccaefe'), 'Class': '12th', 'Age': 25}\n"
     ]
    }
   ],
   "source": [
    "for i in std_coll.find():\n",
    "    print(i)"
   ]
  },
  {
   "cell_type": "code",
   "execution_count": 12,
   "metadata": {},
   "outputs": [
    {
     "name": "stdout",
     "output_type": "stream",
     "text": [
      "{'_id': ObjectId('61d499471d91ff767ee19ee3'), 'Name': 'Priya'}\n"
     ]
    }
   ],
   "source": [
    "# using condition\n",
    "for i in std_coll.find({\"Name\":\"Priya\"}):\n",
    "    print(i)"
   ]
  },
  {
   "cell_type": "code",
   "execution_count": 13,
   "metadata": {},
   "outputs": [
    {
     "name": "stdout",
     "output_type": "stream",
     "text": [
      "{'_id': ObjectId('61d72b138195f49031ccaefa'), 'fname': 'Roja', 'lname': 'Kalai'}\n"
     ]
    }
   ],
   "source": [
    "for i in std_coll.find({\"fname\":\"Roja\"}):\n",
    "    print(i)"
   ]
  },
  {
   "cell_type": "code",
   "execution_count": 17,
   "metadata": {},
   "outputs": [
    {
     "name": "stdout",
     "output_type": "stream",
     "text": [
      "{'_id': ObjectId('61d72c5d8195f49031ccaefd'), 'fname': 'Roja', 'lname': 'Hanvika'}\n"
     ]
    }
   ],
   "source": [
    "for i in std_coll.find({\"fname\":\"Roja\",'lname': 'Hanvika'}):\n",
    "    print(i)"
   ]
  },
  {
   "cell_type": "code",
   "execution_count": 20,
   "metadata": {},
   "outputs": [
    {
     "name": "stdout",
     "output_type": "stream",
     "text": [
      "{'_id': ObjectId('61d72b138195f49031ccaefa'), 'fname': 'Roja', 'lname': 'Kalai'}\n",
      "{'_id': ObjectId('61d72c5d8195f49031ccaefd'), 'fname': 'Roja', 'lname': 'Hanvika'}\n"
     ]
    }
   ],
   "source": [
    "## querying using $gt, #lt, $in\n",
    "\n",
    "for i in std_coll.find({\"fname\":{\"$in\":[\"Roja\",\"Priya\"]}}):\n",
    "    print(i)"
   ]
  },
  {
   "cell_type": "code",
   "execution_count": 22,
   "metadata": {},
   "outputs": [
    {
     "name": "stdout",
     "output_type": "stream",
     "text": [
      "{'_id': ObjectId('61d72b138195f49031ccaefb'), 'Class': '10th', 'Age': 26}\n"
     ]
    }
   ],
   "source": [
    "for i in std_coll.find({\"Age\":{\"$gt\":25}}):\n",
    "    print(i)"
   ]
  },
  {
   "cell_type": "code",
   "execution_count": 23,
   "metadata": {},
   "outputs": [
    {
     "name": "stdout",
     "output_type": "stream",
     "text": [
      "{'_id': ObjectId('61d49a231d91ff767ee19ee5'), 'Class': '12th', 'Age': 25}\n",
      "{'_id': ObjectId('61d72c5d8195f49031ccaefe'), 'Class': '12th', 'Age': 25}\n"
     ]
    }
   ],
   "source": [
    "for i in std_coll.find({\"Age\":{\"$lt\":26}}):\n",
    "    print(i)"
   ]
  },
  {
   "cell_type": "code",
   "execution_count": 27,
   "metadata": {},
   "outputs": [
    {
     "name": "stdout",
     "output_type": "stream",
     "text": [
      "{'_id': ObjectId('61d72b138195f49031ccaefb'), 'Class': '10th', 'Age': 26}\n"
     ]
    }
   ],
   "source": [
    "# and operation\n",
    "for i in std_coll.find({\"Class\":\"10th\",\"Age\":{\"$lt\":27}}):\n",
    "    print(i)"
   ]
  },
  {
   "cell_type": "code",
   "execution_count": 32,
   "metadata": {},
   "outputs": [
    {
     "name": "stdout",
     "output_type": "stream",
     "text": [
      "{'_id': ObjectId('61d49a231d91ff767ee19ee4'), 'fname': 'shanmuga', 'lname': 'priya'}\n"
     ]
    }
   ],
   "source": [
    "# AND operation\n",
    "for i in std_coll.find({\"$and\":[{\"fname\":\"shanmuga\"},{'lname': 'priya'}]}):\n",
    "        print(i)"
   ]
  },
  {
   "cell_type": "code",
   "execution_count": 31,
   "metadata": {},
   "outputs": [
    {
     "name": "stdout",
     "output_type": "stream",
     "text": [
      "{'_id': ObjectId('61d49a231d91ff767ee19ee4'), 'fname': 'shanmuga', 'lname': 'priya'}\n",
      "{'_id': ObjectId('61d49a231d91ff767ee19ee5'), 'Class': '12th', 'Age': 25}\n",
      "{'_id': ObjectId('61d72c5d8195f49031ccaefe'), 'Class': '12th', 'Age': 25}\n"
     ]
    }
   ],
   "source": [
    "# OR operation\n",
    "for i in std_coll.find({\"$or\":[{\"fname\":\"shanmuga\"},{'Age': 25}]}):\n",
    "        print(i)"
   ]
  },
  {
   "cell_type": "code",
   "execution_count": 35,
   "metadata": {},
   "outputs": [],
   "source": [
    "# other collection in same database\n",
    "\n",
    "sf=student_database.std_fees"
   ]
  },
  {
   "cell_type": "code",
   "execution_count": 36,
   "metadata": {},
   "outputs": [
    {
     "data": {
      "text/plain": [
       "Collection(Database(MongoClient(host=['127.0.0.1:27017'], document_class=dict, tz_aware=False, connect=True), 'Student'), 'std_fees')"
      ]
     },
     "execution_count": 36,
     "metadata": {},
     "output_type": "execute_result"
    }
   ],
   "source": [
    "sf"
   ]
  },
  {
   "cell_type": "code",
   "execution_count": 37,
   "metadata": {},
   "outputs": [
    {
     "data": {
      "text/plain": [
       "<pymongo.results.InsertOneResult at 0x2c291e51748>"
      ]
     },
     "execution_count": 37,
     "metadata": {},
     "output_type": "execute_result"
    }
   ],
   "source": [
    "sf.insert_one({\"Name\":34000})"
   ]
  },
  {
   "cell_type": "markdown",
   "metadata": {},
   "source": [
    "## UPDATION"
   ]
  },
  {
   "cell_type": "code",
   "execution_count": 38,
   "metadata": {},
   "outputs": [],
   "source": [
    "details=student_database.details"
   ]
  },
  {
   "cell_type": "code",
   "execution_count": 39,
   "metadata": {},
   "outputs": [
    {
     "data": {
      "text/plain": [
       "<pymongo.results.InsertOneResult at 0x2c291a2f408>"
      ]
     },
     "execution_count": 39,
     "metadata": {},
     "output_type": "execute_result"
    }
   ],
   "source": [
    "details.insert_one({\n",
    "  \"Name\": \"priya\",\n",
    "  \"Mobile\": 12345678,\n",
    "  \"Boolean\": True,\n",
    "  \"Pets\": [\"Dog\", \"cat\"],\n",
    "  \"Address\": {\"Permanent address\": \"USA\",\"current Address\": \"AU\"}\n",
    "})"
   ]
  },
  {
   "cell_type": "code",
   "execution_count": 40,
   "metadata": {},
   "outputs": [
    {
     "name": "stdout",
     "output_type": "stream",
     "text": [
      "{'_id': ObjectId('61d736398195f49031ccaf00'), 'Name': 'priya', 'Mobile': 12345678, 'Boolean': True, 'Pets': ['Dog', 'cat'], 'Address': {'Permanent address': 'USA', 'current Address': 'AU'}}\n"
     ]
    }
   ],
   "source": [
    "for i in details.find():\n",
    "    print(i)"
   ]
  },
  {
   "cell_type": "code",
   "execution_count": 45,
   "metadata": {},
   "outputs": [
    {
     "data": {
      "text/plain": [
       "<pymongo.results.InsertOneResult at 0x2c291e32808>"
      ]
     },
     "execution_count": 45,
     "metadata": {},
     "output_type": "execute_result"
    }
   ],
   "source": [
    "details.insert_one({\"Name\": \"sara\",\n",
    "  \"Mobile\": 992324535,\n",
    "  \"Boolean\": True,\n",
    "  \"Pets\": [\"Dog\", \"cat\"],\n",
    "   \"Address\": {\"Permanent address\": \"USA\",\"current Address\": \"AU\"}})"
   ]
  },
  {
   "cell_type": "code",
   "execution_count": 48,
   "metadata": {},
   "outputs": [
    {
     "data": {
      "text/plain": [
       "<pymongo.results.InsertManyResult at 0x2c291b3e4c8>"
      ]
     },
     "execution_count": 48,
     "metadata": {},
     "output_type": "execute_result"
    }
   ],
   "source": [
    "details.insert_many(\n",
    "    [{\"Name\": \"roja\",\n",
    "  \"Mobile\": 123367894,\n",
    "  \"Boolean\": False,\n",
    "  \"Pets\": [\"Dog\", \"cat\"],\n",
    "  \"Address\": {\"Permanent address\": \"Canada\",\"current Address\": \"CD\"}},\n",
    "  {\"Name\": \"shanmuga\",\n",
    "  \"Mobile\": 2131123437,\n",
    "  \"Boolean\": True,\n",
    "  \"Pets\": [\"Dog\", \"cat\"],\n",
    "  \"Address\": {\"Permanent address\": \"South Korea\",\"current Address\": \"SK\"}},\n",
    "  {\"Name\": \"swaathi\",\n",
    "  \"Mobile\": 1799734563,\n",
    "  \"Boolean\": True,\n",
    "  \"Pets\": [\"Dog\", \"cat\"],\n",
    "  \"Address\": {\"Permanent address\": \"France\",\"current Address\": \"FP\"}}]\n",
    ")"
   ]
  },
  {
   "cell_type": "code",
   "execution_count": 52,
   "metadata": {},
   "outputs": [
    {
     "name": "stdout",
     "output_type": "stream",
     "text": [
      "{'_id': ObjectId('61d736398195f49031ccaf00'), 'Name': 'priya', 'Mobile': 12345678, 'Boolean': True, 'Pets': ['Dog', 'cat'], 'Address': {'Permanent address': 'USA', 'current Address': 'AU'}}\n",
      "{'_id': ObjectId('61d738348195f49031ccaf01'), 'Name': 'sara', 'Mobile': 992324535, 'Boolean': True, 'Pets': ['Dog', 'cat'], 'Address': {'Permanent address': 'USA', 'current Address': 'AU'}}\n",
      "{'_id': ObjectId('61d738938195f49031ccaf02'), 'Name': 'roja', 'Mobile': 123367894, 'Boolean': False, 'Pets': ['Dog', 'cat'], 'Address': {'Permanent address': 'Canada', 'current Address': 'CD'}}\n",
      "{'_id': ObjectId('61d738938195f49031ccaf03'), 'Name': 'shanmuga', 'Mobile': 2131123437, 'Boolean': True, 'Pets': ['Dog', 'cat'], 'Address': {'Permanent address': 'South Korea', 'current Address': 'SK'}}\n",
      "{'_id': ObjectId('61d738938195f49031ccaf04'), 'Name': 'swaathi', 'Mobile': 1799734563, 'Boolean': True, 'Pets': ['Dog', 'cat'], 'Address': {'Permanent address': 'France', 'current Address': 'FP'}}\n"
     ]
    }
   ],
   "source": [
    "for i in details.find():\n",
    "    print(i)"
   ]
  },
  {
   "cell_type": "markdown",
   "metadata": {},
   "source": [
    "### Update_one"
   ]
  },
  {
   "cell_type": "code",
   "execution_count": 59,
   "metadata": {},
   "outputs": [
    {
     "data": {
      "text/plain": [
       "<pymongo.results.UpdateResult at 0x2c291ecdcc8>"
      ]
     },
     "execution_count": 59,
     "metadata": {},
     "output_type": "execute_result"
    }
   ],
   "source": [
    "details.update_one(\n",
    "    {\"Name\":\"priya\"},\n",
    "    {\"$set\":{\"Address.current Address\":\"California\",\"Boolean\":\"Updated_true\"},\n",
    "    \"$currentDate\":{\"lastmodified\":True}}\n",
    ")"
   ]
  },
  {
   "cell_type": "code",
   "execution_count": 60,
   "metadata": {},
   "outputs": [
    {
     "name": "stdout",
     "output_type": "stream",
     "text": [
      "{'_id': ObjectId('61d736398195f49031ccaf00'), 'Name': 'priya', 'Mobile': 12345678, 'Boolean': 'Updated_true', 'Pets': ['Dog', 'cat'], 'Address': {'Permanent address': 'USA', 'current Address': 'California'}, 'lastmodified': datetime.datetime(2022, 1, 6, 18, 57, 3, 68000)}\n"
     ]
    }
   ],
   "source": [
    "for i in details.find({\"Name\":\"priya\"}):\n",
    "    print(i)"
   ]
  },
  {
   "cell_type": "markdown",
   "metadata": {},
   "source": [
    "### update_many"
   ]
  },
  {
   "cell_type": "code",
   "execution_count": 63,
   "metadata": {},
   "outputs": [
    {
     "data": {
      "text/plain": [
       "<pymongo.results.UpdateResult at 0x2c291eafb88>"
      ]
     },
     "execution_count": 63,
     "metadata": {},
     "output_type": "execute_result"
    }
   ],
   "source": [
    "details.update_many(\n",
    "    {\"Boolean\":True},\n",
    "    {\"$set\":{\"Mobile\":\"99900000\"},\n",
    "    \"$currentDate\":{\"last_modified\":True}}\n",
    ")"
   ]
  },
  {
   "cell_type": "code",
   "execution_count": 64,
   "metadata": {},
   "outputs": [
    {
     "name": "stdout",
     "output_type": "stream",
     "text": [
      "{'_id': ObjectId('61d736398195f49031ccaf00'), 'Name': 'priya', 'Mobile': 12345678, 'Boolean': 'Updated_true', 'Pets': ['Dog', 'cat'], 'Address': {'Permanent address': 'USA', 'current Address': 'California'}, 'lastmodified': datetime.datetime(2022, 1, 6, 18, 57, 3, 68000)}\n",
      "{'_id': ObjectId('61d738348195f49031ccaf01'), 'Name': 'sara', 'Mobile': '99900000', 'Boolean': True, 'Pets': ['Dog', 'cat'], 'Address': {'Permanent address': 'USA', 'current Address': 'AU'}, 'Pets[0]': 'Parrot', 'last_modified': datetime.datetime(2022, 1, 6, 19, 4, 36, 639000)}\n",
      "{'_id': ObjectId('61d738938195f49031ccaf02'), 'Name': 'roja', 'Mobile': 123367894, 'Boolean': False, 'Pets': ['Dog', 'cat'], 'Address': {'Permanent address': 'Canada', 'current Address': 'CD'}}\n",
      "{'_id': ObjectId('61d738938195f49031ccaf03'), 'Name': 'shanmuga', 'Mobile': '99900000', 'Boolean': True, 'Pets': ['Dog', 'cat'], 'Address': {'Permanent address': 'South Korea', 'current Address': 'SK'}, 'Pets[0]': 'Parrot', 'last_modified': datetime.datetime(2022, 1, 6, 19, 4, 36, 639000)}\n",
      "{'_id': ObjectId('61d738938195f49031ccaf04'), 'Name': 'swaathi', 'Mobile': '99900000', 'Boolean': True, 'Pets': ['Dog', 'cat'], 'Address': {'Permanent address': 'France', 'current Address': 'FP'}, 'Pets[0]': 'Parrot', 'last_modified': datetime.datetime(2022, 1, 6, 19, 4, 36, 639000)}\n"
     ]
    }
   ],
   "source": [
    "for i in details.find():\n",
    "    print(i)"
   ]
  },
  {
   "cell_type": "markdown",
   "metadata": {},
   "source": [
    "### Replace"
   ]
  },
  {
   "cell_type": "code",
   "execution_count": 65,
   "metadata": {},
   "outputs": [
    {
     "data": {
      "text/plain": [
       "<pymongo.results.UpdateResult at 0x2c291efc4c8>"
      ]
     },
     "execution_count": 65,
     "metadata": {},
     "output_type": "execute_result"
    }
   ],
   "source": [
    "details.replace_one(\n",
    "    {\"Name\":\"shanmuga\"},#filter\n",
    "    {\"Name\":\"shanmuga\",\n",
    "     \"Location\": \"Seoul\"}\n",
    ")"
   ]
  },
  {
   "cell_type": "code",
   "execution_count": 66,
   "metadata": {},
   "outputs": [
    {
     "name": "stdout",
     "output_type": "stream",
     "text": [
      "{'_id': ObjectId('61d736398195f49031ccaf00'), 'Name': 'priya', 'Mobile': 12345678, 'Boolean': 'Updated_true', 'Pets': ['Dog', 'cat'], 'Address': {'Permanent address': 'USA', 'current Address': 'California'}, 'lastmodified': datetime.datetime(2022, 1, 6, 18, 57, 3, 68000)}\n",
      "{'_id': ObjectId('61d738348195f49031ccaf01'), 'Name': 'sara', 'Mobile': '99900000', 'Boolean': True, 'Pets': ['Dog', 'cat'], 'Address': {'Permanent address': 'USA', 'current Address': 'AU'}, 'Pets[0]': 'Parrot', 'last_modified': datetime.datetime(2022, 1, 6, 19, 4, 36, 639000)}\n",
      "{'_id': ObjectId('61d738938195f49031ccaf02'), 'Name': 'roja', 'Mobile': 123367894, 'Boolean': False, 'Pets': ['Dog', 'cat'], 'Address': {'Permanent address': 'Canada', 'current Address': 'CD'}}\n",
      "{'_id': ObjectId('61d738938195f49031ccaf03'), 'Name': 'shanmuga', 'Location': 'Seoul'}\n",
      "{'_id': ObjectId('61d738938195f49031ccaf04'), 'Name': 'swaathi', 'Mobile': '99900000', 'Boolean': True, 'Pets': ['Dog', 'cat'], 'Address': {'Permanent address': 'France', 'current Address': 'FP'}, 'Pets[0]': 'Parrot', 'last_modified': datetime.datetime(2022, 1, 6, 19, 4, 36, 639000)}\n"
     ]
    }
   ],
   "source": [
    "for i in details.find():\n",
    "    print(i)"
   ]
  },
  {
   "cell_type": "markdown",
   "metadata": {},
   "source": [
    "### MongoDB Aggregation and Group"
   ]
  },
  {
   "cell_type": "code",
   "execution_count": 2,
   "metadata": {},
   "outputs": [],
   "source": [
    "import pymongo"
   ]
  },
  {
   "cell_type": "code",
   "execution_count": 3,
   "metadata": {},
   "outputs": [],
   "source": [
    "Client=pymongo.MongoClient(\"mongodb://localhost:27017/\")"
   ]
  },
  {
   "cell_type": "code",
   "execution_count": 4,
   "metadata": {},
   "outputs": [],
   "source": [
    "my_database=Client[\"Student_details\"]"
   ]
  },
  {
   "cell_type": "code",
   "execution_count": 5,
   "metadata": {},
   "outputs": [],
   "source": [
    "Collection=my_database[\"Stduent_Scores\"]"
   ]
  },
  {
   "cell_type": "code",
   "execution_count": 7,
   "metadata": {},
   "outputs": [
    {
     "data": {
      "text/plain": [
       "<pymongo.results.InsertManyResult at 0x15a5ee5cbc8>"
      ]
     },
     "execution_count": 7,
     "metadata": {},
     "output_type": "execute_result"
    }
   ],
   "source": [
    "Collection.insert_many([ {\"user\":\"Krish\", \"subject\":\"Database\", \"score\":80}, \n",
    "    {\"user\":\"Amit\",  \"subject\":\"JavaScript\", \"score\":90}, \n",
    "    {\"user\":\"Amit\",  \"title\":\"Database\", \"score\":85}, \n",
    "    {\"user\":\"Krish\",  \"title\":\"JavaScript\", \"score\":75}, \n",
    "    {\"user\":\"Amit\",  \"title\":\"Data Science\", \"score\":60},\n",
    "    {\"user\":\"Krish\",  \"title\":\"Data Science\", \"score\":95}])"
   ]
  },
  {
   "cell_type": "code",
   "execution_count": 8,
   "metadata": {},
   "outputs": [
    {
     "name": "stdout",
     "output_type": "stream",
     "text": [
      "{'_id': ObjectId('61d7ca707b850fc282f160c5'), 'user': 'Krish', 'subject': 'Database', 'score': 80}\n",
      "{'_id': ObjectId('61d7ca707b850fc282f160c6'), 'user': 'Amit', 'subject': 'JavaScript', 'score': 90}\n",
      "{'_id': ObjectId('61d7ca707b850fc282f160c7'), 'user': 'Amit', 'title': 'Database', 'score': 85}\n",
      "{'_id': ObjectId('61d7ca707b850fc282f160c8'), 'user': 'Krish', 'title': 'JavaScript', 'score': 75}\n",
      "{'_id': ObjectId('61d7ca707b850fc282f160c9'), 'user': 'Amit', 'title': 'Data Science', 'score': 60}\n",
      "{'_id': ObjectId('61d7ca707b850fc282f160ca'), 'user': 'Krish', 'title': 'Data Science', 'score': 95}\n"
     ]
    }
   ],
   "source": [
    "for i in Collection.find():\n",
    "    print(i)"
   ]
  },
  {
   "cell_type": "code",
   "execution_count": 13,
   "metadata": {},
   "outputs": [],
   "source": [
    "# total no.of records for krish and amit\n",
    "agg_records=Collection.aggregate([{\"$group\":\n",
    "                                     {\"_id\":\"$user\",\n",
    "                                      \"Total_records\":{\"$sum\":1}}}])"
   ]
  },
  {
   "cell_type": "code",
   "execution_count": 16,
   "metadata": {},
   "outputs": [
    {
     "name": "stdout",
     "output_type": "stream",
     "text": [
      "{'_id': 'Krish', 'Total_records': 3}\n",
      "{'_id': 'Amit', 'Total_records': 3}\n"
     ]
    }
   ],
   "source": [
    "for i in agg_records:\n",
    "    print(i)"
   ]
  },
  {
   "cell_type": "code",
   "execution_count": 17,
   "metadata": {},
   "outputs": [],
   "source": [
    "# total no.of records \n",
    "agg_records1=Collection.aggregate([{\"$group\":\n",
    "                                     {\"_id\":\"user\",\n",
    "                                      \"Total_records\":{\"$sum\":1}}}])"
   ]
  },
  {
   "cell_type": "code",
   "execution_count": 18,
   "metadata": {},
   "outputs": [
    {
     "name": "stdout",
     "output_type": "stream",
     "text": [
      "{'_id': 'user', 'Total_records': 6}\n"
     ]
    }
   ],
   "source": [
    "for i in agg_records1:\n",
    "    print(i)"
   ]
  },
  {
   "cell_type": "code",
   "execution_count": 23,
   "metadata": {},
   "outputs": [],
   "source": [
    "# sum of score per user\n",
    "agg_score=Collection.aggregate([{\"$group\":\n",
    "                                {\"_id\":\"$user\",\n",
    "                                \"Total_score\":{\"$sum\":\"$score\"}}}]\n",
    "                              )"
   ]
  },
  {
   "cell_type": "code",
   "execution_count": 24,
   "metadata": {},
   "outputs": [
    {
     "name": "stdout",
     "output_type": "stream",
     "text": [
      "{'_id': 'Krish', 'Total_score': 250}\n",
      "{'_id': 'Amit', 'Total_score': 235}\n"
     ]
    }
   ],
   "source": [
    "for i in agg_score:\n",
    "    print(i)"
   ]
  },
  {
   "cell_type": "code",
   "execution_count": 25,
   "metadata": {},
   "outputs": [],
   "source": [
    "# avg sum of the score per user\n",
    "avg_score=Collection.aggregate([{\"$group\":\n",
    "                                {\"_id\":\"$user\",\n",
    "                                \"Avg_score\":{\"$avg\":\"$score\"}}}])"
   ]
  },
  {
   "cell_type": "code",
   "execution_count": 26,
   "metadata": {},
   "outputs": [
    {
     "name": "stdout",
     "output_type": "stream",
     "text": [
      "{'_id': 'Amit', 'Avg_score': 78.33333333333333}\n",
      "{'_id': 'Krish', 'Avg_score': 83.33333333333333}\n"
     ]
    }
   ],
   "source": [
    "for i in avg_score:\n",
    "    print(i)"
   ]
  },
  {
   "cell_type": "code",
   "execution_count": 27,
   "metadata": {},
   "outputs": [],
   "source": [
    "import datetime as datetime"
   ]
  },
  {
   "cell_type": "code",
   "execution_count": 28,
   "metadata": {},
   "outputs": [],
   "source": [
    "### Create a new collection\n",
    "data=[{ \"_id\" : 1, \"item\" : \"abc\", \"price\" : 10, \"quantity\" : 2, \"date\" : datetime.datetime.utcnow()},\n",
    "{ \"_id\" : 2, \"item\" : \"jkl\", \"price\" : 20, \"quantity\" : 1, \"date\" : datetime.datetime.utcnow() },\n",
    "{ \"_id\" : 3, \"item\" : \"xyz\", \"price\" : 5, \"quantity\" : 5, \"date\" : datetime.datetime.utcnow() },\n",
    "{ \"_id\" : 4, \"item\" : \"abc\", \"price\" : 10, \"quantity\" : 10, \"date\" : datetime.datetime.utcnow() },\n",
    "{ \"_id\" : 5, \"item\" : \"xyz\", \"price\" : 5, \"quantity\" : 10, \"date\" :datetime.datetime.utcnow() }]"
   ]
  },
  {
   "cell_type": "code",
   "execution_count": 29,
   "metadata": {},
   "outputs": [],
   "source": [
    "mycollection=my_database.collection[\"stores\"]"
   ]
  },
  {
   "cell_type": "code",
   "execution_count": 30,
   "metadata": {},
   "outputs": [
    {
     "data": {
      "text/plain": [
       "<pymongo.results.InsertManyResult at 0x15a5ed8dfc8>"
      ]
     },
     "execution_count": 30,
     "metadata": {},
     "output_type": "execute_result"
    }
   ],
   "source": [
    "mycollection.insert_many(data)"
   ]
  },
  {
   "cell_type": "code",
   "execution_count": 31,
   "metadata": {},
   "outputs": [
    {
     "name": "stdout",
     "output_type": "stream",
     "text": [
      "{'_id': 1, 'item': 'abc', 'price': 10, 'quantity': 2, 'date': datetime.datetime(2022, 1, 7, 6, 9, 14, 658000)}\n",
      "{'_id': 2, 'item': 'jkl', 'price': 20, 'quantity': 1, 'date': datetime.datetime(2022, 1, 7, 6, 9, 14, 658000)}\n",
      "{'_id': 3, 'item': 'xyz', 'price': 5, 'quantity': 5, 'date': datetime.datetime(2022, 1, 7, 6, 9, 14, 658000)}\n",
      "{'_id': 4, 'item': 'abc', 'price': 10, 'quantity': 10, 'date': datetime.datetime(2022, 1, 7, 6, 9, 14, 658000)}\n",
      "{'_id': 5, 'item': 'xyz', 'price': 5, 'quantity': 10, 'date': datetime.datetime(2022, 1, 7, 6, 9, 14, 658000)}\n"
     ]
    }
   ],
   "source": [
    "for i in mycollection.find():\n",
    "    print(i)"
   ]
  },
  {
   "cell_type": "code",
   "execution_count": 37,
   "metadata": {},
   "outputs": [],
   "source": [
    "## calculating the average price and avg.quantity aggregate\n",
    "\n",
    "agg_avg_pri_quan = mycollection.aggregate([{\"$group\":\n",
    "                                           {\"_id\":\"$item\",\n",
    "                                           \"Avg_Amount\":{\"$avg\":{\"$multiply\":[\"$price\",\"$quantity\"]}},\n",
    "                                           \"Avg_quantity\":{\"$avg\":\"$quantity\"}}}])"
   ]
  },
  {
   "cell_type": "code",
   "execution_count": 38,
   "metadata": {},
   "outputs": [
    {
     "name": "stdout",
     "output_type": "stream",
     "text": [
      "{'_id': 'xyz', 'Avg_Amount': 37.5, 'Avg_quantity': 7.5}\n",
      "{'_id': 'abc', 'Avg_Amount': 60.0, 'Avg_quantity': 6.0}\n",
      "{'_id': 'jkl', 'Avg_Amount': 20.0, 'Avg_quantity': 1.0}\n"
     ]
    }
   ],
   "source": [
    "for i in agg_avg_pri_quan:\n",
    "    print(i)"
   ]
  },
  {
   "cell_type": "code",
   "execution_count": 39,
   "metadata": {},
   "outputs": [],
   "source": [
    "# sorting \n",
    "sort=  mycollection.aggregate([{\"$sort\":\n",
    "                                {\"_id\":-1}}])"
   ]
  },
  {
   "cell_type": "code",
   "execution_count": 40,
   "metadata": {},
   "outputs": [
    {
     "name": "stdout",
     "output_type": "stream",
     "text": [
      "{'_id': 5, 'item': 'xyz', 'price': 5, 'quantity': 10, 'date': datetime.datetime(2022, 1, 7, 6, 9, 14, 658000)}\n",
      "{'_id': 4, 'item': 'abc', 'price': 10, 'quantity': 10, 'date': datetime.datetime(2022, 1, 7, 6, 9, 14, 658000)}\n",
      "{'_id': 3, 'item': 'xyz', 'price': 5, 'quantity': 5, 'date': datetime.datetime(2022, 1, 7, 6, 9, 14, 658000)}\n",
      "{'_id': 2, 'item': 'jkl', 'price': 20, 'quantity': 1, 'date': datetime.datetime(2022, 1, 7, 6, 9, 14, 658000)}\n",
      "{'_id': 1, 'item': 'abc', 'price': 10, 'quantity': 2, 'date': datetime.datetime(2022, 1, 7, 6, 9, 14, 658000)}\n"
     ]
    }
   ],
   "source": [
    "for i in sort:\n",
    "    print(i)"
   ]
  },
  {
   "cell_type": "code",
   "execution_count": null,
   "metadata": {},
   "outputs": [],
   "source": []
  }
 ],
 "metadata": {
  "kernelspec": {
   "display_name": "Python 3 (ipykernel)",
   "language": "python",
   "name": "python3"
  },
  "language_info": {
   "codemirror_mode": {
    "name": "ipython",
    "version": 3
   },
   "file_extension": ".py",
   "mimetype": "text/x-python",
   "name": "python",
   "nbconvert_exporter": "python",
   "pygments_lexer": "ipython3",
   "version": "3.9.7"
  }
 },
 "nbformat": 4,
 "nbformat_minor": 4
}
