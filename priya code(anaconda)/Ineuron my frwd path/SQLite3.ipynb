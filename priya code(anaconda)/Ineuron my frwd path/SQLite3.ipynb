{
 "cells": [
  {
   "cell_type": "code",
   "execution_count": 1,
   "metadata": {},
   "outputs": [],
   "source": [
    "import sqlite3"
   ]
  },
  {
   "cell_type": "code",
   "execution_count": 2,
   "metadata": {},
   "outputs": [],
   "source": [
    "c=sqlite3.connect(\"xyz_database\")"
   ]
  },
  {
   "cell_type": "code",
   "execution_count": 3,
   "metadata": {},
   "outputs": [
    {
     "data": {
      "text/plain": [
       "<sqlite3.Cursor at 0x2a904badc70>"
      ]
     },
     "execution_count": 3,
     "metadata": {},
     "output_type": "execute_result"
    }
   ],
   "source": [
    "c.execute(\"drop table if exists emp\")"
   ]
  },
  {
   "cell_type": "code",
   "execution_count": 4,
   "metadata": {},
   "outputs": [
    {
     "data": {
      "text/plain": [
       "<sqlite3.Cursor at 0x2a904c59260>"
      ]
     },
     "execution_count": 4,
     "metadata": {},
     "output_type": "execute_result"
    }
   ],
   "source": [
    "c.execute(\"create table emp(emp_id int,emp_name text,emp_salary int)\")"
   ]
  },
  {
   "cell_type": "code",
   "execution_count": 5,
   "metadata": {},
   "outputs": [
    {
     "data": {
      "text/plain": [
       "<sqlite3.Cursor at 0x2a904c59500>"
      ]
     },
     "execution_count": 5,
     "metadata": {},
     "output_type": "execute_result"
    }
   ],
   "source": [
    "c.execute(\"insert into emp values(1,'priya',30000)\")"
   ]
  },
  {
   "cell_type": "code",
   "execution_count": 15,
   "metadata": {},
   "outputs": [
    {
     "data": {
      "text/plain": [
       "<sqlite3.Cursor at 0x2a904c65810>"
      ]
     },
     "execution_count": 15,
     "metadata": {},
     "output_type": "execute_result"
    }
   ],
   "source": [
    "c.execute(\"insert into emp values(1,'priya',30000)\")\n",
    "c.execute(\"insert into emp values(21,'priya1',40000)\")\n",
    "c.execute(\"insert into emp values(14,'priya',586000)\")\n",
    "c.execute(\"insert into emp values(15,'priya3',30687000)\")\n",
    "c.execute(\"insert into emp values(17,'priya',34500)\")\n",
    "c.execute(\"insert into emp values(41,'priya5',30000)\")\n",
    "c.execute(\"insert into emp values(177,'priya',45000)\")\n",
    "c.execute(\"insert into emp values(156,'priya7',300450)\")\n",
    "c.execute(\"insert into emp values(11,'priya',305450)\")"
   ]
  },
  {
   "cell_type": "code",
   "execution_count": 18,
   "metadata": {},
   "outputs": [],
   "source": [
    "c.commit()"
   ]
  },
  {
   "cell_type": "code",
   "execution_count": 17,
   "metadata": {},
   "outputs": [
    {
     "data": {
      "text/plain": [
       "<sqlite3.Cursor at 0x2a904c65d50>"
      ]
     },
     "execution_count": 17,
     "metadata": {},
     "output_type": "execute_result"
    }
   ],
   "source": [
    "c.execute(\"delete  from emp  where emp_id='1'\") "
   ]
  },
  {
   "cell_type": "code",
   "execution_count": 22,
   "metadata": {},
   "outputs": [],
   "source": [
    "a=list(c.execute(\"select *   from emp  where emp_name='priya'\") )"
   ]
  },
  {
   "cell_type": "code",
   "execution_count": 24,
   "metadata": {},
   "outputs": [
    {
     "data": {
      "text/plain": [
       "[(14, 'priya', 586000),\n",
       " (17, 'priya', 34500),\n",
       " (177, 'priya', 45000),\n",
       " (11, 'priya', 305450)]"
      ]
     },
     "execution_count": 24,
     "metadata": {},
     "output_type": "execute_result"
    }
   ],
   "source": [
    "a"
   ]
  },
  {
   "cell_type": "code",
   "execution_count": 29,
   "metadata": {},
   "outputs": [
    {
     "data": {
      "text/plain": [
       "(14, 'priya', 586000)"
      ]
     },
     "execution_count": 29,
     "metadata": {},
     "output_type": "execute_result"
    }
   ],
   "source": [
    "a[0]"
   ]
  },
  {
   "cell_type": "code",
   "execution_count": 28,
   "metadata": {},
   "outputs": [
    {
     "data": {
      "text/plain": [
       "tuple"
      ]
     },
     "execution_count": 28,
     "metadata": {},
     "output_type": "execute_result"
    }
   ],
   "source": [
    "type(a[0])"
   ]
  },
  {
   "cell_type": "code",
   "execution_count": 25,
   "metadata": {},
   "outputs": [],
   "source": [
    "b=list(c.execute(\"select *   from emp  order by emp_salary\") )"
   ]
  },
  {
   "cell_type": "code",
   "execution_count": 26,
   "metadata": {},
   "outputs": [
    {
     "data": {
      "text/plain": [
       "[(41, 'priya5', 30000),\n",
       " (41, 'priya5', 30000),\n",
       " (17, 'priya', 34500),\n",
       " (21, 'priya1', 40000),\n",
       " (21, 'priya1', 40000),\n",
       " (177, 'priya', 45000),\n",
       " (156, 'priya7', 300450),\n",
       " (156, 'priya7', 300450),\n",
       " (11, 'priya', 305450),\n",
       " (14, 'priya', 586000),\n",
       " (15, 'priya3', 30687000),\n",
       " (15, 'priya3', 30687000)]"
      ]
     },
     "execution_count": 26,
     "metadata": {},
     "output_type": "execute_result"
    }
   ],
   "source": [
    "b"
   ]
  },
  {
   "cell_type": "code",
   "execution_count": 27,
   "metadata": {},
   "outputs": [
    {
     "data": {
      "text/plain": [
       "list"
      ]
     },
     "execution_count": 27,
     "metadata": {},
     "output_type": "execute_result"
    }
   ],
   "source": [
    "type(b)"
   ]
  },
  {
   "cell_type": "code",
   "execution_count": 32,
   "metadata": {},
   "outputs": [
    {
     "name": "stdout",
     "output_type": "stream",
     "text": [
      "(21, 'priya1', 40000)\n",
      "(15, 'priya3', 30687000)\n",
      "(41, 'priya5', 30000)\n",
      "(156, 'priya7', 300450)\n",
      "(21, 'priya1', 40000)\n",
      "(14, 'priya', 586000)\n",
      "(15, 'priya3', 30687000)\n",
      "(17, 'priya', 34500)\n",
      "(41, 'priya5', 30000)\n",
      "(177, 'priya', 45000)\n",
      "(156, 'priya7', 300450)\n",
      "(11, 'priya', 305450)\n"
     ]
    }
   ],
   "source": [
    "for i in c.execute(\"select * from emp\"):\n",
    "    print(i)"
   ]
  },
  {
   "cell_type": "code",
   "execution_count": null,
   "metadata": {},
   "outputs": [],
   "source": []
  }
 ],
 "metadata": {
  "kernelspec": {
   "display_name": "Python 3",
   "language": "python",
   "name": "python3"
  },
  "language_info": {
   "codemirror_mode": {
    "name": "ipython",
    "version": 3
   },
   "file_extension": ".py",
   "mimetype": "text/x-python",
   "name": "python",
   "nbconvert_exporter": "python",
   "pygments_lexer": "ipython3",
   "version": "3.7.6"
  }
 },
 "nbformat": 4,
 "nbformat_minor": 4
}
