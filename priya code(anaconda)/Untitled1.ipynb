{
 "cells": [
  {
   "cell_type": "code",
   "execution_count": 21,
   "id": "74713b8d",
   "metadata": {},
   "outputs": [
    {
     "name": "stdout",
     "output_type": "stream",
     "text": [
      "Enter the value: 6\n",
      "6 is not prime number\n"
     ]
    }
   ],
   "source": [
    "num =int(input(\"Enter the value: \")) \n",
    "if num == 1:\n",
    "    print(\"{} is not prime number\".format(num))\n",
    "else:\n",
    "    for i in range(2,num):\n",
    "        if num%i ==0:\n",
    "            print(\"{} is not prime number\".format(num))\n",
    "            break\n",
    "    else:\n",
    "        print(\"{} is prime number\".format(num))\n"
   ]
  },
  {
   "cell_type": "code",
   "execution_count": 23,
   "id": "91500fc1",
   "metadata": {},
   "outputs": [],
   "source": [
    "test_list = [1, 3, 5, 6, 3, 5, 6, 1]"
   ]
  },
  {
   "cell_type": "code",
   "execution_count": 24,
   "id": "d1898642",
   "metadata": {},
   "outputs": [],
   "source": [
    "test_list1=set(test_list)"
   ]
  },
  {
   "cell_type": "code",
   "execution_count": 25,
   "id": "aa5b9a9b",
   "metadata": {},
   "outputs": [
    {
     "data": {
      "text/plain": [
       "{1, 3, 5, 6}"
      ]
     },
     "execution_count": 25,
     "metadata": {},
     "output_type": "execute_result"
    }
   ],
   "source": [
    "test_list1"
   ]
  },
  {
   "cell_type": "code",
   "execution_count": 28,
   "id": "8117e28f",
   "metadata": {},
   "outputs": [
    {
     "data": {
      "text/plain": [
       "[2, 1]"
      ]
     },
     "execution_count": 28,
     "metadata": {},
     "output_type": "execute_result"
    }
   ],
   "source": [
    "check_list = [1,2,3,4,5,6,7]\n",
    "check_list[-6::-1]\n"
   ]
  },
  {
   "cell_type": "code",
   "execution_count": 31,
   "id": "f6b9034c",
   "metadata": {},
   "outputs": [
    {
     "data": {
      "text/plain": [
       "7"
      ]
     },
     "execution_count": 31,
     "metadata": {},
     "output_type": "execute_result"
    }
   ],
   "source": [
    "check_list[-1]"
   ]
  },
  {
   "cell_type": "code",
   "execution_count": 42,
   "id": "93e332f2",
   "metadata": {},
   "outputs": [
    {
     "data": {
      "text/plain": [
       "[2, 1]"
      ]
     },
     "execution_count": 42,
     "metadata": {},
     "output_type": "execute_result"
    }
   ],
   "source": [
    "check_list[-6::-1]"
   ]
  },
  {
   "cell_type": "code",
   "execution_count": 44,
   "id": "4f381831",
   "metadata": {},
   "outputs": [
    {
     "name": "stdout",
     "output_type": "stream",
     "text": [
      "Enter the Series length:7\n",
      " Fibnonacci series is :\n",
      "0\n",
      "1\n",
      "1\n",
      "2\n",
      "3\n",
      "5\n",
      "8\n"
     ]
    }
   ],
   "source": [
    "seq= int(input(\"Enter the Series length:\"))\n",
    "num1 = 0\n",
    "num2 = 1\n",
    "count=0\n",
    "if seq == 0:\n",
    "    print(\"Please enter the Value greater than zero!!!\")\n",
    "elif seq == 1:\n",
    "    print(\" Fibnonacci series is :\")\n",
    "    print(num1)\n",
    "else:\n",
    "    print(\" Fibnonacci series is :\")\n",
    "    while count< seq:\n",
    "        print(num1)\n",
    "        num3=num1+num2\n",
    "        num1=num2\n",
    "        num2=num3\n",
    "        count+=1\n",
    "\n"
   ]
  },
  {
   "cell_type": "code",
   "execution_count": null,
   "id": "2a984199",
   "metadata": {},
   "outputs": [],
   "source": []
  }
 ],
 "metadata": {
  "kernelspec": {
   "display_name": "Python 3 (ipykernel)",
   "language": "python",
   "name": "python3"
  },
  "language_info": {
   "codemirror_mode": {
    "name": "ipython",
    "version": 3
   },
   "file_extension": ".py",
   "mimetype": "text/x-python",
   "name": "python",
   "nbconvert_exporter": "python",
   "pygments_lexer": "ipython3",
   "version": "3.9.7"
  }
 },
 "nbformat": 4,
 "nbformat_minor": 5
}
