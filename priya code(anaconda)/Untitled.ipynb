{
 "cells": [
  {
   "cell_type": "code",
   "execution_count": 3,
   "metadata": {},
   "outputs": [
    {
     "name": "stdout",
     "output_type": "stream",
     "text": [
      "enter your number4\n",
      "*  \n",
      "* *  \n",
      "* * *  \n",
      "* * * *  \n"
     ]
    }
   ],
   "source": [
    "num =int(input(\"enter your number\"))\n",
    "for i in range(num):\n",
    "    for j in range(i+1):\n",
    "        print(\"*\", end=\" \")\n",
    "    print(\" \")"
   ]
  },
  {
   "cell_type": "code",
   "execution_count": 10,
   "metadata": {},
   "outputs": [
    {
     "name": "stdout",
     "output_type": "stream",
     "text": [
      "enter your number5\n",
      "        *  \n",
      "       * *  \n",
      "      * * *  \n",
      "     * * * *  \n",
      "    * * * * *  \n"
     ]
    }
   ],
   "source": [
    "num =int(input(\"enter your number : \"))\n",
    "k=2*num-2\n",
    "for i in range(0,num):\n",
    "    for j in range(0,k):\n",
    "        print(end=\" \")\n",
    "    k=k-1\n",
    "    for j in range(0,i+1):\n",
    "        print(\"*\", end=\" \")\n",
    "    print(\" \")"
   ]
  },
  {
   "cell_type": "code",
   "execution_count": 17,
   "metadata": {},
   "outputs": [
    {
     "name": "stdout",
     "output_type": "stream",
     "text": [
      "enter your number : 4\n",
      "  * * * *  \n",
      "   * * *  \n",
      "    * *  \n",
      "     *  \n",
      "       \n"
     ]
    }
   ],
   "source": [
    "num =int(input(\"enter your number : \"))\n",
    "k=num-2\n",
    "for i in range(num,-1,-1):\n",
    "    for j in range(k):\n",
    "            print(end=\" \")\n",
    "    k=k+1\n",
    "    for j in range(i):\n",
    "        print(\"*\", end=\" \")\n",
    "    print(\" \")\n",
    "        "
   ]
  },
  {
   "cell_type": "code",
   "execution_count": 35,
   "metadata": {},
   "outputs": [
    {
     "name": "stdout",
     "output_type": "stream",
     "text": [
      "enter the no.of.rows : 5\n",
      "        *  \n",
      "       * *  \n",
      "      * * *  \n",
      "     * * * *  \n",
      "    * * * * *  \n",
      "   * * * * * *  \n",
      "    * * * * *  \n",
      "     * * * *  \n",
      "      * * *  \n",
      "       * *  \n",
      "        *  \n"
     ]
    }
   ],
   "source": [
    "num= int(input(\"enter the no.of.rows : \"))\n",
    "k=2*num-2\n",
    "for i in range(num):\n",
    "    for j in range(k):\n",
    "        print(end=\" \")\n",
    "    k=k-1\n",
    "    for j in range(i+1):\n",
    "        print(\"*\", end =\" \")\n",
    "    print(\" \")\n",
    "k=num-2\n",
    "for i in range(num,-1,-1):\n",
    "    for j in range(k):\n",
    "        print(end=\" \")\n",
    "    k=k+1\n",
    "    for j in range(i+1):\n",
    "        print(\"*\", end=\" \")\n",
    "    print(\" \")\n",
    "    "
   ]
  },
  {
   "cell_type": "code",
   "execution_count": 47,
   "metadata": {},
   "outputs": [
    {
     "name": "stdout",
     "output_type": "stream",
     "text": [
      "Enter the no.of.rows : 5\n",
      "        *  \n",
      "       * *  \n",
      "      * * *  \n",
      "     * * * *  \n",
      "    * * * * *  \n",
      "   * * * * * *  \n",
      "    * * * * *  \n",
      "     * * * *  \n",
      "      * * *  \n",
      "       * *  \n",
      "        *  \n"
     ]
    }
   ],
   "source": [
    "num= int(input(\"Enter the no.of.rows : \"))\n",
    "k=2*num-2\n",
    "for i in range(num):\n",
    "    for j in range(k):\n",
    "        print(end=\" \")\n",
    "    k=k-1\n",
    "    for j in range(i+1):\n",
    "        print(\"*\",end=\" \")\n",
    "    print(\" \")\n",
    "k=num-2\n",
    "for i in range(num,-1,-1):\n",
    "    for j in range(k):\n",
    "        print(end=\" \")\n",
    "    k=k+1\n",
    "    for j in range(i+1):\n",
    "        print(\"*\", end=\" \")\n",
    "    print(\" \")"
   ]
  },
  {
   "cell_type": "code",
   "execution_count": null,
   "metadata": {},
   "outputs": [],
   "source": []
  },
  {
   "cell_type": "code",
   "execution_count": null,
   "metadata": {},
   "outputs": [],
   "source": []
  },
  {
   "cell_type": "code",
   "execution_count": null,
   "metadata": {},
   "outputs": [],
   "source": []
  },
  {
   "cell_type": "code",
   "execution_count": null,
   "metadata": {},
   "outputs": [],
   "source": []
  },
  {
   "cell_type": "code",
   "execution_count": null,
   "metadata": {},
   "outputs": [],
   "source": []
  },
  {
   "cell_type": "code",
   "execution_count": null,
   "metadata": {},
   "outputs": [],
   "source": []
  },
  {
   "cell_type": "code",
   "execution_count": null,
   "metadata": {},
   "outputs": [],
   "source": []
  },
  {
   "cell_type": "code",
   "execution_count": null,
   "metadata": {},
   "outputs": [],
   "source": []
  }
 ],
 "metadata": {
  "kernelspec": {
   "display_name": "Python 3",
   "language": "python",
   "name": "python3"
  },
  "language_info": {
   "codemirror_mode": {
    "name": "ipython",
    "version": 3
   },
   "file_extension": ".py",
   "mimetype": "text/x-python",
   "name": "python",
   "nbconvert_exporter": "python",
   "pygments_lexer": "ipython3",
   "version": "3.7.6"
  }
 },
 "nbformat": 4,
 "nbformat_minor": 4
}
