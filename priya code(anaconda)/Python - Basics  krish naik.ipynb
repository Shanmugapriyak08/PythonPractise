{
 "cells": [
  {
   "cell_type": "markdown",
   "metadata": {},
   "source": [
    "# Boolean"
   ]
  },
  {
   "cell_type": "code",
   "execution_count": 1,
   "metadata": {},
   "outputs": [
    {
     "data": {
      "text/plain": [
       "False"
      ]
     },
     "execution_count": 1,
     "metadata": {},
     "output_type": "execute_result"
    }
   ],
   "source": [
    "bool() # inbuilt function "
   ]
  },
  {
   "cell_type": "code",
   "execution_count": 4,
   "metadata": {},
   "outputs": [],
   "source": [
    "s=' Hello world '"
   ]
  },
  {
   "cell_type": "code",
   "execution_count": 5,
   "metadata": {},
   "outputs": [
    {
     "data": {
      "text/plain": [
       "' Hello world '"
      ]
     },
     "execution_count": 5,
     "metadata": {},
     "output_type": "execute_result"
    }
   ],
   "source": [
    "s"
   ]
  },
  {
   "cell_type": "code",
   "execution_count": 6,
   "metadata": {},
   "outputs": [
    {
     "data": {
      "text/plain": [
       "False"
      ]
     },
     "execution_count": 6,
     "metadata": {},
     "output_type": "execute_result"
    }
   ],
   "source": [
    "s.isspace()"
   ]
  },
  {
   "cell_type": "code",
   "execution_count": 8,
   "metadata": {},
   "outputs": [
    {
     "data": {
      "text/plain": [
       "True"
      ]
     },
     "execution_count": 8,
     "metadata": {},
     "output_type": "execute_result"
    }
   ],
   "source": [
    "t=' '\n",
    "t.isspace()"
   ]
  },
  {
   "cell_type": "markdown",
   "metadata": {},
   "source": [
    "# list \n",
    "\n",
    "#### List is ordered collection of different datatypes elements. Mutable. "
   ]
  },
  {
   "cell_type": "code",
   "execution_count": 15,
   "metadata": {},
   "outputs": [],
   "source": [
    "lst=[1,2,3,4,5,'priya']"
   ]
  },
  {
   "cell_type": "code",
   "execution_count": 16,
   "metadata": {},
   "outputs": [
    {
     "data": {
      "text/plain": [
       "[1, 2, 3, 4, 5, 'priya']"
      ]
     },
     "execution_count": 16,
     "metadata": {},
     "output_type": "execute_result"
    }
   ],
   "source": [
    "lst"
   ]
  },
  {
   "cell_type": "code",
   "execution_count": 17,
   "metadata": {},
   "outputs": [],
   "source": [
    "lst.append('kutty')"
   ]
  },
  {
   "cell_type": "code",
   "execution_count": 18,
   "metadata": {},
   "outputs": [
    {
     "data": {
      "text/plain": [
       "[1, 2, 3, 4, 5, 'priya', 'kutty']"
      ]
     },
     "execution_count": 18,
     "metadata": {},
     "output_type": "execute_result"
    }
   ],
   "source": [
    "lst"
   ]
  },
  {
   "cell_type": "code",
   "execution_count": 19,
   "metadata": {},
   "outputs": [],
   "source": [
    "lst.append([6,7,8]) # append will add element at last and make nested list "
   ]
  },
  {
   "cell_type": "code",
   "execution_count": 20,
   "metadata": {},
   "outputs": [
    {
     "data": {
      "text/plain": [
       "[1, 2, 3, 4, 5, 'priya', 'kutty', [6, 7, 8]]"
      ]
     },
     "execution_count": 20,
     "metadata": {},
     "output_type": "execute_result"
    }
   ],
   "source": [
    "lst"
   ]
  },
  {
   "cell_type": "code",
   "execution_count": 21,
   "metadata": {},
   "outputs": [
    {
     "data": {
      "text/plain": [
       "[1, 2, 3, 4, 5, 'priya', 'kutty', [6, 7, 8]]"
      ]
     },
     "execution_count": 21,
     "metadata": {},
     "output_type": "execute_result"
    }
   ],
   "source": [
    "lst[:]"
   ]
  },
  {
   "cell_type": "code",
   "execution_count": 22,
   "metadata": {},
   "outputs": [
    {
     "data": {
      "text/plain": [
       "[1, 2, 3, 4, 5, 'priya']"
      ]
     },
     "execution_count": 22,
     "metadata": {},
     "output_type": "execute_result"
    }
   ],
   "source": [
    "lst[:6]"
   ]
  },
  {
   "cell_type": "code",
   "execution_count": 23,
   "metadata": {},
   "outputs": [],
   "source": [
    "lst.insert(6,'rose')"
   ]
  },
  {
   "cell_type": "code",
   "execution_count": 24,
   "metadata": {},
   "outputs": [
    {
     "data": {
      "text/plain": [
       "[1, 2, 3, 4, 5, 'priya', 'rose', 'kutty', [6, 7, 8]]"
      ]
     },
     "execution_count": 24,
     "metadata": {},
     "output_type": "execute_result"
    }
   ],
   "source": [
    "lst"
   ]
  },
  {
   "cell_type": "code",
   "execution_count": 25,
   "metadata": {},
   "outputs": [],
   "source": [
    "lst.extend([9,10,11,12])"
   ]
  },
  {
   "cell_type": "code",
   "execution_count": 26,
   "metadata": {},
   "outputs": [
    {
     "data": {
      "text/plain": [
       "[1, 2, 3, 4, 5, 'priya', 'rose', 'kutty', [6, 7, 8], 9, 10, 11, 12]"
      ]
     },
     "execution_count": 26,
     "metadata": {},
     "output_type": "execute_result"
    }
   ],
   "source": [
    "lst"
   ]
  },
  {
   "cell_type": "code",
   "execution_count": 27,
   "metadata": {},
   "outputs": [
    {
     "data": {
      "text/plain": [
       "13"
      ]
     },
     "execution_count": 27,
     "metadata": {},
     "output_type": "execute_result"
    }
   ],
   "source": [
    "len(lst)"
   ]
  },
  {
   "cell_type": "code",
   "execution_count": 28,
   "metadata": {},
   "outputs": [
    {
     "data": {
      "text/plain": [
       "12"
      ]
     },
     "execution_count": 28,
     "metadata": {},
     "output_type": "execute_result"
    }
   ],
   "source": [
    "lst.pop() # will remove the last elements"
   ]
  },
  {
   "cell_type": "code",
   "execution_count": 29,
   "metadata": {},
   "outputs": [
    {
     "data": {
      "text/plain": [
       "[1, 2, 3, 4, 5, 'priya', 'rose', 'kutty', [6, 7, 8], 9, 10, 11]"
      ]
     },
     "execution_count": 29,
     "metadata": {},
     "output_type": "execute_result"
    }
   ],
   "source": [
    "lst"
   ]
  },
  {
   "cell_type": "code",
   "execution_count": 30,
   "metadata": {},
   "outputs": [
    {
     "data": {
      "text/plain": [
       "1"
      ]
     },
     "execution_count": 30,
     "metadata": {},
     "output_type": "execute_result"
    }
   ],
   "source": [
    "lst.pop(0)"
   ]
  },
  {
   "cell_type": "code",
   "execution_count": 31,
   "metadata": {},
   "outputs": [
    {
     "data": {
      "text/plain": [
       "[2, 3, 4, 5, 'priya', 'rose', 'kutty', [6, 7, 8], 9, 10, 11]"
      ]
     },
     "execution_count": 31,
     "metadata": {},
     "output_type": "execute_result"
    }
   ],
   "source": [
    "lst"
   ]
  },
  {
   "cell_type": "code",
   "execution_count": 1,
   "metadata": {},
   "outputs": [],
   "source": [
    "lst1=[1,1,2,3,4,5]"
   ]
  },
  {
   "cell_type": "code",
   "execution_count": 33,
   "metadata": {},
   "outputs": [
    {
     "data": {
      "text/plain": [
       "[1, 1, 2, 3, 4, 5]"
      ]
     },
     "execution_count": 33,
     "metadata": {},
     "output_type": "execute_result"
    }
   ],
   "source": [
    "lst1"
   ]
  },
  {
   "cell_type": "code",
   "execution_count": 34,
   "metadata": {},
   "outputs": [
    {
     "data": {
      "text/plain": [
       "16"
      ]
     },
     "execution_count": 34,
     "metadata": {},
     "output_type": "execute_result"
    }
   ],
   "source": [
    "sum(lst1)"
   ]
  },
  {
   "cell_type": "code",
   "execution_count": 10,
   "metadata": {},
   "outputs": [
    {
     "data": {
      "text/plain": [
       "[1, 2, 3, 1, 1, 1]"
      ]
     },
     "execution_count": 10,
     "metadata": {},
     "output_type": "execute_result"
    }
   ],
   "source": [
    "l1=[1,2,3]\n",
    "l2=[1,1,1]\n",
    "l1+l2"
   ]
  },
  {
   "cell_type": "code",
   "execution_count": 35,
   "metadata": {},
   "outputs": [
    {
     "data": {
      "text/plain": [
       "2"
      ]
     },
     "execution_count": 35,
     "metadata": {},
     "output_type": "execute_result"
    }
   ],
   "source": [
    "lst1.count(1) # counts the occurenaces of elements"
   ]
  },
  {
   "cell_type": "code",
   "execution_count": 36,
   "metadata": {},
   "outputs": [
    {
     "data": {
      "text/plain": [
       "0"
      ]
     },
     "execution_count": 36,
     "metadata": {},
     "output_type": "execute_result"
    }
   ],
   "source": [
    "lst1.index(1)  # give the 1st occurance of the value "
   ]
  },
  {
   "cell_type": "code",
   "execution_count": 37,
   "metadata": {},
   "outputs": [
    {
     "data": {
      "text/plain": [
       "1"
      ]
     },
     "execution_count": 37,
     "metadata": {},
     "output_type": "execute_result"
    }
   ],
   "source": [
    "lst1.index(1,1,4)# index(value,start index, end index)"
   ]
  },
  {
   "cell_type": "code",
   "execution_count": 38,
   "metadata": {},
   "outputs": [
    {
     "data": {
      "text/plain": [
       "1"
      ]
     },
     "execution_count": 38,
     "metadata": {},
     "output_type": "execute_result"
    }
   ],
   "source": [
    "min(lst1)"
   ]
  },
  {
   "cell_type": "code",
   "execution_count": 39,
   "metadata": {},
   "outputs": [
    {
     "data": {
      "text/plain": [
       "5"
      ]
     },
     "execution_count": 39,
     "metadata": {},
     "output_type": "execute_result"
    }
   ],
   "source": [
    "max(lst1)"
   ]
  },
  {
   "cell_type": "code",
   "execution_count": 40,
   "metadata": {},
   "outputs": [
    {
     "data": {
      "text/plain": [
       "[1, 1, 2, 3, 4, 5, 1, 1, 2, 3, 4, 5]"
      ]
     },
     "execution_count": 40,
     "metadata": {},
     "output_type": "execute_result"
    }
   ],
   "source": [
    "lst1*2 # insert the whole list to the no.of time\n"
   ]
  },
  {
   "cell_type": "code",
   "execution_count": 41,
   "metadata": {},
   "outputs": [
    {
     "data": {
      "text/plain": [
       "[2, 3, 4, 5, 'priya', 'rose', 'kutty', [6, 7, 8], 9, 10, 11]"
      ]
     },
     "execution_count": 41,
     "metadata": {},
     "output_type": "execute_result"
    }
   ],
   "source": [
    "lst"
   ]
  },
  {
   "cell_type": "code",
   "execution_count": 61,
   "metadata": {},
   "outputs": [
    {
     "data": {
      "text/plain": [
       "[11, 10, 9, [6, 7, 8], 'kutty', 'rose', 'priya', 5, 4, 3, 2]"
      ]
     },
     "execution_count": 61,
     "metadata": {},
     "output_type": "execute_result"
    }
   ],
   "source": [
    "lst.reverse()\n",
    "lst"
   ]
  },
  {
   "cell_type": "code",
   "execution_count": 62,
   "metadata": {},
   "outputs": [
    {
     "data": {
      "text/plain": [
       "[5, 4, 3, 2, 1, 1]"
      ]
     },
     "execution_count": 62,
     "metadata": {},
     "output_type": "execute_result"
    }
   ],
   "source": [
    "lst1.reverse()\n",
    "lst1"
   ]
  },
  {
   "cell_type": "code",
   "execution_count": 58,
   "metadata": {},
   "outputs": [],
   "source": [
    "aList = [123, 'xyz', 'zara', 'abc', 'xyz']\n",
    "aList.reverse()"
   ]
  },
  {
   "cell_type": "code",
   "execution_count": 59,
   "metadata": {},
   "outputs": [
    {
     "data": {
      "text/plain": [
       "['xyz', 'abc', 'zara', 'xyz', 123]"
      ]
     },
     "execution_count": 59,
     "metadata": {},
     "output_type": "execute_result"
    }
   ],
   "source": [
    "aList"
   ]
  },
  {
   "cell_type": "code",
   "execution_count": 49,
   "metadata": {},
   "outputs": [
    {
     "data": {
      "text/plain": [
       "[1, 1, 2, 3, 4, 5]"
      ]
     },
     "execution_count": 49,
     "metadata": {},
     "output_type": "execute_result"
    }
   ],
   "source": [
    "lst1.sort()\n",
    "lst1"
   ]
  },
  {
   "cell_type": "code",
   "execution_count": 45,
   "metadata": {},
   "outputs": [],
   "source": [
    "lst1.remove(2)"
   ]
  },
  {
   "cell_type": "code",
   "execution_count": 46,
   "metadata": {},
   "outputs": [
    {
     "data": {
      "text/plain": [
       "[1, 1, 3, 4, 5]"
      ]
     },
     "execution_count": 46,
     "metadata": {},
     "output_type": "execute_result"
    }
   ],
   "source": [
    "lst1"
   ]
  },
  {
   "cell_type": "code",
   "execution_count": 63,
   "metadata": {},
   "outputs": [],
   "source": [
    "lst2=[34,23,66,13]\n",
    "lst2.reverse()"
   ]
  },
  {
   "cell_type": "code",
   "execution_count": 65,
   "metadata": {},
   "outputs": [
    {
     "data": {
      "text/plain": [
       "[13, 66, 23, 34]"
      ]
     },
     "execution_count": 65,
     "metadata": {},
     "output_type": "execute_result"
    }
   ],
   "source": [
    "lst2"
   ]
  },
  {
   "cell_type": "code",
   "execution_count": 53,
   "metadata": {},
   "outputs": [
    {
     "name": "stdout",
     "output_type": "stream",
     "text": [
      "Reversed List: [7, 5, 3, 2]\n"
     ]
    }
   ],
   "source": [
    "# create a list of prime numbers\n",
    "prime_numbers = [2, 3, 5, 7]\n",
    "\n",
    "# reverse the order of list elements\n",
    "prime_numbers.reverse()\n",
    "\n",
    "\n",
    "print('Reversed List:', prime_numbers)\n",
    "\n",
    "# Output: Reversed List: [7, 5, 3, 2]"
   ]
  },
  {
   "cell_type": "markdown",
   "metadata": {},
   "source": [
    "## Set "
   ]
  },
  {
   "cell_type": "code",
   "execution_count": 1,
   "metadata": {},
   "outputs": [],
   "source": [
    "l=set()"
   ]
  },
  {
   "cell_type": "code",
   "execution_count": 51,
   "metadata": {},
   "outputs": [
    {
     "data": {
      "text/plain": [
       "[]"
      ]
     },
     "execution_count": 51,
     "metadata": {},
     "output_type": "execute_result"
    }
   ],
   "source": [
    "l"
   ]
  },
  {
   "cell_type": "markdown",
   "metadata": {},
   "source": [
    "# NUMPY"
   ]
  },
  {
   "cell_type": "code",
   "execution_count": 2,
   "metadata": {},
   "outputs": [],
   "source": [
    "import numpy as np"
   ]
  },
  {
   "cell_type": "code",
   "execution_count": 2,
   "metadata": {},
   "outputs": [],
   "source": [
    "a=np.array([1,2,3,4,5])"
   ]
  },
  {
   "cell_type": "code",
   "execution_count": 3,
   "metadata": {},
   "outputs": [
    {
     "name": "stdout",
     "output_type": "stream",
     "text": [
      "[1 2 3 4 5]\n"
     ]
    }
   ],
   "source": [
    "print(a)"
   ]
  },
  {
   "cell_type": "code",
   "execution_count": 67,
   "metadata": {},
   "outputs": [],
   "source": [
    "r1=[1,2,3,4,5]\n",
    "r2=[6,7,8,9,10]\n",
    "r3=[11,12,13,14,15]"
   ]
  },
  {
   "cell_type": "code",
   "execution_count": 68,
   "metadata": {},
   "outputs": [],
   "source": [
    "arr=np.array([r1,r2,r3])"
   ]
  },
  {
   "cell_type": "code",
   "execution_count": 69,
   "metadata": {},
   "outputs": [
    {
     "data": {
      "text/plain": [
       "array([[ 1,  2,  3,  4,  5],\n",
       "       [ 6,  7,  8,  9, 10],\n",
       "       [11, 12, 13, 14, 15]])"
      ]
     },
     "execution_count": 69,
     "metadata": {},
     "output_type": "execute_result"
    }
   ],
   "source": [
    "arr"
   ]
  },
  {
   "cell_type": "code",
   "execution_count": 9,
   "metadata": {},
   "outputs": [
    {
     "data": {
      "text/plain": [
       "array([[ 1,  2,  3,  4,  5],\n",
       "       [ 6,  7,  8,  9, 10],\n",
       "       [11, 12, 13, 14, 15]])"
      ]
     },
     "execution_count": 9,
     "metadata": {},
     "output_type": "execute_result"
    }
   ],
   "source": [
    "arr[:,:]"
   ]
  },
  {
   "cell_type": "code",
   "execution_count": 72,
   "metadata": {},
   "outputs": [
    {
     "data": {
      "text/plain": [
       "array([[ 9],\n",
       "       [14]])"
      ]
     },
     "execution_count": 72,
     "metadata": {},
     "output_type": "execute_result"
    }
   ],
   "source": [
    "arr[1:,3:4]"
   ]
  },
  {
   "cell_type": "code",
   "execution_count": 10,
   "metadata": {},
   "outputs": [
    {
     "data": {
      "text/plain": [
       "array([[ 7,  8,  9],\n",
       "       [12, 13, 14]])"
      ]
     },
     "execution_count": 10,
     "metadata": {},
     "output_type": "execute_result"
    }
   ],
   "source": [
    "arr[1:,1:4]"
   ]
  },
  {
   "cell_type": "code",
   "execution_count": 11,
   "metadata": {},
   "outputs": [
    {
     "data": {
      "text/plain": [
       "array([[ 7,  8,  9, 10],\n",
       "       [12, 13, 14, 15]])"
      ]
     },
     "execution_count": 11,
     "metadata": {},
     "output_type": "execute_result"
    }
   ],
   "source": [
    "arr[1:,1:]"
   ]
  },
  {
   "cell_type": "code",
   "execution_count": 13,
   "metadata": {},
   "outputs": [
    {
     "data": {
      "text/plain": [
       "array([[ 1,  2,  3],\n",
       "       [ 4,  5,  6],\n",
       "       [ 7,  8,  9],\n",
       "       [10, 11, 12],\n",
       "       [13, 14, 15]])"
      ]
     },
     "execution_count": 13,
     "metadata": {},
     "output_type": "execute_result"
    }
   ],
   "source": [
    "arr.reshape(5,3)"
   ]
  },
  {
   "cell_type": "code",
   "execution_count": 12,
   "metadata": {},
   "outputs": [
    {
     "data": {
      "text/plain": [
       "array([[ 1],\n",
       "       [ 2],\n",
       "       [ 3],\n",
       "       [ 4],\n",
       "       [ 5],\n",
       "       [ 6],\n",
       "       [ 7],\n",
       "       [ 8],\n",
       "       [ 9],\n",
       "       [10],\n",
       "       [11],\n",
       "       [12],\n",
       "       [13],\n",
       "       [14],\n",
       "       [15]])"
      ]
     },
     "execution_count": 12,
     "metadata": {},
     "output_type": "execute_result"
    }
   ],
   "source": [
    "arr.reshape(15,1)"
   ]
  },
  {
   "cell_type": "code",
   "execution_count": 79,
   "metadata": {},
   "outputs": [
    {
     "data": {
      "text/plain": [
       "array([[ 1,  2,  3,  4,  5,  6,  7,  8,  9, 10, 11, 12, 13, 14, 15]])"
      ]
     },
     "execution_count": 79,
     "metadata": {},
     "output_type": "execute_result"
    }
   ],
   "source": [
    "arr.reshape(1,15)"
   ]
  },
  {
   "cell_type": "code",
   "execution_count": 80,
   "metadata": {},
   "outputs": [
    {
     "ename": "ValueError",
     "evalue": "cannot reshape array of size 15 into shape (5,4)",
     "output_type": "error",
     "traceback": [
      "\u001b[1;31m---------------------------------------------------------------------------\u001b[0m",
      "\u001b[1;31mValueError\u001b[0m                                Traceback (most recent call last)",
      "\u001b[1;32m<ipython-input-80-081adc27730c>\u001b[0m in \u001b[0;36m<module>\u001b[1;34m\u001b[0m\n\u001b[1;32m----> 1\u001b[1;33m \u001b[0marr\u001b[0m\u001b[1;33m.\u001b[0m\u001b[0mreshape\u001b[0m\u001b[1;33m(\u001b[0m\u001b[1;36m5\u001b[0m\u001b[1;33m,\u001b[0m\u001b[1;36m4\u001b[0m\u001b[1;33m)\u001b[0m\u001b[1;33m\u001b[0m\u001b[1;33m\u001b[0m\u001b[0m\n\u001b[0m",
      "\u001b[1;31mValueError\u001b[0m: cannot reshape array of size 15 into shape (5,4)"
     ]
    }
   ],
   "source": [
    "arr.reshape(5,4)"
   ]
  },
  {
   "cell_type": "code",
   "execution_count": 14,
   "metadata": {},
   "outputs": [],
   "source": [
    "n=np.arange(1,20,step=2)"
   ]
  },
  {
   "cell_type": "code",
   "execution_count": 15,
   "metadata": {},
   "outputs": [
    {
     "data": {
      "text/plain": [
       "array([ 1,  3,  5,  7,  9, 11, 13, 15, 17, 19])"
      ]
     },
     "execution_count": 15,
     "metadata": {},
     "output_type": "execute_result"
    }
   ],
   "source": [
    "n"
   ]
  },
  {
   "cell_type": "code",
   "execution_count": 19,
   "metadata": {},
   "outputs": [
    {
     "data": {
      "text/plain": [
       "array([ 1.        ,  3.11111111,  5.22222222,  7.33333333,  9.44444444,\n",
       "       11.55555556, 13.66666667, 15.77777778, 17.88888889, 20.        ])"
      ]
     },
     "execution_count": 19,
     "metadata": {},
     "output_type": "execute_result"
    }
   ],
   "source": [
    "np.linspace(1,20,num=10)"
   ]
  },
  {
   "cell_type": "code",
   "execution_count": 3,
   "metadata": {},
   "outputs": [
    {
     "data": {
      "text/plain": [
       "array([ 1,  3,  5,  7,  9, 11, 13, 15, 17, 19])"
      ]
     },
     "execution_count": 3,
     "metadata": {},
     "output_type": "execute_result"
    }
   ],
   "source": [
    "np.arange(1,20,2)"
   ]
  },
  {
   "cell_type": "code",
   "execution_count": 20,
   "metadata": {},
   "outputs": [
    {
     "data": {
      "text/plain": [
       "array([[ 1,  2,  3,  4,  5],\n",
       "       [ 6,  7,  8,  9, 10],\n",
       "       [11, 12, 13, 14, 15]])"
      ]
     },
     "execution_count": 20,
     "metadata": {},
     "output_type": "execute_result"
    }
   ],
   "source": [
    "arr"
   ]
  },
  {
   "cell_type": "code",
   "execution_count": 21,
   "metadata": {},
   "outputs": [],
   "source": [
    "arr=np.array([5,6,7,8,9])"
   ]
  },
  {
   "cell_type": "code",
   "execution_count": 22,
   "metadata": {},
   "outputs": [
    {
     "data": {
      "text/plain": [
       "array([5, 6, 7, 8, 9])"
      ]
     },
     "execution_count": 22,
     "metadata": {},
     "output_type": "execute_result"
    }
   ],
   "source": [
    "arr"
   ]
  },
  {
   "cell_type": "code",
   "execution_count": 23,
   "metadata": {},
   "outputs": [],
   "source": [
    "arr[3:]=100"
   ]
  },
  {
   "cell_type": "code",
   "execution_count": 24,
   "metadata": {},
   "outputs": [
    {
     "data": {
      "text/plain": [
       "array([  5,   6,   7, 100, 100])"
      ]
     },
     "execution_count": 24,
     "metadata": {},
     "output_type": "execute_result"
    }
   ],
   "source": [
    "arr"
   ]
  },
  {
   "cell_type": "code",
   "execution_count": 25,
   "metadata": {},
   "outputs": [],
   "source": [
    "arr1=arr"
   ]
  },
  {
   "cell_type": "code",
   "execution_count": 26,
   "metadata": {},
   "outputs": [
    {
     "data": {
      "text/plain": [
       "array([  5,   6,   7, 100, 100])"
      ]
     },
     "execution_count": 26,
     "metadata": {},
     "output_type": "execute_result"
    }
   ],
   "source": [
    "arr1"
   ]
  },
  {
   "cell_type": "code",
   "execution_count": 27,
   "metadata": {},
   "outputs": [],
   "source": [
    "arr1[3:]=200"
   ]
  },
  {
   "cell_type": "code",
   "execution_count": 28,
   "metadata": {},
   "outputs": [
    {
     "data": {
      "text/plain": [
       "array([  5,   6,   7, 200, 200])"
      ]
     },
     "execution_count": 28,
     "metadata": {},
     "output_type": "execute_result"
    }
   ],
   "source": [
    "arr1"
   ]
  },
  {
   "cell_type": "code",
   "execution_count": 29,
   "metadata": {},
   "outputs": [
    {
     "data": {
      "text/plain": [
       "array([  5,   6,   7, 200, 200])"
      ]
     },
     "execution_count": 29,
     "metadata": {},
     "output_type": "execute_result"
    }
   ],
   "source": [
    "arr"
   ]
  },
  {
   "cell_type": "code",
   "execution_count": 31,
   "metadata": {},
   "outputs": [],
   "source": [
    "#copy() and broadcasting\n",
    "arr2=arr.copy()"
   ]
  },
  {
   "cell_type": "code",
   "execution_count": 32,
   "metadata": {},
   "outputs": [
    {
     "data": {
      "text/plain": [
       "array([  5,   6,   7, 200, 200])"
      ]
     },
     "execution_count": 32,
     "metadata": {},
     "output_type": "execute_result"
    }
   ],
   "source": [
    "arr2"
   ]
  },
  {
   "cell_type": "code",
   "execution_count": 33,
   "metadata": {},
   "outputs": [],
   "source": [
    "arr2[3:]=500"
   ]
  },
  {
   "cell_type": "code",
   "execution_count": 34,
   "metadata": {},
   "outputs": [
    {
     "data": {
      "text/plain": [
       "array([  5,   6,   7, 500, 500])"
      ]
     },
     "execution_count": 34,
     "metadata": {},
     "output_type": "execute_result"
    }
   ],
   "source": [
    "arr2"
   ]
  },
  {
   "cell_type": "code",
   "execution_count": 35,
   "metadata": {},
   "outputs": [
    {
     "data": {
      "text/plain": [
       "array([  5,   6,   7, 200, 200])"
      ]
     },
     "execution_count": 35,
     "metadata": {},
     "output_type": "execute_result"
    }
   ],
   "source": [
    "arr"
   ]
  },
  {
   "cell_type": "code",
   "execution_count": 42,
   "metadata": {},
   "outputs": [],
   "source": [
    "arr=np.arange(1,11)"
   ]
  },
  {
   "cell_type": "code",
   "execution_count": 43,
   "metadata": {},
   "outputs": [
    {
     "data": {
      "text/plain": [
       "array([ 1,  2,  3,  4,  5,  6,  7,  8,  9, 10])"
      ]
     },
     "execution_count": 43,
     "metadata": {},
     "output_type": "execute_result"
    }
   ],
   "source": [
    "arr"
   ]
  },
  {
   "cell_type": "code",
   "execution_count": 44,
   "metadata": {},
   "outputs": [
    {
     "data": {
      "text/plain": [
       "array([ 2,  4,  6,  8, 10, 12, 14, 16, 18, 20])"
      ]
     },
     "execution_count": 44,
     "metadata": {},
     "output_type": "execute_result"
    }
   ],
   "source": [
    "arr*2"
   ]
  },
  {
   "cell_type": "code",
   "execution_count": 45,
   "metadata": {},
   "outputs": [
    {
     "data": {
      "text/plain": [
       "array([ 3,  4,  5,  6,  7,  8,  9, 10, 11, 12])"
      ]
     },
     "execution_count": 45,
     "metadata": {},
     "output_type": "execute_result"
    }
   ],
   "source": [
    "arr+2"
   ]
  },
  {
   "cell_type": "code",
   "execution_count": 46,
   "metadata": {},
   "outputs": [
    {
     "data": {
      "text/plain": [
       "array([False, False, False, False, False,  True,  True,  True,  True,\n",
       "        True])"
      ]
     },
     "execution_count": 46,
     "metadata": {},
     "output_type": "execute_result"
    }
   ],
   "source": [
    "arr>5"
   ]
  },
  {
   "cell_type": "code",
   "execution_count": 47,
   "metadata": {},
   "outputs": [
    {
     "data": {
      "text/plain": [
       "array([ 6,  7,  8,  9, 10])"
      ]
     },
     "execution_count": 47,
     "metadata": {},
     "output_type": "execute_result"
    }
   ],
   "source": [
    "arr[arr>5]"
   ]
  },
  {
   "cell_type": "code",
   "execution_count": 51,
   "metadata": {},
   "outputs": [],
   "source": [
    "a=np.arange(1,13).reshape(4,3)"
   ]
  },
  {
   "cell_type": "code",
   "execution_count": 52,
   "metadata": {},
   "outputs": [
    {
     "data": {
      "text/plain": [
       "array([[ 1,  2,  3],\n",
       "       [ 4,  5,  6],\n",
       "       [ 7,  8,  9],\n",
       "       [10, 11, 12]])"
      ]
     },
     "execution_count": 52,
     "metadata": {},
     "output_type": "execute_result"
    }
   ],
   "source": [
    "a"
   ]
  },
  {
   "cell_type": "code",
   "execution_count": 53,
   "metadata": {},
   "outputs": [
    {
     "data": {
      "text/plain": [
       "array([[ 1,  2,  3,  4],\n",
       "       [ 5,  6,  7,  8],\n",
       "       [ 9, 10, 11, 12]])"
      ]
     },
     "execution_count": 53,
     "metadata": {},
     "output_type": "execute_result"
    }
   ],
   "source": [
    "a.reshape(3,4)"
   ]
  },
  {
   "cell_type": "code",
   "execution_count": 54,
   "metadata": {},
   "outputs": [
    {
     "data": {
      "text/plain": [
       "array([[ 1,  2],\n",
       "       [ 3,  4],\n",
       "       [ 5,  6],\n",
       "       [ 7,  8],\n",
       "       [ 9, 10],\n",
       "       [11, 12]])"
      ]
     },
     "execution_count": 54,
     "metadata": {},
     "output_type": "execute_result"
    }
   ],
   "source": [
    "a.reshape(6,2)"
   ]
  },
  {
   "cell_type": "code",
   "execution_count": 55,
   "metadata": {},
   "outputs": [
    {
     "data": {
      "text/plain": [
       "array([[ 1,  2,  3,  4,  5,  6],\n",
       "       [ 7,  8,  9, 10, 11, 12]])"
      ]
     },
     "execution_count": 55,
     "metadata": {},
     "output_type": "execute_result"
    }
   ],
   "source": [
    "a.reshape(2,6)"
   ]
  },
  {
   "cell_type": "code",
   "execution_count": 58,
   "metadata": {},
   "outputs": [
    {
     "data": {
      "text/plain": [
       "array([1, 1])"
      ]
     },
     "execution_count": 58,
     "metadata": {},
     "output_type": "execute_result"
    }
   ],
   "source": [
    "np.ones(2,dtype=int)"
   ]
  },
  {
   "cell_type": "code",
   "execution_count": 59,
   "metadata": {},
   "outputs": [
    {
     "data": {
      "text/plain": [
       "array([1., 1., 1.])"
      ]
     },
     "execution_count": 59,
     "metadata": {},
     "output_type": "execute_result"
    }
   ],
   "source": [
    "np.ones(3)"
   ]
  },
  {
   "cell_type": "code",
   "execution_count": 6,
   "metadata": {},
   "outputs": [
    {
     "data": {
      "text/plain": [
       "numpy.ndarray"
      ]
     },
     "execution_count": 6,
     "metadata": {},
     "output_type": "execute_result"
    }
   ],
   "source": [
    "type(np.ones(3))"
   ]
  },
  {
   "cell_type": "code",
   "execution_count": 61,
   "metadata": {},
   "outputs": [
    {
     "data": {
      "text/plain": [
       "array([[1, 1, 1],\n",
       "       [1, 1, 1]])"
      ]
     },
     "execution_count": 61,
     "metadata": {},
     "output_type": "execute_result"
    }
   ],
   "source": [
    "np.ones((2,3),dtype=int)"
   ]
  },
  {
   "cell_type": "code",
   "execution_count": 63,
   "metadata": {},
   "outputs": [
    {
     "data": {
      "text/plain": [
       "array([0., 0., 0., 0.])"
      ]
     },
     "execution_count": 63,
     "metadata": {},
     "output_type": "execute_result"
    }
   ],
   "source": [
    "np.zeros(4)"
   ]
  },
  {
   "cell_type": "code",
   "execution_count": 64,
   "metadata": {},
   "outputs": [
    {
     "data": {
      "text/plain": [
       "array([[0, 0, 0],\n",
       "       [0, 0, 0],\n",
       "       [0, 0, 0]])"
      ]
     },
     "execution_count": 64,
     "metadata": {},
     "output_type": "execute_result"
    }
   ],
   "source": [
    "np.zeros((3,3),dtype=int)"
   ]
  },
  {
   "cell_type": "code",
   "execution_count": 67,
   "metadata": {},
   "outputs": [
    {
     "data": {
      "text/plain": [
       "array([[0.4312077 , 0.40664263, 0.75302663, 0.00656323, 0.45197106],\n",
       "       [0.49313537, 0.71873126, 0.81841081, 0.39555295, 0.86505806],\n",
       "       [0.28787575, 0.6795288 , 0.92262816, 0.51301357, 0.13424156],\n",
       "       [0.76308426, 0.02548123, 0.93762249, 0.57759419, 0.84742784],\n",
       "       [0.2260363 , 0.59494833, 0.75415993, 0.05206602, 0.36740342]])"
      ]
     },
     "execution_count": 67,
     "metadata": {},
     "output_type": "execute_result"
    }
   ],
   "source": [
    "np.random.rand(5,5) # random distribution"
   ]
  },
  {
   "cell_type": "code",
   "execution_count": 10,
   "metadata": {},
   "outputs": [
    {
     "data": {
      "text/plain": [
       "array([[-0.04205981, -0.01449215,  3.00698125],\n",
       "       [ 1.34854598,  0.5900257 ,  1.15966768],\n",
       "       [ 1.16585816,  0.72850519, -0.64152973],\n",
       "       [-0.10478051,  1.08190206, -1.07889156],\n",
       "       [ 0.21917932,  0.09041763,  0.85657057]])"
      ]
     },
     "execution_count": 10,
     "metadata": {},
     "output_type": "execute_result"
    }
   ],
   "source": [
    "np.random.randn(5,3) # normal distribution"
   ]
  },
  {
   "cell_type": "code",
   "execution_count": 15,
   "metadata": {},
   "outputs": [
    {
     "data": {
      "text/plain": [
       "array([[[ 1.45032608, -1.15594   ],\n",
       "        [-0.32022137, -0.33183259],\n",
       "        [-0.18023151,  0.84791987],\n",
       "        [ 0.42188316, -0.58844945],\n",
       "        [ 2.48667558,  0.02861735]],\n",
       "\n",
       "       [[-0.07936066, -1.23746662],\n",
       "        [-0.94866726, -1.20820197],\n",
       "        [-0.1342415 , -0.39378988],\n",
       "        [-0.02556247, -0.47831236],\n",
       "        [-0.04133788, -0.24153018]],\n",
       "\n",
       "       [[-1.03328174,  1.23093645],\n",
       "        [-1.42476945,  1.30645833],\n",
       "        [ 0.82549571,  1.08392691],\n",
       "        [-1.03285556, -0.54246495],\n",
       "        [ 0.94401064,  0.72658291]],\n",
       "\n",
       "       [[ 0.20917271,  0.53802071],\n",
       "        [-0.56812449,  1.67943732],\n",
       "        [ 0.42478521,  1.03695982],\n",
       "        [-1.08336302,  1.16317796],\n",
       "        [-0.37866718,  0.34944521]]])"
      ]
     },
     "execution_count": 15,
     "metadata": {},
     "output_type": "execute_result"
    }
   ],
   "source": [
    "np.random.randn(4,5,2)"
   ]
  },
  {
   "cell_type": "code",
   "execution_count": 13,
   "metadata": {},
   "outputs": [
    {
     "data": {
      "text/plain": [
       "array([51, 54, 66, 56, 73, 73, 87, 85, 98, 71])"
      ]
     },
     "execution_count": 13,
     "metadata": {},
     "output_type": "execute_result"
    }
   ],
   "source": [
    "np.random.randint(50,100,10)"
   ]
  },
  {
   "cell_type": "code",
   "execution_count": 75,
   "metadata": {},
   "outputs": [
    {
     "data": {
      "text/plain": [
       "array([[0.9732575 , 0.97056486, 0.93103911, 0.58412663, 0.53478389]])"
      ]
     },
     "execution_count": 75,
     "metadata": {},
     "output_type": "execute_result"
    }
   ],
   "source": [
    "np.random.random_sample((1,5))"
   ]
  },
  {
   "cell_type": "code",
   "execution_count": 8,
   "metadata": {},
   "outputs": [
    {
     "data": {
      "text/plain": [
       "array([[0.73131386, 0.17503381, 0.42232824, 0.38976207],\n",
       "       [0.36929752, 0.2473825 , 0.40919038, 0.0401807 ]])"
      ]
     },
     "execution_count": 8,
     "metadata": {},
     "output_type": "execute_result"
    }
   ],
   "source": [
    "np.random.random_sample((2,4))"
   ]
  },
  {
   "cell_type": "markdown",
   "metadata": {},
   "source": [
    "# JSON"
   ]
  },
  {
   "cell_type": "code",
   "execution_count": 10,
   "metadata": {},
   "outputs": [
    {
     "name": "stdout",
     "output_type": "stream",
     "text": [
      "JSON data:\n",
      "{'Name': 'David', 'Class': 'I', 'Age': 6}\n",
      "\n",
      "Name:  David\n",
      "Class:  I\n",
      "Age:  6\n"
     ]
    }
   ],
   "source": [
    "#Convert JSON data to Python object\n",
    "import json\n",
    "json_obj =  '{ \"Name\":\"David\", \"Class\":\"I\", \"Age\":6 }'\n",
    "python_obj = json.loads(json_obj)\n",
    "print(\"\\nJSON data:\")\n",
    "print(python_obj)\n",
    "print(\"\\nName: \",python_obj[\"Name\"])\n",
    "print(\"Class: \",python_obj[\"Class\"])\n",
    "print(\"Age: \",python_obj[\"Age\"]) "
   ]
  },
  {
   "cell_type": "code",
   "execution_count": 3,
   "metadata": {},
   "outputs": [
    {
     "name": "stdout",
     "output_type": "stream",
     "text": [
      "<class 'dict'>\n",
      "{\"name\": \"David\", \"class\": \"I\", \"age\": 6}\n",
      "<class 'str'>\n"
     ]
    }
   ],
   "source": [
    "#Convert Python object to JSON data\n",
    "import json\n",
    "# a Python object (dict):\n",
    "python_obj = {\n",
    "  \"name\": \"David\",\n",
    "  \"class\":\"I\",\n",
    "  \"age\": 6  \n",
    "}\n",
    "print(type(python_obj))\n",
    "# convert into JSON:\n",
    "j_data = json.dumps(python_obj)\n",
    "\n",
    "# result is a JSON string:\n",
    "print(j_data)\n",
    "print(type(j_data))"
   ]
  },
  {
   "cell_type": "markdown",
   "metadata": {},
   "source": [
    "# PANDAS"
   ]
  },
  {
   "cell_type": "code",
   "execution_count": 1,
   "metadata": {},
   "outputs": [],
   "source": [
    " import pandas as pd"
   ]
  },
  {
   "cell_type": "code",
   "execution_count": 3,
   "metadata": {},
   "outputs": [],
   "source": [
    "df=pd.DataFrame(np.arange(1,21).reshape(4,5),index=[\"Row1\",\"Row2\",\"Row3\",\"Row4\"],columns=[\"Column1\",\"Column2\",\"Column3\",\"Column4\",\"Column5\"])"
   ]
  },
  {
   "cell_type": "code",
   "execution_count": 4,
   "metadata": {},
   "outputs": [
    {
     "data": {
      "text/html": [
       "<div>\n",
       "<style scoped>\n",
       "    .dataframe tbody tr th:only-of-type {\n",
       "        vertical-align: middle;\n",
       "    }\n",
       "\n",
       "    .dataframe tbody tr th {\n",
       "        vertical-align: top;\n",
       "    }\n",
       "\n",
       "    .dataframe thead th {\n",
       "        text-align: right;\n",
       "    }\n",
       "</style>\n",
       "<table border=\"1\" class=\"dataframe\">\n",
       "  <thead>\n",
       "    <tr style=\"text-align: right;\">\n",
       "      <th></th>\n",
       "      <th>Column1</th>\n",
       "      <th>Column2</th>\n",
       "      <th>Column3</th>\n",
       "      <th>Column4</th>\n",
       "      <th>Column5</th>\n",
       "    </tr>\n",
       "  </thead>\n",
       "  <tbody>\n",
       "    <tr>\n",
       "      <th>Row1</th>\n",
       "      <td>1</td>\n",
       "      <td>2</td>\n",
       "      <td>3</td>\n",
       "      <td>4</td>\n",
       "      <td>5</td>\n",
       "    </tr>\n",
       "    <tr>\n",
       "      <th>Row2</th>\n",
       "      <td>6</td>\n",
       "      <td>7</td>\n",
       "      <td>8</td>\n",
       "      <td>9</td>\n",
       "      <td>10</td>\n",
       "    </tr>\n",
       "    <tr>\n",
       "      <th>Row3</th>\n",
       "      <td>11</td>\n",
       "      <td>12</td>\n",
       "      <td>13</td>\n",
       "      <td>14</td>\n",
       "      <td>15</td>\n",
       "    </tr>\n",
       "    <tr>\n",
       "      <th>Row4</th>\n",
       "      <td>16</td>\n",
       "      <td>17</td>\n",
       "      <td>18</td>\n",
       "      <td>19</td>\n",
       "      <td>20</td>\n",
       "    </tr>\n",
       "  </tbody>\n",
       "</table>\n",
       "</div>"
      ],
      "text/plain": [
       "      Column1  Column2  Column3  Column4  Column5\n",
       "Row1        1        2        3        4        5\n",
       "Row2        6        7        8        9       10\n",
       "Row3       11       12       13       14       15\n",
       "Row4       16       17       18       19       20"
      ]
     },
     "execution_count": 4,
     "metadata": {},
     "output_type": "execute_result"
    }
   ],
   "source": [
    "df"
   ]
  },
  {
   "cell_type": "code",
   "execution_count": 84,
   "metadata": {},
   "outputs": [
    {
     "data": {
      "text/plain": [
       "pandas.core.frame.DataFrame"
      ]
     },
     "execution_count": 84,
     "metadata": {},
     "output_type": "execute_result"
    }
   ],
   "source": [
    "type(df)"
   ]
  },
  {
   "cell_type": "code",
   "execution_count": 87,
   "metadata": {},
   "outputs": [
    {
     "data": {
      "text/plain": [
       "Column1    1\n",
       "Column2    2\n",
       "Column3    3\n",
       "Column4    4\n",
       "Column5    5\n",
       "Name: Row1, dtype: int32"
      ]
     },
     "execution_count": 87,
     "metadata": {},
     "output_type": "execute_result"
    }
   ],
   "source": [
    "# loc , iloc to fetch the item in dataframes\n",
    "df.loc[\"Row1\"]"
   ]
  },
  {
   "cell_type": "code",
   "execution_count": 88,
   "metadata": {},
   "outputs": [
    {
     "data": {
      "text/plain": [
       "pandas.core.series.Series"
      ]
     },
     "execution_count": 88,
     "metadata": {},
     "output_type": "execute_result"
    }
   ],
   "source": [
    "type(df.loc[\"Row1\"])"
   ]
  },
  {
   "cell_type": "code",
   "execution_count": 92,
   "metadata": {},
   "outputs": [
    {
     "ename": "KeyError",
     "evalue": "'Column1'",
     "output_type": "error",
     "traceback": [
      "\u001b[1;31m---------------------------------------------------------------------------\u001b[0m",
      "\u001b[1;31mKeyError\u001b[0m                                  Traceback (most recent call last)",
      "\u001b[1;32m~\\anaconda3\\lib\\site-packages\\pandas\\core\\indexes\\base.py\u001b[0m in \u001b[0;36mget_loc\u001b[1;34m(self, key, method, tolerance)\u001b[0m\n\u001b[0;32m   2645\u001b[0m             \u001b[1;32mtry\u001b[0m\u001b[1;33m:\u001b[0m\u001b[1;33m\u001b[0m\u001b[1;33m\u001b[0m\u001b[0m\n\u001b[1;32m-> 2646\u001b[1;33m                 \u001b[1;32mreturn\u001b[0m \u001b[0mself\u001b[0m\u001b[1;33m.\u001b[0m\u001b[0m_engine\u001b[0m\u001b[1;33m.\u001b[0m\u001b[0mget_loc\u001b[0m\u001b[1;33m(\u001b[0m\u001b[0mkey\u001b[0m\u001b[1;33m)\u001b[0m\u001b[1;33m\u001b[0m\u001b[1;33m\u001b[0m\u001b[0m\n\u001b[0m\u001b[0;32m   2647\u001b[0m             \u001b[1;32mexcept\u001b[0m \u001b[0mKeyError\u001b[0m\u001b[1;33m:\u001b[0m\u001b[1;33m\u001b[0m\u001b[1;33m\u001b[0m\u001b[0m\n",
      "\u001b[1;32mpandas\\_libs\\index.pyx\u001b[0m in \u001b[0;36mpandas._libs.index.IndexEngine.get_loc\u001b[1;34m()\u001b[0m\n",
      "\u001b[1;32mpandas\\_libs\\index.pyx\u001b[0m in \u001b[0;36mpandas._libs.index.IndexEngine.get_loc\u001b[1;34m()\u001b[0m\n",
      "\u001b[1;32mpandas\\_libs\\hashtable_class_helper.pxi\u001b[0m in \u001b[0;36mpandas._libs.hashtable.PyObjectHashTable.get_item\u001b[1;34m()\u001b[0m\n",
      "\u001b[1;32mpandas\\_libs\\hashtable_class_helper.pxi\u001b[0m in \u001b[0;36mpandas._libs.hashtable.PyObjectHashTable.get_item\u001b[1;34m()\u001b[0m\n",
      "\u001b[1;31mKeyError\u001b[0m: 'Column1'",
      "\nDuring handling of the above exception, another exception occurred:\n",
      "\u001b[1;31mKeyError\u001b[0m                                  Traceback (most recent call last)",
      "\u001b[1;32m<ipython-input-92-5060edca9247>\u001b[0m in \u001b[0;36m<module>\u001b[1;34m\u001b[0m\n\u001b[1;32m----> 1\u001b[1;33m \u001b[0mdf\u001b[0m\u001b[1;33m.\u001b[0m\u001b[0mloc\u001b[0m\u001b[1;33m[\u001b[0m\u001b[1;34m\"Column1\"\u001b[0m\u001b[1;33m]\u001b[0m\u001b[1;33m\u001b[0m\u001b[1;33m\u001b[0m\u001b[0m\n\u001b[0m",
      "\u001b[1;32m~\\anaconda3\\lib\\site-packages\\pandas\\core\\indexing.py\u001b[0m in \u001b[0;36m__getitem__\u001b[1;34m(self, key)\u001b[0m\n\u001b[0;32m   1765\u001b[0m \u001b[1;33m\u001b[0m\u001b[0m\n\u001b[0;32m   1766\u001b[0m             \u001b[0mmaybe_callable\u001b[0m \u001b[1;33m=\u001b[0m \u001b[0mcom\u001b[0m\u001b[1;33m.\u001b[0m\u001b[0mapply_if_callable\u001b[0m\u001b[1;33m(\u001b[0m\u001b[0mkey\u001b[0m\u001b[1;33m,\u001b[0m \u001b[0mself\u001b[0m\u001b[1;33m.\u001b[0m\u001b[0mobj\u001b[0m\u001b[1;33m)\u001b[0m\u001b[1;33m\u001b[0m\u001b[1;33m\u001b[0m\u001b[0m\n\u001b[1;32m-> 1767\u001b[1;33m             \u001b[1;32mreturn\u001b[0m \u001b[0mself\u001b[0m\u001b[1;33m.\u001b[0m\u001b[0m_getitem_axis\u001b[0m\u001b[1;33m(\u001b[0m\u001b[0mmaybe_callable\u001b[0m\u001b[1;33m,\u001b[0m \u001b[0maxis\u001b[0m\u001b[1;33m=\u001b[0m\u001b[0maxis\u001b[0m\u001b[1;33m)\u001b[0m\u001b[1;33m\u001b[0m\u001b[1;33m\u001b[0m\u001b[0m\n\u001b[0m\u001b[0;32m   1768\u001b[0m \u001b[1;33m\u001b[0m\u001b[0m\n\u001b[0;32m   1769\u001b[0m     \u001b[1;32mdef\u001b[0m \u001b[0m_is_scalar_access\u001b[0m\u001b[1;33m(\u001b[0m\u001b[0mself\u001b[0m\u001b[1;33m,\u001b[0m \u001b[0mkey\u001b[0m\u001b[1;33m:\u001b[0m \u001b[0mTuple\u001b[0m\u001b[1;33m)\u001b[0m\u001b[1;33m:\u001b[0m\u001b[1;33m\u001b[0m\u001b[1;33m\u001b[0m\u001b[0m\n",
      "\u001b[1;32m~\\anaconda3\\lib\\site-packages\\pandas\\core\\indexing.py\u001b[0m in \u001b[0;36m_getitem_axis\u001b[1;34m(self, key, axis)\u001b[0m\n\u001b[0;32m   1962\u001b[0m         \u001b[1;31m# fall thru to straight lookup\u001b[0m\u001b[1;33m\u001b[0m\u001b[1;33m\u001b[0m\u001b[1;33m\u001b[0m\u001b[0m\n\u001b[0;32m   1963\u001b[0m         \u001b[0mself\u001b[0m\u001b[1;33m.\u001b[0m\u001b[0m_validate_key\u001b[0m\u001b[1;33m(\u001b[0m\u001b[0mkey\u001b[0m\u001b[1;33m,\u001b[0m \u001b[0maxis\u001b[0m\u001b[1;33m)\u001b[0m\u001b[1;33m\u001b[0m\u001b[1;33m\u001b[0m\u001b[0m\n\u001b[1;32m-> 1964\u001b[1;33m         \u001b[1;32mreturn\u001b[0m \u001b[0mself\u001b[0m\u001b[1;33m.\u001b[0m\u001b[0m_get_label\u001b[0m\u001b[1;33m(\u001b[0m\u001b[0mkey\u001b[0m\u001b[1;33m,\u001b[0m \u001b[0maxis\u001b[0m\u001b[1;33m=\u001b[0m\u001b[0maxis\u001b[0m\u001b[1;33m)\u001b[0m\u001b[1;33m\u001b[0m\u001b[1;33m\u001b[0m\u001b[0m\n\u001b[0m\u001b[0;32m   1965\u001b[0m \u001b[1;33m\u001b[0m\u001b[0m\n\u001b[0;32m   1966\u001b[0m \u001b[1;33m\u001b[0m\u001b[0m\n",
      "\u001b[1;32m~\\anaconda3\\lib\\site-packages\\pandas\\core\\indexing.py\u001b[0m in \u001b[0;36m_get_label\u001b[1;34m(self, label, axis)\u001b[0m\n\u001b[0;32m    622\u001b[0m             \u001b[1;32mraise\u001b[0m \u001b[0mIndexingError\u001b[0m\u001b[1;33m(\u001b[0m\u001b[1;34m\"no slices here, handle elsewhere\"\u001b[0m\u001b[1;33m)\u001b[0m\u001b[1;33m\u001b[0m\u001b[1;33m\u001b[0m\u001b[0m\n\u001b[0;32m    623\u001b[0m \u001b[1;33m\u001b[0m\u001b[0m\n\u001b[1;32m--> 624\u001b[1;33m         \u001b[1;32mreturn\u001b[0m \u001b[0mself\u001b[0m\u001b[1;33m.\u001b[0m\u001b[0mobj\u001b[0m\u001b[1;33m.\u001b[0m\u001b[0m_xs\u001b[0m\u001b[1;33m(\u001b[0m\u001b[0mlabel\u001b[0m\u001b[1;33m,\u001b[0m \u001b[0maxis\u001b[0m\u001b[1;33m=\u001b[0m\u001b[0maxis\u001b[0m\u001b[1;33m)\u001b[0m\u001b[1;33m\u001b[0m\u001b[1;33m\u001b[0m\u001b[0m\n\u001b[0m\u001b[0;32m    625\u001b[0m \u001b[1;33m\u001b[0m\u001b[0m\n\u001b[0;32m    626\u001b[0m     \u001b[1;32mdef\u001b[0m \u001b[0m_get_loc\u001b[0m\u001b[1;33m(\u001b[0m\u001b[0mself\u001b[0m\u001b[1;33m,\u001b[0m \u001b[0mkey\u001b[0m\u001b[1;33m:\u001b[0m \u001b[0mint\u001b[0m\u001b[1;33m,\u001b[0m \u001b[0maxis\u001b[0m\u001b[1;33m:\u001b[0m \u001b[0mint\u001b[0m\u001b[1;33m)\u001b[0m\u001b[1;33m:\u001b[0m\u001b[1;33m\u001b[0m\u001b[1;33m\u001b[0m\u001b[0m\n",
      "\u001b[1;32m~\\anaconda3\\lib\\site-packages\\pandas\\core\\generic.py\u001b[0m in \u001b[0;36mxs\u001b[1;34m(self, key, axis, level, drop_level)\u001b[0m\n\u001b[0;32m   3535\u001b[0m             \u001b[0mloc\u001b[0m\u001b[1;33m,\u001b[0m \u001b[0mnew_index\u001b[0m \u001b[1;33m=\u001b[0m \u001b[0mself\u001b[0m\u001b[1;33m.\u001b[0m\u001b[0mindex\u001b[0m\u001b[1;33m.\u001b[0m\u001b[0mget_loc_level\u001b[0m\u001b[1;33m(\u001b[0m\u001b[0mkey\u001b[0m\u001b[1;33m,\u001b[0m \u001b[0mdrop_level\u001b[0m\u001b[1;33m=\u001b[0m\u001b[0mdrop_level\u001b[0m\u001b[1;33m)\u001b[0m\u001b[1;33m\u001b[0m\u001b[1;33m\u001b[0m\u001b[0m\n\u001b[0;32m   3536\u001b[0m         \u001b[1;32melse\u001b[0m\u001b[1;33m:\u001b[0m\u001b[1;33m\u001b[0m\u001b[1;33m\u001b[0m\u001b[0m\n\u001b[1;32m-> 3537\u001b[1;33m             \u001b[0mloc\u001b[0m \u001b[1;33m=\u001b[0m \u001b[0mself\u001b[0m\u001b[1;33m.\u001b[0m\u001b[0mindex\u001b[0m\u001b[1;33m.\u001b[0m\u001b[0mget_loc\u001b[0m\u001b[1;33m(\u001b[0m\u001b[0mkey\u001b[0m\u001b[1;33m)\u001b[0m\u001b[1;33m\u001b[0m\u001b[1;33m\u001b[0m\u001b[0m\n\u001b[0m\u001b[0;32m   3538\u001b[0m \u001b[1;33m\u001b[0m\u001b[0m\n\u001b[0;32m   3539\u001b[0m             \u001b[1;32mif\u001b[0m \u001b[0misinstance\u001b[0m\u001b[1;33m(\u001b[0m\u001b[0mloc\u001b[0m\u001b[1;33m,\u001b[0m \u001b[0mnp\u001b[0m\u001b[1;33m.\u001b[0m\u001b[0mndarray\u001b[0m\u001b[1;33m)\u001b[0m\u001b[1;33m:\u001b[0m\u001b[1;33m\u001b[0m\u001b[1;33m\u001b[0m\u001b[0m\n",
      "\u001b[1;32m~\\anaconda3\\lib\\site-packages\\pandas\\core\\indexes\\base.py\u001b[0m in \u001b[0;36mget_loc\u001b[1;34m(self, key, method, tolerance)\u001b[0m\n\u001b[0;32m   2646\u001b[0m                 \u001b[1;32mreturn\u001b[0m \u001b[0mself\u001b[0m\u001b[1;33m.\u001b[0m\u001b[0m_engine\u001b[0m\u001b[1;33m.\u001b[0m\u001b[0mget_loc\u001b[0m\u001b[1;33m(\u001b[0m\u001b[0mkey\u001b[0m\u001b[1;33m)\u001b[0m\u001b[1;33m\u001b[0m\u001b[1;33m\u001b[0m\u001b[0m\n\u001b[0;32m   2647\u001b[0m             \u001b[1;32mexcept\u001b[0m \u001b[0mKeyError\u001b[0m\u001b[1;33m:\u001b[0m\u001b[1;33m\u001b[0m\u001b[1;33m\u001b[0m\u001b[0m\n\u001b[1;32m-> 2648\u001b[1;33m                 \u001b[1;32mreturn\u001b[0m \u001b[0mself\u001b[0m\u001b[1;33m.\u001b[0m\u001b[0m_engine\u001b[0m\u001b[1;33m.\u001b[0m\u001b[0mget_loc\u001b[0m\u001b[1;33m(\u001b[0m\u001b[0mself\u001b[0m\u001b[1;33m.\u001b[0m\u001b[0m_maybe_cast_indexer\u001b[0m\u001b[1;33m(\u001b[0m\u001b[0mkey\u001b[0m\u001b[1;33m)\u001b[0m\u001b[1;33m)\u001b[0m\u001b[1;33m\u001b[0m\u001b[1;33m\u001b[0m\u001b[0m\n\u001b[0m\u001b[0;32m   2649\u001b[0m         \u001b[0mindexer\u001b[0m \u001b[1;33m=\u001b[0m \u001b[0mself\u001b[0m\u001b[1;33m.\u001b[0m\u001b[0mget_indexer\u001b[0m\u001b[1;33m(\u001b[0m\u001b[1;33m[\u001b[0m\u001b[0mkey\u001b[0m\u001b[1;33m]\u001b[0m\u001b[1;33m,\u001b[0m \u001b[0mmethod\u001b[0m\u001b[1;33m=\u001b[0m\u001b[0mmethod\u001b[0m\u001b[1;33m,\u001b[0m \u001b[0mtolerance\u001b[0m\u001b[1;33m=\u001b[0m\u001b[0mtolerance\u001b[0m\u001b[1;33m)\u001b[0m\u001b[1;33m\u001b[0m\u001b[1;33m\u001b[0m\u001b[0m\n\u001b[0;32m   2650\u001b[0m         \u001b[1;32mif\u001b[0m \u001b[0mindexer\u001b[0m\u001b[1;33m.\u001b[0m\u001b[0mndim\u001b[0m \u001b[1;33m>\u001b[0m \u001b[1;36m1\u001b[0m \u001b[1;32mor\u001b[0m \u001b[0mindexer\u001b[0m\u001b[1;33m.\u001b[0m\u001b[0msize\u001b[0m \u001b[1;33m>\u001b[0m \u001b[1;36m1\u001b[0m\u001b[1;33m:\u001b[0m\u001b[1;33m\u001b[0m\u001b[1;33m\u001b[0m\u001b[0m\n",
      "\u001b[1;32mpandas\\_libs\\index.pyx\u001b[0m in \u001b[0;36mpandas._libs.index.IndexEngine.get_loc\u001b[1;34m()\u001b[0m\n",
      "\u001b[1;32mpandas\\_libs\\index.pyx\u001b[0m in \u001b[0;36mpandas._libs.index.IndexEngine.get_loc\u001b[1;34m()\u001b[0m\n",
      "\u001b[1;32mpandas\\_libs\\hashtable_class_helper.pxi\u001b[0m in \u001b[0;36mpandas._libs.hashtable.PyObjectHashTable.get_item\u001b[1;34m()\u001b[0m\n",
      "\u001b[1;32mpandas\\_libs\\hashtable_class_helper.pxi\u001b[0m in \u001b[0;36mpandas._libs.hashtable.PyObjectHashTable.get_item\u001b[1;34m()\u001b[0m\n",
      "\u001b[1;31mKeyError\u001b[0m: 'Column1'"
     ]
    }
   ],
   "source": [
    "df.loc[\"Column1\"]"
   ]
  },
  {
   "cell_type": "code",
   "execution_count": 93,
   "metadata": {},
   "outputs": [
    {
     "data": {
      "text/html": [
       "<div>\n",
       "<style scoped>\n",
       "    .dataframe tbody tr th:only-of-type {\n",
       "        vertical-align: middle;\n",
       "    }\n",
       "\n",
       "    .dataframe tbody tr th {\n",
       "        vertical-align: top;\n",
       "    }\n",
       "\n",
       "    .dataframe thead th {\n",
       "        text-align: right;\n",
       "    }\n",
       "</style>\n",
       "<table border=\"1\" class=\"dataframe\">\n",
       "  <thead>\n",
       "    <tr style=\"text-align: right;\">\n",
       "      <th></th>\n",
       "      <th>Column1</th>\n",
       "      <th>Column2</th>\n",
       "      <th>Column3</th>\n",
       "      <th>Column4</th>\n",
       "      <th>Column5</th>\n",
       "    </tr>\n",
       "  </thead>\n",
       "  <tbody>\n",
       "    <tr>\n",
       "      <th>Row1</th>\n",
       "      <td>1</td>\n",
       "      <td>2</td>\n",
       "      <td>3</td>\n",
       "      <td>4</td>\n",
       "      <td>5</td>\n",
       "    </tr>\n",
       "    <tr>\n",
       "      <th>Row2</th>\n",
       "      <td>6</td>\n",
       "      <td>7</td>\n",
       "      <td>8</td>\n",
       "      <td>9</td>\n",
       "      <td>10</td>\n",
       "    </tr>\n",
       "    <tr>\n",
       "      <th>Row3</th>\n",
       "      <td>11</td>\n",
       "      <td>12</td>\n",
       "      <td>13</td>\n",
       "      <td>14</td>\n",
       "      <td>15</td>\n",
       "    </tr>\n",
       "    <tr>\n",
       "      <th>Row4</th>\n",
       "      <td>16</td>\n",
       "      <td>17</td>\n",
       "      <td>18</td>\n",
       "      <td>19</td>\n",
       "      <td>20</td>\n",
       "    </tr>\n",
       "  </tbody>\n",
       "</table>\n",
       "</div>"
      ],
      "text/plain": [
       "      Column1  Column2  Column3  Column4  Column5\n",
       "Row1        1        2        3        4        5\n",
       "Row2        6        7        8        9       10\n",
       "Row3       11       12       13       14       15\n",
       "Row4       16       17       18       19       20"
      ]
     },
     "execution_count": 93,
     "metadata": {},
     "output_type": "execute_result"
    }
   ],
   "source": [
    "df.iloc[:]"
   ]
  },
  {
   "cell_type": "code",
   "execution_count": 95,
   "metadata": {},
   "outputs": [
    {
     "data": {
      "text/html": [
       "<div>\n",
       "<style scoped>\n",
       "    .dataframe tbody tr th:only-of-type {\n",
       "        vertical-align: middle;\n",
       "    }\n",
       "\n",
       "    .dataframe tbody tr th {\n",
       "        vertical-align: top;\n",
       "    }\n",
       "\n",
       "    .dataframe thead th {\n",
       "        text-align: right;\n",
       "    }\n",
       "</style>\n",
       "<table border=\"1\" class=\"dataframe\">\n",
       "  <thead>\n",
       "    <tr style=\"text-align: right;\">\n",
       "      <th></th>\n",
       "      <th>Column1</th>\n",
       "      <th>Column2</th>\n",
       "    </tr>\n",
       "  </thead>\n",
       "  <tbody>\n",
       "    <tr>\n",
       "      <th>Row2</th>\n",
       "      <td>6</td>\n",
       "      <td>7</td>\n",
       "    </tr>\n",
       "    <tr>\n",
       "      <th>Row3</th>\n",
       "      <td>11</td>\n",
       "      <td>12</td>\n",
       "    </tr>\n",
       "    <tr>\n",
       "      <th>Row4</th>\n",
       "      <td>16</td>\n",
       "      <td>17</td>\n",
       "    </tr>\n",
       "  </tbody>\n",
       "</table>\n",
       "</div>"
      ],
      "text/plain": [
       "      Column1  Column2\n",
       "Row2        6        7\n",
       "Row3       11       12\n",
       "Row4       16       17"
      ]
     },
     "execution_count": 95,
     "metadata": {},
     "output_type": "execute_result"
    }
   ],
   "source": [
    "df.iloc[1:,:2]"
   ]
  },
  {
   "cell_type": "code",
   "execution_count": 96,
   "metadata": {},
   "outputs": [],
   "source": [
    "df.to_csv(\"Pandasdataframe.csv\") # to store dataframe in excel as csv "
   ]
  },
  {
   "cell_type": "code",
   "execution_count": 99,
   "metadata": {},
   "outputs": [
    {
     "data": {
      "text/plain": [
       "array([[ 3,  4,  5],\n",
       "       [ 8,  9, 10],\n",
       "       [13, 14, 15],\n",
       "       [18, 19, 20]])"
      ]
     },
     "execution_count": 99,
     "metadata": {},
     "output_type": "execute_result"
    }
   ],
   "source": [
    "# convert dataframe into array\n",
    "df.iloc[:,2:].values"
   ]
  },
  {
   "cell_type": "code",
   "execution_count": 103,
   "metadata": {},
   "outputs": [
    {
     "data": {
      "text/plain": [
       "(4, 2)"
      ]
     },
     "execution_count": 103,
     "metadata": {},
     "output_type": "execute_result"
    }
   ],
   "source": [
    "df.iloc[:,3:].values.shape"
   ]
  },
  {
   "cell_type": "code",
   "execution_count": 104,
   "metadata": {},
   "outputs": [
    {
     "data": {
      "text/plain": [
       "(4, 5)"
      ]
     },
     "execution_count": 104,
     "metadata": {},
     "output_type": "execute_result"
    }
   ],
   "source": [
    "df.shape"
   ]
  },
  {
   "cell_type": "code",
   "execution_count": 105,
   "metadata": {},
   "outputs": [
    {
     "data": {
      "text/html": [
       "<div>\n",
       "<style scoped>\n",
       "    .dataframe tbody tr th:only-of-type {\n",
       "        vertical-align: middle;\n",
       "    }\n",
       "\n",
       "    .dataframe tbody tr th {\n",
       "        vertical-align: top;\n",
       "    }\n",
       "\n",
       "    .dataframe thead th {\n",
       "        text-align: right;\n",
       "    }\n",
       "</style>\n",
       "<table border=\"1\" class=\"dataframe\">\n",
       "  <thead>\n",
       "    <tr style=\"text-align: right;\">\n",
       "      <th></th>\n",
       "      <th>Column1</th>\n",
       "      <th>Column2</th>\n",
       "      <th>Column3</th>\n",
       "      <th>Column4</th>\n",
       "      <th>Column5</th>\n",
       "    </tr>\n",
       "  </thead>\n",
       "  <tbody>\n",
       "    <tr>\n",
       "      <th>Row1</th>\n",
       "      <td>1</td>\n",
       "      <td>2</td>\n",
       "      <td>3</td>\n",
       "      <td>4</td>\n",
       "      <td>5</td>\n",
       "    </tr>\n",
       "    <tr>\n",
       "      <th>Row2</th>\n",
       "      <td>6</td>\n",
       "      <td>7</td>\n",
       "      <td>8</td>\n",
       "      <td>9</td>\n",
       "      <td>10</td>\n",
       "    </tr>\n",
       "    <tr>\n",
       "      <th>Row3</th>\n",
       "      <td>11</td>\n",
       "      <td>12</td>\n",
       "      <td>13</td>\n",
       "      <td>14</td>\n",
       "      <td>15</td>\n",
       "    </tr>\n",
       "    <tr>\n",
       "      <th>Row4</th>\n",
       "      <td>16</td>\n",
       "      <td>17</td>\n",
       "      <td>18</td>\n",
       "      <td>19</td>\n",
       "      <td>20</td>\n",
       "    </tr>\n",
       "  </tbody>\n",
       "</table>\n",
       "</div>"
      ],
      "text/plain": [
       "      Column1  Column2  Column3  Column4  Column5\n",
       "Row1        1        2        3        4        5\n",
       "Row2        6        7        8        9       10\n",
       "Row3       11       12       13       14       15\n",
       "Row4       16       17       18       19       20"
      ]
     },
     "execution_count": 105,
     "metadata": {},
     "output_type": "execute_result"
    }
   ],
   "source": [
    "df"
   ]
  },
  {
   "cell_type": "code",
   "execution_count": 106,
   "metadata": {},
   "outputs": [
    {
     "data": {
      "text/html": [
       "<div>\n",
       "<style scoped>\n",
       "    .dataframe tbody tr th:only-of-type {\n",
       "        vertical-align: middle;\n",
       "    }\n",
       "\n",
       "    .dataframe tbody tr th {\n",
       "        vertical-align: top;\n",
       "    }\n",
       "\n",
       "    .dataframe thead th {\n",
       "        text-align: right;\n",
       "    }\n",
       "</style>\n",
       "<table border=\"1\" class=\"dataframe\">\n",
       "  <thead>\n",
       "    <tr style=\"text-align: right;\">\n",
       "      <th></th>\n",
       "      <th>Column1</th>\n",
       "      <th>Column2</th>\n",
       "      <th>Column3</th>\n",
       "      <th>Column4</th>\n",
       "      <th>Column5</th>\n",
       "    </tr>\n",
       "  </thead>\n",
       "  <tbody>\n",
       "    <tr>\n",
       "      <th>Row1</th>\n",
       "      <td>False</td>\n",
       "      <td>False</td>\n",
       "      <td>False</td>\n",
       "      <td>False</td>\n",
       "      <td>False</td>\n",
       "    </tr>\n",
       "    <tr>\n",
       "      <th>Row2</th>\n",
       "      <td>False</td>\n",
       "      <td>False</td>\n",
       "      <td>False</td>\n",
       "      <td>False</td>\n",
       "      <td>False</td>\n",
       "    </tr>\n",
       "    <tr>\n",
       "      <th>Row3</th>\n",
       "      <td>False</td>\n",
       "      <td>False</td>\n",
       "      <td>False</td>\n",
       "      <td>False</td>\n",
       "      <td>False</td>\n",
       "    </tr>\n",
       "    <tr>\n",
       "      <th>Row4</th>\n",
       "      <td>False</td>\n",
       "      <td>False</td>\n",
       "      <td>False</td>\n",
       "      <td>False</td>\n",
       "      <td>False</td>\n",
       "    </tr>\n",
       "  </tbody>\n",
       "</table>\n",
       "</div>"
      ],
      "text/plain": [
       "      Column1  Column2  Column3  Column4  Column5\n",
       "Row1    False    False    False    False    False\n",
       "Row2    False    False    False    False    False\n",
       "Row3    False    False    False    False    False\n",
       "Row4    False    False    False    False    False"
      ]
     },
     "execution_count": 106,
     "metadata": {},
     "output_type": "execute_result"
    }
   ],
   "source": [
    "df.isnull()"
   ]
  },
  {
   "cell_type": "code",
   "execution_count": 108,
   "metadata": {},
   "outputs": [
    {
     "data": {
      "text/plain": [
       "Row1    False\n",
       "Row2    False\n",
       "Row3    False\n",
       "Row4    False\n",
       "Name: Column1, dtype: bool"
      ]
     },
     "execution_count": 108,
     "metadata": {},
     "output_type": "execute_result"
    }
   ],
   "source": [
    "df.Column1.isnull()"
   ]
  },
  {
   "cell_type": "code",
   "execution_count": 109,
   "metadata": {},
   "outputs": [
    {
     "data": {
      "text/plain": [
       "Row1    False\n",
       "Row2    False\n",
       "Row3    False\n",
       "Row4    False\n",
       "Name: Column1, dtype: bool"
      ]
     },
     "execution_count": 109,
     "metadata": {},
     "output_type": "execute_result"
    }
   ],
   "source": [
    "df['Column1'].isnull()"
   ]
  },
  {
   "cell_type": "code",
   "execution_count": 111,
   "metadata": {},
   "outputs": [
    {
     "data": {
      "text/html": [
       "<div>\n",
       "<style scoped>\n",
       "    .dataframe tbody tr th:only-of-type {\n",
       "        vertical-align: middle;\n",
       "    }\n",
       "\n",
       "    .dataframe tbody tr th {\n",
       "        vertical-align: top;\n",
       "    }\n",
       "\n",
       "    .dataframe thead th {\n",
       "        text-align: right;\n",
       "    }\n",
       "</style>\n",
       "<table border=\"1\" class=\"dataframe\">\n",
       "  <thead>\n",
       "    <tr style=\"text-align: right;\">\n",
       "      <th></th>\n",
       "      <th>Column1</th>\n",
       "      <th>Column2</th>\n",
       "      <th>Column3</th>\n",
       "      <th>Column4</th>\n",
       "      <th>Column5</th>\n",
       "    </tr>\n",
       "  </thead>\n",
       "  <tbody>\n",
       "    <tr>\n",
       "      <th>Row1</th>\n",
       "      <td>1</td>\n",
       "      <td>2</td>\n",
       "      <td>3</td>\n",
       "      <td>4</td>\n",
       "      <td>5</td>\n",
       "    </tr>\n",
       "    <tr>\n",
       "      <th>Row2</th>\n",
       "      <td>6</td>\n",
       "      <td>7</td>\n",
       "      <td>8</td>\n",
       "      <td>9</td>\n",
       "      <td>10</td>\n",
       "    </tr>\n",
       "    <tr>\n",
       "      <th>Row3</th>\n",
       "      <td>11</td>\n",
       "      <td>12</td>\n",
       "      <td>13</td>\n",
       "      <td>14</td>\n",
       "      <td>15</td>\n",
       "    </tr>\n",
       "    <tr>\n",
       "      <th>Row4</th>\n",
       "      <td>16</td>\n",
       "      <td>17</td>\n",
       "      <td>18</td>\n",
       "      <td>19</td>\n",
       "      <td>20</td>\n",
       "    </tr>\n",
       "  </tbody>\n",
       "</table>\n",
       "</div>"
      ],
      "text/plain": [
       "      Column1  Column2  Column3  Column4  Column5\n",
       "Row1        1        2        3        4        5\n",
       "Row2        6        7        8        9       10\n",
       "Row3       11       12       13       14       15\n",
       "Row4       16       17       18       19       20"
      ]
     },
     "execution_count": 111,
     "metadata": {},
     "output_type": "execute_result"
    }
   ],
   "source": [
    "df"
   ]
  },
  {
   "cell_type": "code",
   "execution_count": 5,
   "metadata": {},
   "outputs": [
    {
     "data": {
      "text/plain": [
       "6     1\n",
       "11    1\n",
       "1     1\n",
       "16    1\n",
       "Name: Column1, dtype: int64"
      ]
     },
     "execution_count": 5,
     "metadata": {},
     "output_type": "execute_result"
    }
   ],
   "source": [
    "df.Column1.value_counts()"
   ]
  },
  {
   "cell_type": "code",
   "execution_count": 6,
   "metadata": {},
   "outputs": [
    {
     "data": {
      "text/plain": [
       "<bound method Series.unique of 7     1\n",
       "12    1\n",
       "2     1\n",
       "17    1\n",
       "Name: Column2, dtype: int64>"
      ]
     },
     "execution_count": 6,
     "metadata": {},
     "output_type": "execute_result"
    }
   ],
   "source": [
    "df.Column2.value_counts().unique"
   ]
  },
  {
   "cell_type": "code",
   "execution_count": 2,
   "metadata": {},
   "outputs": [],
   "source": [
    "dates=pd.\n",
    "\\('1/1/2021',periods=6)"
   ]
  },
  {
   "cell_type": "code",
   "execution_count": 3,
   "metadata": {},
   "outputs": [
    {
     "data": {
      "text/plain": [
       "DatetimeIndex(['2021-01-01', '2021-01-02', '2021-01-03', '2021-01-04',\n",
       "               '2021-01-05', '2021-01-06'],\n",
       "              dtype='datetime64[ns]', freq='D')"
      ]
     },
     "execution_count": 3,
     "metadata": {},
     "output_type": "execute_result"
    }
   ],
   "source": [
    "dates"
   ]
  },
  {
   "cell_type": "code",
   "execution_count": 10,
   "metadata": {},
   "outputs": [
    {
     "data": {
      "text/plain": [
       "pandas.core.arrays.categorical.Categorical"
      ]
     },
     "execution_count": 10,
     "metadata": {},
     "output_type": "execute_result"
    }
   ],
   "source": [
    "type(pd.Categorical([\n",
    "]))"
   ]
  },
  {
   "cell_type": "code",
   "execution_count": 18,
   "metadata": {},
   "outputs": [
    {
     "data": {
      "application/javascript": [
       "\n",
       "        if (window._pyforest_update_imports_cell) { window._pyforest_update_imports_cell('import numpy as np'); }\n",
       "    "
      ],
      "text/plain": [
       "<IPython.core.display.Javascript object>"
      ]
     },
     "metadata": {},
     "output_type": "display_data"
    }
   ],
   "source": [
    "df = pd.DataFrame(np.random.randn(10, 4))"
   ]
  },
  {
   "cell_type": "code",
   "execution_count": 19,
   "metadata": {},
   "outputs": [
    {
     "data": {
      "text/html": [
       "<div>\n",
       "<style scoped>\n",
       "    .dataframe tbody tr th:only-of-type {\n",
       "        vertical-align: middle;\n",
       "    }\n",
       "\n",
       "    .dataframe tbody tr th {\n",
       "        vertical-align: top;\n",
       "    }\n",
       "\n",
       "    .dataframe thead th {\n",
       "        text-align: right;\n",
       "    }\n",
       "</style>\n",
       "<table border=\"1\" class=\"dataframe\">\n",
       "  <thead>\n",
       "    <tr style=\"text-align: right;\">\n",
       "      <th></th>\n",
       "      <th>0</th>\n",
       "      <th>1</th>\n",
       "      <th>2</th>\n",
       "      <th>3</th>\n",
       "    </tr>\n",
       "  </thead>\n",
       "  <tbody>\n",
       "    <tr>\n",
       "      <th>0</th>\n",
       "      <td>-0.200989</td>\n",
       "      <td>-0.795979</td>\n",
       "      <td>-0.768813</td>\n",
       "      <td>-0.104450</td>\n",
       "    </tr>\n",
       "    <tr>\n",
       "      <th>1</th>\n",
       "      <td>0.377731</td>\n",
       "      <td>-0.349536</td>\n",
       "      <td>0.432106</td>\n",
       "      <td>0.550229</td>\n",
       "    </tr>\n",
       "    <tr>\n",
       "      <th>2</th>\n",
       "      <td>0.299129</td>\n",
       "      <td>0.079432</td>\n",
       "      <td>-0.654254</td>\n",
       "      <td>0.507318</td>\n",
       "    </tr>\n",
       "    <tr>\n",
       "      <th>3</th>\n",
       "      <td>1.168665</td>\n",
       "      <td>0.765799</td>\n",
       "      <td>-0.573318</td>\n",
       "      <td>0.531632</td>\n",
       "    </tr>\n",
       "    <tr>\n",
       "      <th>4</th>\n",
       "      <td>0.734098</td>\n",
       "      <td>1.112139</td>\n",
       "      <td>-1.080015</td>\n",
       "      <td>0.789264</td>\n",
       "    </tr>\n",
       "    <tr>\n",
       "      <th>5</th>\n",
       "      <td>0.087424</td>\n",
       "      <td>0.157942</td>\n",
       "      <td>0.747442</td>\n",
       "      <td>1.350713</td>\n",
       "    </tr>\n",
       "    <tr>\n",
       "      <th>6</th>\n",
       "      <td>-1.606531</td>\n",
       "      <td>1.078618</td>\n",
       "      <td>0.500881</td>\n",
       "      <td>-1.134666</td>\n",
       "    </tr>\n",
       "    <tr>\n",
       "      <th>7</th>\n",
       "      <td>1.361329</td>\n",
       "      <td>-0.034553</td>\n",
       "      <td>-1.369619</td>\n",
       "      <td>-0.654345</td>\n",
       "    </tr>\n",
       "    <tr>\n",
       "      <th>8</th>\n",
       "      <td>-0.496670</td>\n",
       "      <td>-1.028042</td>\n",
       "      <td>-0.823820</td>\n",
       "      <td>-1.054440</td>\n",
       "    </tr>\n",
       "    <tr>\n",
       "      <th>9</th>\n",
       "      <td>1.172875</td>\n",
       "      <td>-1.365828</td>\n",
       "      <td>-1.729677</td>\n",
       "      <td>-0.583154</td>\n",
       "    </tr>\n",
       "  </tbody>\n",
       "</table>\n",
       "</div>"
      ],
      "text/plain": [
       "          0         1         2         3\n",
       "0 -0.200989 -0.795979 -0.768813 -0.104450\n",
       "1  0.377731 -0.349536  0.432106  0.550229\n",
       "2  0.299129  0.079432 -0.654254  0.507318\n",
       "3  1.168665  0.765799 -0.573318  0.531632\n",
       "4  0.734098  1.112139 -1.080015  0.789264\n",
       "5  0.087424  0.157942  0.747442  1.350713\n",
       "6 -1.606531  1.078618  0.500881 -1.134666\n",
       "7  1.361329 -0.034553 -1.369619 -0.654345\n",
       "8 -0.496670 -1.028042 -0.823820 -1.054440\n",
       "9  1.172875 -1.365828 -1.729677 -0.583154"
      ]
     },
     "execution_count": 19,
     "metadata": {},
     "output_type": "execute_result"
    }
   ],
   "source": [
    "df"
   ]
  },
  {
   "cell_type": "code",
   "execution_count": 20,
   "metadata": {},
   "outputs": [],
   "source": [
    "pieces =[df[:3],df[1:5]]"
   ]
  },
  {
   "cell_type": "code",
   "execution_count": 21,
   "metadata": {},
   "outputs": [
    {
     "data": {
      "text/plain": [
       "[          0         1         2         3\n",
       " 0 -0.200989 -0.795979 -0.768813 -0.104450\n",
       " 1  0.377731 -0.349536  0.432106  0.550229\n",
       " 2  0.299129  0.079432 -0.654254  0.507318,\n",
       "           0         1         2         3\n",
       " 1  0.377731 -0.349536  0.432106  0.550229\n",
       " 2  0.299129  0.079432 -0.654254  0.507318\n",
       " 3  1.168665  0.765799 -0.573318  0.531632\n",
       " 4  0.734098  1.112139 -1.080015  0.789264]"
      ]
     },
     "execution_count": 21,
     "metadata": {},
     "output_type": "execute_result"
    }
   ],
   "source": [
    "pieces"
   ]
  },
  {
   "cell_type": "code",
   "execution_count": 22,
   "metadata": {},
   "outputs": [
    {
     "data": {
      "text/html": [
       "<div>\n",
       "<style scoped>\n",
       "    .dataframe tbody tr th:only-of-type {\n",
       "        vertical-align: middle;\n",
       "    }\n",
       "\n",
       "    .dataframe tbody tr th {\n",
       "        vertical-align: top;\n",
       "    }\n",
       "\n",
       "    .dataframe thead th {\n",
       "        text-align: right;\n",
       "    }\n",
       "</style>\n",
       "<table border=\"1\" class=\"dataframe\">\n",
       "  <thead>\n",
       "    <tr style=\"text-align: right;\">\n",
       "      <th></th>\n",
       "      <th>0</th>\n",
       "      <th>1</th>\n",
       "      <th>2</th>\n",
       "      <th>3</th>\n",
       "    </tr>\n",
       "  </thead>\n",
       "  <tbody>\n",
       "    <tr>\n",
       "      <th>0</th>\n",
       "      <td>-0.200989</td>\n",
       "      <td>-0.795979</td>\n",
       "      <td>-0.768813</td>\n",
       "      <td>-0.104450</td>\n",
       "    </tr>\n",
       "    <tr>\n",
       "      <th>1</th>\n",
       "      <td>0.377731</td>\n",
       "      <td>-0.349536</td>\n",
       "      <td>0.432106</td>\n",
       "      <td>0.550229</td>\n",
       "    </tr>\n",
       "    <tr>\n",
       "      <th>2</th>\n",
       "      <td>0.299129</td>\n",
       "      <td>0.079432</td>\n",
       "      <td>-0.654254</td>\n",
       "      <td>0.507318</td>\n",
       "    </tr>\n",
       "    <tr>\n",
       "      <th>1</th>\n",
       "      <td>0.377731</td>\n",
       "      <td>-0.349536</td>\n",
       "      <td>0.432106</td>\n",
       "      <td>0.550229</td>\n",
       "    </tr>\n",
       "    <tr>\n",
       "      <th>2</th>\n",
       "      <td>0.299129</td>\n",
       "      <td>0.079432</td>\n",
       "      <td>-0.654254</td>\n",
       "      <td>0.507318</td>\n",
       "    </tr>\n",
       "    <tr>\n",
       "      <th>3</th>\n",
       "      <td>1.168665</td>\n",
       "      <td>0.765799</td>\n",
       "      <td>-0.573318</td>\n",
       "      <td>0.531632</td>\n",
       "    </tr>\n",
       "    <tr>\n",
       "      <th>4</th>\n",
       "      <td>0.734098</td>\n",
       "      <td>1.112139</td>\n",
       "      <td>-1.080015</td>\n",
       "      <td>0.789264</td>\n",
       "    </tr>\n",
       "  </tbody>\n",
       "</table>\n",
       "</div>"
      ],
      "text/plain": [
       "          0         1         2         3\n",
       "0 -0.200989 -0.795979 -0.768813 -0.104450\n",
       "1  0.377731 -0.349536  0.432106  0.550229\n",
       "2  0.299129  0.079432 -0.654254  0.507318\n",
       "1  0.377731 -0.349536  0.432106  0.550229\n",
       "2  0.299129  0.079432 -0.654254  0.507318\n",
       "3  1.168665  0.765799 -0.573318  0.531632\n",
       "4  0.734098  1.112139 -1.080015  0.789264"
      ]
     },
     "execution_count": 22,
     "metadata": {},
     "output_type": "execute_result"
    }
   ],
   "source": [
    "pd.concat(pieces)"
   ]
  },
  {
   "cell_type": "markdown",
   "metadata": {},
   "source": [
    "# CSV"
   ]
  },
  {
   "cell_type": "code",
   "execution_count": null,
   "metadata": {},
   "outputs": [],
   "source": []
  },
  {
   "cell_type": "code",
   "execution_count": 11,
   "metadata": {},
   "outputs": [],
   "source": [
    "from io import StringIO,BytesIO"
   ]
  },
  {
   "cell_type": "code",
   "execution_count": 12,
   "metadata": {},
   "outputs": [],
   "source": [
    "data =('a,b,c\\n'\n",
    "      '1,2,3\\n'\n",
    "      '4,5,6\\n'\n",
    "      'x,y,z\\n')   \n",
    "        "
   ]
  },
  {
   "cell_type": "code",
   "execution_count": 13,
   "metadata": {},
   "outputs": [
    {
     "data": {
      "text/plain": [
       "'a,b,c\\n1,2,3\\n4,5,6\\nx,y,z\\n'"
      ]
     },
     "execution_count": 13,
     "metadata": {},
     "output_type": "execute_result"
    }
   ],
   "source": [
    "data"
   ]
  },
  {
   "cell_type": "code",
   "execution_count": 42,
   "metadata": {},
   "outputs": [
    {
     "data": {
      "text/plain": [
       "str"
      ]
     },
     "execution_count": 42,
     "metadata": {},
     "output_type": "execute_result"
    }
   ],
   "source": [
    "type(data)"
   ]
  },
  {
   "cell_type": "code",
   "execution_count": null,
   "metadata": {},
   "outputs": [],
   "source": [
    "StringIO()"
   ]
  },
  {
   "cell_type": "code",
   "execution_count": 14,
   "metadata": {},
   "outputs": [],
   "source": [
    "df=pd.read_csv(StringIO(data))"
   ]
  },
  {
   "cell_type": "code",
   "execution_count": 15,
   "metadata": {},
   "outputs": [
    {
     "data": {
      "text/html": [
       "<div>\n",
       "<style scoped>\n",
       "    .dataframe tbody tr th:only-of-type {\n",
       "        vertical-align: middle;\n",
       "    }\n",
       "\n",
       "    .dataframe tbody tr th {\n",
       "        vertical-align: top;\n",
       "    }\n",
       "\n",
       "    .dataframe thead th {\n",
       "        text-align: right;\n",
       "    }\n",
       "</style>\n",
       "<table border=\"1\" class=\"dataframe\">\n",
       "  <thead>\n",
       "    <tr style=\"text-align: right;\">\n",
       "      <th></th>\n",
       "      <th>a</th>\n",
       "      <th>b</th>\n",
       "      <th>c</th>\n",
       "    </tr>\n",
       "  </thead>\n",
       "  <tbody>\n",
       "    <tr>\n",
       "      <th>0</th>\n",
       "      <td>1</td>\n",
       "      <td>2</td>\n",
       "      <td>3</td>\n",
       "    </tr>\n",
       "    <tr>\n",
       "      <th>1</th>\n",
       "      <td>4</td>\n",
       "      <td>5</td>\n",
       "      <td>6</td>\n",
       "    </tr>\n",
       "    <tr>\n",
       "      <th>2</th>\n",
       "      <td>x</td>\n",
       "      <td>y</td>\n",
       "      <td>z</td>\n",
       "    </tr>\n",
       "  </tbody>\n",
       "</table>\n",
       "</div>"
      ],
      "text/plain": [
       "   a  b  c\n",
       "0  1  2  3\n",
       "1  4  5  6\n",
       "2  x  y  z"
      ]
     },
     "execution_count": 15,
     "metadata": {},
     "output_type": "execute_result"
    }
   ],
   "source": [
    "df"
   ]
  },
  {
   "cell_type": "code",
   "execution_count": 45,
   "metadata": {},
   "outputs": [
    {
     "name": "stdout",
     "output_type": "stream",
     "text": [
      "<class 'pandas.core.frame.DataFrame'>\n",
      "RangeIndex: 3 entries, 0 to 2\n",
      "Data columns (total 3 columns):\n",
      " #   Column  Non-Null Count  Dtype \n",
      "---  ------  --------------  ----- \n",
      " 0   a       3 non-null      object\n",
      " 1   b       3 non-null      object\n",
      " 2   c       3 non-null      object\n",
      "dtypes: object(3)\n",
      "memory usage: 200.0+ bytes\n"
     ]
    }
   ],
   "source": [
    "df.info()"
   ]
  },
  {
   "cell_type": "code",
   "execution_count": 46,
   "metadata": {},
   "outputs": [
    {
     "data": {
      "text/html": [
       "<div>\n",
       "<style scoped>\n",
       "    .dataframe tbody tr th:only-of-type {\n",
       "        vertical-align: middle;\n",
       "    }\n",
       "\n",
       "    .dataframe tbody tr th {\n",
       "        vertical-align: top;\n",
       "    }\n",
       "\n",
       "    .dataframe thead th {\n",
       "        text-align: right;\n",
       "    }\n",
       "</style>\n",
       "<table border=\"1\" class=\"dataframe\">\n",
       "  <thead>\n",
       "    <tr style=\"text-align: right;\">\n",
       "      <th></th>\n",
       "      <th>a</th>\n",
       "      <th>b</th>\n",
       "      <th>c</th>\n",
       "    </tr>\n",
       "  </thead>\n",
       "  <tbody>\n",
       "    <tr>\n",
       "      <th>count</th>\n",
       "      <td>3</td>\n",
       "      <td>3</td>\n",
       "      <td>3</td>\n",
       "    </tr>\n",
       "    <tr>\n",
       "      <th>unique</th>\n",
       "      <td>3</td>\n",
       "      <td>3</td>\n",
       "      <td>3</td>\n",
       "    </tr>\n",
       "    <tr>\n",
       "      <th>top</th>\n",
       "      <td>1</td>\n",
       "      <td>y</td>\n",
       "      <td>z</td>\n",
       "    </tr>\n",
       "    <tr>\n",
       "      <th>freq</th>\n",
       "      <td>1</td>\n",
       "      <td>1</td>\n",
       "      <td>1</td>\n",
       "    </tr>\n",
       "  </tbody>\n",
       "</table>\n",
       "</div>"
      ],
      "text/plain": [
       "        a  b  c\n",
       "count   3  3  3\n",
       "unique  3  3  3\n",
       "top     1  y  z\n",
       "freq    1  1  1"
      ]
     },
     "execution_count": 46,
     "metadata": {},
     "output_type": "execute_result"
    }
   ],
   "source": [
    "df.describe()"
   ]
  },
  {
   "cell_type": "code",
   "execution_count": 47,
   "metadata": {},
   "outputs": [
    {
     "data": {
      "text/html": [
       "<div>\n",
       "<style scoped>\n",
       "    .dataframe tbody tr th:only-of-type {\n",
       "        vertical-align: middle;\n",
       "    }\n",
       "\n",
       "    .dataframe tbody tr th {\n",
       "        vertical-align: top;\n",
       "    }\n",
       "\n",
       "    .dataframe thead th {\n",
       "        text-align: right;\n",
       "    }\n",
       "</style>\n",
       "<table border=\"1\" class=\"dataframe\">\n",
       "  <thead>\n",
       "    <tr style=\"text-align: right;\">\n",
       "      <th></th>\n",
       "      <th>a</th>\n",
       "      <th>c</th>\n",
       "    </tr>\n",
       "  </thead>\n",
       "  <tbody>\n",
       "    <tr>\n",
       "      <th>0</th>\n",
       "      <td>1</td>\n",
       "      <td>3</td>\n",
       "    </tr>\n",
       "    <tr>\n",
       "      <th>1</th>\n",
       "      <td>4</td>\n",
       "      <td>6</td>\n",
       "    </tr>\n",
       "    <tr>\n",
       "      <th>2</th>\n",
       "      <td>x</td>\n",
       "      <td>z</td>\n",
       "    </tr>\n",
       "  </tbody>\n",
       "</table>\n",
       "</div>"
      ],
      "text/plain": [
       "   a  c\n",
       "0  1  3\n",
       "1  4  6\n",
       "2  x  z"
      ]
     },
     "execution_count": 47,
     "metadata": {},
     "output_type": "execute_result"
    }
   ],
   "source": [
    "pd.read_csv(StringIO(data),usecols=['a','c'])"
   ]
  },
  {
   "cell_type": "code",
   "execution_count": 48,
   "metadata": {},
   "outputs": [],
   "source": [
    "df=pd.read_csv(StringIO(data),dtype=object)"
   ]
  },
  {
   "cell_type": "code",
   "execution_count": 49,
   "metadata": {},
   "outputs": [
    {
     "data": {
      "text/html": [
       "<div>\n",
       "<style scoped>\n",
       "    .dataframe tbody tr th:only-of-type {\n",
       "        vertical-align: middle;\n",
       "    }\n",
       "\n",
       "    .dataframe tbody tr th {\n",
       "        vertical-align: top;\n",
       "    }\n",
       "\n",
       "    .dataframe thead th {\n",
       "        text-align: right;\n",
       "    }\n",
       "</style>\n",
       "<table border=\"1\" class=\"dataframe\">\n",
       "  <thead>\n",
       "    <tr style=\"text-align: right;\">\n",
       "      <th></th>\n",
       "      <th>a</th>\n",
       "      <th>b</th>\n",
       "      <th>c</th>\n",
       "    </tr>\n",
       "  </thead>\n",
       "  <tbody>\n",
       "    <tr>\n",
       "      <th>0</th>\n",
       "      <td>1</td>\n",
       "      <td>2</td>\n",
       "      <td>3</td>\n",
       "    </tr>\n",
       "    <tr>\n",
       "      <th>1</th>\n",
       "      <td>4</td>\n",
       "      <td>5</td>\n",
       "      <td>6</td>\n",
       "    </tr>\n",
       "    <tr>\n",
       "      <th>2</th>\n",
       "      <td>x</td>\n",
       "      <td>y</td>\n",
       "      <td>z</td>\n",
       "    </tr>\n",
       "  </tbody>\n",
       "</table>\n",
       "</div>"
      ],
      "text/plain": [
       "   a  b  c\n",
       "0  1  2  3\n",
       "1  4  5  6\n",
       "2  x  y  z"
      ]
     },
     "execution_count": 49,
     "metadata": {},
     "output_type": "execute_result"
    }
   ],
   "source": [
    "df"
   ]
  },
  {
   "cell_type": "code",
   "execution_count": 51,
   "metadata": {},
   "outputs": [
    {
     "data": {
      "text/plain": [
       "0    1\n",
       "1    4\n",
       "2    x\n",
       "Name: a, dtype: object"
      ]
     },
     "execution_count": 51,
     "metadata": {},
     "output_type": "execute_result"
    }
   ],
   "source": [
    "df['a']"
   ]
  },
  {
   "cell_type": "code",
   "execution_count": 52,
   "metadata": {},
   "outputs": [
    {
     "data": {
      "text/plain": [
       "'1'"
      ]
     },
     "execution_count": 52,
     "metadata": {},
     "output_type": "execute_result"
    }
   ],
   "source": [
    "df['a'][0]"
   ]
  },
  {
   "cell_type": "code",
   "execution_count": 61,
   "metadata": {},
   "outputs": [],
   "source": [
    "data1=('col1,col2,col3,col4\\n'\n",
    "      '10,20,30,40\\n'\n",
    "      '50,60,70,80\\n'\n",
    "      '90,100,110,120\\n')"
   ]
  },
  {
   "cell_type": "code",
   "execution_count": 64,
   "metadata": {},
   "outputs": [
    {
     "data": {
      "text/plain": [
       "'col1,col2,col3,col4\\n10,20,30,40\\n50,60,70,80\\n90,100,110,120\\n'"
      ]
     },
     "execution_count": 64,
     "metadata": {},
     "output_type": "execute_result"
    }
   ],
   "source": [
    "data1"
   ]
  },
  {
   "cell_type": "code",
   "execution_count": 62,
   "metadata": {},
   "outputs": [],
   "source": [
    "df1=pd.read_csv(StringIO(data1),dtype=float)"
   ]
  },
  {
   "cell_type": "code",
   "execution_count": 63,
   "metadata": {},
   "outputs": [
    {
     "data": {
      "text/html": [
       "<div>\n",
       "<style scoped>\n",
       "    .dataframe tbody tr th:only-of-type {\n",
       "        vertical-align: middle;\n",
       "    }\n",
       "\n",
       "    .dataframe tbody tr th {\n",
       "        vertical-align: top;\n",
       "    }\n",
       "\n",
       "    .dataframe thead th {\n",
       "        text-align: right;\n",
       "    }\n",
       "</style>\n",
       "<table border=\"1\" class=\"dataframe\">\n",
       "  <thead>\n",
       "    <tr style=\"text-align: right;\">\n",
       "      <th></th>\n",
       "      <th>col1</th>\n",
       "      <th>col2</th>\n",
       "      <th>col3</th>\n",
       "      <th>col4</th>\n",
       "    </tr>\n",
       "  </thead>\n",
       "  <tbody>\n",
       "    <tr>\n",
       "      <th>0</th>\n",
       "      <td>10.0</td>\n",
       "      <td>20.0</td>\n",
       "      <td>30.0</td>\n",
       "      <td>40.0</td>\n",
       "    </tr>\n",
       "    <tr>\n",
       "      <th>1</th>\n",
       "      <td>50.0</td>\n",
       "      <td>60.0</td>\n",
       "      <td>70.0</td>\n",
       "      <td>80.0</td>\n",
       "    </tr>\n",
       "    <tr>\n",
       "      <th>2</th>\n",
       "      <td>90.0</td>\n",
       "      <td>100.0</td>\n",
       "      <td>110.0</td>\n",
       "      <td>120.0</td>\n",
       "    </tr>\n",
       "  </tbody>\n",
       "</table>\n",
       "</div>"
      ],
      "text/plain": [
       "   col1   col2   col3   col4\n",
       "0  10.0   20.0   30.0   40.0\n",
       "1  50.0   60.0   70.0   80.0\n",
       "2  90.0  100.0  110.0  120.0"
      ]
     },
     "execution_count": 63,
     "metadata": {},
     "output_type": "execute_result"
    }
   ],
   "source": [
    "df1"
   ]
  },
  {
   "cell_type": "code",
   "execution_count": 82,
   "metadata": {},
   "outputs": [],
   "source": [
    "df1=pd.read_csv(StringIO(data1),dtype=int)"
   ]
  },
  {
   "cell_type": "code",
   "execution_count": 67,
   "metadata": {},
   "outputs": [
    {
     "data": {
      "text/plain": [
       "0    10.0\n",
       "1    50.0\n",
       "2    90.0\n",
       "Name: col1, dtype: float64"
      ]
     },
     "execution_count": 67,
     "metadata": {},
     "output_type": "execute_result"
    }
   ],
   "source": [
    "df1['col1']"
   ]
  },
  {
   "cell_type": "code",
   "execution_count": 71,
   "metadata": {},
   "outputs": [],
   "source": [
    "df2=pd.read_csv(StringIO(data1),dtype={'col1':int,'col2':float,'col3':'int64','col4':str})"
   ]
  },
  {
   "cell_type": "code",
   "execution_count": 72,
   "metadata": {},
   "outputs": [
    {
     "data": {
      "text/html": [
       "<div>\n",
       "<style scoped>\n",
       "    .dataframe tbody tr th:only-of-type {\n",
       "        vertical-align: middle;\n",
       "    }\n",
       "\n",
       "    .dataframe tbody tr th {\n",
       "        vertical-align: top;\n",
       "    }\n",
       "\n",
       "    .dataframe thead th {\n",
       "        text-align: right;\n",
       "    }\n",
       "</style>\n",
       "<table border=\"1\" class=\"dataframe\">\n",
       "  <thead>\n",
       "    <tr style=\"text-align: right;\">\n",
       "      <th></th>\n",
       "      <th>col1</th>\n",
       "      <th>col2</th>\n",
       "      <th>col3</th>\n",
       "      <th>col4</th>\n",
       "    </tr>\n",
       "  </thead>\n",
       "  <tbody>\n",
       "    <tr>\n",
       "      <th>0</th>\n",
       "      <td>10</td>\n",
       "      <td>20.0</td>\n",
       "      <td>30</td>\n",
       "      <td>40</td>\n",
       "    </tr>\n",
       "    <tr>\n",
       "      <th>1</th>\n",
       "      <td>50</td>\n",
       "      <td>60.0</td>\n",
       "      <td>70</td>\n",
       "      <td>80</td>\n",
       "    </tr>\n",
       "    <tr>\n",
       "      <th>2</th>\n",
       "      <td>90</td>\n",
       "      <td>100.0</td>\n",
       "      <td>110</td>\n",
       "      <td>120</td>\n",
       "    </tr>\n",
       "  </tbody>\n",
       "</table>\n",
       "</div>"
      ],
      "text/plain": [
       "   col1   col2  col3 col4\n",
       "0    10   20.0    30   40\n",
       "1    50   60.0    70   80\n",
       "2    90  100.0   110  120"
      ]
     },
     "execution_count": 72,
     "metadata": {},
     "output_type": "execute_result"
    }
   ],
   "source": [
    "df2"
   ]
  },
  {
   "cell_type": "code",
   "execution_count": 73,
   "metadata": {},
   "outputs": [
    {
     "data": {
      "text/plain": [
       "0     20.0\n",
       "1     60.0\n",
       "2    100.0\n",
       "Name: col2, dtype: float64"
      ]
     },
     "execution_count": 73,
     "metadata": {},
     "output_type": "execute_result"
    }
   ],
   "source": [
    "df2['col2']"
   ]
  },
  {
   "cell_type": "code",
   "execution_count": 74,
   "metadata": {},
   "outputs": [
    {
     "data": {
      "text/plain": [
       "0    10\n",
       "1    50\n",
       "2    90\n",
       "Name: col1, dtype: int32"
      ]
     },
     "execution_count": 74,
     "metadata": {},
     "output_type": "execute_result"
    }
   ],
   "source": [
    "df2['col1']"
   ]
  },
  {
   "cell_type": "code",
   "execution_count": 75,
   "metadata": {},
   "outputs": [
    {
     "data": {
      "text/plain": [
       "0     30\n",
       "1     70\n",
       "2    110\n",
       "Name: col3, dtype: int64"
      ]
     },
     "execution_count": 75,
     "metadata": {},
     "output_type": "execute_result"
    }
   ],
   "source": [
    "df2['col3']"
   ]
  },
  {
   "cell_type": "code",
   "execution_count": 76,
   "metadata": {},
   "outputs": [
    {
     "data": {
      "text/plain": [
       "0     40\n",
       "1     80\n",
       "2    120\n",
       "Name: col4, dtype: object"
      ]
     },
     "execution_count": 76,
     "metadata": {},
     "output_type": "execute_result"
    }
   ],
   "source": [
    "df2['col4']"
   ]
  },
  {
   "cell_type": "code",
   "execution_count": 79,
   "metadata": {},
   "outputs": [
    {
     "data": {
      "text/plain": [
       "col1      int32\n",
       "col2    float64\n",
       "col3      int64\n",
       "col4     object\n",
       "dtype: object"
      ]
     },
     "execution_count": 79,
     "metadata": {},
     "output_type": "execute_result"
    }
   ],
   "source": [
    "df2.dtypes"
   ]
  },
  {
   "cell_type": "code",
   "execution_count": 83,
   "metadata": {},
   "outputs": [
    {
     "data": {
      "text/html": [
       "<div>\n",
       "<style scoped>\n",
       "    .dataframe tbody tr th:only-of-type {\n",
       "        vertical-align: middle;\n",
       "    }\n",
       "\n",
       "    .dataframe tbody tr th {\n",
       "        vertical-align: top;\n",
       "    }\n",
       "\n",
       "    .dataframe thead th {\n",
       "        text-align: right;\n",
       "    }\n",
       "</style>\n",
       "<table border=\"1\" class=\"dataframe\">\n",
       "  <thead>\n",
       "    <tr style=\"text-align: right;\">\n",
       "      <th></th>\n",
       "      <th>col1</th>\n",
       "      <th>col2</th>\n",
       "      <th>col3</th>\n",
       "      <th>col4</th>\n",
       "    </tr>\n",
       "  </thead>\n",
       "  <tbody>\n",
       "    <tr>\n",
       "      <th>0</th>\n",
       "      <td>10</td>\n",
       "      <td>20</td>\n",
       "      <td>30</td>\n",
       "      <td>40</td>\n",
       "    </tr>\n",
       "    <tr>\n",
       "      <th>1</th>\n",
       "      <td>50</td>\n",
       "      <td>60</td>\n",
       "      <td>70</td>\n",
       "      <td>80</td>\n",
       "    </tr>\n",
       "    <tr>\n",
       "      <th>2</th>\n",
       "      <td>90</td>\n",
       "      <td>100</td>\n",
       "      <td>110</td>\n",
       "      <td>120</td>\n",
       "    </tr>\n",
       "  </tbody>\n",
       "</table>\n",
       "</div>"
      ],
      "text/plain": [
       "   col1  col2  col3  col4\n",
       "0    10    20    30    40\n",
       "1    50    60    70    80\n",
       "2    90   100   110   120"
      ]
     },
     "execution_count": 83,
     "metadata": {},
     "output_type": "execute_result"
    }
   ],
   "source": [
    "df1"
   ]
  },
  {
   "cell_type": "code",
   "execution_count": 84,
   "metadata": {},
   "outputs": [
    {
     "data": {
      "text/plain": [
       "'a,b,c\\n1,2,3\\n4,5,6\\nx,y,z\\n'"
      ]
     },
     "execution_count": 84,
     "metadata": {},
     "output_type": "execute_result"
    }
   ],
   "source": [
    "data"
   ]
  },
  {
   "cell_type": "code",
   "execution_count": 85,
   "metadata": {},
   "outputs": [
    {
     "data": {
      "text/plain": [
       "'col1,col2,col3,col4\\n10,20,30,40\\n50,60,70,80\\n90,100,110,120\\n'"
      ]
     },
     "execution_count": 85,
     "metadata": {},
     "output_type": "execute_result"
    }
   ],
   "source": [
    "data1"
   ]
  },
  {
   "cell_type": "code",
   "execution_count": 86,
   "metadata": {},
   "outputs": [
    {
     "data": {
      "text/html": [
       "<div>\n",
       "<style scoped>\n",
       "    .dataframe tbody tr th:only-of-type {\n",
       "        vertical-align: middle;\n",
       "    }\n",
       "\n",
       "    .dataframe tbody tr th {\n",
       "        vertical-align: top;\n",
       "    }\n",
       "\n",
       "    .dataframe thead th {\n",
       "        text-align: right;\n",
       "    }\n",
       "</style>\n",
       "<table border=\"1\" class=\"dataframe\">\n",
       "  <thead>\n",
       "    <tr style=\"text-align: right;\">\n",
       "      <th></th>\n",
       "      <th>col1</th>\n",
       "      <th>col3</th>\n",
       "      <th>col4</th>\n",
       "    </tr>\n",
       "    <tr>\n",
       "      <th>col2</th>\n",
       "      <th></th>\n",
       "      <th></th>\n",
       "      <th></th>\n",
       "    </tr>\n",
       "  </thead>\n",
       "  <tbody>\n",
       "    <tr>\n",
       "      <th>20</th>\n",
       "      <td>10</td>\n",
       "      <td>30</td>\n",
       "      <td>40</td>\n",
       "    </tr>\n",
       "    <tr>\n",
       "      <th>60</th>\n",
       "      <td>50</td>\n",
       "      <td>70</td>\n",
       "      <td>80</td>\n",
       "    </tr>\n",
       "    <tr>\n",
       "      <th>100</th>\n",
       "      <td>90</td>\n",
       "      <td>110</td>\n",
       "      <td>120</td>\n",
       "    </tr>\n",
       "  </tbody>\n",
       "</table>\n",
       "</div>"
      ],
      "text/plain": [
       "      col1  col3  col4\n",
       "col2                  \n",
       "20      10    30    40\n",
       "60      50    70    80\n",
       "100     90   110   120"
      ]
     },
     "execution_count": 86,
     "metadata": {},
     "output_type": "execute_result"
    }
   ],
   "source": [
    "pd.read_csv(StringIO(data1),index_col='col2')"
   ]
  },
  {
   "cell_type": "code",
   "execution_count": 87,
   "metadata": {},
   "outputs": [
    {
     "data": {
      "text/html": [
       "<div>\n",
       "<style scoped>\n",
       "    .dataframe tbody tr th:only-of-type {\n",
       "        vertical-align: middle;\n",
       "    }\n",
       "\n",
       "    .dataframe tbody tr th {\n",
       "        vertical-align: top;\n",
       "    }\n",
       "\n",
       "    .dataframe thead th {\n",
       "        text-align: right;\n",
       "    }\n",
       "</style>\n",
       "<table border=\"1\" class=\"dataframe\">\n",
       "  <thead>\n",
       "    <tr style=\"text-align: right;\">\n",
       "      <th></th>\n",
       "      <th>col1</th>\n",
       "      <th>col2</th>\n",
       "      <th>col3</th>\n",
       "    </tr>\n",
       "    <tr>\n",
       "      <th>col4</th>\n",
       "      <th></th>\n",
       "      <th></th>\n",
       "      <th></th>\n",
       "    </tr>\n",
       "  </thead>\n",
       "  <tbody>\n",
       "    <tr>\n",
       "      <th>40</th>\n",
       "      <td>10</td>\n",
       "      <td>20</td>\n",
       "      <td>30</td>\n",
       "    </tr>\n",
       "    <tr>\n",
       "      <th>80</th>\n",
       "      <td>50</td>\n",
       "      <td>60</td>\n",
       "      <td>70</td>\n",
       "    </tr>\n",
       "    <tr>\n",
       "      <th>120</th>\n",
       "      <td>90</td>\n",
       "      <td>100</td>\n",
       "      <td>110</td>\n",
       "    </tr>\n",
       "  </tbody>\n",
       "</table>\n",
       "</div>"
      ],
      "text/plain": [
       "      col1  col2  col3\n",
       "col4                  \n",
       "40      10    20    30\n",
       "80      50    60    70\n",
       "120     90   100   110"
      ]
     },
     "execution_count": 87,
     "metadata": {},
     "output_type": "execute_result"
    }
   ],
   "source": [
    "pd.read_csv(StringIO(data1),index_col='col4')"
   ]
  },
  {
   "cell_type": "code",
   "execution_count": 88,
   "metadata": {},
   "outputs": [
    {
     "data": {
      "text/html": [
       "<div>\n",
       "<style scoped>\n",
       "    .dataframe tbody tr th:only-of-type {\n",
       "        vertical-align: middle;\n",
       "    }\n",
       "\n",
       "    .dataframe tbody tr th {\n",
       "        vertical-align: top;\n",
       "    }\n",
       "\n",
       "    .dataframe thead th {\n",
       "        text-align: right;\n",
       "    }\n",
       "</style>\n",
       "<table border=\"1\" class=\"dataframe\">\n",
       "  <thead>\n",
       "    <tr style=\"text-align: right;\">\n",
       "      <th></th>\n",
       "      <th>col1</th>\n",
       "      <th>col2</th>\n",
       "      <th>col3</th>\n",
       "      <th>col4</th>\n",
       "    </tr>\n",
       "  </thead>\n",
       "  <tbody>\n",
       "    <tr>\n",
       "      <th>0</th>\n",
       "      <td>10</td>\n",
       "      <td>20</td>\n",
       "      <td>30</td>\n",
       "      <td>40</td>\n",
       "    </tr>\n",
       "    <tr>\n",
       "      <th>1</th>\n",
       "      <td>50</td>\n",
       "      <td>60</td>\n",
       "      <td>70</td>\n",
       "      <td>80</td>\n",
       "    </tr>\n",
       "    <tr>\n",
       "      <th>2</th>\n",
       "      <td>90</td>\n",
       "      <td>100</td>\n",
       "      <td>110</td>\n",
       "      <td>120</td>\n",
       "    </tr>\n",
       "  </tbody>\n",
       "</table>\n",
       "</div>"
      ],
      "text/plain": [
       "   col1  col2  col3  col4\n",
       "0    10    20    30    40\n",
       "1    50    60    70    80\n",
       "2    90   100   110   120"
      ]
     },
     "execution_count": 88,
     "metadata": {},
     "output_type": "execute_result"
    }
   ],
   "source": [
    "pd.read_csv(StringIO(data1),index_col=None)"
   ]
  },
  {
   "cell_type": "code",
   "execution_count": 90,
   "metadata": {},
   "outputs": [
    {
     "data": {
      "text/html": [
       "<div>\n",
       "<style scoped>\n",
       "    .dataframe tbody tr th:only-of-type {\n",
       "        vertical-align: middle;\n",
       "    }\n",
       "\n",
       "    .dataframe tbody tr th {\n",
       "        vertical-align: top;\n",
       "    }\n",
       "\n",
       "    .dataframe thead th {\n",
       "        text-align: right;\n",
       "    }\n",
       "</style>\n",
       "<table border=\"1\" class=\"dataframe\">\n",
       "  <thead>\n",
       "    <tr style=\"text-align: right;\">\n",
       "      <th></th>\n",
       "      <th>a</th>\n",
       "      <th>b</th>\n",
       "      <th>c</th>\n",
       "    </tr>\n",
       "  </thead>\n",
       "  <tbody>\n",
       "    <tr>\n",
       "      <th>0</th>\n",
       "      <td>1</td>\n",
       "      <td>2</td>\n",
       "      <td>3</td>\n",
       "    </tr>\n",
       "    <tr>\n",
       "      <th>1</th>\n",
       "      <td>4</td>\n",
       "      <td>5</td>\n",
       "      <td>6</td>\n",
       "    </tr>\n",
       "    <tr>\n",
       "      <th>2</th>\n",
       "      <td>x</td>\n",
       "      <td>y</td>\n",
       "      <td>z</td>\n",
       "    </tr>\n",
       "  </tbody>\n",
       "</table>\n",
       "</div>"
      ],
      "text/plain": [
       "   a  b  c\n",
       "0  1  2  3\n",
       "1  4  5  6\n",
       "2  x  y  z"
      ]
     },
     "execution_count": 90,
     "metadata": {},
     "output_type": "execute_result"
    }
   ],
   "source": [
    "pd.read_csv(StringIO(data))"
   ]
  },
  {
   "cell_type": "code",
   "execution_count": 93,
   "metadata": {},
   "outputs": [],
   "source": [
    "data3=('col1,col2,col3,col4\\n'\n",
    "      '10,apple,30,cat\\n'\n",
    "      '50,orange,70,dog\\n'\n",
    "      '90,mango,110,parrot\\n')"
   ]
  },
  {
   "cell_type": "code",
   "execution_count": 96,
   "metadata": {},
   "outputs": [],
   "source": [
    "df3=pd.read_csv(StringIO(data3),index_col=False,usecols={'col2','col4'})"
   ]
  },
  {
   "cell_type": "code",
   "execution_count": 97,
   "metadata": {},
   "outputs": [
    {
     "data": {
      "text/html": [
       "<div>\n",
       "<style scoped>\n",
       "    .dataframe tbody tr th:only-of-type {\n",
       "        vertical-align: middle;\n",
       "    }\n",
       "\n",
       "    .dataframe tbody tr th {\n",
       "        vertical-align: top;\n",
       "    }\n",
       "\n",
       "    .dataframe thead th {\n",
       "        text-align: right;\n",
       "    }\n",
       "</style>\n",
       "<table border=\"1\" class=\"dataframe\">\n",
       "  <thead>\n",
       "    <tr style=\"text-align: right;\">\n",
       "      <th></th>\n",
       "      <th>col2</th>\n",
       "      <th>col4</th>\n",
       "    </tr>\n",
       "  </thead>\n",
       "  <tbody>\n",
       "    <tr>\n",
       "      <th>0</th>\n",
       "      <td>apple</td>\n",
       "      <td>cat</td>\n",
       "    </tr>\n",
       "    <tr>\n",
       "      <th>1</th>\n",
       "      <td>orange</td>\n",
       "      <td>dog</td>\n",
       "    </tr>\n",
       "    <tr>\n",
       "      <th>2</th>\n",
       "      <td>mango</td>\n",
       "      <td>parrot</td>\n",
       "    </tr>\n",
       "  </tbody>\n",
       "</table>\n",
       "</div>"
      ],
      "text/plain": [
       "     col2    col4\n",
       "0   apple     cat\n",
       "1  orange     dog\n",
       "2   mango  parrot"
      ]
     },
     "execution_count": 97,
     "metadata": {},
     "output_type": "execute_result"
    }
   ],
   "source": [
    "df3"
   ]
  },
  {
   "cell_type": "code",
   "execution_count": 112,
   "metadata": {},
   "outputs": [],
   "source": [
    "d='\\\\ co1,col2\\n\"\\\\ Hello, \\\\ GM, 54\",\"Pri\\n\"\\\\''"
   ]
  },
  {
   "cell_type": "code",
   "execution_count": 113,
   "metadata": {},
   "outputs": [
    {
     "data": {
      "text/html": [
       "<div>\n",
       "<style scoped>\n",
       "    .dataframe tbody tr th:only-of-type {\n",
       "        vertical-align: middle;\n",
       "    }\n",
       "\n",
       "    .dataframe tbody tr th {\n",
       "        vertical-align: top;\n",
       "    }\n",
       "\n",
       "    .dataframe thead th {\n",
       "        text-align: right;\n",
       "    }\n",
       "</style>\n",
       "<table border=\"1\" class=\"dataframe\">\n",
       "  <thead>\n",
       "    <tr style=\"text-align: right;\">\n",
       "      <th></th>\n",
       "      <th>co1</th>\n",
       "      <th>col2</th>\n",
       "    </tr>\n",
       "  </thead>\n",
       "  <tbody>\n",
       "    <tr>\n",
       "      <th>0</th>\n",
       "      <td>Hello,  GM, 54</td>\n",
       "      <td>Pri</td>\n",
       "    </tr>\n",
       "  </tbody>\n",
       "</table>\n",
       "</div>"
      ],
      "text/plain": [
       "               co1 col2\n",
       "0   Hello,  GM, 54  Pri"
      ]
     },
     "execution_count": 113,
     "metadata": {},
     "output_type": "execute_result"
    }
   ],
   "source": [
    "pd.read_csv(StringIO(d),index_col=False,escapechar='\\\\')"
   ]
  },
  {
   "cell_type": "code",
   "execution_count": 1,
   "metadata": {},
   "outputs": [],
   "source": [
    "import numpy as np"
   ]
  },
  {
   "cell_type": "code",
   "execution_count": 118,
   "metadata": {},
   "outputs": [
    {
     "data": {
      "text/plain": [
       "array([ 0,  2,  5,  7, 10])"
      ]
     },
     "execution_count": 118,
     "metadata": {},
     "output_type": "execute_result"
    }
   ],
   "source": [
    "np.linspace(0,10,5, dtype=int)"
   ]
  },
  {
   "cell_type": "code",
   "execution_count": 120,
   "metadata": {},
   "outputs": [
    {
     "data": {
      "text/plain": [
       "array([0, 2, 4, 6, 8])"
      ]
     },
     "execution_count": 120,
     "metadata": {},
     "output_type": "execute_result"
    }
   ],
   "source": [
    "np.arange(0,10,2)"
   ]
  },
  {
   "cell_type": "code",
   "execution_count": 122,
   "metadata": {},
   "outputs": [
    {
     "data": {
      "text/plain": [
       "array([[-1.02704724, -1.23520491, -0.38922827,  0.25571439, -0.13945731,\n",
       "        -0.34081966, -0.59176971,  1.08478673, -1.43279271, -0.02724   ],\n",
       "       [-1.00407215, -0.13785131, -0.23267868, -0.17310318,  0.02100455,\n",
       "        -0.71672446,  0.37942909, -0.2432497 , -0.34541375,  1.28262135]])"
      ]
     },
     "execution_count": 122,
     "metadata": {},
     "output_type": "execute_result"
    }
   ],
   "source": [
    "np.random.randn(2,10)"
   ]
  },
  {
   "cell_type": "code",
   "execution_count": 125,
   "metadata": {},
   "outputs": [],
   "source": [
    "a=np.array([1,2,3,4])\n",
    "b=np.array([5,1,2,5])"
   ]
  },
  {
   "cell_type": "code",
   "execution_count": 127,
   "metadata": {},
   "outputs": [
    {
     "data": {
      "text/plain": [
       "array([ 5,  2,  6, 20])"
      ]
     },
     "execution_count": 127,
     "metadata": {},
     "output_type": "execute_result"
    }
   ],
   "source": [
    "a*b # symbol * do the addition of element"
   ]
  },
  {
   "cell_type": "code",
   "execution_count": 128,
   "metadata": {},
   "outputs": [
    {
     "data": {
      "text/plain": [
       "33"
      ]
     },
     "execution_count": 128,
     "metadata": {},
     "output_type": "execute_result"
    }
   ],
   "source": [
    "a.dot(b)"
   ]
  },
  {
   "cell_type": "code",
   "execution_count": 133,
   "metadata": {},
   "outputs": [
    {
     "data": {
      "text/plain": [
       "33"
      ]
     },
     "execution_count": 133,
     "metadata": {},
     "output_type": "execute_result"
    }
   ],
   "source": [
    "a@b"
   ]
  },
  {
   "cell_type": "code",
   "execution_count": 137,
   "metadata": {},
   "outputs": [
    {
     "data": {
      "text/plain": [
       "Generator(PCG64) at 0x2B96B7D8048"
      ]
     },
     "execution_count": 137,
     "metadata": {},
     "output_type": "execute_result"
    }
   ],
   "source": [
    "c=np.random.default_rng(1)\n",
    "c"
   ]
  },
  {
   "cell_type": "code",
   "execution_count": 141,
   "metadata": {},
   "outputs": [
    {
     "data": {
      "text/plain": [
       "array([[0.9504637 , 0.14415961, 0.94864945],\n",
       "       [0.31183145, 0.42332645, 0.82770259]])"
      ]
     },
     "execution_count": 141,
     "metadata": {},
     "output_type": "execute_result"
    }
   ],
   "source": [
    "c.random((2,3))"
   ]
  },
  {
   "cell_type": "code",
   "execution_count": 11,
   "metadata": {},
   "outputs": [],
   "source": [
    "import numpy as np"
   ]
  },
  {
   "cell_type": "code",
   "execution_count": 12,
   "metadata": {},
   "outputs": [],
   "source": [
    "a=np.array(([1,2,3,4],\n",
    "          [5,6,1,2]))"
   ]
  },
  {
   "cell_type": "code",
   "execution_count": 13,
   "metadata": {},
   "outputs": [
    {
     "data": {
      "text/plain": [
       "array([[1, 2, 3, 4],\n",
       "       [5, 6, 1, 2]])"
      ]
     },
     "execution_count": 13,
     "metadata": {},
     "output_type": "execute_result"
    }
   ],
   "source": [
    "a"
   ]
  },
  {
   "cell_type": "code",
   "execution_count": 14,
   "metadata": {},
   "outputs": [
    {
     "data": {
      "text/plain": [
       "array([6, 8, 4, 6])"
      ]
     },
     "execution_count": 14,
     "metadata": {},
     "output_type": "execute_result"
    }
   ],
   "source": [
    "a.sum(axis=0)"
   ]
  },
  {
   "cell_type": "code",
   "execution_count": 15,
   "metadata": {},
   "outputs": [
    {
     "data": {
      "text/plain": [
       "array([10, 14])"
      ]
     },
     "execution_count": 15,
     "metadata": {},
     "output_type": "execute_result"
    }
   ],
   "source": [
    "a.sum(axis=1)"
   ]
  },
  {
   "cell_type": "code",
   "execution_count": 17,
   "metadata": {},
   "outputs": [],
   "source": [
    "import pandas as pd"
   ]
  },
  {
   "cell_type": "code",
   "execution_count": 17,
   "metadata": {},
   "outputs": [],
   "source": [
    "data='{\"name\":\"priya\",\"age\":25,\"edu\":[{\"level1\":\"SSLC\",\"level2\":\"HSS\",\"level3\":\"B.Tech\"}]}'"
   ]
  },
  {
   "cell_type": "code",
   "execution_count": 14,
   "metadata": {},
   "outputs": [
    {
     "data": {
      "text/plain": [
       "str"
      ]
     },
     "execution_count": 14,
     "metadata": {},
     "output_type": "execute_result"
    }
   ],
   "source": [
    "type(data)"
   ]
  },
  {
   "cell_type": "code",
   "execution_count": 18,
   "metadata": {},
   "outputs": [],
   "source": [
    "# json data reading\n",
    "da=pd.read_json(data)"
   ]
  },
  {
   "cell_type": "code",
   "execution_count": 19,
   "metadata": {},
   "outputs": [
    {
     "data": {
      "text/html": [
       "<div>\n",
       "<style scoped>\n",
       "    .dataframe tbody tr th:only-of-type {\n",
       "        vertical-align: middle;\n",
       "    }\n",
       "\n",
       "    .dataframe tbody tr th {\n",
       "        vertical-align: top;\n",
       "    }\n",
       "\n",
       "    .dataframe thead th {\n",
       "        text-align: right;\n",
       "    }\n",
       "</style>\n",
       "<table border=\"1\" class=\"dataframe\">\n",
       "  <thead>\n",
       "    <tr style=\"text-align: right;\">\n",
       "      <th></th>\n",
       "      <th>name</th>\n",
       "      <th>age</th>\n",
       "      <th>edu</th>\n",
       "    </tr>\n",
       "  </thead>\n",
       "  <tbody>\n",
       "    <tr>\n",
       "      <th>0</th>\n",
       "      <td>priya</td>\n",
       "      <td>25</td>\n",
       "      <td>{'level1': 'SSLC', 'level2': 'HSS', 'level3': ...</td>\n",
       "    </tr>\n",
       "  </tbody>\n",
       "</table>\n",
       "</div>"
      ],
      "text/plain": [
       "    name  age                                                edu\n",
       "0  priya   25  {'level1': 'SSLC', 'level2': 'HSS', 'level3': ..."
      ]
     },
     "execution_count": 19,
     "metadata": {},
     "output_type": "execute_result"
    }
   ],
   "source": [
    "da"
   ]
  },
  {
   "cell_type": "code",
   "execution_count": 28,
   "metadata": {},
   "outputs": [
    {
     "data": {
      "text/plain": [
       "'{\"name\":{\"0\":\"priya\"},\"age\":{\"0\":25},\"edu\":{\"0\":{\"level1\":\"SSLC\",\"level2\":\"HSS\",\"level3\":\"B.Tech\"}}}'"
      ]
     },
     "execution_count": 28,
     "metadata": {},
     "output_type": "execute_result"
    }
   ],
   "source": [
    "da.to_json()"
   ]
  },
  {
   "cell_type": "code",
   "execution_count": 30,
   "metadata": {},
   "outputs": [
    {
     "data": {
      "text/plain": [
       "'[{\"name\":\"priya\",\"age\":25,\"edu\":{\"level1\":\"SSLC\",\"level2\":\"HSS\",\"level3\":\"B.Tech\"}}]'"
      ]
     },
     "execution_count": 30,
     "metadata": {},
     "output_type": "execute_result"
    }
   ],
   "source": [
    "da.to_json(orient=\"records\")"
   ]
  },
  {
   "cell_type": "code",
   "execution_count": 26,
   "metadata": {},
   "outputs": [],
   "source": [
    "d=pd.read_csv('https://archive.ics.uci.edu/ml/machine-learning-databases/wine/wine.data')"
   ]
  },
  {
   "cell_type": "code",
   "execution_count": 27,
   "metadata": {},
   "outputs": [
    {
     "data": {
      "text/html": [
       "<div>\n",
       "<style scoped>\n",
       "    .dataframe tbody tr th:only-of-type {\n",
       "        vertical-align: middle;\n",
       "    }\n",
       "\n",
       "    .dataframe tbody tr th {\n",
       "        vertical-align: top;\n",
       "    }\n",
       "\n",
       "    .dataframe thead th {\n",
       "        text-align: right;\n",
       "    }\n",
       "</style>\n",
       "<table border=\"1\" class=\"dataframe\">\n",
       "  <thead>\n",
       "    <tr style=\"text-align: right;\">\n",
       "      <th></th>\n",
       "      <th>1</th>\n",
       "      <th>14.23</th>\n",
       "      <th>1.71</th>\n",
       "      <th>2.43</th>\n",
       "      <th>15.6</th>\n",
       "      <th>127</th>\n",
       "      <th>2.8</th>\n",
       "      <th>3.06</th>\n",
       "      <th>.28</th>\n",
       "      <th>2.29</th>\n",
       "      <th>5.64</th>\n",
       "      <th>1.04</th>\n",
       "      <th>3.92</th>\n",
       "      <th>1065</th>\n",
       "    </tr>\n",
       "  </thead>\n",
       "  <tbody>\n",
       "    <tr>\n",
       "      <th>0</th>\n",
       "      <td>1</td>\n",
       "      <td>13.20</td>\n",
       "      <td>1.78</td>\n",
       "      <td>2.14</td>\n",
       "      <td>11.2</td>\n",
       "      <td>100</td>\n",
       "      <td>2.65</td>\n",
       "      <td>2.76</td>\n",
       "      <td>0.26</td>\n",
       "      <td>1.28</td>\n",
       "      <td>4.38</td>\n",
       "      <td>1.05</td>\n",
       "      <td>3.40</td>\n",
       "      <td>1050</td>\n",
       "    </tr>\n",
       "    <tr>\n",
       "      <th>1</th>\n",
       "      <td>1</td>\n",
       "      <td>13.16</td>\n",
       "      <td>2.36</td>\n",
       "      <td>2.67</td>\n",
       "      <td>18.6</td>\n",
       "      <td>101</td>\n",
       "      <td>2.80</td>\n",
       "      <td>3.24</td>\n",
       "      <td>0.30</td>\n",
       "      <td>2.81</td>\n",
       "      <td>5.68</td>\n",
       "      <td>1.03</td>\n",
       "      <td>3.17</td>\n",
       "      <td>1185</td>\n",
       "    </tr>\n",
       "    <tr>\n",
       "      <th>2</th>\n",
       "      <td>1</td>\n",
       "      <td>14.37</td>\n",
       "      <td>1.95</td>\n",
       "      <td>2.50</td>\n",
       "      <td>16.8</td>\n",
       "      <td>113</td>\n",
       "      <td>3.85</td>\n",
       "      <td>3.49</td>\n",
       "      <td>0.24</td>\n",
       "      <td>2.18</td>\n",
       "      <td>7.80</td>\n",
       "      <td>0.86</td>\n",
       "      <td>3.45</td>\n",
       "      <td>1480</td>\n",
       "    </tr>\n",
       "    <tr>\n",
       "      <th>3</th>\n",
       "      <td>1</td>\n",
       "      <td>13.24</td>\n",
       "      <td>2.59</td>\n",
       "      <td>2.87</td>\n",
       "      <td>21.0</td>\n",
       "      <td>118</td>\n",
       "      <td>2.80</td>\n",
       "      <td>2.69</td>\n",
       "      <td>0.39</td>\n",
       "      <td>1.82</td>\n",
       "      <td>4.32</td>\n",
       "      <td>1.04</td>\n",
       "      <td>2.93</td>\n",
       "      <td>735</td>\n",
       "    </tr>\n",
       "    <tr>\n",
       "      <th>4</th>\n",
       "      <td>1</td>\n",
       "      <td>14.20</td>\n",
       "      <td>1.76</td>\n",
       "      <td>2.45</td>\n",
       "      <td>15.2</td>\n",
       "      <td>112</td>\n",
       "      <td>3.27</td>\n",
       "      <td>3.39</td>\n",
       "      <td>0.34</td>\n",
       "      <td>1.97</td>\n",
       "      <td>6.75</td>\n",
       "      <td>1.05</td>\n",
       "      <td>2.85</td>\n",
       "      <td>1450</td>\n",
       "    </tr>\n",
       "    <tr>\n",
       "      <th>...</th>\n",
       "      <td>...</td>\n",
       "      <td>...</td>\n",
       "      <td>...</td>\n",
       "      <td>...</td>\n",
       "      <td>...</td>\n",
       "      <td>...</td>\n",
       "      <td>...</td>\n",
       "      <td>...</td>\n",
       "      <td>...</td>\n",
       "      <td>...</td>\n",
       "      <td>...</td>\n",
       "      <td>...</td>\n",
       "      <td>...</td>\n",
       "      <td>...</td>\n",
       "    </tr>\n",
       "    <tr>\n",
       "      <th>172</th>\n",
       "      <td>3</td>\n",
       "      <td>13.71</td>\n",
       "      <td>5.65</td>\n",
       "      <td>2.45</td>\n",
       "      <td>20.5</td>\n",
       "      <td>95</td>\n",
       "      <td>1.68</td>\n",
       "      <td>0.61</td>\n",
       "      <td>0.52</td>\n",
       "      <td>1.06</td>\n",
       "      <td>7.70</td>\n",
       "      <td>0.64</td>\n",
       "      <td>1.74</td>\n",
       "      <td>740</td>\n",
       "    </tr>\n",
       "    <tr>\n",
       "      <th>173</th>\n",
       "      <td>3</td>\n",
       "      <td>13.40</td>\n",
       "      <td>3.91</td>\n",
       "      <td>2.48</td>\n",
       "      <td>23.0</td>\n",
       "      <td>102</td>\n",
       "      <td>1.80</td>\n",
       "      <td>0.75</td>\n",
       "      <td>0.43</td>\n",
       "      <td>1.41</td>\n",
       "      <td>7.30</td>\n",
       "      <td>0.70</td>\n",
       "      <td>1.56</td>\n",
       "      <td>750</td>\n",
       "    </tr>\n",
       "    <tr>\n",
       "      <th>174</th>\n",
       "      <td>3</td>\n",
       "      <td>13.27</td>\n",
       "      <td>4.28</td>\n",
       "      <td>2.26</td>\n",
       "      <td>20.0</td>\n",
       "      <td>120</td>\n",
       "      <td>1.59</td>\n",
       "      <td>0.69</td>\n",
       "      <td>0.43</td>\n",
       "      <td>1.35</td>\n",
       "      <td>10.20</td>\n",
       "      <td>0.59</td>\n",
       "      <td>1.56</td>\n",
       "      <td>835</td>\n",
       "    </tr>\n",
       "    <tr>\n",
       "      <th>175</th>\n",
       "      <td>3</td>\n",
       "      <td>13.17</td>\n",
       "      <td>2.59</td>\n",
       "      <td>2.37</td>\n",
       "      <td>20.0</td>\n",
       "      <td>120</td>\n",
       "      <td>1.65</td>\n",
       "      <td>0.68</td>\n",
       "      <td>0.53</td>\n",
       "      <td>1.46</td>\n",
       "      <td>9.30</td>\n",
       "      <td>0.60</td>\n",
       "      <td>1.62</td>\n",
       "      <td>840</td>\n",
       "    </tr>\n",
       "    <tr>\n",
       "      <th>176</th>\n",
       "      <td>3</td>\n",
       "      <td>14.13</td>\n",
       "      <td>4.10</td>\n",
       "      <td>2.74</td>\n",
       "      <td>24.5</td>\n",
       "      <td>96</td>\n",
       "      <td>2.05</td>\n",
       "      <td>0.76</td>\n",
       "      <td>0.56</td>\n",
       "      <td>1.35</td>\n",
       "      <td>9.20</td>\n",
       "      <td>0.61</td>\n",
       "      <td>1.60</td>\n",
       "      <td>560</td>\n",
       "    </tr>\n",
       "  </tbody>\n",
       "</table>\n",
       "<p>177 rows × 14 columns</p>\n",
       "</div>"
      ],
      "text/plain": [
       "     1  14.23  1.71  2.43  15.6  127   2.8  3.06   .28  2.29   5.64  1.04  \\\n",
       "0    1  13.20  1.78  2.14  11.2  100  2.65  2.76  0.26  1.28   4.38  1.05   \n",
       "1    1  13.16  2.36  2.67  18.6  101  2.80  3.24  0.30  2.81   5.68  1.03   \n",
       "2    1  14.37  1.95  2.50  16.8  113  3.85  3.49  0.24  2.18   7.80  0.86   \n",
       "3    1  13.24  2.59  2.87  21.0  118  2.80  2.69  0.39  1.82   4.32  1.04   \n",
       "4    1  14.20  1.76  2.45  15.2  112  3.27  3.39  0.34  1.97   6.75  1.05   \n",
       "..  ..    ...   ...   ...   ...  ...   ...   ...   ...   ...    ...   ...   \n",
       "172  3  13.71  5.65  2.45  20.5   95  1.68  0.61  0.52  1.06   7.70  0.64   \n",
       "173  3  13.40  3.91  2.48  23.0  102  1.80  0.75  0.43  1.41   7.30  0.70   \n",
       "174  3  13.27  4.28  2.26  20.0  120  1.59  0.69  0.43  1.35  10.20  0.59   \n",
       "175  3  13.17  2.59  2.37  20.0  120  1.65  0.68  0.53  1.46   9.30  0.60   \n",
       "176  3  14.13  4.10  2.74  24.5   96  2.05  0.76  0.56  1.35   9.20  0.61   \n",
       "\n",
       "     3.92  1065  \n",
       "0    3.40  1050  \n",
       "1    3.17  1185  \n",
       "2    3.45  1480  \n",
       "3    2.93   735  \n",
       "4    2.85  1450  \n",
       "..    ...   ...  \n",
       "172  1.74   740  \n",
       "173  1.56   750  \n",
       "174  1.56   835  \n",
       "175  1.62   840  \n",
       "176  1.60   560  \n",
       "\n",
       "[177 rows x 14 columns]"
      ]
     },
     "execution_count": 27,
     "metadata": {},
     "output_type": "execute_result"
    }
   ],
   "source": [
    "d"
   ]
  },
  {
   "cell_type": "code",
   "execution_count": 24,
   "metadata": {},
   "outputs": [
    {
     "data": {
      "text/plain": [
       "pandas.core.frame.DataFrame"
      ]
     },
     "execution_count": 24,
     "metadata": {},
     "output_type": "execute_result"
    }
   ],
   "source": [
    "type(d)"
   ]
  },
  {
   "cell_type": "code",
   "execution_count": 31,
   "metadata": {},
   "outputs": [
    {
     "data": {
      "text/plain": [
       "'{\"1\":{\"0\":1,\"1\":1,\"2\":1,\"3\":1,\"4\":1,\"5\":1,\"6\":1,\"7\":1,\"8\":1,\"9\":1,\"10\":1,\"11\":1,\"12\":1,\"13\":1,\"14\":1,\"15\":1,\"16\":1,\"17\":1,\"18\":1,\"19\":1,\"20\":1,\"21\":1,\"22\":1,\"23\":1,\"24\":1,\"25\":1,\"26\":1,\"27\":1,\"28\":1,\"29\":1,\"30\":1,\"31\":1,\"32\":1,\"33\":1,\"34\":1,\"35\":1,\"36\":1,\"37\":1,\"38\":1,\"39\":1,\"40\":1,\"41\":1,\"42\":1,\"43\":1,\"44\":1,\"45\":1,\"46\":1,\"47\":1,\"48\":1,\"49\":1,\"50\":1,\"51\":1,\"52\":1,\"53\":1,\"54\":1,\"55\":1,\"56\":1,\"57\":1,\"58\":2,\"59\":2,\"60\":2,\"61\":2,\"62\":2,\"63\":2,\"64\":2,\"65\":2,\"66\":2,\"67\":2,\"68\":2,\"69\":2,\"70\":2,\"71\":2,\"72\":2,\"73\":2,\"74\":2,\"75\":2,\"76\":2,\"77\":2,\"78\":2,\"79\":2,\"80\":2,\"81\":2,\"82\":2,\"83\":2,\"84\":2,\"85\":2,\"86\":2,\"87\":2,\"88\":2,\"89\":2,\"90\":2,\"91\":2,\"92\":2,\"93\":2,\"94\":2,\"95\":2,\"96\":2,\"97\":2,\"98\":2,\"99\":2,\"100\":2,\"101\":2,\"102\":2,\"103\":2,\"104\":2,\"105\":2,\"106\":2,\"107\":2,\"108\":2,\"109\":2,\"110\":2,\"111\":2,\"112\":2,\"113\":2,\"114\":2,\"115\":2,\"116\":2,\"117\":2,\"118\":2,\"119\":2,\"120\":2,\"121\":2,\"122\":2,\"123\":2,\"124\":2,\"125\":2,\"126\":2,\"127\":2,\"128\":2,\"129\":3,\"130\":3,\"131\":3,\"132\":3,\"133\":3,\"134\":3,\"135\":3,\"136\":3,\"137\":3,\"138\":3,\"139\":3,\"140\":3,\"141\":3,\"142\":3,\"143\":3,\"144\":3,\"145\":3,\"146\":3,\"147\":3,\"148\":3,\"149\":3,\"150\":3,\"151\":3,\"152\":3,\"153\":3,\"154\":3,\"155\":3,\"156\":3,\"157\":3,\"158\":3,\"159\":3,\"160\":3,\"161\":3,\"162\":3,\"163\":3,\"164\":3,\"165\":3,\"166\":3,\"167\":3,\"168\":3,\"169\":3,\"170\":3,\"171\":3,\"172\":3,\"173\":3,\"174\":3,\"175\":3,\"176\":3},\"14.23\":{\"0\":13.2,\"1\":13.16,\"2\":14.37,\"3\":13.24,\"4\":14.2,\"5\":14.39,\"6\":14.06,\"7\":14.83,\"8\":13.86,\"9\":14.1,\"10\":14.12,\"11\":13.75,\"12\":14.75,\"13\":14.38,\"14\":13.63,\"15\":14.3,\"16\":13.83,\"17\":14.19,\"18\":13.64,\"19\":14.06,\"20\":12.93,\"21\":13.71,\"22\":12.85,\"23\":13.5,\"24\":13.05,\"25\":13.39,\"26\":13.3,\"27\":13.87,\"28\":14.02,\"29\":13.73,\"30\":13.58,\"31\":13.68,\"32\":13.76,\"33\":13.51,\"34\":13.48,\"35\":13.28,\"36\":13.05,\"37\":13.07,\"38\":14.22,\"39\":13.56,\"40\":13.41,\"41\":13.88,\"42\":13.24,\"43\":13.05,\"44\":14.21,\"45\":14.38,\"46\":13.9,\"47\":14.1,\"48\":13.94,\"49\":13.05,\"50\":13.83,\"51\":13.82,\"52\":13.77,\"53\":13.74,\"54\":13.56,\"55\":14.22,\"56\":13.29,\"57\":13.72,\"58\":12.37,\"59\":12.33,\"60\":12.64,\"61\":13.67,\"62\":12.37,\"63\":12.17,\"64\":12.37,\"65\":13.11,\"66\":12.37,\"67\":13.34,\"68\":12.21,\"69\":12.29,\"70\":13.86,\"71\":13.49,\"72\":12.99,\"73\":11.96,\"74\":11.66,\"75\":13.03,\"76\":11.84,\"77\":12.33,\"78\":12.7,\"79\":12.0,\"80\":12.72,\"81\":12.08,\"82\":13.05,\"83\":11.84,\"84\":12.67,\"85\":12.16,\"86\":11.65,\"87\":11.64,\"88\":12.08,\"89\":12.08,\"90\":12.0,\"91\":12.69,\"92\":12.29,\"93\":11.62,\"94\":12.47,\"95\":11.81,\"96\":12.29,\"97\":12.37,\"98\":12.29,\"99\":12.08,\"100\":12.6,\"101\":12.34,\"102\":11.82,\"103\":12.51,\"104\":12.42,\"105\":12.25,\"106\":12.72,\"107\":12.22,\"108\":11.61,\"109\":11.46,\"110\":12.52,\"111\":11.76,\"112\":11.41,\"113\":12.08,\"114\":11.03,\"115\":11.82,\"116\":12.42,\"117\":12.77,\"118\":12.0,\"119\":11.45,\"120\":11.56,\"121\":12.42,\"122\":13.05,\"123\":11.87,\"124\":12.07,\"125\":12.43,\"126\":11.79,\"127\":12.37,\"128\":12.04,\"129\":12.86,\"130\":12.88,\"131\":12.81,\"132\":12.7,\"133\":12.51,\"134\":12.6,\"135\":12.25,\"136\":12.53,\"137\":13.49,\"138\":12.84,\"139\":12.93,\"140\":13.36,\"141\":13.52,\"142\":13.62,\"143\":12.25,\"144\":13.16,\"145\":13.88,\"146\":12.87,\"147\":13.32,\"148\":13.08,\"149\":13.5,\"150\":12.79,\"151\":13.11,\"152\":13.23,\"153\":12.58,\"154\":13.17,\"155\":13.84,\"156\":12.45,\"157\":14.34,\"158\":13.48,\"159\":12.36,\"160\":13.69,\"161\":12.85,\"162\":12.96,\"163\":13.78,\"164\":13.73,\"165\":13.45,\"166\":12.82,\"167\":13.58,\"168\":13.4,\"169\":12.2,\"170\":12.77,\"171\":14.16,\"172\":13.71,\"173\":13.4,\"174\":13.27,\"175\":13.17,\"176\":14.13},\"1.71\":{\"0\":1.78,\"1\":2.36,\"2\":1.95,\"3\":2.59,\"4\":1.76,\"5\":1.87,\"6\":2.15,\"7\":1.64,\"8\":1.35,\"9\":2.16,\"10\":1.48,\"11\":1.73,\"12\":1.73,\"13\":1.87,\"14\":1.81,\"15\":1.92,\"16\":1.57,\"17\":1.59,\"18\":3.1,\"19\":1.63,\"20\":3.8,\"21\":1.86,\"22\":1.6,\"23\":1.81,\"24\":2.05,\"25\":1.77,\"26\":1.72,\"27\":1.9,\"28\":1.68,\"29\":1.5,\"30\":1.66,\"31\":1.83,\"32\":1.53,\"33\":1.8,\"34\":1.81,\"35\":1.64,\"36\":1.65,\"37\":1.5,\"38\":3.99,\"39\":1.71,\"40\":3.84,\"41\":1.89,\"42\":3.98,\"43\":1.77,\"44\":4.04,\"45\":3.59,\"46\":1.68,\"47\":2.02,\"48\":1.73,\"49\":1.73,\"50\":1.65,\"51\":1.75,\"52\":1.9,\"53\":1.67,\"54\":1.73,\"55\":1.7,\"56\":1.97,\"57\":1.43,\"58\":0.94,\"59\":1.1,\"60\":1.36,\"61\":1.25,\"62\":1.13,\"63\":1.45,\"64\":1.21,\"65\":1.01,\"66\":1.17,\"67\":0.94,\"68\":1.19,\"69\":1.61,\"70\":1.51,\"71\":1.66,\"72\":1.67,\"73\":1.09,\"74\":1.88,\"75\":0.9,\"76\":2.89,\"77\":0.99,\"78\":3.87,\"79\":0.92,\"80\":1.81,\"81\":1.13,\"82\":3.86,\"83\":0.89,\"84\":0.98,\"85\":1.61,\"86\":1.67,\"87\":2.06,\"88\":1.33,\"89\":1.83,\"90\":1.51,\"91\":1.53,\"92\":2.83,\"93\":1.99,\"94\":1.52,\"95\":2.12,\"96\":1.41,\"97\":1.07,\"98\":3.17,\"99\":2.08,\"100\":1.34,\"101\":2.45,\"102\":1.72,\"103\":1.73,\"104\":2.55,\"105\":1.73,\"106\":1.75,\"107\":1.29,\"108\":1.35,\"109\":3.74,\"110\":2.43,\"111\":2.68,\"112\":0.74,\"113\":1.39,\"114\":1.51,\"115\":1.47,\"116\":1.61,\"117\":3.43,\"118\":3.43,\"119\":2.4,\"120\":2.05,\"121\":4.43,\"122\":5.8,\"123\":4.31,\"124\":2.16,\"125\":1.53,\"126\":2.13,\"127\":1.63,\"128\":4.3,\"129\":1.35,\"130\":2.99,\"131\":2.31,\"132\":3.55,\"133\":1.24,\"134\":2.46,\"135\":4.72,\"136\":5.51,\"137\":3.59,\"138\":2.96,\"139\":2.81,\"140\":2.56,\"141\":3.17,\"142\":4.95,\"143\":3.88,\"144\":3.57,\"145\":5.04,\"146\":4.61,\"147\":3.24,\"148\":3.9,\"149\":3.12,\"150\":2.67,\"151\":1.9,\"152\":3.3,\"153\":1.29,\"154\":5.19,\"155\":4.12,\"156\":3.03,\"157\":1.68,\"158\":1.67,\"159\":3.83,\"160\":3.26,\"161\":3.27,\"162\":3.45,\"163\":2.76,\"164\":4.36,\"165\":3.7,\"166\":3.37,\"167\":2.58,\"168\":4.6,\"169\":3.03,\"170\":2.39,\"171\":2.51,\"172\":5.65,\"173\":3.91,\"174\":4.28,\"175\":2.59,\"176\":4.1},\"2.43\":{\"0\":2.14,\"1\":2.67,\"2\":2.5,\"3\":2.87,\"4\":2.45,\"5\":2.45,\"6\":2.61,\"7\":2.17,\"8\":2.27,\"9\":2.3,\"10\":2.32,\"11\":2.41,\"12\":2.39,\"13\":2.38,\"14\":2.7,\"15\":2.72,\"16\":2.62,\"17\":2.48,\"18\":2.56,\"19\":2.28,\"20\":2.65,\"21\":2.36,\"22\":2.52,\"23\":2.61,\"24\":3.22,\"25\":2.62,\"26\":2.14,\"27\":2.8,\"28\":2.21,\"29\":2.7,\"30\":2.36,\"31\":2.36,\"32\":2.7,\"33\":2.65,\"34\":2.41,\"35\":2.84,\"36\":2.55,\"37\":2.1,\"38\":2.51,\"39\":2.31,\"40\":2.12,\"41\":2.59,\"42\":2.29,\"43\":2.1,\"44\":2.44,\"45\":2.28,\"46\":2.12,\"47\":2.4,\"48\":2.27,\"49\":2.04,\"50\":2.6,\"51\":2.42,\"52\":2.68,\"53\":2.25,\"54\":2.46,\"55\":2.3,\"56\":2.68,\"57\":2.5,\"58\":1.36,\"59\":2.28,\"60\":2.02,\"61\":1.92,\"62\":2.16,\"63\":2.53,\"64\":2.56,\"65\":1.7,\"66\":1.92,\"67\":2.36,\"68\":1.75,\"69\":2.21,\"70\":2.67,\"71\":2.24,\"72\":2.6,\"73\":2.3,\"74\":1.92,\"75\":1.71,\"76\":2.23,\"77\":1.95,\"78\":2.4,\"79\":2.0,\"80\":2.2,\"81\":2.51,\"82\":2.32,\"83\":2.58,\"84\":2.24,\"85\":2.31,\"86\":2.62,\"87\":2.46,\"88\":2.3,\"89\":2.32,\"90\":2.42,\"91\":2.26,\"92\":2.22,\"93\":2.28,\"94\":2.2,\"95\":2.74,\"96\":1.98,\"97\":2.1,\"98\":2.21,\"99\":1.7,\"100\":1.9,\"101\":2.46,\"102\":1.88,\"103\":1.98,\"104\":2.27,\"105\":2.12,\"106\":2.28,\"107\":1.94,\"108\":2.7,\"109\":1.82,\"110\":2.17,\"111\":2.92,\"112\":2.5,\"113\":2.5,\"114\":2.2,\"115\":1.99,\"116\":2.19,\"117\":1.98,\"118\":2.0,\"119\":2.42,\"120\":3.23,\"121\":2.73,\"122\":2.13,\"123\":2.39,\"124\":2.17,\"125\":2.29,\"126\":2.78,\"127\":2.3,\"128\":2.38,\"129\":2.32,\"130\":2.4,\"131\":2.4,\"132\":2.36,\"133\":2.25,\"134\":2.2,\"135\":2.54,\"136\":2.64,\"137\":2.19,\"138\":2.61,\"139\":2.7,\"140\":2.35,\"141\":2.72,\"142\":2.35,\"143\":2.2,\"144\":2.15,\"145\":2.23,\"146\":2.48,\"147\":2.38,\"148\":2.36,\"149\":2.62,\"150\":2.48,\"151\":2.75,\"152\":2.28,\"153\":2.1,\"154\":2.32,\"155\":2.38,\"156\":2.64,\"157\":2.7,\"158\":2.64,\"159\":2.38,\"160\":2.54,\"161\":2.58,\"162\":2.35,\"163\":2.3,\"164\":2.26,\"165\":2.6,\"166\":2.3,\"167\":2.69,\"168\":2.86,\"169\":2.32,\"170\":2.28,\"171\":2.48,\"172\":2.45,\"173\":2.48,\"174\":2.26,\"175\":2.37,\"176\":2.74},\"15.6\":{\"0\":11.2,\"1\":18.6,\"2\":16.8,\"3\":21.0,\"4\":15.2,\"5\":14.6,\"6\":17.6,\"7\":14.0,\"8\":16.0,\"9\":18.0,\"10\":16.8,\"11\":16.0,\"12\":11.4,\"13\":12.0,\"14\":17.2,\"15\":20.0,\"16\":20.0,\"17\":16.5,\"18\":15.2,\"19\":16.0,\"20\":18.6,\"21\":16.6,\"22\":17.8,\"23\":20.0,\"24\":25.0,\"25\":16.1,\"26\":17.0,\"27\":19.4,\"28\":16.0,\"29\":22.5,\"30\":19.1,\"31\":17.2,\"32\":19.5,\"33\":19.0,\"34\":20.5,\"35\":15.5,\"36\":18.0,\"37\":15.5,\"38\":13.2,\"39\":16.2,\"40\":18.8,\"41\":15.0,\"42\":17.5,\"43\":17.0,\"44\":18.9,\"45\":16.0,\"46\":16.0,\"47\":18.8,\"48\":17.4,\"49\":12.4,\"50\":17.2,\"51\":14.0,\"52\":17.1,\"53\":16.4,\"54\":20.5,\"55\":16.3,\"56\":16.8,\"57\":16.7,\"58\":10.6,\"59\":16.0,\"60\":16.8,\"61\":18.0,\"62\":19.0,\"63\":19.0,\"64\":18.1,\"65\":15.0,\"66\":19.6,\"67\":17.0,\"68\":16.8,\"69\":20.4,\"70\":25.0,\"71\":24.0,\"72\":30.0,\"73\":21.0,\"74\":16.0,\"75\":16.0,\"76\":18.0,\"77\":14.8,\"78\":23.0,\"79\":19.0,\"80\":18.8,\"81\":24.0,\"82\":22.5,\"83\":18.0,\"84\":18.0,\"85\":22.8,\"86\":26.0,\"87\":21.6,\"88\":23.6,\"89\":18.5,\"90\":22.0,\"91\":20.7,\"92\":18.0,\"93\":18.0,\"94\":19.0,\"95\":21.5,\"96\":16.0,\"97\":18.5,\"98\":18.0,\"99\":17.5,\"100\":18.5,\"101\":21.0,\"102\":19.5,\"103\":20.5,\"104\":22.0,\"105\":19.0,\"106\":22.5,\"107\":19.0,\"108\":20.0,\"109\":19.5,\"110\":21.0,\"111\":20.0,\"112\":21.0,\"113\":22.5,\"114\":21.5,\"115\":20.8,\"116\":22.5,\"117\":16.0,\"118\":19.0,\"119\":20.0,\"120\":28.5,\"121\":26.5,\"122\":21.5,\"123\":21.0,\"124\":21.0,\"125\":21.5,\"126\":28.5,\"127\":24.5,\"128\":22.0,\"129\":18.0,\"130\":20.0,\"131\":24.0,\"132\":21.5,\"133\":17.5,\"134\":18.5,\"135\":21.0,\"136\":25.0,\"137\":19.5,\"138\":24.0,\"139\":21.0,\"140\":20.0,\"141\":23.5,\"142\":20.0,\"143\":18.5,\"144\":21.0,\"145\":20.0,\"146\":21.5,\"147\":21.5,\"148\":21.5,\"149\":24.0,\"150\":22.0,\"151\":25.5,\"152\":18.5,\"153\":20.0,\"154\":22.0,\"155\":19.5,\"156\":27.0,\"157\":25.0,\"158\":22.5,\"159\":21.0,\"160\":20.0,\"161\":22.0,\"162\":18.5,\"163\":22.0,\"164\":22.5,\"165\":23.0,\"166\":19.5,\"167\":24.5,\"168\":25.0,\"169\":19.0,\"170\":19.5,\"171\":20.0,\"172\":20.5,\"173\":23.0,\"174\":20.0,\"175\":20.0,\"176\":24.5},\"127\":{\"0\":100,\"1\":101,\"2\":113,\"3\":118,\"4\":112,\"5\":96,\"6\":121,\"7\":97,\"8\":98,\"9\":105,\"10\":95,\"11\":89,\"12\":91,\"13\":102,\"14\":112,\"15\":120,\"16\":115,\"17\":108,\"18\":116,\"19\":126,\"20\":102,\"21\":101,\"22\":95,\"23\":96,\"24\":124,\"25\":93,\"26\":94,\"27\":107,\"28\":96,\"29\":101,\"30\":106,\"31\":104,\"32\":132,\"33\":110,\"34\":100,\"35\":110,\"36\":98,\"37\":98,\"38\":128,\"39\":117,\"40\":90,\"41\":101,\"42\":103,\"43\":107,\"44\":111,\"45\":102,\"46\":101,\"47\":103,\"48\":108,\"49\":92,\"50\":94,\"51\":111,\"52\":115,\"53\":118,\"54\":116,\"55\":118,\"56\":102,\"57\":108,\"58\":88,\"59\":101,\"60\":100,\"61\":94,\"62\":87,\"63\":104,\"64\":98,\"65\":78,\"66\":78,\"67\":110,\"68\":151,\"69\":103,\"70\":86,\"71\":87,\"72\":139,\"73\":101,\"74\":97,\"75\":86,\"76\":112,\"77\":136,\"78\":101,\"79\":86,\"80\":86,\"81\":78,\"82\":85,\"83\":94,\"84\":99,\"85\":90,\"86\":88,\"87\":84,\"88\":70,\"89\":81,\"90\":86,\"91\":80,\"92\":88,\"93\":98,\"94\":162,\"95\":134,\"96\":85,\"97\":88,\"98\":88,\"99\":97,\"100\":88,\"101\":98,\"102\":86,\"103\":85,\"104\":90,\"105\":80,\"106\":84,\"107\":92,\"108\":94,\"109\":107,\"110\":88,\"111\":103,\"112\":88,\"113\":84,\"114\":85,\"115\":86,\"116\":108,\"117\":80,\"118\":87,\"119\":96,\"120\":119,\"121\":102,\"122\":86,\"123\":82,\"124\":85,\"125\":86,\"126\":92,\"127\":88,\"128\":80,\"129\":122,\"130\":104,\"131\":98,\"132\":106,\"133\":85,\"134\":94,\"135\":89,\"136\":96,\"137\":88,\"138\":101,\"139\":96,\"140\":89,\"141\":97,\"142\":92,\"143\":112,\"144\":102,\"145\":80,\"146\":86,\"147\":92,\"148\":113,\"149\":123,\"150\":112,\"151\":116,\"152\":98,\"153\":103,\"154\":93,\"155\":89,\"156\":97,\"157\":98,\"158\":89,\"159\":88,\"160\":107,\"161\":106,\"162\":106,\"163\":90,\"164\":88,\"165\":111,\"166\":88,\"167\":105,\"168\":112,\"169\":96,\"170\":86,\"171\":91,\"172\":95,\"173\":102,\"174\":120,\"175\":120,\"176\":96},\"2.8\":{\"0\":2.65,\"1\":2.8,\"2\":3.85,\"3\":2.8,\"4\":3.27,\"5\":2.5,\"6\":2.6,\"7\":2.8,\"8\":2.98,\"9\":2.95,\"10\":2.2,\"11\":2.6,\"12\":3.1,\"13\":3.3,\"14\":2.85,\"15\":2.8,\"16\":2.95,\"17\":3.3,\"18\":2.7,\"19\":3.0,\"20\":2.41,\"21\":2.61,\"22\":2.48,\"23\":2.53,\"24\":2.63,\"25\":2.85,\"26\":2.4,\"27\":2.95,\"28\":2.65,\"29\":3.0,\"30\":2.86,\"31\":2.42,\"32\":2.95,\"33\":2.35,\"34\":2.7,\"35\":2.6,\"36\":2.45,\"37\":2.4,\"38\":3.0,\"39\":3.15,\"40\":2.45,\"41\":3.25,\"42\":2.64,\"43\":3.0,\"44\":2.85,\"45\":3.25,\"46\":3.1,\"47\":2.75,\"48\":2.88,\"49\":2.72,\"50\":2.45,\"51\":3.88,\"52\":3.0,\"53\":2.6,\"54\":2.96,\"55\":3.2,\"56\":3.0,\"57\":3.4,\"58\":1.98,\"59\":2.05,\"60\":2.02,\"61\":2.1,\"62\":3.5,\"63\":1.89,\"64\":2.42,\"65\":2.98,\"66\":2.11,\"67\":2.53,\"68\":1.85,\"69\":1.1,\"70\":2.95,\"71\":1.88,\"72\":3.3,\"73\":3.38,\"74\":1.61,\"75\":1.95,\"76\":1.72,\"77\":1.9,\"78\":2.83,\"79\":2.42,\"80\":2.2,\"81\":2.0,\"82\":1.65,\"83\":2.2,\"84\":2.2,\"85\":1.78,\"86\":1.92,\"87\":1.95,\"88\":2.2,\"89\":1.6,\"90\":1.45,\"91\":1.38,\"92\":2.45,\"93\":3.02,\"94\":2.5,\"95\":1.6,\"96\":2.55,\"97\":3.52,\"98\":2.85,\"99\":2.23,\"100\":1.45,\"101\":2.56,\"102\":2.5,\"103\":2.2,\"104\":1.68,\"105\":1.65,\"106\":1.38,\"107\":2.36,\"108\":2.74,\"109\":3.18,\"110\":2.55,\"111\":1.75,\"112\":2.48,\"113\":2.56,\"114\":2.46,\"115\":1.98,\"116\":2.0,\"117\":1.63,\"118\":2.0,\"119\":2.9,\"120\":3.18,\"121\":2.2,\"122\":2.62,\"123\":2.86,\"124\":2.6,\"125\":2.74,\"126\":2.13,\"127\":2.22,\"128\":2.1,\"129\":1.51,\"130\":1.3,\"131\":1.15,\"132\":1.7,\"133\":2.0,\"134\":1.62,\"135\":1.38,\"136\":1.79,\"137\":1.62,\"138\":2.32,\"139\":1.54,\"140\":1.4,\"141\":1.55,\"142\":2.0,\"143\":1.38,\"144\":1.5,\"145\":0.98,\"146\":1.7,\"147\":1.93,\"148\":1.41,\"149\":1.4,\"150\":1.48,\"151\":2.2,\"152\":1.8,\"153\":1.48,\"154\":1.74,\"155\":1.8,\"156\":1.9,\"157\":2.8,\"158\":2.6,\"159\":2.3,\"160\":1.83,\"161\":1.65,\"162\":1.39,\"163\":1.35,\"164\":1.28,\"165\":1.7,\"166\":1.48,\"167\":1.55,\"168\":1.98,\"169\":1.25,\"170\":1.39,\"171\":1.68,\"172\":1.68,\"173\":1.8,\"174\":1.59,\"175\":1.65,\"176\":2.05},\"3.06\":{\"0\":2.76,\"1\":3.24,\"2\":3.49,\"3\":2.69,\"4\":3.39,\"5\":2.52,\"6\":2.51,\"7\":2.98,\"8\":3.15,\"9\":3.32,\"10\":2.43,\"11\":2.76,\"12\":3.69,\"13\":3.64,\"14\":2.91,\"15\":3.14,\"16\":3.4,\"17\":3.93,\"18\":3.03,\"19\":3.17,\"20\":2.41,\"21\":2.88,\"22\":2.37,\"23\":2.61,\"24\":2.68,\"25\":2.94,\"26\":2.19,\"27\":2.97,\"28\":2.33,\"29\":3.25,\"30\":3.19,\"31\":2.69,\"32\":2.74,\"33\":2.53,\"34\":2.98,\"35\":2.68,\"36\":2.43,\"37\":2.64,\"38\":3.04,\"39\":3.29,\"40\":2.68,\"41\":3.56,\"42\":2.63,\"43\":3.0,\"44\":2.65,\"45\":3.17,\"46\":3.39,\"47\":2.92,\"48\":3.54,\"49\":3.27,\"50\":2.99,\"51\":3.74,\"52\":2.79,\"53\":2.9,\"54\":2.78,\"55\":3.0,\"56\":3.23,\"57\":3.67,\"58\":0.57,\"59\":1.09,\"60\":1.41,\"61\":1.79,\"62\":3.1,\"63\":1.75,\"64\":2.65,\"65\":3.18,\"66\":2.0,\"67\":1.3,\"68\":1.28,\"69\":1.02,\"70\":2.86,\"71\":1.84,\"72\":2.89,\"73\":2.14,\"74\":1.57,\"75\":2.03,\"76\":1.32,\"77\":1.85,\"78\":2.55,\"79\":2.26,\"80\":2.53,\"81\":1.58,\"82\":1.59,\"83\":2.21,\"84\":1.94,\"85\":1.69,\"86\":1.61,\"87\":1.69,\"88\":1.59,\"89\":1.5,\"90\":1.25,\"91\":1.46,\"92\":2.25,\"93\":2.26,\"94\":2.27,\"95\":0.99,\"96\":2.5,\"97\":3.75,\"98\":2.99,\"99\":2.17,\"100\":1.36,\"101\":2.11,\"102\":1.64,\"103\":1.92,\"104\":1.84,\"105\":2.03,\"106\":1.76,\"107\":2.04,\"108\":2.92,\"109\":2.58,\"110\":2.27,\"111\":2.03,\"112\":2.01,\"113\":2.29,\"114\":2.17,\"115\":1.6,\"116\":2.09,\"117\":1.25,\"118\":1.64,\"119\":2.79,\"120\":5.08,\"121\":2.13,\"122\":2.65,\"123\":3.03,\"124\":2.65,\"125\":3.15,\"126\":2.24,\"127\":2.45,\"128\":1.75,\"129\":1.25,\"130\":1.22,\"131\":1.09,\"132\":1.2,\"133\":0.58,\"134\":0.66,\"135\":0.47,\"136\":0.6,\"137\":0.48,\"138\":0.6,\"139\":0.5,\"140\":0.5,\"141\":0.52,\"142\":0.8,\"143\":0.78,\"144\":0.55,\"145\":0.34,\"146\":0.65,\"147\":0.76,\"148\":1.39,\"149\":1.57,\"150\":1.36,\"151\":1.28,\"152\":0.83,\"153\":0.58,\"154\":0.63,\"155\":0.83,\"156\":0.58,\"157\":1.31,\"158\":1.1,\"159\":0.92,\"160\":0.56,\"161\":0.6,\"162\":0.7,\"163\":0.68,\"164\":0.47,\"165\":0.92,\"166\":0.66,\"167\":0.84,\"168\":0.96,\"169\":0.49,\"170\":0.51,\"171\":0.7,\"172\":0.61,\"173\":0.75,\"174\":0.69,\"175\":0.68,\"176\":0.76},\".28\":{\"0\":0.26,\"1\":0.3,\"2\":0.24,\"3\":0.39,\"4\":0.34,\"5\":0.3,\"6\":0.31,\"7\":0.29,\"8\":0.22,\"9\":0.22,\"10\":0.26,\"11\":0.29,\"12\":0.43,\"13\":0.29,\"14\":0.3,\"15\":0.33,\"16\":0.4,\"17\":0.32,\"18\":0.17,\"19\":0.24,\"20\":0.25,\"21\":0.27,\"22\":0.26,\"23\":0.28,\"24\":0.47,\"25\":0.34,\"26\":0.27,\"27\":0.37,\"28\":0.26,\"29\":0.29,\"30\":0.22,\"31\":0.42,\"32\":0.5,\"33\":0.29,\"34\":0.26,\"35\":0.34,\"36\":0.29,\"37\":0.28,\"38\":0.2,\"39\":0.34,\"40\":0.27,\"41\":0.17,\"42\":0.32,\"43\":0.28,\"44\":0.3,\"45\":0.27,\"46\":0.21,\"47\":0.32,\"48\":0.32,\"49\":0.17,\"50\":0.22,\"51\":0.32,\"52\":0.39,\"53\":0.21,\"54\":0.2,\"55\":0.26,\"56\":0.31,\"57\":0.19,\"58\":0.28,\"59\":0.63,\"60\":0.53,\"61\":0.32,\"62\":0.19,\"63\":0.45,\"64\":0.37,\"65\":0.26,\"66\":0.27,\"67\":0.55,\"68\":0.14,\"69\":0.37,\"70\":0.21,\"71\":0.27,\"72\":0.21,\"73\":0.13,\"74\":0.34,\"75\":0.24,\"76\":0.43,\"77\":0.35,\"78\":0.43,\"79\":0.3,\"80\":0.26,\"81\":0.4,\"82\":0.61,\"83\":0.22,\"84\":0.3,\"85\":0.43,\"86\":0.4,\"87\":0.48,\"88\":0.42,\"89\":0.52,\"90\":0.5,\"91\":0.58,\"92\":0.25,\"93\":0.17,\"94\":0.32,\"95\":0.14,\"96\":0.29,\"97\":0.24,\"98\":0.45,\"99\":0.26,\"100\":0.29,\"101\":0.34,\"102\":0.37,\"103\":0.32,\"104\":0.66,\"105\":0.37,\"106\":0.48,\"107\":0.39,\"108\":0.29,\"109\":0.24,\"110\":0.26,\"111\":0.6,\"112\":0.42,\"113\":0.43,\"114\":0.52,\"115\":0.3,\"116\":0.34,\"117\":0.43,\"118\":0.37,\"119\":0.32,\"120\":0.47,\"121\":0.43,\"122\":0.3,\"123\":0.21,\"124\":0.37,\"125\":0.39,\"126\":0.58,\"127\":0.4,\"128\":0.42,\"129\":0.21,\"130\":0.24,\"131\":0.27,\"132\":0.17,\"133\":0.6,\"134\":0.63,\"135\":0.53,\"136\":0.63,\"137\":0.58,\"138\":0.53,\"139\":0.53,\"140\":0.37,\"141\":0.5,\"142\":0.47,\"143\":0.29,\"144\":0.43,\"145\":0.4,\"146\":0.47,\"147\":0.45,\"148\":0.34,\"149\":0.22,\"150\":0.24,\"151\":0.26,\"152\":0.61,\"153\":0.53,\"154\":0.61,\"155\":0.48,\"156\":0.63,\"157\":0.53,\"158\":0.52,\"159\":0.5,\"160\":0.5,\"161\":0.6,\"162\":0.4,\"163\":0.41,\"164\":0.52,\"165\":0.43,\"166\":0.4,\"167\":0.39,\"168\":0.27,\"169\":0.4,\"170\":0.48,\"171\":0.44,\"172\":0.52,\"173\":0.43,\"174\":0.43,\"175\":0.53,\"176\":0.56},\"2.29\":{\"0\":1.28,\"1\":2.81,\"2\":2.18,\"3\":1.82,\"4\":1.97,\"5\":1.98,\"6\":1.25,\"7\":1.98,\"8\":1.85,\"9\":2.38,\"10\":1.57,\"11\":1.81,\"12\":2.81,\"13\":2.96,\"14\":1.46,\"15\":1.97,\"16\":1.72,\"17\":1.86,\"18\":1.66,\"19\":2.1,\"20\":1.98,\"21\":1.69,\"22\":1.46,\"23\":1.66,\"24\":1.92,\"25\":1.45,\"26\":1.35,\"27\":1.76,\"28\":1.98,\"29\":2.38,\"30\":1.95,\"31\":1.97,\"32\":1.35,\"33\":1.54,\"34\":1.86,\"35\":1.36,\"36\":1.44,\"37\":1.37,\"38\":2.08,\"39\":2.34,\"40\":1.48,\"41\":1.7,\"42\":1.66,\"43\":2.03,\"44\":1.25,\"45\":2.19,\"46\":2.14,\"47\":2.38,\"48\":2.08,\"49\":2.91,\"50\":2.29,\"51\":1.87,\"52\":1.68,\"53\":1.62,\"54\":2.45,\"55\":2.03,\"56\":1.66,\"57\":2.04,\"58\":0.42,\"59\":0.41,\"60\":0.62,\"61\":0.73,\"62\":1.87,\"63\":1.03,\"64\":2.08,\"65\":2.28,\"66\":1.04,\"67\":0.42,\"68\":2.5,\"69\":1.46,\"70\":1.87,\"71\":1.03,\"72\":1.96,\"73\":1.65,\"74\":1.15,\"75\":1.46,\"76\":0.95,\"77\":2.76,\"78\":1.95,\"79\":1.43,\"80\":1.77,\"81\":1.4,\"82\":1.62,\"83\":2.35,\"84\":1.46,\"85\":1.56,\"86\":1.34,\"87\":1.35,\"88\":1.38,\"89\":1.64,\"90\":1.63,\"91\":1.62,\"92\":1.99,\"93\":1.35,\"94\":3.28,\"95\":1.56,\"96\":1.77,\"97\":1.95,\"98\":2.81,\"99\":1.4,\"100\":1.35,\"101\":1.31,\"102\":1.42,\"103\":1.48,\"104\":1.42,\"105\":1.63,\"106\":1.63,\"107\":2.08,\"108\":2.49,\"109\":3.58,\"110\":1.22,\"111\":1.05,\"112\":1.44,\"113\":1.04,\"114\":2.01,\"115\":1.53,\"116\":1.61,\"117\":0.83,\"118\":1.87,\"119\":1.83,\"120\":1.87,\"121\":1.71,\"122\":2.01,\"123\":2.91,\"124\":1.35,\"125\":1.77,\"126\":1.76,\"127\":1.9,\"128\":1.35,\"129\":0.94,\"130\":0.83,\"131\":0.83,\"132\":0.84,\"133\":1.25,\"134\":0.94,\"135\":0.8,\"136\":1.1,\"137\":0.88,\"138\":0.81,\"139\":0.75,\"140\":0.64,\"141\":0.55,\"142\":1.02,\"143\":1.14,\"144\":1.3,\"145\":0.68,\"146\":0.86,\"147\":1.25,\"148\":1.14,\"149\":1.25,\"150\":1.26,\"151\":1.56,\"152\":1.87,\"153\":1.4,\"154\":1.55,\"155\":1.56,\"156\":1.14,\"157\":2.7,\"158\":2.29,\"159\":1.04,\"160\":0.8,\"161\":0.96,\"162\":0.94,\"163\":1.03,\"164\":1.15,\"165\":1.46,\"166\":0.97,\"167\":1.54,\"168\":1.11,\"169\":0.73,\"170\":0.64,\"171\":1.24,\"172\":1.06,\"173\":1.41,\"174\":1.35,\"175\":1.46,\"176\":1.35},\"5.64\":{\"0\":4.38,\"1\":5.68,\"2\":7.8,\"3\":4.32,\"4\":6.75,\"5\":5.25,\"6\":5.05,\"7\":5.2,\"8\":7.22,\"9\":5.75,\"10\":5.0,\"11\":5.6,\"12\":5.4,\"13\":7.5,\"14\":7.3,\"15\":6.2,\"16\":6.6,\"17\":8.7,\"18\":5.1,\"19\":5.65,\"20\":4.5,\"21\":3.8,\"22\":3.93,\"23\":3.52,\"24\":3.58,\"25\":4.8,\"26\":3.95,\"27\":4.5,\"28\":4.7,\"29\":5.7,\"30\":6.9,\"31\":3.84,\"32\":5.4,\"33\":4.2,\"34\":5.1,\"35\":4.6,\"36\":4.25,\"37\":3.7,\"38\":5.1,\"39\":6.13,\"40\":4.28,\"41\":5.43,\"42\":4.36,\"43\":5.04,\"44\":5.24,\"45\":4.9,\"46\":6.1,\"47\":6.2,\"48\":8.9,\"49\":7.2,\"50\":5.6,\"51\":7.05,\"52\":6.3,\"53\":5.85,\"54\":6.25,\"55\":6.38,\"56\":6.0,\"57\":6.8,\"58\":1.95,\"59\":3.27,\"60\":5.75,\"61\":3.8,\"62\":4.45,\"63\":2.95,\"64\":4.6,\"65\":5.3,\"66\":4.68,\"67\":3.17,\"68\":2.85,\"69\":3.05,\"70\":3.38,\"71\":3.74,\"72\":3.35,\"73\":3.21,\"74\":3.8,\"75\":4.6,\"76\":2.65,\"77\":3.4,\"78\":2.57,\"79\":2.5,\"80\":3.9,\"81\":2.2,\"82\":4.8,\"83\":3.05,\"84\":2.62,\"85\":2.45,\"86\":2.6,\"87\":2.8,\"88\":1.74,\"89\":2.4,\"90\":3.6,\"91\":3.05,\"92\":2.15,\"93\":3.25,\"94\":2.6,\"95\":2.5,\"96\":2.9,\"97\":4.5,\"98\":2.3,\"99\":3.3,\"100\":2.45,\"101\":2.8,\"102\":2.06,\"103\":2.94,\"104\":2.7,\"105\":3.4,\"106\":3.3,\"107\":2.7,\"108\":2.65,\"109\":2.9,\"110\":2.0,\"111\":3.8,\"112\":3.08,\"113\":2.9,\"114\":1.9,\"115\":1.95,\"116\":2.06,\"117\":3.4,\"118\":1.28,\"119\":3.25,\"120\":6.0,\"121\":2.08,\"122\":2.6,\"123\":2.8,\"124\":2.76,\"125\":3.94,\"126\":3.0,\"127\":2.12,\"128\":2.6,\"129\":4.1,\"130\":5.4,\"131\":5.7,\"132\":5.0,\"133\":5.45,\"134\":7.1,\"135\":3.85,\"136\":5.0,\"137\":5.7,\"138\":4.92,\"139\":4.6,\"140\":5.6,\"141\":4.35,\"142\":4.4,\"143\":8.21,\"144\":4.0,\"145\":4.9,\"146\":7.65,\"147\":8.42,\"148\":9.4,\"149\":8.6,\"150\":10.8,\"151\":7.1,\"152\":10.52,\"153\":7.6,\"154\":7.9,\"155\":9.01,\"156\":7.5,\"157\":13.0,\"158\":11.75,\"159\":7.65,\"160\":5.88,\"161\":5.58,\"162\":5.28,\"163\":9.58,\"164\":6.62,\"165\":10.68,\"166\":10.26,\"167\":8.66,\"168\":8.5,\"169\":5.5,\"170\":9.899999,\"171\":9.7,\"172\":7.7,\"173\":7.3,\"174\":10.2,\"175\":9.3,\"176\":9.2},\"1.04\":{\"0\":1.05,\"1\":1.03,\"2\":0.86,\"3\":1.04,\"4\":1.05,\"5\":1.02,\"6\":1.06,\"7\":1.08,\"8\":1.01,\"9\":1.25,\"10\":1.17,\"11\":1.15,\"12\":1.25,\"13\":1.2,\"14\":1.28,\"15\":1.07,\"16\":1.13,\"17\":1.23,\"18\":0.96,\"19\":1.09,\"20\":1.03,\"21\":1.11,\"22\":1.09,\"23\":1.12,\"24\":1.13,\"25\":0.92,\"26\":1.02,\"27\":1.25,\"28\":1.04,\"29\":1.19,\"30\":1.09,\"31\":1.23,\"32\":1.25,\"33\":1.1,\"34\":1.04,\"35\":1.09,\"36\":1.12,\"37\":1.18,\"38\":0.89,\"39\":0.95,\"40\":0.91,\"41\":0.88,\"42\":0.82,\"43\":0.88,\"44\":0.87,\"45\":1.04,\"46\":0.91,\"47\":1.07,\"48\":1.12,\"49\":1.12,\"50\":1.24,\"51\":1.01,\"52\":1.13,\"53\":0.92,\"54\":0.98,\"55\":0.94,\"56\":1.07,\"57\":0.89,\"58\":1.05,\"59\":1.25,\"60\":0.98,\"61\":1.23,\"62\":1.22,\"63\":1.45,\"64\":1.19,\"65\":1.12,\"66\":1.12,\"67\":1.02,\"68\":1.28,\"69\":0.906,\"70\":1.36,\"71\":0.98,\"72\":1.31,\"73\":0.99,\"74\":1.23,\"75\":1.19,\"76\":0.96,\"77\":1.06,\"78\":1.19,\"79\":1.38,\"80\":1.16,\"81\":1.31,\"82\":0.84,\"83\":0.79,\"84\":1.23,\"85\":1.33,\"86\":1.36,\"87\":1.0,\"88\":1.07,\"89\":1.08,\"90\":1.05,\"91\":0.96,\"92\":1.15,\"93\":1.16,\"94\":1.16,\"95\":0.95,\"96\":1.23,\"97\":1.04,\"98\":1.42,\"99\":1.27,\"100\":1.04,\"101\":0.8,\"102\":0.94,\"103\":1.04,\"104\":0.86,\"105\":1.0,\"106\":0.88,\"107\":0.86,\"108\":0.96,\"109\":0.75,\"110\":0.9,\"111\":1.23,\"112\":1.1,\"113\":0.93,\"114\":1.71,\"115\":0.95,\"116\":1.06,\"117\":0.7,\"118\":0.93,\"119\":0.8,\"120\":0.93,\"121\":0.92,\"122\":0.73,\"123\":0.75,\"124\":0.86,\"125\":0.69,\"126\":0.97,\"127\":0.89,\"128\":0.79,\"129\":0.76,\"130\":0.74,\"131\":0.66,\"132\":0.78,\"133\":0.75,\"134\":0.73,\"135\":0.75,\"136\":0.82,\"137\":0.81,\"138\":0.89,\"139\":0.77,\"140\":0.7,\"141\":0.89,\"142\":0.91,\"143\":0.65,\"144\":0.6,\"145\":0.58,\"146\":0.54,\"147\":0.55,\"148\":0.57,\"149\":0.59,\"150\":0.48,\"151\":0.61,\"152\":0.56,\"153\":0.58,\"154\":0.6,\"155\":0.57,\"156\":0.67,\"157\":0.57,\"158\":0.57,\"159\":0.56,\"160\":0.96,\"161\":0.87,\"162\":0.68,\"163\":0.7,\"164\":0.78,\"165\":0.85,\"166\":0.72,\"167\":0.74,\"168\":0.67,\"169\":0.66,\"170\":0.57,\"171\":0.62,\"172\":0.64,\"173\":0.7,\"174\":0.59,\"175\":0.6,\"176\":0.61},\"3.92\":{\"0\":3.4,\"1\":3.17,\"2\":3.45,\"3\":2.93,\"4\":2.85,\"5\":3.58,\"6\":3.58,\"7\":2.85,\"8\":3.55,\"9\":3.17,\"10\":2.82,\"11\":2.9,\"12\":2.73,\"13\":3.0,\"14\":2.88,\"15\":2.65,\"16\":2.57,\"17\":2.82,\"18\":3.36,\"19\":3.71,\"20\":3.52,\"21\":4.0,\"22\":3.63,\"23\":3.82,\"24\":3.2,\"25\":3.22,\"26\":2.77,\"27\":3.4,\"28\":3.59,\"29\":2.71,\"30\":2.88,\"31\":2.87,\"32\":3.0,\"33\":2.87,\"34\":3.47,\"35\":2.78,\"36\":2.51,\"37\":2.69,\"38\":3.53,\"39\":3.38,\"40\":3.0,\"41\":3.56,\"42\":3.0,\"43\":3.35,\"44\":3.33,\"45\":3.44,\"46\":3.33,\"47\":2.75,\"48\":3.1,\"49\":2.91,\"50\":3.37,\"51\":3.26,\"52\":2.93,\"53\":3.2,\"54\":3.03,\"55\":3.31,\"56\":2.84,\"57\":2.87,\"58\":1.82,\"59\":1.67,\"60\":1.59,\"61\":2.46,\"62\":2.87,\"63\":2.23,\"64\":2.3,\"65\":3.18,\"66\":3.48,\"67\":1.93,\"68\":3.07,\"69\":1.82,\"70\":3.16,\"71\":2.78,\"72\":3.5,\"73\":3.13,\"74\":2.14,\"75\":2.48,\"76\":2.52,\"77\":2.31,\"78\":3.13,\"79\":3.12,\"80\":3.14,\"81\":2.72,\"82\":2.01,\"83\":3.08,\"84\":3.16,\"85\":2.26,\"86\":3.21,\"87\":2.75,\"88\":3.21,\"89\":2.27,\"90\":2.65,\"91\":2.06,\"92\":3.3,\"93\":2.96,\"94\":2.63,\"95\":2.26,\"96\":2.74,\"97\":2.77,\"98\":2.83,\"99\":2.96,\"100\":2.77,\"101\":3.38,\"102\":2.44,\"103\":3.57,\"104\":3.3,\"105\":3.17,\"106\":2.42,\"107\":3.02,\"108\":3.26,\"109\":2.81,\"110\":2.78,\"111\":2.5,\"112\":2.31,\"113\":3.19,\"114\":2.87,\"115\":3.33,\"116\":2.96,\"117\":2.12,\"118\":3.05,\"119\":3.39,\"120\":3.69,\"121\":3.12,\"122\":3.1,\"123\":3.64,\"124\":3.28,\"125\":2.84,\"126\":2.44,\"127\":2.78,\"128\":2.57,\"129\":1.29,\"130\":1.42,\"131\":1.36,\"132\":1.29,\"133\":1.51,\"134\":1.58,\"135\":1.27,\"136\":1.69,\"137\":1.82,\"138\":2.15,\"139\":2.31,\"140\":2.47,\"141\":2.06,\"142\":2.05,\"143\":2.0,\"144\":1.68,\"145\":1.33,\"146\":1.86,\"147\":1.62,\"148\":1.33,\"149\":1.3,\"150\":1.47,\"151\":1.33,\"152\":1.51,\"153\":1.55,\"154\":1.48,\"155\":1.64,\"156\":1.73,\"157\":1.96,\"158\":1.78,\"159\":1.58,\"160\":1.82,\"161\":2.11,\"162\":1.75,\"163\":1.68,\"164\":1.75,\"165\":1.56,\"166\":1.75,\"167\":1.8,\"168\":1.92,\"169\":1.83,\"170\":1.63,\"171\":1.71,\"172\":1.74,\"173\":1.56,\"174\":1.56,\"175\":1.62,\"176\":1.6},\"1065\":{\"0\":1050,\"1\":1185,\"2\":1480,\"3\":735,\"4\":1450,\"5\":1290,\"6\":1295,\"7\":1045,\"8\":1045,\"9\":1510,\"10\":1280,\"11\":1320,\"12\":1150,\"13\":1547,\"14\":1310,\"15\":1280,\"16\":1130,\"17\":1680,\"18\":845,\"19\":780,\"20\":770,\"21\":1035,\"22\":1015,\"23\":845,\"24\":830,\"25\":1195,\"26\":1285,\"27\":915,\"28\":1035,\"29\":1285,\"30\":1515,\"31\":990,\"32\":1235,\"33\":1095,\"34\":920,\"35\":880,\"36\":1105,\"37\":1020,\"38\":760,\"39\":795,\"40\":1035,\"41\":1095,\"42\":680,\"43\":885,\"44\":1080,\"45\":1065,\"46\":985,\"47\":1060,\"48\":1260,\"49\":1150,\"50\":1265,\"51\":1190,\"52\":1375,\"53\":1060,\"54\":1120,\"55\":970,\"56\":1270,\"57\":1285,\"58\":520,\"59\":680,\"60\":450,\"61\":630,\"62\":420,\"63\":355,\"64\":678,\"65\":502,\"66\":510,\"67\":750,\"68\":718,\"69\":870,\"70\":410,\"71\":472,\"72\":985,\"73\":886,\"74\":428,\"75\":392,\"76\":500,\"77\":750,\"78\":463,\"79\":278,\"80\":714,\"81\":630,\"82\":515,\"83\":520,\"84\":450,\"85\":495,\"86\":562,\"87\":680,\"88\":625,\"89\":480,\"90\":450,\"91\":495,\"92\":290,\"93\":345,\"94\":937,\"95\":625,\"96\":428,\"97\":660,\"98\":406,\"99\":710,\"100\":562,\"101\":438,\"102\":415,\"103\":672,\"104\":315,\"105\":510,\"106\":488,\"107\":312,\"108\":680,\"109\":562,\"110\":325,\"111\":607,\"112\":434,\"113\":385,\"114\":407,\"115\":495,\"116\":345,\"117\":372,\"118\":564,\"119\":625,\"120\":465,\"121\":365,\"122\":380,\"123\":380,\"124\":378,\"125\":352,\"126\":466,\"127\":342,\"128\":580,\"129\":630,\"130\":530,\"131\":560,\"132\":600,\"133\":650,\"134\":695,\"135\":720,\"136\":515,\"137\":580,\"138\":590,\"139\":600,\"140\":780,\"141\":520,\"142\":550,\"143\":855,\"144\":830,\"145\":415,\"146\":625,\"147\":650,\"148\":550,\"149\":500,\"150\":480,\"151\":425,\"152\":675,\"153\":640,\"154\":725,\"155\":480,\"156\":880,\"157\":660,\"158\":620,\"159\":520,\"160\":680,\"161\":570,\"162\":675,\"163\":615,\"164\":520,\"165\":695,\"166\":685,\"167\":750,\"168\":630,\"169\":510,\"170\":470,\"171\":660,\"172\":740,\"173\":750,\"174\":835,\"175\":840,\"176\":560}}'"
      ]
     },
     "execution_count": 31,
     "metadata": {},
     "output_type": "execute_result"
    }
   ],
   "source": [
    "d.to_json()"
   ]
  },
  {
   "cell_type": "code",
   "execution_count": 32,
   "metadata": {},
   "outputs": [
    {
     "data": {
      "text/plain": [
       "'[{\"1\":1,\"14.23\":13.2,\"1.71\":1.78,\"2.43\":2.14,\"15.6\":11.2,\"127\":100,\"2.8\":2.65,\"3.06\":2.76,\".28\":0.26,\"2.29\":1.28,\"5.64\":4.38,\"1.04\":1.05,\"3.92\":3.4,\"1065\":1050},{\"1\":1,\"14.23\":13.16,\"1.71\":2.36,\"2.43\":2.67,\"15.6\":18.6,\"127\":101,\"2.8\":2.8,\"3.06\":3.24,\".28\":0.3,\"2.29\":2.81,\"5.64\":5.68,\"1.04\":1.03,\"3.92\":3.17,\"1065\":1185},{\"1\":1,\"14.23\":14.37,\"1.71\":1.95,\"2.43\":2.5,\"15.6\":16.8,\"127\":113,\"2.8\":3.85,\"3.06\":3.49,\".28\":0.24,\"2.29\":2.18,\"5.64\":7.8,\"1.04\":0.86,\"3.92\":3.45,\"1065\":1480},{\"1\":1,\"14.23\":13.24,\"1.71\":2.59,\"2.43\":2.87,\"15.6\":21.0,\"127\":118,\"2.8\":2.8,\"3.06\":2.69,\".28\":0.39,\"2.29\":1.82,\"5.64\":4.32,\"1.04\":1.04,\"3.92\":2.93,\"1065\":735},{\"1\":1,\"14.23\":14.2,\"1.71\":1.76,\"2.43\":2.45,\"15.6\":15.2,\"127\":112,\"2.8\":3.27,\"3.06\":3.39,\".28\":0.34,\"2.29\":1.97,\"5.64\":6.75,\"1.04\":1.05,\"3.92\":2.85,\"1065\":1450},{\"1\":1,\"14.23\":14.39,\"1.71\":1.87,\"2.43\":2.45,\"15.6\":14.6,\"127\":96,\"2.8\":2.5,\"3.06\":2.52,\".28\":0.3,\"2.29\":1.98,\"5.64\":5.25,\"1.04\":1.02,\"3.92\":3.58,\"1065\":1290},{\"1\":1,\"14.23\":14.06,\"1.71\":2.15,\"2.43\":2.61,\"15.6\":17.6,\"127\":121,\"2.8\":2.6,\"3.06\":2.51,\".28\":0.31,\"2.29\":1.25,\"5.64\":5.05,\"1.04\":1.06,\"3.92\":3.58,\"1065\":1295},{\"1\":1,\"14.23\":14.83,\"1.71\":1.64,\"2.43\":2.17,\"15.6\":14.0,\"127\":97,\"2.8\":2.8,\"3.06\":2.98,\".28\":0.29,\"2.29\":1.98,\"5.64\":5.2,\"1.04\":1.08,\"3.92\":2.85,\"1065\":1045},{\"1\":1,\"14.23\":13.86,\"1.71\":1.35,\"2.43\":2.27,\"15.6\":16.0,\"127\":98,\"2.8\":2.98,\"3.06\":3.15,\".28\":0.22,\"2.29\":1.85,\"5.64\":7.22,\"1.04\":1.01,\"3.92\":3.55,\"1065\":1045},{\"1\":1,\"14.23\":14.1,\"1.71\":2.16,\"2.43\":2.3,\"15.6\":18.0,\"127\":105,\"2.8\":2.95,\"3.06\":3.32,\".28\":0.22,\"2.29\":2.38,\"5.64\":5.75,\"1.04\":1.25,\"3.92\":3.17,\"1065\":1510},{\"1\":1,\"14.23\":14.12,\"1.71\":1.48,\"2.43\":2.32,\"15.6\":16.8,\"127\":95,\"2.8\":2.2,\"3.06\":2.43,\".28\":0.26,\"2.29\":1.57,\"5.64\":5.0,\"1.04\":1.17,\"3.92\":2.82,\"1065\":1280},{\"1\":1,\"14.23\":13.75,\"1.71\":1.73,\"2.43\":2.41,\"15.6\":16.0,\"127\":89,\"2.8\":2.6,\"3.06\":2.76,\".28\":0.29,\"2.29\":1.81,\"5.64\":5.6,\"1.04\":1.15,\"3.92\":2.9,\"1065\":1320},{\"1\":1,\"14.23\":14.75,\"1.71\":1.73,\"2.43\":2.39,\"15.6\":11.4,\"127\":91,\"2.8\":3.1,\"3.06\":3.69,\".28\":0.43,\"2.29\":2.81,\"5.64\":5.4,\"1.04\":1.25,\"3.92\":2.73,\"1065\":1150},{\"1\":1,\"14.23\":14.38,\"1.71\":1.87,\"2.43\":2.38,\"15.6\":12.0,\"127\":102,\"2.8\":3.3,\"3.06\":3.64,\".28\":0.29,\"2.29\":2.96,\"5.64\":7.5,\"1.04\":1.2,\"3.92\":3.0,\"1065\":1547},{\"1\":1,\"14.23\":13.63,\"1.71\":1.81,\"2.43\":2.7,\"15.6\":17.2,\"127\":112,\"2.8\":2.85,\"3.06\":2.91,\".28\":0.3,\"2.29\":1.46,\"5.64\":7.3,\"1.04\":1.28,\"3.92\":2.88,\"1065\":1310},{\"1\":1,\"14.23\":14.3,\"1.71\":1.92,\"2.43\":2.72,\"15.6\":20.0,\"127\":120,\"2.8\":2.8,\"3.06\":3.14,\".28\":0.33,\"2.29\":1.97,\"5.64\":6.2,\"1.04\":1.07,\"3.92\":2.65,\"1065\":1280},{\"1\":1,\"14.23\":13.83,\"1.71\":1.57,\"2.43\":2.62,\"15.6\":20.0,\"127\":115,\"2.8\":2.95,\"3.06\":3.4,\".28\":0.4,\"2.29\":1.72,\"5.64\":6.6,\"1.04\":1.13,\"3.92\":2.57,\"1065\":1130},{\"1\":1,\"14.23\":14.19,\"1.71\":1.59,\"2.43\":2.48,\"15.6\":16.5,\"127\":108,\"2.8\":3.3,\"3.06\":3.93,\".28\":0.32,\"2.29\":1.86,\"5.64\":8.7,\"1.04\":1.23,\"3.92\":2.82,\"1065\":1680},{\"1\":1,\"14.23\":13.64,\"1.71\":3.1,\"2.43\":2.56,\"15.6\":15.2,\"127\":116,\"2.8\":2.7,\"3.06\":3.03,\".28\":0.17,\"2.29\":1.66,\"5.64\":5.1,\"1.04\":0.96,\"3.92\":3.36,\"1065\":845},{\"1\":1,\"14.23\":14.06,\"1.71\":1.63,\"2.43\":2.28,\"15.6\":16.0,\"127\":126,\"2.8\":3.0,\"3.06\":3.17,\".28\":0.24,\"2.29\":2.1,\"5.64\":5.65,\"1.04\":1.09,\"3.92\":3.71,\"1065\":780},{\"1\":1,\"14.23\":12.93,\"1.71\":3.8,\"2.43\":2.65,\"15.6\":18.6,\"127\":102,\"2.8\":2.41,\"3.06\":2.41,\".28\":0.25,\"2.29\":1.98,\"5.64\":4.5,\"1.04\":1.03,\"3.92\":3.52,\"1065\":770},{\"1\":1,\"14.23\":13.71,\"1.71\":1.86,\"2.43\":2.36,\"15.6\":16.6,\"127\":101,\"2.8\":2.61,\"3.06\":2.88,\".28\":0.27,\"2.29\":1.69,\"5.64\":3.8,\"1.04\":1.11,\"3.92\":4.0,\"1065\":1035},{\"1\":1,\"14.23\":12.85,\"1.71\":1.6,\"2.43\":2.52,\"15.6\":17.8,\"127\":95,\"2.8\":2.48,\"3.06\":2.37,\".28\":0.26,\"2.29\":1.46,\"5.64\":3.93,\"1.04\":1.09,\"3.92\":3.63,\"1065\":1015},{\"1\":1,\"14.23\":13.5,\"1.71\":1.81,\"2.43\":2.61,\"15.6\":20.0,\"127\":96,\"2.8\":2.53,\"3.06\":2.61,\".28\":0.28,\"2.29\":1.66,\"5.64\":3.52,\"1.04\":1.12,\"3.92\":3.82,\"1065\":845},{\"1\":1,\"14.23\":13.05,\"1.71\":2.05,\"2.43\":3.22,\"15.6\":25.0,\"127\":124,\"2.8\":2.63,\"3.06\":2.68,\".28\":0.47,\"2.29\":1.92,\"5.64\":3.58,\"1.04\":1.13,\"3.92\":3.2,\"1065\":830},{\"1\":1,\"14.23\":13.39,\"1.71\":1.77,\"2.43\":2.62,\"15.6\":16.1,\"127\":93,\"2.8\":2.85,\"3.06\":2.94,\".28\":0.34,\"2.29\":1.45,\"5.64\":4.8,\"1.04\":0.92,\"3.92\":3.22,\"1065\":1195},{\"1\":1,\"14.23\":13.3,\"1.71\":1.72,\"2.43\":2.14,\"15.6\":17.0,\"127\":94,\"2.8\":2.4,\"3.06\":2.19,\".28\":0.27,\"2.29\":1.35,\"5.64\":3.95,\"1.04\":1.02,\"3.92\":2.77,\"1065\":1285},{\"1\":1,\"14.23\":13.87,\"1.71\":1.9,\"2.43\":2.8,\"15.6\":19.4,\"127\":107,\"2.8\":2.95,\"3.06\":2.97,\".28\":0.37,\"2.29\":1.76,\"5.64\":4.5,\"1.04\":1.25,\"3.92\":3.4,\"1065\":915},{\"1\":1,\"14.23\":14.02,\"1.71\":1.68,\"2.43\":2.21,\"15.6\":16.0,\"127\":96,\"2.8\":2.65,\"3.06\":2.33,\".28\":0.26,\"2.29\":1.98,\"5.64\":4.7,\"1.04\":1.04,\"3.92\":3.59,\"1065\":1035},{\"1\":1,\"14.23\":13.73,\"1.71\":1.5,\"2.43\":2.7,\"15.6\":22.5,\"127\":101,\"2.8\":3.0,\"3.06\":3.25,\".28\":0.29,\"2.29\":2.38,\"5.64\":5.7,\"1.04\":1.19,\"3.92\":2.71,\"1065\":1285},{\"1\":1,\"14.23\":13.58,\"1.71\":1.66,\"2.43\":2.36,\"15.6\":19.1,\"127\":106,\"2.8\":2.86,\"3.06\":3.19,\".28\":0.22,\"2.29\":1.95,\"5.64\":6.9,\"1.04\":1.09,\"3.92\":2.88,\"1065\":1515},{\"1\":1,\"14.23\":13.68,\"1.71\":1.83,\"2.43\":2.36,\"15.6\":17.2,\"127\":104,\"2.8\":2.42,\"3.06\":2.69,\".28\":0.42,\"2.29\":1.97,\"5.64\":3.84,\"1.04\":1.23,\"3.92\":2.87,\"1065\":990},{\"1\":1,\"14.23\":13.76,\"1.71\":1.53,\"2.43\":2.7,\"15.6\":19.5,\"127\":132,\"2.8\":2.95,\"3.06\":2.74,\".28\":0.5,\"2.29\":1.35,\"5.64\":5.4,\"1.04\":1.25,\"3.92\":3.0,\"1065\":1235},{\"1\":1,\"14.23\":13.51,\"1.71\":1.8,\"2.43\":2.65,\"15.6\":19.0,\"127\":110,\"2.8\":2.35,\"3.06\":2.53,\".28\":0.29,\"2.29\":1.54,\"5.64\":4.2,\"1.04\":1.1,\"3.92\":2.87,\"1065\":1095},{\"1\":1,\"14.23\":13.48,\"1.71\":1.81,\"2.43\":2.41,\"15.6\":20.5,\"127\":100,\"2.8\":2.7,\"3.06\":2.98,\".28\":0.26,\"2.29\":1.86,\"5.64\":5.1,\"1.04\":1.04,\"3.92\":3.47,\"1065\":920},{\"1\":1,\"14.23\":13.28,\"1.71\":1.64,\"2.43\":2.84,\"15.6\":15.5,\"127\":110,\"2.8\":2.6,\"3.06\":2.68,\".28\":0.34,\"2.29\":1.36,\"5.64\":4.6,\"1.04\":1.09,\"3.92\":2.78,\"1065\":880},{\"1\":1,\"14.23\":13.05,\"1.71\":1.65,\"2.43\":2.55,\"15.6\":18.0,\"127\":98,\"2.8\":2.45,\"3.06\":2.43,\".28\":0.29,\"2.29\":1.44,\"5.64\":4.25,\"1.04\":1.12,\"3.92\":2.51,\"1065\":1105},{\"1\":1,\"14.23\":13.07,\"1.71\":1.5,\"2.43\":2.1,\"15.6\":15.5,\"127\":98,\"2.8\":2.4,\"3.06\":2.64,\".28\":0.28,\"2.29\":1.37,\"5.64\":3.7,\"1.04\":1.18,\"3.92\":2.69,\"1065\":1020},{\"1\":1,\"14.23\":14.22,\"1.71\":3.99,\"2.43\":2.51,\"15.6\":13.2,\"127\":128,\"2.8\":3.0,\"3.06\":3.04,\".28\":0.2,\"2.29\":2.08,\"5.64\":5.1,\"1.04\":0.89,\"3.92\":3.53,\"1065\":760},{\"1\":1,\"14.23\":13.56,\"1.71\":1.71,\"2.43\":2.31,\"15.6\":16.2,\"127\":117,\"2.8\":3.15,\"3.06\":3.29,\".28\":0.34,\"2.29\":2.34,\"5.64\":6.13,\"1.04\":0.95,\"3.92\":3.38,\"1065\":795},{\"1\":1,\"14.23\":13.41,\"1.71\":3.84,\"2.43\":2.12,\"15.6\":18.8,\"127\":90,\"2.8\":2.45,\"3.06\":2.68,\".28\":0.27,\"2.29\":1.48,\"5.64\":4.28,\"1.04\":0.91,\"3.92\":3.0,\"1065\":1035},{\"1\":1,\"14.23\":13.88,\"1.71\":1.89,\"2.43\":2.59,\"15.6\":15.0,\"127\":101,\"2.8\":3.25,\"3.06\":3.56,\".28\":0.17,\"2.29\":1.7,\"5.64\":5.43,\"1.04\":0.88,\"3.92\":3.56,\"1065\":1095},{\"1\":1,\"14.23\":13.24,\"1.71\":3.98,\"2.43\":2.29,\"15.6\":17.5,\"127\":103,\"2.8\":2.64,\"3.06\":2.63,\".28\":0.32,\"2.29\":1.66,\"5.64\":4.36,\"1.04\":0.82,\"3.92\":3.0,\"1065\":680},{\"1\":1,\"14.23\":13.05,\"1.71\":1.77,\"2.43\":2.1,\"15.6\":17.0,\"127\":107,\"2.8\":3.0,\"3.06\":3.0,\".28\":0.28,\"2.29\":2.03,\"5.64\":5.04,\"1.04\":0.88,\"3.92\":3.35,\"1065\":885},{\"1\":1,\"14.23\":14.21,\"1.71\":4.04,\"2.43\":2.44,\"15.6\":18.9,\"127\":111,\"2.8\":2.85,\"3.06\":2.65,\".28\":0.3,\"2.29\":1.25,\"5.64\":5.24,\"1.04\":0.87,\"3.92\":3.33,\"1065\":1080},{\"1\":1,\"14.23\":14.38,\"1.71\":3.59,\"2.43\":2.28,\"15.6\":16.0,\"127\":102,\"2.8\":3.25,\"3.06\":3.17,\".28\":0.27,\"2.29\":2.19,\"5.64\":4.9,\"1.04\":1.04,\"3.92\":3.44,\"1065\":1065},{\"1\":1,\"14.23\":13.9,\"1.71\":1.68,\"2.43\":2.12,\"15.6\":16.0,\"127\":101,\"2.8\":3.1,\"3.06\":3.39,\".28\":0.21,\"2.29\":2.14,\"5.64\":6.1,\"1.04\":0.91,\"3.92\":3.33,\"1065\":985},{\"1\":1,\"14.23\":14.1,\"1.71\":2.02,\"2.43\":2.4,\"15.6\":18.8,\"127\":103,\"2.8\":2.75,\"3.06\":2.92,\".28\":0.32,\"2.29\":2.38,\"5.64\":6.2,\"1.04\":1.07,\"3.92\":2.75,\"1065\":1060},{\"1\":1,\"14.23\":13.94,\"1.71\":1.73,\"2.43\":2.27,\"15.6\":17.4,\"127\":108,\"2.8\":2.88,\"3.06\":3.54,\".28\":0.32,\"2.29\":2.08,\"5.64\":8.9,\"1.04\":1.12,\"3.92\":3.1,\"1065\":1260},{\"1\":1,\"14.23\":13.05,\"1.71\":1.73,\"2.43\":2.04,\"15.6\":12.4,\"127\":92,\"2.8\":2.72,\"3.06\":3.27,\".28\":0.17,\"2.29\":2.91,\"5.64\":7.2,\"1.04\":1.12,\"3.92\":2.91,\"1065\":1150},{\"1\":1,\"14.23\":13.83,\"1.71\":1.65,\"2.43\":2.6,\"15.6\":17.2,\"127\":94,\"2.8\":2.45,\"3.06\":2.99,\".28\":0.22,\"2.29\":2.29,\"5.64\":5.6,\"1.04\":1.24,\"3.92\":3.37,\"1065\":1265},{\"1\":1,\"14.23\":13.82,\"1.71\":1.75,\"2.43\":2.42,\"15.6\":14.0,\"127\":111,\"2.8\":3.88,\"3.06\":3.74,\".28\":0.32,\"2.29\":1.87,\"5.64\":7.05,\"1.04\":1.01,\"3.92\":3.26,\"1065\":1190},{\"1\":1,\"14.23\":13.77,\"1.71\":1.9,\"2.43\":2.68,\"15.6\":17.1,\"127\":115,\"2.8\":3.0,\"3.06\":2.79,\".28\":0.39,\"2.29\":1.68,\"5.64\":6.3,\"1.04\":1.13,\"3.92\":2.93,\"1065\":1375},{\"1\":1,\"14.23\":13.74,\"1.71\":1.67,\"2.43\":2.25,\"15.6\":16.4,\"127\":118,\"2.8\":2.6,\"3.06\":2.9,\".28\":0.21,\"2.29\":1.62,\"5.64\":5.85,\"1.04\":0.92,\"3.92\":3.2,\"1065\":1060},{\"1\":1,\"14.23\":13.56,\"1.71\":1.73,\"2.43\":2.46,\"15.6\":20.5,\"127\":116,\"2.8\":2.96,\"3.06\":2.78,\".28\":0.2,\"2.29\":2.45,\"5.64\":6.25,\"1.04\":0.98,\"3.92\":3.03,\"1065\":1120},{\"1\":1,\"14.23\":14.22,\"1.71\":1.7,\"2.43\":2.3,\"15.6\":16.3,\"127\":118,\"2.8\":3.2,\"3.06\":3.0,\".28\":0.26,\"2.29\":2.03,\"5.64\":6.38,\"1.04\":0.94,\"3.92\":3.31,\"1065\":970},{\"1\":1,\"14.23\":13.29,\"1.71\":1.97,\"2.43\":2.68,\"15.6\":16.8,\"127\":102,\"2.8\":3.0,\"3.06\":3.23,\".28\":0.31,\"2.29\":1.66,\"5.64\":6.0,\"1.04\":1.07,\"3.92\":2.84,\"1065\":1270},{\"1\":1,\"14.23\":13.72,\"1.71\":1.43,\"2.43\":2.5,\"15.6\":16.7,\"127\":108,\"2.8\":3.4,\"3.06\":3.67,\".28\":0.19,\"2.29\":2.04,\"5.64\":6.8,\"1.04\":0.89,\"3.92\":2.87,\"1065\":1285},{\"1\":2,\"14.23\":12.37,\"1.71\":0.94,\"2.43\":1.36,\"15.6\":10.6,\"127\":88,\"2.8\":1.98,\"3.06\":0.57,\".28\":0.28,\"2.29\":0.42,\"5.64\":1.95,\"1.04\":1.05,\"3.92\":1.82,\"1065\":520},{\"1\":2,\"14.23\":12.33,\"1.71\":1.1,\"2.43\":2.28,\"15.6\":16.0,\"127\":101,\"2.8\":2.05,\"3.06\":1.09,\".28\":0.63,\"2.29\":0.41,\"5.64\":3.27,\"1.04\":1.25,\"3.92\":1.67,\"1065\":680},{\"1\":2,\"14.23\":12.64,\"1.71\":1.36,\"2.43\":2.02,\"15.6\":16.8,\"127\":100,\"2.8\":2.02,\"3.06\":1.41,\".28\":0.53,\"2.29\":0.62,\"5.64\":5.75,\"1.04\":0.98,\"3.92\":1.59,\"1065\":450},{\"1\":2,\"14.23\":13.67,\"1.71\":1.25,\"2.43\":1.92,\"15.6\":18.0,\"127\":94,\"2.8\":2.1,\"3.06\":1.79,\".28\":0.32,\"2.29\":0.73,\"5.64\":3.8,\"1.04\":1.23,\"3.92\":2.46,\"1065\":630},{\"1\":2,\"14.23\":12.37,\"1.71\":1.13,\"2.43\":2.16,\"15.6\":19.0,\"127\":87,\"2.8\":3.5,\"3.06\":3.1,\".28\":0.19,\"2.29\":1.87,\"5.64\":4.45,\"1.04\":1.22,\"3.92\":2.87,\"1065\":420},{\"1\":2,\"14.23\":12.17,\"1.71\":1.45,\"2.43\":2.53,\"15.6\":19.0,\"127\":104,\"2.8\":1.89,\"3.06\":1.75,\".28\":0.45,\"2.29\":1.03,\"5.64\":2.95,\"1.04\":1.45,\"3.92\":2.23,\"1065\":355},{\"1\":2,\"14.23\":12.37,\"1.71\":1.21,\"2.43\":2.56,\"15.6\":18.1,\"127\":98,\"2.8\":2.42,\"3.06\":2.65,\".28\":0.37,\"2.29\":2.08,\"5.64\":4.6,\"1.04\":1.19,\"3.92\":2.3,\"1065\":678},{\"1\":2,\"14.23\":13.11,\"1.71\":1.01,\"2.43\":1.7,\"15.6\":15.0,\"127\":78,\"2.8\":2.98,\"3.06\":3.18,\".28\":0.26,\"2.29\":2.28,\"5.64\":5.3,\"1.04\":1.12,\"3.92\":3.18,\"1065\":502},{\"1\":2,\"14.23\":12.37,\"1.71\":1.17,\"2.43\":1.92,\"15.6\":19.6,\"127\":78,\"2.8\":2.11,\"3.06\":2.0,\".28\":0.27,\"2.29\":1.04,\"5.64\":4.68,\"1.04\":1.12,\"3.92\":3.48,\"1065\":510},{\"1\":2,\"14.23\":13.34,\"1.71\":0.94,\"2.43\":2.36,\"15.6\":17.0,\"127\":110,\"2.8\":2.53,\"3.06\":1.3,\".28\":0.55,\"2.29\":0.42,\"5.64\":3.17,\"1.04\":1.02,\"3.92\":1.93,\"1065\":750},{\"1\":2,\"14.23\":12.21,\"1.71\":1.19,\"2.43\":1.75,\"15.6\":16.8,\"127\":151,\"2.8\":1.85,\"3.06\":1.28,\".28\":0.14,\"2.29\":2.5,\"5.64\":2.85,\"1.04\":1.28,\"3.92\":3.07,\"1065\":718},{\"1\":2,\"14.23\":12.29,\"1.71\":1.61,\"2.43\":2.21,\"15.6\":20.4,\"127\":103,\"2.8\":1.1,\"3.06\":1.02,\".28\":0.37,\"2.29\":1.46,\"5.64\":3.05,\"1.04\":0.906,\"3.92\":1.82,\"1065\":870},{\"1\":2,\"14.23\":13.86,\"1.71\":1.51,\"2.43\":2.67,\"15.6\":25.0,\"127\":86,\"2.8\":2.95,\"3.06\":2.86,\".28\":0.21,\"2.29\":1.87,\"5.64\":3.38,\"1.04\":1.36,\"3.92\":3.16,\"1065\":410},{\"1\":2,\"14.23\":13.49,\"1.71\":1.66,\"2.43\":2.24,\"15.6\":24.0,\"127\":87,\"2.8\":1.88,\"3.06\":1.84,\".28\":0.27,\"2.29\":1.03,\"5.64\":3.74,\"1.04\":0.98,\"3.92\":2.78,\"1065\":472},{\"1\":2,\"14.23\":12.99,\"1.71\":1.67,\"2.43\":2.6,\"15.6\":30.0,\"127\":139,\"2.8\":3.3,\"3.06\":2.89,\".28\":0.21,\"2.29\":1.96,\"5.64\":3.35,\"1.04\":1.31,\"3.92\":3.5,\"1065\":985},{\"1\":2,\"14.23\":11.96,\"1.71\":1.09,\"2.43\":2.3,\"15.6\":21.0,\"127\":101,\"2.8\":3.38,\"3.06\":2.14,\".28\":0.13,\"2.29\":1.65,\"5.64\":3.21,\"1.04\":0.99,\"3.92\":3.13,\"1065\":886},{\"1\":2,\"14.23\":11.66,\"1.71\":1.88,\"2.43\":1.92,\"15.6\":16.0,\"127\":97,\"2.8\":1.61,\"3.06\":1.57,\".28\":0.34,\"2.29\":1.15,\"5.64\":3.8,\"1.04\":1.23,\"3.92\":2.14,\"1065\":428},{\"1\":2,\"14.23\":13.03,\"1.71\":0.9,\"2.43\":1.71,\"15.6\":16.0,\"127\":86,\"2.8\":1.95,\"3.06\":2.03,\".28\":0.24,\"2.29\":1.46,\"5.64\":4.6,\"1.04\":1.19,\"3.92\":2.48,\"1065\":392},{\"1\":2,\"14.23\":11.84,\"1.71\":2.89,\"2.43\":2.23,\"15.6\":18.0,\"127\":112,\"2.8\":1.72,\"3.06\":1.32,\".28\":0.43,\"2.29\":0.95,\"5.64\":2.65,\"1.04\":0.96,\"3.92\":2.52,\"1065\":500},{\"1\":2,\"14.23\":12.33,\"1.71\":0.99,\"2.43\":1.95,\"15.6\":14.8,\"127\":136,\"2.8\":1.9,\"3.06\":1.85,\".28\":0.35,\"2.29\":2.76,\"5.64\":3.4,\"1.04\":1.06,\"3.92\":2.31,\"1065\":750},{\"1\":2,\"14.23\":12.7,\"1.71\":3.87,\"2.43\":2.4,\"15.6\":23.0,\"127\":101,\"2.8\":2.83,\"3.06\":2.55,\".28\":0.43,\"2.29\":1.95,\"5.64\":2.57,\"1.04\":1.19,\"3.92\":3.13,\"1065\":463},{\"1\":2,\"14.23\":12.0,\"1.71\":0.92,\"2.43\":2.0,\"15.6\":19.0,\"127\":86,\"2.8\":2.42,\"3.06\":2.26,\".28\":0.3,\"2.29\":1.43,\"5.64\":2.5,\"1.04\":1.38,\"3.92\":3.12,\"1065\":278},{\"1\":2,\"14.23\":12.72,\"1.71\":1.81,\"2.43\":2.2,\"15.6\":18.8,\"127\":86,\"2.8\":2.2,\"3.06\":2.53,\".28\":0.26,\"2.29\":1.77,\"5.64\":3.9,\"1.04\":1.16,\"3.92\":3.14,\"1065\":714},{\"1\":2,\"14.23\":12.08,\"1.71\":1.13,\"2.43\":2.51,\"15.6\":24.0,\"127\":78,\"2.8\":2.0,\"3.06\":1.58,\".28\":0.4,\"2.29\":1.4,\"5.64\":2.2,\"1.04\":1.31,\"3.92\":2.72,\"1065\":630},{\"1\":2,\"14.23\":13.05,\"1.71\":3.86,\"2.43\":2.32,\"15.6\":22.5,\"127\":85,\"2.8\":1.65,\"3.06\":1.59,\".28\":0.61,\"2.29\":1.62,\"5.64\":4.8,\"1.04\":0.84,\"3.92\":2.01,\"1065\":515},{\"1\":2,\"14.23\":11.84,\"1.71\":0.89,\"2.43\":2.58,\"15.6\":18.0,\"127\":94,\"2.8\":2.2,\"3.06\":2.21,\".28\":0.22,\"2.29\":2.35,\"5.64\":3.05,\"1.04\":0.79,\"3.92\":3.08,\"1065\":520},{\"1\":2,\"14.23\":12.67,\"1.71\":0.98,\"2.43\":2.24,\"15.6\":18.0,\"127\":99,\"2.8\":2.2,\"3.06\":1.94,\".28\":0.3,\"2.29\":1.46,\"5.64\":2.62,\"1.04\":1.23,\"3.92\":3.16,\"1065\":450},{\"1\":2,\"14.23\":12.16,\"1.71\":1.61,\"2.43\":2.31,\"15.6\":22.8,\"127\":90,\"2.8\":1.78,\"3.06\":1.69,\".28\":0.43,\"2.29\":1.56,\"5.64\":2.45,\"1.04\":1.33,\"3.92\":2.26,\"1065\":495},{\"1\":2,\"14.23\":11.65,\"1.71\":1.67,\"2.43\":2.62,\"15.6\":26.0,\"127\":88,\"2.8\":1.92,\"3.06\":1.61,\".28\":0.4,\"2.29\":1.34,\"5.64\":2.6,\"1.04\":1.36,\"3.92\":3.21,\"1065\":562},{\"1\":2,\"14.23\":11.64,\"1.71\":2.06,\"2.43\":2.46,\"15.6\":21.6,\"127\":84,\"2.8\":1.95,\"3.06\":1.69,\".28\":0.48,\"2.29\":1.35,\"5.64\":2.8,\"1.04\":1.0,\"3.92\":2.75,\"1065\":680},{\"1\":2,\"14.23\":12.08,\"1.71\":1.33,\"2.43\":2.3,\"15.6\":23.6,\"127\":70,\"2.8\":2.2,\"3.06\":1.59,\".28\":0.42,\"2.29\":1.38,\"5.64\":1.74,\"1.04\":1.07,\"3.92\":3.21,\"1065\":625},{\"1\":2,\"14.23\":12.08,\"1.71\":1.83,\"2.43\":2.32,\"15.6\":18.5,\"127\":81,\"2.8\":1.6,\"3.06\":1.5,\".28\":0.52,\"2.29\":1.64,\"5.64\":2.4,\"1.04\":1.08,\"3.92\":2.27,\"1065\":480},{\"1\":2,\"14.23\":12.0,\"1.71\":1.51,\"2.43\":2.42,\"15.6\":22.0,\"127\":86,\"2.8\":1.45,\"3.06\":1.25,\".28\":0.5,\"2.29\":1.63,\"5.64\":3.6,\"1.04\":1.05,\"3.92\":2.65,\"1065\":450},{\"1\":2,\"14.23\":12.69,\"1.71\":1.53,\"2.43\":2.26,\"15.6\":20.7,\"127\":80,\"2.8\":1.38,\"3.06\":1.46,\".28\":0.58,\"2.29\":1.62,\"5.64\":3.05,\"1.04\":0.96,\"3.92\":2.06,\"1065\":495},{\"1\":2,\"14.23\":12.29,\"1.71\":2.83,\"2.43\":2.22,\"15.6\":18.0,\"127\":88,\"2.8\":2.45,\"3.06\":2.25,\".28\":0.25,\"2.29\":1.99,\"5.64\":2.15,\"1.04\":1.15,\"3.92\":3.3,\"1065\":290},{\"1\":2,\"14.23\":11.62,\"1.71\":1.99,\"2.43\":2.28,\"15.6\":18.0,\"127\":98,\"2.8\":3.02,\"3.06\":2.26,\".28\":0.17,\"2.29\":1.35,\"5.64\":3.25,\"1.04\":1.16,\"3.92\":2.96,\"1065\":345},{\"1\":2,\"14.23\":12.47,\"1.71\":1.52,\"2.43\":2.2,\"15.6\":19.0,\"127\":162,\"2.8\":2.5,\"3.06\":2.27,\".28\":0.32,\"2.29\":3.28,\"5.64\":2.6,\"1.04\":1.16,\"3.92\":2.63,\"1065\":937},{\"1\":2,\"14.23\":11.81,\"1.71\":2.12,\"2.43\":2.74,\"15.6\":21.5,\"127\":134,\"2.8\":1.6,\"3.06\":0.99,\".28\":0.14,\"2.29\":1.56,\"5.64\":2.5,\"1.04\":0.95,\"3.92\":2.26,\"1065\":625},{\"1\":2,\"14.23\":12.29,\"1.71\":1.41,\"2.43\":1.98,\"15.6\":16.0,\"127\":85,\"2.8\":2.55,\"3.06\":2.5,\".28\":0.29,\"2.29\":1.77,\"5.64\":2.9,\"1.04\":1.23,\"3.92\":2.74,\"1065\":428},{\"1\":2,\"14.23\":12.37,\"1.71\":1.07,\"2.43\":2.1,\"15.6\":18.5,\"127\":88,\"2.8\":3.52,\"3.06\":3.75,\".28\":0.24,\"2.29\":1.95,\"5.64\":4.5,\"1.04\":1.04,\"3.92\":2.77,\"1065\":660},{\"1\":2,\"14.23\":12.29,\"1.71\":3.17,\"2.43\":2.21,\"15.6\":18.0,\"127\":88,\"2.8\":2.85,\"3.06\":2.99,\".28\":0.45,\"2.29\":2.81,\"5.64\":2.3,\"1.04\":1.42,\"3.92\":2.83,\"1065\":406},{\"1\":2,\"14.23\":12.08,\"1.71\":2.08,\"2.43\":1.7,\"15.6\":17.5,\"127\":97,\"2.8\":2.23,\"3.06\":2.17,\".28\":0.26,\"2.29\":1.4,\"5.64\":3.3,\"1.04\":1.27,\"3.92\":2.96,\"1065\":710},{\"1\":2,\"14.23\":12.6,\"1.71\":1.34,\"2.43\":1.9,\"15.6\":18.5,\"127\":88,\"2.8\":1.45,\"3.06\":1.36,\".28\":0.29,\"2.29\":1.35,\"5.64\":2.45,\"1.04\":1.04,\"3.92\":2.77,\"1065\":562},{\"1\":2,\"14.23\":12.34,\"1.71\":2.45,\"2.43\":2.46,\"15.6\":21.0,\"127\":98,\"2.8\":2.56,\"3.06\":2.11,\".28\":0.34,\"2.29\":1.31,\"5.64\":2.8,\"1.04\":0.8,\"3.92\":3.38,\"1065\":438},{\"1\":2,\"14.23\":11.82,\"1.71\":1.72,\"2.43\":1.88,\"15.6\":19.5,\"127\":86,\"2.8\":2.5,\"3.06\":1.64,\".28\":0.37,\"2.29\":1.42,\"5.64\":2.06,\"1.04\":0.94,\"3.92\":2.44,\"1065\":415},{\"1\":2,\"14.23\":12.51,\"1.71\":1.73,\"2.43\":1.98,\"15.6\":20.5,\"127\":85,\"2.8\":2.2,\"3.06\":1.92,\".28\":0.32,\"2.29\":1.48,\"5.64\":2.94,\"1.04\":1.04,\"3.92\":3.57,\"1065\":672},{\"1\":2,\"14.23\":12.42,\"1.71\":2.55,\"2.43\":2.27,\"15.6\":22.0,\"127\":90,\"2.8\":1.68,\"3.06\":1.84,\".28\":0.66,\"2.29\":1.42,\"5.64\":2.7,\"1.04\":0.86,\"3.92\":3.3,\"1065\":315},{\"1\":2,\"14.23\":12.25,\"1.71\":1.73,\"2.43\":2.12,\"15.6\":19.0,\"127\":80,\"2.8\":1.65,\"3.06\":2.03,\".28\":0.37,\"2.29\":1.63,\"5.64\":3.4,\"1.04\":1.0,\"3.92\":3.17,\"1065\":510},{\"1\":2,\"14.23\":12.72,\"1.71\":1.75,\"2.43\":2.28,\"15.6\":22.5,\"127\":84,\"2.8\":1.38,\"3.06\":1.76,\".28\":0.48,\"2.29\":1.63,\"5.64\":3.3,\"1.04\":0.88,\"3.92\":2.42,\"1065\":488},{\"1\":2,\"14.23\":12.22,\"1.71\":1.29,\"2.43\":1.94,\"15.6\":19.0,\"127\":92,\"2.8\":2.36,\"3.06\":2.04,\".28\":0.39,\"2.29\":2.08,\"5.64\":2.7,\"1.04\":0.86,\"3.92\":3.02,\"1065\":312},{\"1\":2,\"14.23\":11.61,\"1.71\":1.35,\"2.43\":2.7,\"15.6\":20.0,\"127\":94,\"2.8\":2.74,\"3.06\":2.92,\".28\":0.29,\"2.29\":2.49,\"5.64\":2.65,\"1.04\":0.96,\"3.92\":3.26,\"1065\":680},{\"1\":2,\"14.23\":11.46,\"1.71\":3.74,\"2.43\":1.82,\"15.6\":19.5,\"127\":107,\"2.8\":3.18,\"3.06\":2.58,\".28\":0.24,\"2.29\":3.58,\"5.64\":2.9,\"1.04\":0.75,\"3.92\":2.81,\"1065\":562},{\"1\":2,\"14.23\":12.52,\"1.71\":2.43,\"2.43\":2.17,\"15.6\":21.0,\"127\":88,\"2.8\":2.55,\"3.06\":2.27,\".28\":0.26,\"2.29\":1.22,\"5.64\":2.0,\"1.04\":0.9,\"3.92\":2.78,\"1065\":325},{\"1\":2,\"14.23\":11.76,\"1.71\":2.68,\"2.43\":2.92,\"15.6\":20.0,\"127\":103,\"2.8\":1.75,\"3.06\":2.03,\".28\":0.6,\"2.29\":1.05,\"5.64\":3.8,\"1.04\":1.23,\"3.92\":2.5,\"1065\":607},{\"1\":2,\"14.23\":11.41,\"1.71\":0.74,\"2.43\":2.5,\"15.6\":21.0,\"127\":88,\"2.8\":2.48,\"3.06\":2.01,\".28\":0.42,\"2.29\":1.44,\"5.64\":3.08,\"1.04\":1.1,\"3.92\":2.31,\"1065\":434},{\"1\":2,\"14.23\":12.08,\"1.71\":1.39,\"2.43\":2.5,\"15.6\":22.5,\"127\":84,\"2.8\":2.56,\"3.06\":2.29,\".28\":0.43,\"2.29\":1.04,\"5.64\":2.9,\"1.04\":0.93,\"3.92\":3.19,\"1065\":385},{\"1\":2,\"14.23\":11.03,\"1.71\":1.51,\"2.43\":2.2,\"15.6\":21.5,\"127\":85,\"2.8\":2.46,\"3.06\":2.17,\".28\":0.52,\"2.29\":2.01,\"5.64\":1.9,\"1.04\":1.71,\"3.92\":2.87,\"1065\":407},{\"1\":2,\"14.23\":11.82,\"1.71\":1.47,\"2.43\":1.99,\"15.6\":20.8,\"127\":86,\"2.8\":1.98,\"3.06\":1.6,\".28\":0.3,\"2.29\":1.53,\"5.64\":1.95,\"1.04\":0.95,\"3.92\":3.33,\"1065\":495},{\"1\":2,\"14.23\":12.42,\"1.71\":1.61,\"2.43\":2.19,\"15.6\":22.5,\"127\":108,\"2.8\":2.0,\"3.06\":2.09,\".28\":0.34,\"2.29\":1.61,\"5.64\":2.06,\"1.04\":1.06,\"3.92\":2.96,\"1065\":345},{\"1\":2,\"14.23\":12.77,\"1.71\":3.43,\"2.43\":1.98,\"15.6\":16.0,\"127\":80,\"2.8\":1.63,\"3.06\":1.25,\".28\":0.43,\"2.29\":0.83,\"5.64\":3.4,\"1.04\":0.7,\"3.92\":2.12,\"1065\":372},{\"1\":2,\"14.23\":12.0,\"1.71\":3.43,\"2.43\":2.0,\"15.6\":19.0,\"127\":87,\"2.8\":2.0,\"3.06\":1.64,\".28\":0.37,\"2.29\":1.87,\"5.64\":1.28,\"1.04\":0.93,\"3.92\":3.05,\"1065\":564},{\"1\":2,\"14.23\":11.45,\"1.71\":2.4,\"2.43\":2.42,\"15.6\":20.0,\"127\":96,\"2.8\":2.9,\"3.06\":2.79,\".28\":0.32,\"2.29\":1.83,\"5.64\":3.25,\"1.04\":0.8,\"3.92\":3.39,\"1065\":625},{\"1\":2,\"14.23\":11.56,\"1.71\":2.05,\"2.43\":3.23,\"15.6\":28.5,\"127\":119,\"2.8\":3.18,\"3.06\":5.08,\".28\":0.47,\"2.29\":1.87,\"5.64\":6.0,\"1.04\":0.93,\"3.92\":3.69,\"1065\":465},{\"1\":2,\"14.23\":12.42,\"1.71\":4.43,\"2.43\":2.73,\"15.6\":26.5,\"127\":102,\"2.8\":2.2,\"3.06\":2.13,\".28\":0.43,\"2.29\":1.71,\"5.64\":2.08,\"1.04\":0.92,\"3.92\":3.12,\"1065\":365},{\"1\":2,\"14.23\":13.05,\"1.71\":5.8,\"2.43\":2.13,\"15.6\":21.5,\"127\":86,\"2.8\":2.62,\"3.06\":2.65,\".28\":0.3,\"2.29\":2.01,\"5.64\":2.6,\"1.04\":0.73,\"3.92\":3.1,\"1065\":380},{\"1\":2,\"14.23\":11.87,\"1.71\":4.31,\"2.43\":2.39,\"15.6\":21.0,\"127\":82,\"2.8\":2.86,\"3.06\":3.03,\".28\":0.21,\"2.29\":2.91,\"5.64\":2.8,\"1.04\":0.75,\"3.92\":3.64,\"1065\":380},{\"1\":2,\"14.23\":12.07,\"1.71\":2.16,\"2.43\":2.17,\"15.6\":21.0,\"127\":85,\"2.8\":2.6,\"3.06\":2.65,\".28\":0.37,\"2.29\":1.35,\"5.64\":2.76,\"1.04\":0.86,\"3.92\":3.28,\"1065\":378},{\"1\":2,\"14.23\":12.43,\"1.71\":1.53,\"2.43\":2.29,\"15.6\":21.5,\"127\":86,\"2.8\":2.74,\"3.06\":3.15,\".28\":0.39,\"2.29\":1.77,\"5.64\":3.94,\"1.04\":0.69,\"3.92\":2.84,\"1065\":352},{\"1\":2,\"14.23\":11.79,\"1.71\":2.13,\"2.43\":2.78,\"15.6\":28.5,\"127\":92,\"2.8\":2.13,\"3.06\":2.24,\".28\":0.58,\"2.29\":1.76,\"5.64\":3.0,\"1.04\":0.97,\"3.92\":2.44,\"1065\":466},{\"1\":2,\"14.23\":12.37,\"1.71\":1.63,\"2.43\":2.3,\"15.6\":24.5,\"127\":88,\"2.8\":2.22,\"3.06\":2.45,\".28\":0.4,\"2.29\":1.9,\"5.64\":2.12,\"1.04\":0.89,\"3.92\":2.78,\"1065\":342},{\"1\":2,\"14.23\":12.04,\"1.71\":4.3,\"2.43\":2.38,\"15.6\":22.0,\"127\":80,\"2.8\":2.1,\"3.06\":1.75,\".28\":0.42,\"2.29\":1.35,\"5.64\":2.6,\"1.04\":0.79,\"3.92\":2.57,\"1065\":580},{\"1\":3,\"14.23\":12.86,\"1.71\":1.35,\"2.43\":2.32,\"15.6\":18.0,\"127\":122,\"2.8\":1.51,\"3.06\":1.25,\".28\":0.21,\"2.29\":0.94,\"5.64\":4.1,\"1.04\":0.76,\"3.92\":1.29,\"1065\":630},{\"1\":3,\"14.23\":12.88,\"1.71\":2.99,\"2.43\":2.4,\"15.6\":20.0,\"127\":104,\"2.8\":1.3,\"3.06\":1.22,\".28\":0.24,\"2.29\":0.83,\"5.64\":5.4,\"1.04\":0.74,\"3.92\":1.42,\"1065\":530},{\"1\":3,\"14.23\":12.81,\"1.71\":2.31,\"2.43\":2.4,\"15.6\":24.0,\"127\":98,\"2.8\":1.15,\"3.06\":1.09,\".28\":0.27,\"2.29\":0.83,\"5.64\":5.7,\"1.04\":0.66,\"3.92\":1.36,\"1065\":560},{\"1\":3,\"14.23\":12.7,\"1.71\":3.55,\"2.43\":2.36,\"15.6\":21.5,\"127\":106,\"2.8\":1.7,\"3.06\":1.2,\".28\":0.17,\"2.29\":0.84,\"5.64\":5.0,\"1.04\":0.78,\"3.92\":1.29,\"1065\":600},{\"1\":3,\"14.23\":12.51,\"1.71\":1.24,\"2.43\":2.25,\"15.6\":17.5,\"127\":85,\"2.8\":2.0,\"3.06\":0.58,\".28\":0.6,\"2.29\":1.25,\"5.64\":5.45,\"1.04\":0.75,\"3.92\":1.51,\"1065\":650},{\"1\":3,\"14.23\":12.6,\"1.71\":2.46,\"2.43\":2.2,\"15.6\":18.5,\"127\":94,\"2.8\":1.62,\"3.06\":0.66,\".28\":0.63,\"2.29\":0.94,\"5.64\":7.1,\"1.04\":0.73,\"3.92\":1.58,\"1065\":695},{\"1\":3,\"14.23\":12.25,\"1.71\":4.72,\"2.43\":2.54,\"15.6\":21.0,\"127\":89,\"2.8\":1.38,\"3.06\":0.47,\".28\":0.53,\"2.29\":0.8,\"5.64\":3.85,\"1.04\":0.75,\"3.92\":1.27,\"1065\":720},{\"1\":3,\"14.23\":12.53,\"1.71\":5.51,\"2.43\":2.64,\"15.6\":25.0,\"127\":96,\"2.8\":1.79,\"3.06\":0.6,\".28\":0.63,\"2.29\":1.1,\"5.64\":5.0,\"1.04\":0.82,\"3.92\":1.69,\"1065\":515},{\"1\":3,\"14.23\":13.49,\"1.71\":3.59,\"2.43\":2.19,\"15.6\":19.5,\"127\":88,\"2.8\":1.62,\"3.06\":0.48,\".28\":0.58,\"2.29\":0.88,\"5.64\":5.7,\"1.04\":0.81,\"3.92\":1.82,\"1065\":580},{\"1\":3,\"14.23\":12.84,\"1.71\":2.96,\"2.43\":2.61,\"15.6\":24.0,\"127\":101,\"2.8\":2.32,\"3.06\":0.6,\".28\":0.53,\"2.29\":0.81,\"5.64\":4.92,\"1.04\":0.89,\"3.92\":2.15,\"1065\":590},{\"1\":3,\"14.23\":12.93,\"1.71\":2.81,\"2.43\":2.7,\"15.6\":21.0,\"127\":96,\"2.8\":1.54,\"3.06\":0.5,\".28\":0.53,\"2.29\":0.75,\"5.64\":4.6,\"1.04\":0.77,\"3.92\":2.31,\"1065\":600},{\"1\":3,\"14.23\":13.36,\"1.71\":2.56,\"2.43\":2.35,\"15.6\":20.0,\"127\":89,\"2.8\":1.4,\"3.06\":0.5,\".28\":0.37,\"2.29\":0.64,\"5.64\":5.6,\"1.04\":0.7,\"3.92\":2.47,\"1065\":780},{\"1\":3,\"14.23\":13.52,\"1.71\":3.17,\"2.43\":2.72,\"15.6\":23.5,\"127\":97,\"2.8\":1.55,\"3.06\":0.52,\".28\":0.5,\"2.29\":0.55,\"5.64\":4.35,\"1.04\":0.89,\"3.92\":2.06,\"1065\":520},{\"1\":3,\"14.23\":13.62,\"1.71\":4.95,\"2.43\":2.35,\"15.6\":20.0,\"127\":92,\"2.8\":2.0,\"3.06\":0.8,\".28\":0.47,\"2.29\":1.02,\"5.64\":4.4,\"1.04\":0.91,\"3.92\":2.05,\"1065\":550},{\"1\":3,\"14.23\":12.25,\"1.71\":3.88,\"2.43\":2.2,\"15.6\":18.5,\"127\":112,\"2.8\":1.38,\"3.06\":0.78,\".28\":0.29,\"2.29\":1.14,\"5.64\":8.21,\"1.04\":0.65,\"3.92\":2.0,\"1065\":855},{\"1\":3,\"14.23\":13.16,\"1.71\":3.57,\"2.43\":2.15,\"15.6\":21.0,\"127\":102,\"2.8\":1.5,\"3.06\":0.55,\".28\":0.43,\"2.29\":1.3,\"5.64\":4.0,\"1.04\":0.6,\"3.92\":1.68,\"1065\":830},{\"1\":3,\"14.23\":13.88,\"1.71\":5.04,\"2.43\":2.23,\"15.6\":20.0,\"127\":80,\"2.8\":0.98,\"3.06\":0.34,\".28\":0.4,\"2.29\":0.68,\"5.64\":4.9,\"1.04\":0.58,\"3.92\":1.33,\"1065\":415},{\"1\":3,\"14.23\":12.87,\"1.71\":4.61,\"2.43\":2.48,\"15.6\":21.5,\"127\":86,\"2.8\":1.7,\"3.06\":0.65,\".28\":0.47,\"2.29\":0.86,\"5.64\":7.65,\"1.04\":0.54,\"3.92\":1.86,\"1065\":625},{\"1\":3,\"14.23\":13.32,\"1.71\":3.24,\"2.43\":2.38,\"15.6\":21.5,\"127\":92,\"2.8\":1.93,\"3.06\":0.76,\".28\":0.45,\"2.29\":1.25,\"5.64\":8.42,\"1.04\":0.55,\"3.92\":1.62,\"1065\":650},{\"1\":3,\"14.23\":13.08,\"1.71\":3.9,\"2.43\":2.36,\"15.6\":21.5,\"127\":113,\"2.8\":1.41,\"3.06\":1.39,\".28\":0.34,\"2.29\":1.14,\"5.64\":9.4,\"1.04\":0.57,\"3.92\":1.33,\"1065\":550},{\"1\":3,\"14.23\":13.5,\"1.71\":3.12,\"2.43\":2.62,\"15.6\":24.0,\"127\":123,\"2.8\":1.4,\"3.06\":1.57,\".28\":0.22,\"2.29\":1.25,\"5.64\":8.6,\"1.04\":0.59,\"3.92\":1.3,\"1065\":500},{\"1\":3,\"14.23\":12.79,\"1.71\":2.67,\"2.43\":2.48,\"15.6\":22.0,\"127\":112,\"2.8\":1.48,\"3.06\":1.36,\".28\":0.24,\"2.29\":1.26,\"5.64\":10.8,\"1.04\":0.48,\"3.92\":1.47,\"1065\":480},{\"1\":3,\"14.23\":13.11,\"1.71\":1.9,\"2.43\":2.75,\"15.6\":25.5,\"127\":116,\"2.8\":2.2,\"3.06\":1.28,\".28\":0.26,\"2.29\":1.56,\"5.64\":7.1,\"1.04\":0.61,\"3.92\":1.33,\"1065\":425},{\"1\":3,\"14.23\":13.23,\"1.71\":3.3,\"2.43\":2.28,\"15.6\":18.5,\"127\":98,\"2.8\":1.8,\"3.06\":0.83,\".28\":0.61,\"2.29\":1.87,\"5.64\":10.52,\"1.04\":0.56,\"3.92\":1.51,\"1065\":675},{\"1\":3,\"14.23\":12.58,\"1.71\":1.29,\"2.43\":2.1,\"15.6\":20.0,\"127\":103,\"2.8\":1.48,\"3.06\":0.58,\".28\":0.53,\"2.29\":1.4,\"5.64\":7.6,\"1.04\":0.58,\"3.92\":1.55,\"1065\":640},{\"1\":3,\"14.23\":13.17,\"1.71\":5.19,\"2.43\":2.32,\"15.6\":22.0,\"127\":93,\"2.8\":1.74,\"3.06\":0.63,\".28\":0.61,\"2.29\":1.55,\"5.64\":7.9,\"1.04\":0.6,\"3.92\":1.48,\"1065\":725},{\"1\":3,\"14.23\":13.84,\"1.71\":4.12,\"2.43\":2.38,\"15.6\":19.5,\"127\":89,\"2.8\":1.8,\"3.06\":0.83,\".28\":0.48,\"2.29\":1.56,\"5.64\":9.01,\"1.04\":0.57,\"3.92\":1.64,\"1065\":480},{\"1\":3,\"14.23\":12.45,\"1.71\":3.03,\"2.43\":2.64,\"15.6\":27.0,\"127\":97,\"2.8\":1.9,\"3.06\":0.58,\".28\":0.63,\"2.29\":1.14,\"5.64\":7.5,\"1.04\":0.67,\"3.92\":1.73,\"1065\":880},{\"1\":3,\"14.23\":14.34,\"1.71\":1.68,\"2.43\":2.7,\"15.6\":25.0,\"127\":98,\"2.8\":2.8,\"3.06\":1.31,\".28\":0.53,\"2.29\":2.7,\"5.64\":13.0,\"1.04\":0.57,\"3.92\":1.96,\"1065\":660},{\"1\":3,\"14.23\":13.48,\"1.71\":1.67,\"2.43\":2.64,\"15.6\":22.5,\"127\":89,\"2.8\":2.6,\"3.06\":1.1,\".28\":0.52,\"2.29\":2.29,\"5.64\":11.75,\"1.04\":0.57,\"3.92\":1.78,\"1065\":620},{\"1\":3,\"14.23\":12.36,\"1.71\":3.83,\"2.43\":2.38,\"15.6\":21.0,\"127\":88,\"2.8\":2.3,\"3.06\":0.92,\".28\":0.5,\"2.29\":1.04,\"5.64\":7.65,\"1.04\":0.56,\"3.92\":1.58,\"1065\":520},{\"1\":3,\"14.23\":13.69,\"1.71\":3.26,\"2.43\":2.54,\"15.6\":20.0,\"127\":107,\"2.8\":1.83,\"3.06\":0.56,\".28\":0.5,\"2.29\":0.8,\"5.64\":5.88,\"1.04\":0.96,\"3.92\":1.82,\"1065\":680},{\"1\":3,\"14.23\":12.85,\"1.71\":3.27,\"2.43\":2.58,\"15.6\":22.0,\"127\":106,\"2.8\":1.65,\"3.06\":0.6,\".28\":0.6,\"2.29\":0.96,\"5.64\":5.58,\"1.04\":0.87,\"3.92\":2.11,\"1065\":570},{\"1\":3,\"14.23\":12.96,\"1.71\":3.45,\"2.43\":2.35,\"15.6\":18.5,\"127\":106,\"2.8\":1.39,\"3.06\":0.7,\".28\":0.4,\"2.29\":0.94,\"5.64\":5.28,\"1.04\":0.68,\"3.92\":1.75,\"1065\":675},{\"1\":3,\"14.23\":13.78,\"1.71\":2.76,\"2.43\":2.3,\"15.6\":22.0,\"127\":90,\"2.8\":1.35,\"3.06\":0.68,\".28\":0.41,\"2.29\":1.03,\"5.64\":9.58,\"1.04\":0.7,\"3.92\":1.68,\"1065\":615},{\"1\":3,\"14.23\":13.73,\"1.71\":4.36,\"2.43\":2.26,\"15.6\":22.5,\"127\":88,\"2.8\":1.28,\"3.06\":0.47,\".28\":0.52,\"2.29\":1.15,\"5.64\":6.62,\"1.04\":0.78,\"3.92\":1.75,\"1065\":520},{\"1\":3,\"14.23\":13.45,\"1.71\":3.7,\"2.43\":2.6,\"15.6\":23.0,\"127\":111,\"2.8\":1.7,\"3.06\":0.92,\".28\":0.43,\"2.29\":1.46,\"5.64\":10.68,\"1.04\":0.85,\"3.92\":1.56,\"1065\":695},{\"1\":3,\"14.23\":12.82,\"1.71\":3.37,\"2.43\":2.3,\"15.6\":19.5,\"127\":88,\"2.8\":1.48,\"3.06\":0.66,\".28\":0.4,\"2.29\":0.97,\"5.64\":10.26,\"1.04\":0.72,\"3.92\":1.75,\"1065\":685},{\"1\":3,\"14.23\":13.58,\"1.71\":2.58,\"2.43\":2.69,\"15.6\":24.5,\"127\":105,\"2.8\":1.55,\"3.06\":0.84,\".28\":0.39,\"2.29\":1.54,\"5.64\":8.66,\"1.04\":0.74,\"3.92\":1.8,\"1065\":750},{\"1\":3,\"14.23\":13.4,\"1.71\":4.6,\"2.43\":2.86,\"15.6\":25.0,\"127\":112,\"2.8\":1.98,\"3.06\":0.96,\".28\":0.27,\"2.29\":1.11,\"5.64\":8.5,\"1.04\":0.67,\"3.92\":1.92,\"1065\":630},{\"1\":3,\"14.23\":12.2,\"1.71\":3.03,\"2.43\":2.32,\"15.6\":19.0,\"127\":96,\"2.8\":1.25,\"3.06\":0.49,\".28\":0.4,\"2.29\":0.73,\"5.64\":5.5,\"1.04\":0.66,\"3.92\":1.83,\"1065\":510},{\"1\":3,\"14.23\":12.77,\"1.71\":2.39,\"2.43\":2.28,\"15.6\":19.5,\"127\":86,\"2.8\":1.39,\"3.06\":0.51,\".28\":0.48,\"2.29\":0.64,\"5.64\":9.899999,\"1.04\":0.57,\"3.92\":1.63,\"1065\":470},{\"1\":3,\"14.23\":14.16,\"1.71\":2.51,\"2.43\":2.48,\"15.6\":20.0,\"127\":91,\"2.8\":1.68,\"3.06\":0.7,\".28\":0.44,\"2.29\":1.24,\"5.64\":9.7,\"1.04\":0.62,\"3.92\":1.71,\"1065\":660},{\"1\":3,\"14.23\":13.71,\"1.71\":5.65,\"2.43\":2.45,\"15.6\":20.5,\"127\":95,\"2.8\":1.68,\"3.06\":0.61,\".28\":0.52,\"2.29\":1.06,\"5.64\":7.7,\"1.04\":0.64,\"3.92\":1.74,\"1065\":740},{\"1\":3,\"14.23\":13.4,\"1.71\":3.91,\"2.43\":2.48,\"15.6\":23.0,\"127\":102,\"2.8\":1.8,\"3.06\":0.75,\".28\":0.43,\"2.29\":1.41,\"5.64\":7.3,\"1.04\":0.7,\"3.92\":1.56,\"1065\":750},{\"1\":3,\"14.23\":13.27,\"1.71\":4.28,\"2.43\":2.26,\"15.6\":20.0,\"127\":120,\"2.8\":1.59,\"3.06\":0.69,\".28\":0.43,\"2.29\":1.35,\"5.64\":10.2,\"1.04\":0.59,\"3.92\":1.56,\"1065\":835},{\"1\":3,\"14.23\":13.17,\"1.71\":2.59,\"2.43\":2.37,\"15.6\":20.0,\"127\":120,\"2.8\":1.65,\"3.06\":0.68,\".28\":0.53,\"2.29\":1.46,\"5.64\":9.3,\"1.04\":0.6,\"3.92\":1.62,\"1065\":840},{\"1\":3,\"14.23\":14.13,\"1.71\":4.1,\"2.43\":2.74,\"15.6\":24.5,\"127\":96,\"2.8\":2.05,\"3.06\":0.76,\".28\":0.56,\"2.29\":1.35,\"5.64\":9.2,\"1.04\":0.61,\"3.92\":1.6,\"1065\":560}]'"
      ]
     },
     "execution_count": 32,
     "metadata": {},
     "output_type": "execute_result"
    }
   ],
   "source": [
    "d.to_json(orient=\"records\")"
   ]
  },
  {
   "cell_type": "code",
   "execution_count": 20,
   "metadata": {},
   "outputs": [],
   "source": [
    "data=pd.read_html('https://en.wikipedia.org/wiki/List_of_diamonds',header=0,na_values=False)"
   ]
  },
  {
   "cell_type": "code",
   "execution_count": 21,
   "metadata": {},
   "outputs": [
    {
     "data": {
      "text/plain": [
       "[                                  Part of a series on\n",
       " 0                                            Diamonds\n",
       " 1                                            Material\n",
       " 2   Material properties Crystallographic defects F...\n",
       " 3                                            The 4 Cs\n",
       " 4                             Carat Clarity Color Cut\n",
       " 5                                          Production\n",
       " 6   Diamond (gemstone) List of mines Diamond cutti...\n",
       " 7                                     Cultural impact\n",
       " 8                   History Symbolism Famous diamonds\n",
       " 9                         Imitations and enhancements\n",
       " 10                             Simulants Enhancements\n",
       " 11                                              Theft\n",
       " 12  Millennium Dome raid Schiphol Airport robbery ...\n",
       " 13                                  Category  Commons,\n",
       "                                                   Name Uncut weight (carat)  \\\n",
       " 0    26th Congress of the Communist Party of the So...               342.57   \n",
       " 1        4 February Stone (The Art of de GRISOGONO)[8]                404.2   \n",
       " 2                                           Akbar Shah                  116   \n",
       " 3                              Alexander Pushkin[6][7]               320.65   \n",
       " 4                                      Allnatt Diamond                  NaN   \n",
       " ..                                                 ...                  ...   \n",
       " 112                                     Vargas diamond                726.6   \n",
       " 113                            Williamson pink diamond                 54.5   \n",
       " 114                               Williamson Pink Star                32.32   \n",
       " 115                                Winston Pink Legacy                  NaN   \n",
       " 116                          Wittelsbach-Graff Diamond                35.56   \n",
       " \n",
       "     Cut weight (carat)       Color Country/region of origin  \\\n",
       " 0                  NaN      yellow            Russia / USSR   \n",
       " 1            163.41[9]       white                   Angola   \n",
       " 2                 71.7   colorless                    India   \n",
       " 3                  NaN   colorless            Russia / USSR   \n",
       " 4               101.29      yellow  South Africa (disputed)   \n",
       " ..                 ...         ...                      ...   \n",
       " 112                NaN  blue-white                   Brazil   \n",
       " 113               23.6        pink                 Tanzania   \n",
       " 114              11.15        pink                 Tanzania   \n",
       " 115              18.96        pink             South Africa   \n",
       " 116              31.06        blue                    India   \n",
       " \n",
       "                                            Description  \\\n",
       " 0    Mined at the Mir kimberlitic pipe (Yakutia, Ru...   \n",
       " 1    27th largest white diamond found (at that time...   \n",
       " 2    An Indian diamond which became famous during t...   \n",
       " 3    Mined at the Udachnaya kimberlitic pipe (Yakut...   \n",
       " 4    A 101.29-carat (20.258 g) antique cushion-shap...   \n",
       " ..                                                 ...   \n",
       " 112                      Cut into 29 smaller diamonds.   \n",
       " 113  Given to Queen Elizabeth II on her wedding in ...   \n",
       " 114  The cushion-shaped flawless fancy vivid pink t...   \n",
       " 115  The world's largest Fancy Vivid Pink. Previous...   \n",
       " 116  31.06 carats (6.212 g), Fancy Deep Blue, cushi...   \n",
       " \n",
       "                          Image  \n",
       " 0                            —  \n",
       " 1                            —  \n",
       " 2                            —  \n",
       " 3                            —  \n",
       " 4              Allnatt Diamond  \n",
       " ..                         ...  \n",
       " 112                          —  \n",
       " 113                          —  \n",
       " 114                          —  \n",
       " 115                          —  \n",
       " 116  Wittelsbach-Graff Diamond  \n",
       " \n",
       " [117 rows x 7 columns],\n",
       "    .mw-parser-output .navbar{display:inline;font-size:88%;font-weight:normal}.mw-parser-output .navbar-collapse{float:left;text-align:left}.mw-parser-output .navbar-boxtext{word-spacing:0}.mw-parser-output .navbar ul{display:inline-block;white-space:nowrap;line-height:inherit}.mw-parser-output .navbar-brackets::before{margin-right:-0.125em;content:\"[ \"}.mw-parser-output .navbar-brackets::after{margin-left:-0.125em;content:\" ]\"}.mw-parser-output .navbar li{word-spacing:-0.125em}.mw-parser-output .navbar a>span,.mw-parser-output .navbar a>abbr{text-decoration:inherit}.mw-parser-output .navbar-mini abbr{font-variant:small-caps;border-bottom:none;text-decoration:none;cursor:inherit}.mw-parser-output .navbar-ct-full{font-size:114%;margin:0 7em}.mw-parser-output .navbar-ct-mini{font-size:114%;margin:0 4em}vteGemstones  \\\n",
       " 0   Gemmological classifications by E. Ya. Kievlen...                                                                                                                                                                                                                                                                                                                                                                                                                                                                                                                                                                                                                                                                                                                                                                                                     \n",
       " 1                                      Jewelry stones                                                                                                                                                                                                                                                                                                                                                                                                                                                                                                                                                                                                                                                                                                                                                                                                     \n",
       " 2                                           1st order                                                                                                                                                                                                                                                                                                                                                                                                                                                                                                                                                                                                                                                                                                                                                                                                     \n",
       " 3                                           2nd order                                                                                                                                                                                                                                                                                                                                                                                                                                                                                                                                                                                                                                                                                                                                                                                                     \n",
       " 4                                           3rd order                                                                                                                                                                                                                                                                                                                                                                                                                                                                                                                                                                                                                                                                                                                                                                                                     \n",
       " 5                                           4th order                                                                                                                                                                                                                                                                                                                                                                                                                                                                                                                                                                                                                                                                                                                                                                                                     \n",
       " 6                            Jewelry-Industrialstones                                                                                                                                                                                                                                                                                                                                                                                                                                                                                                                                                                                                                                                                                                                                                                                                     \n",
       " 7                                           1st order                                                                                                                                                                                                                                                                                                                                                                                                                                                                                                                                                                                                                                                                                                                                                                                                     \n",
       " 8                                           2nd order                                                                                                                                                                                                                                                                                                                                                                                                                                                                                                                                                                                                                                                                                                                                                                                                     \n",
       " 9                                   Industrial stones                                                                                                                                                                                                                                                                                                                                                                                                                                                                                                                                                                                                                                                                                                                                                                                                     \n",
       " 10                                            Related                                                                                                                                                                                                                                                                                                                                                                                                                                                                                                                                                                                                                                                                                                                                                                                                     \n",
       " 11      List of gemstones by species  Minerals portal                                                                                                                                                                                                                                                                                                                                                                                                                                                                                                                                                                                                                                                                                                                                                                                                     \n",
       " \n",
       "    .mw-parser-output .navbar{display:inline;font-size:88%;font-weight:normal}.mw-parser-output .navbar-collapse{float:left;text-align:left}.mw-parser-output .navbar-boxtext{word-spacing:0}.mw-parser-output .navbar ul{display:inline-block;white-space:nowrap;line-height:inherit}.mw-parser-output .navbar-brackets::before{margin-right:-0.125em;content:\"[ \"}.mw-parser-output .navbar-brackets::after{margin-left:-0.125em;content:\" ]\"}.mw-parser-output .navbar li{word-spacing:-0.125em}.mw-parser-output .navbar a>span,.mw-parser-output .navbar a>abbr{text-decoration:inherit}.mw-parser-output .navbar-mini abbr{font-variant:small-caps;border-bottom:none;text-decoration:none;cursor:inherit}.mw-parser-output .navbar-ct-full{font-size:114%;margin:0 7em}.mw-parser-output .navbar-ct-mini{font-size:114%;margin:0 4em}vteGemstones.1  \n",
       " 0   Gemmological classifications by E. Ya. Kievlen...                                                                                                                                                                                                                                                                                                                                                                                                                                                                                                                                                                                                                                                                                                                                                                                                      \n",
       " 1   1st order Diamond Ruby Emerald Blue Sapphire A...                                                                                                                                                                                                                                                                                                                                                                                                                                                                                                                                                                                                                                                                                                                                                                                                      \n",
       " 2   Diamond Ruby Emerald Blue Sapphire Alexandrite...                                                                                                                                                                                                                                                                                                                                                                                                                                                                                                                                                                                                                                                                                                                                                                                                      \n",
       " 3   Pink sapphire Demantoid Tsavorite Spinel Preci...                                                                                                                                                                                                                                                                                                                                                                                                                                                                                                                                                                                                                                                                                                                                                                                                      \n",
       " 4   Yellow, Green, Violet Sapphires Aquamarine Ora...                                                                                                                                                                                                                                                                                                                                                                                                                                                                                                                                                                                                                                                                                                                                                                                                      \n",
       " 5   Tourmaline – Verdelite Indicolite, polychromou...                                                                                                                                                                                                                                                                                                                                                                                                                                                                                                                                                                                                                                                                                                                                                                                                      \n",
       " 6   1st order Lazurite Jadeite Nephrite Malachite ...                                                                                                                                                                                                                                                                                                                                                                                                                                                                                                                                                                                                                                                                                                                                                                                                      \n",
       " 7   Lazurite Jadeite Nephrite Malachite Amber (Bal...                                                                                                                                                                                                                                                                                                                                                                                                                                                                                                                                                                                                                                                                                                                                                                                                      \n",
       " 8   Agate Amazonite Rhodonite Colorless, smoky and...                                                                                                                                                                                                                                                                                                                                                                                                                                                                                                                                                                                                                                                                                                                                                                                                      \n",
       " 9   Jasper Graphic granite Petrified wood Cacholon...                                                                                                                                                                                                                                                                                                                                                                                                                                                                                                                                                                                                                                                                                                                                                                                                      \n",
       " 10  List of individual gemstones List of diamonds ...                                                                                                                                                                                                                                                                                                                                                                                                                                                                                                                                                                                                                                                                                                                                                                                                      \n",
       " 11      List of gemstones by species  Minerals portal                                                                                                                                                                                                                                                                                                                                                                                                                                                                                                                                                                                                                                                                                                                                                                                                      ,\n",
       "    1st order  \\\n",
       " 0  2nd order   \n",
       " 1  3rd order   \n",
       " 2  4th order   \n",
       " \n",
       "   Diamond Ruby Emerald Blue Sapphire Alexandrite Natural marine pearls  \n",
       " 0  Pink sapphire Demantoid Tsavorite Spinel Preci...                    \n",
       " 1  Yellow, Green, Violet Sapphires Aquamarine Ora...                    \n",
       " 2  Tourmaline – Verdelite Indicolite, polychromou...                    ,\n",
       "    1st order  \\\n",
       " 0  2nd order   \n",
       " \n",
       "   Lazurite Jadeite Nephrite Malachite Amber (Baltic amber) Chrysoprase Charoite  \n",
       " 0  Agate Amazonite Rhodonite Colorless, smoky and...                             ]"
      ]
     },
     "execution_count": 21,
     "metadata": {},
     "output_type": "execute_result"
    }
   ],
   "source": [
    "data"
   ]
  },
  {
   "cell_type": "code",
   "execution_count": 1,
   "metadata": {},
   "outputs": [],
   "source": [
    "import numpy as np"
   ]
  },
  {
   "cell_type": "code",
   "execution_count": 3,
   "metadata": {},
   "outputs": [],
   "source": [
    "d=np.arange(6).reshape(2,3)"
   ]
  },
  {
   "cell_type": "code",
   "execution_count": 4,
   "metadata": {},
   "outputs": [
    {
     "data": {
      "text/plain": [
       "array([[0, 1, 2],\n",
       "       [3, 4, 5]])"
      ]
     },
     "execution_count": 4,
     "metadata": {},
     "output_type": "execute_result"
    }
   ],
   "source": [
    "d"
   ]
  },
  {
   "cell_type": "code",
   "execution_count": 19,
   "metadata": {},
   "outputs": [
    {
     "data": {
      "text/plain": [
       "array([[3, 4, 5],\n",
       "       [0, 1, 2]])"
      ]
     },
     "execution_count": 19,
     "metadata": {},
     "output_type": "execute_result"
    }
   ],
   "source": [
    "d[::-1,:] # swapping of rows\n"
   ]
  },
  {
   "cell_type": "code",
   "execution_count": 24,
   "metadata": {},
   "outputs": [
    {
     "data": {
      "text/plain": [
       "array([[3, 4, 5],\n",
       "       [0, 1, 2]])"
      ]
     },
     "execution_count": 24,
     "metadata": {},
     "output_type": "execute_result"
    }
   ],
   "source": [
    "d[[1,0],:] # swapping of rows"
   ]
  },
  {
   "cell_type": "code",
   "execution_count": 22,
   "metadata": {},
   "outputs": [
    {
     "data": {
      "text/plain": [
       "array([[2, 1, 0],\n",
       "       [5, 4, 3]])"
      ]
     },
     "execution_count": 22,
     "metadata": {},
     "output_type": "execute_result"
    }
   ],
   "source": [
    "d[:,::-1] # swapping of columns"
   ]
  },
  {
   "cell_type": "code",
   "execution_count": 10,
   "metadata": {},
   "outputs": [
    {
     "data": {
      "text/plain": [
       "array([[0, 3],\n",
       "       [1, 4],\n",
       "       [2, 5]])"
      ]
     },
     "execution_count": 10,
     "metadata": {},
     "output_type": "execute_result"
    }
   ],
   "source": [
    "d.transpose()"
   ]
  },
  {
   "cell_type": "code",
   "execution_count": 30,
   "metadata": {},
   "outputs": [
    {
     "data": {
      "text/plain": [
       "array([[ 1,  2,  3,  4,  5],\n",
       "       [ 6,  7,  8,  9, 10],\n",
       "       [ 1,  2,  3,  4,  5]])"
      ]
     },
     "execution_count": 30,
     "metadata": {},
     "output_type": "execute_result"
    }
   ],
   "source": [
    "v1=np.array([1,2,3,4,5]) # vstack\n",
    "v2=np.array([6,7,8,9,10])\n",
    "\n",
    "np.vstack([v1,v2,v1])"
   ]
  },
  {
   "cell_type": "code",
   "execution_count": 31,
   "metadata": {},
   "outputs": [
    {
     "data": {
      "text/plain": [
       "array([1, 2, 3, 4, 5, 6, 1, 2, 3, 4, 5, 6])"
      ]
     },
     "execution_count": 31,
     "metadata": {},
     "output_type": "execute_result"
    }
   ],
   "source": [
    "h1=np.array([1,2,3]) #hstack\n",
    "h2=np.array([4,5,6])\n",
    "np.hstack([h1,h2,h1,h2])"
   ]
  },
  {
   "cell_type": "markdown",
   "metadata": {},
   "source": [
    "## Matplotlib"
   ]
  },
  {
   "cell_type": "code",
   "execution_count": 3,
   "metadata": {},
   "outputs": [],
   "source": [
    "import numpy as np\n"
   ]
  },
  {
   "cell_type": "code",
   "execution_count": 2,
   "metadata": {},
   "outputs": [],
   "source": [
    "import matplotlib.pyplot as plt\n",
    "%matplotlib inline"
   ]
  },
  {
   "cell_type": "code",
   "execution_count": 4,
   "metadata": {},
   "outputs": [],
   "source": [
    "a=np.arange(1,11)\n",
    "b=np.arange(11,21)"
   ]
  },
  {
   "cell_type": "code",
   "execution_count": 5,
   "metadata": {},
   "outputs": [
    {
     "data": {
      "text/plain": [
       "<matplotlib.collections.PathCollection at 0x1ab69df2208>"
      ]
     },
     "execution_count": 5,
     "metadata": {},
     "output_type": "execute_result"
    },
    {
     "data": {
      "image/png": "[encoded data removed]",
      "text/plain": [
       "<Figure size 432x288 with 1 Axes>"
      ]
     },
     "metadata": {
      "needs_background": "light"
     },
     "output_type": "display_data"
    }
   ],
   "source": [
    "plt.scatter(a,b,c='g')"
   ]
  },
  {
   "cell_type": "code",
   "execution_count": 10,
   "metadata": {},
   "outputs": [
    {
     "data": {
      "image/png": "[encoded data removed]",
      "text/plain": [
       "<Figure size 432x288 with 1 Axes>"
      ]
     },
     "metadata": {
      "needs_background": "light"
     },
     "output_type": "display_data"
    }
   ],
   "source": [
    "plt.scatter(a,b,c=\"r\")\n",
    "plt.xlabel(\"A value\")\n",
    "plt.ylabel(\"B value\")\n",
    "plt.title(\"Scatter graph b/w A & B\")\n",
    "# to save the graph image\n",
    "plt.savefig(\"Scatter graph\")"
   ]
  },
  {
   "cell_type": "code",
   "execution_count": 15,
   "metadata": {},
   "outputs": [
    {
     "data": {
      "text/plain": [
       "[<matplotlib.lines.Line2D at 0x1a3bd180fc8>]"
      ]
     },
     "execution_count": 15,
     "metadata": {},
     "output_type": "execute_result"
    },
    {
     "data": {
      "image/png": "[encoded data removed]",
      "text/plain": [
       "<Figure size 432x288 with 1 Axes>"
      ]
     },
     "metadata": {
      "needs_background": "light"
     },
     "output_type": "display_data"
    }
   ],
   "source": [
    "plt.plot(a,b)"
   ]
  },
  {
   "cell_type": "code",
   "execution_count": 9,
   "metadata": {},
   "outputs": [],
   "source": [
    "b=a*a"
   ]
  },
  {
   "cell_type": "code",
   "execution_count": 21,
   "metadata": {},
   "outputs": [
    {
     "data": {
      "text/plain": [
       "[<matplotlib.lines.Line2D at 0x1a3bd8f3f88>]"
      ]
     },
     "execution_count": 21,
     "metadata": {},
     "output_type": "execute_result"
    },
    {
     "data": {
      "image/png": "[encoded data removed]",
      "text/plain": [
       "<Figure size 432x288 with 1 Axes>"
      ]
     },
     "metadata": {
      "needs_background": "light"
     },
     "output_type": "display_data"
    }
   ],
   "source": [
    "plt.plot(a,b)"
   ]
  },
  {
   "cell_type": "code",
   "execution_count": 23,
   "metadata": {},
   "outputs": [
    {
     "data": {
      "text/plain": [
       "[<matplotlib.lines.Line2D at 0x1a3be928b48>]"
      ]
     },
     "execution_count": 23,
     "metadata": {},
     "output_type": "execute_result"
    },
    {
     "data": {
      "image/png": "[encoded data removed]",
      "text/plain": [
       "<Figure size 432x288 with 1 Axes>"
      ]
     },
     "metadata": {
      "needs_background": "light"
     },
     "output_type": "display_data"
    }
   ],
   "source": [
    "plt.plot(a,b,\"r\")"
   ]
  },
  {
   "cell_type": "code",
   "execution_count": 24,
   "metadata": {},
   "outputs": [
    {
     "data": {
      "text/plain": [
       "[<matplotlib.lines.Line2D at 0x1a3be98b7c8>]"
      ]
     },
     "execution_count": 24,
     "metadata": {},
     "output_type": "execute_result"
    },
    {
     "data": {
      "image/png": "[encoded data removed]",
      "text/plain": [
       "<Figure size 432x288 with 1 Axes>"
      ]
     },
     "metadata": {
      "needs_background": "light"
     },
     "output_type": "display_data"
    }
   ],
   "source": [
    "plt.plot(a,b,\"r--\")"
   ]
  },
  {
   "cell_type": "code",
   "execution_count": 10,
   "metadata": {},
   "outputs": [
    {
     "data": {
      "text/plain": [
       "[<matplotlib.lines.Line2D at 0x1ab6a0b6ec8>]"
      ]
     },
     "execution_count": 10,
     "metadata": {},
     "output_type": "execute_result"
    },
    {
     "data": {
      "image/png": "[encoded data removed]",
      "text/plain": [
       "<Figure size 432x288 with 1 Axes>"
      ]
     },
     "metadata": {
      "needs_background": "light"
     },
     "output_type": "display_data"
    }
   ],
   "source": [
    "plt.plot(a,b,\"r*-\")"
   ]
  },
  {
   "cell_type": "code",
   "execution_count": 28,
   "metadata": {},
   "outputs": [
    {
     "data": {
      "text/plain": [
       "[<matplotlib.lines.Line2D at 0x1a3beb08f08>]"
      ]
     },
     "execution_count": 28,
     "metadata": {},
     "output_type": "execute_result"
    },
    {
     "data": {
      "image/png": "[encoded data removed]",
      "text/plain": [
       "<Figure size 432x288 with 1 Axes>"
      ]
     },
     "metadata": {
      "needs_background": "light"
     },
     "output_type": "display_data"
    }
   ],
   "source": [
    "plt.plot(a,b,\"ro--\")"
   ]
  },
  {
   "cell_type": "code",
   "execution_count": 12,
   "metadata": {},
   "outputs": [
    {
     "data": {
      "text/plain": [
       "[<matplotlib.lines.Line2D at 0x1ab69fd2ac8>]"
      ]
     },
     "execution_count": 12,
     "metadata": {},
     "output_type": "execute_result"
    },
    {
     "data": {
      "image/png": "[encoded data removed]",
      "text/plain": [
       "<Figure size 432x288 with 1 Axes>"
      ]
     },
     "metadata": {
      "needs_background": "light"
     },
     "output_type": "display_data"
    }
   ],
   "source": [
    "plt.plot(a,b,\"b*--\")"
   ]
  },
  {
   "cell_type": "code",
   "execution_count": 34,
   "metadata": {},
   "outputs": [
    {
     "data": {
      "text/plain": [
       "[<matplotlib.lines.Line2D at 0x1a3bece1988>]"
      ]
     },
     "execution_count": 34,
     "metadata": {},
     "output_type": "execute_result"
    },
    {
     "data": {
      "image/png": "[encoded data removed]",
      "text/plain": [
       "<Figure size 432x288 with 1 Axes>"
      ]
     },
     "metadata": {
      "needs_background": "light"
     },
     "output_type": "display_data"
    }
   ],
   "source": [
    "plt.plot(a,b,\"g*\", linestyle=\"dashed\")"
   ]
  },
  {
   "cell_type": "code",
   "execution_count": 14,
   "metadata": {},
   "outputs": [
    {
     "data": {
      "text/plain": [
       "[<matplotlib.lines.Line2D at 0x1ab6a30bcc8>]"
      ]
     },
     "execution_count": 14,
     "metadata": {},
     "output_type": "execute_result"
    },
    {
     "data": {
      "image/png": "[encoded data removed]",
      "text/plain": [
       "<Figure size 432x288 with 1 Axes>"
      ]
     },
     "metadata": {
      "needs_background": "light"
     },
     "output_type": "display_data"
    }
   ],
   "source": [
    "plt.plot(a,b,\"g*\", linestyle=\"dashed\",linewidth=2)"
   ]
  },
  {
   "cell_type": "code",
   "execution_count": 41,
   "metadata": {},
   "outputs": [
    {
     "data": {
      "text/plain": [
       "Text(0.5, 1.0, 'Plot eg')"
      ]
     },
     "execution_count": 41,
     "metadata": {},
     "output_type": "execute_result"
    },
    {
     "data": {
      "image/png": "[encoded data removed]",
      "text/plain": [
       "<Figure size 432x288 with 1 Axes>"
      ]
     },
     "metadata": {
      "needs_background": "light"
     },
     "output_type": "display_data"
    }
   ],
   "source": [
    "plt.plot(a,b,\"b*\", linestyle=\"dotted\",linewidth=3,markersize=10)\n",
    "plt.xlabel(\"A value\")\n",
    "plt.ylabel(\"B Value\")\n",
    "plt.title(\"Plot eg\")"
   ]
  },
  {
   "cell_type": "code",
   "execution_count": 16,
   "metadata": {},
   "outputs": [
    {
     "data": {
      "text/plain": [
       "[<matplotlib.lines.Line2D at 0x1ab6a3edec8>]"
      ]
     },
     "execution_count": 16,
     "metadata": {},
     "output_type": "execute_result"
    },
    {
     "data": {
      "image/png": "[encoded data removed]",
      "text/plain": [
       "<Figure size 432x288 with 4 Axes>"
      ]
     },
     "metadata": {
      "needs_background": "light"
     },
     "output_type": "display_data"
    }
   ],
   "source": [
    "# to create the subplot\n",
    "plt.subplot(2,2,1)\n",
    "plt.plot(a,b,\"ro--\")\n",
    "plt.subplot(2,2,2)\n",
    "plt.plot(a,b,\"g--\")\n",
    "plt.subplot(2,2,3)\n",
    "plt.plot(a,b,\"b*\")\n",
    "plt.subplot(2,2,4)\n",
    "plt.plot(a,b)"
   ]
  },
  {
   "cell_type": "code",
   "execution_count": 17,
   "metadata": {},
   "outputs": [
    {
     "data": {
      "text/plain": [
       "[<matplotlib.lines.Line2D at 0x1ab6a666388>]"
      ]
     },
     "execution_count": 17,
     "metadata": {},
     "output_type": "execute_result"
    },
    {
     "data": {
      "image/png": "[encoded data removed]",
      "text/plain": [
       "<Figure size 432x288 with 3 Axes>"
      ]
     },
     "metadata": {
      "needs_background": "light"
     },
     "output_type": "display_data"
    }
   ],
   "source": [
    "plt.subplot(1,3,1)\n",
    "plt.plot(a,b,\"r--\")\n",
    "plt.subplot(1,3,3)\n",
    "plt.plot(a,b,\"go--\")\n",
    "plt.subplot(1,3,2)\n",
    "plt.plot(a,b,\"b*\")"
   ]
  },
  {
   "cell_type": "code",
   "execution_count": 3,
   "metadata": {},
   "outputs": [
    {
     "data": {
      "image/png": "[encoded data removed]",
      "text/plain": [
       "<Figure size 432x288 with 1 Axes>"
      ]
     },
     "metadata": {
      "needs_background": "light"
     },
     "output_type": "display_data"
    }
   ],
   "source": [
    "x=np.arange(0,4*np.pi,0.1)\n",
    "y=np.sin(x)\n",
    "plt.plot(x,y,\"r--\")\n",
    "plt.grid()"
   ]
  },
  {
   "cell_type": "code",
   "execution_count": 72,
   "metadata": {},
   "outputs": [
    {
     "data": {
      "text/plain": [
       "Text(0.5, 1.0, 'cosin')"
      ]
     },
     "execution_count": 72,
     "metadata": {},
     "output_type": "execute_result"
    },
    {
     "data": {
      "image/png": "[encoded data removed]",
      "text/plain": [
       "<Figure size 432x288 with 2 Axes>"
      ]
     },
     "metadata": {
      "needs_background": "light"
     },
     "output_type": "display_data"
    }
   ],
   "source": [
    "z=np.cos(x)\n",
    "plt.subplot(2,1,1)\n",
    "plt.plot(x,z,\"g*\")\n",
    "plt.title(\"Sin\")\n",
    "plt.subplot(2,1,2)\n",
    "plt.plot(x,z,\"bo--\")\n",
    "plt.title(\"cosin\")"
   ]
  },
  {
   "cell_type": "code",
   "execution_count": 87,
   "metadata": {},
   "outputs": [
    {
     "data": {
      "text/plain": [
       "<BarContainer object of 3 artists>"
      ]
     },
     "execution_count": 87,
     "metadata": {},
     "output_type": "execute_result"
    },
    {
     "data": {
      "image/png": "[encoded data removed]",
      "text/plain": [
       "<Figure size 432x288 with 1 Axes>"
      ]
     },
     "metadata": {
      "needs_background": "light"
     },
     "output_type": "display_data"
    }
   ],
   "source": [
    "x1=np.array([53,12,96])\n",
    "y1=np.array([10,23,45])\n",
    "\n",
    "x2=np.array([34,68,27])\n",
    "y2=np.array([34,72,93])\n",
    "\n",
    "plt.bar(x1,x2, color=\"g\")\n",
    "plt.bar(y1,y2)\n"
   ]
  },
  {
   "cell_type": "code",
   "execution_count": 94,
   "metadata": {},
   "outputs": [],
   "source": [
    "d=np.random.randint(0,50,10)"
   ]
  },
  {
   "cell_type": "code",
   "execution_count": 95,
   "metadata": {},
   "outputs": [
    {
     "data": {
      "text/plain": [
       "array([39, 40, 18, 22, 22, 37, 33,  8, 38, 47])"
      ]
     },
     "execution_count": 95,
     "metadata": {},
     "output_type": "execute_result"
    }
   ],
   "source": [
    "d"
   ]
  },
  {
   "cell_type": "code",
   "execution_count": 97,
   "metadata": {},
   "outputs": [
    {
     "data": {
      "text/plain": [
       "Text(0.5, 1.0, 'HISTOGRAM')"
      ]
     },
     "execution_count": 97,
     "metadata": {},
     "output_type": "execute_result"
    },
    {
     "data": {
      "image/png": "[encoded data removed]",
      "text/plain": [
       "<Figure size 432x288 with 1 Axes>"
      ]
     },
     "metadata": {
      "needs_background": "light"
     },
     "output_type": "display_data"
    }
   ],
   "source": [
    "plt.hist(d)\n",
    "plt.title(\"HISTOGRAM\")"
   ]
  },
  {
   "cell_type": "code",
   "execution_count": 37,
   "metadata": {},
   "outputs": [
    {
     "name": "stdout",
     "output_type": "stream",
     "text": [
      "0\n",
      "1\n",
      "2\n",
      "3\n",
      "4\n"
     ]
    }
   ],
   "source": [
    "for i in range(0,5):\n",
    "    #i+=2\n",
    "    print(i)"
   ]
  },
  {
   "cell_type": "code",
   "execution_count": 5,
   "metadata": {},
   "outputs": [
    {
     "name": "stdout",
     "output_type": "stream",
     "text": [
      "[ 3  4  5  6  7  8  9 10 11 12]\n",
      "[ 5  6  7  8  9 10 11 12 13 14]\n",
      "[ 7  8  9 10 11 12 13 14 15 16]\n",
      "[ 9 10 11 12 13 14 15 16 17 18]\n",
      "[11 12 13 14 15 16 17 18 19 20]\n"
     ]
    }
   ],
   "source": [
    "for i in range(0,5):\n",
    "    a+=2\n",
    "    print(a)"
   ]
  },
  {
   "cell_type": "code",
   "execution_count": 36,
   "metadata": {},
   "outputs": [
    {
     "name": "stdout",
     "output_type": "stream",
     "text": [
      "[  3   6  11  18  27  38  51  66  83 102]\n",
      "[  5   8  13  20  29  40  53  68  85 104]\n",
      "[  7  10  15  22  31  42  55  70  87 106]\n",
      "[  9  12  17  24  33  44  57  72  89 108]\n",
      "[ 11  14  19  26  35  46  59  74  91 110]\n"
     ]
    }
   ],
   "source": [
    "for i in range(0,5):\n",
    "    b+=2\n",
    "    print(b)"
   ]
  },
  {
   "cell_type": "code",
   "execution_count": 114,
   "metadata": {},
   "outputs": [
    {
     "name": "stdout",
     "output_type": "stream",
     "text": [
      "[array([0., 0., 0., 0., 0., 0., 0., 0., 0., 0., 0., 0., 0., 0., 0., 0., 0.,\n",
      "       0., 0., 0., 0., 0., 0., 0., 0., 0., 0., 0., 0., 0., 0., 0., 0., 0.,\n",
      "       0., 0., 0., 0., 0., 0., 0., 0., 0., 0., 0., 0., 0., 0., 0., 0., 0.,\n",
      "       0., 0., 0., 0., 0., 0., 0., 0., 0., 0., 0., 0., 0., 0., 0., 0., 0.,\n",
      "       0., 0., 0., 0., 0., 0., 0., 0., 0., 0., 0., 0., 0., 0., 0., 0., 0.,\n",
      "       0., 0., 0., 0., 0., 0., 0., 0., 0., 0., 0., 0., 0., 0., 0.])]\n",
      "[array([-0.05365734,  0.41843873, -0.44973119,  0.03972275,  0.26583935,\n",
      "        1.06931613, -0.82160716, -0.58328166,  0.78841815, -0.56403902,\n",
      "        0.03595558,  0.90956062,  0.55206146,  1.58811868, -0.46703007,\n",
      "       -0.7594734 , -0.4094345 ,  0.02941355, -0.63061614, -1.1057681 ,\n",
      "       -1.18203427,  0.26054326, -0.20434622,  0.79295594, -1.61429162,\n",
      "       -0.73730203, -0.49976144, -0.79231743, -0.28900651, -1.69651397,\n",
      "       -1.40369147, -0.6598804 ,  1.78013736,  1.77549826,  0.60707934,\n",
      "       -0.00283496,  1.20735194, -0.9272393 , -0.98989137, -0.72079361,\n",
      "        0.00393649,  0.92110311,  0.8829995 ,  0.82155723, -2.08743804,\n",
      "       -0.09485833,  1.62928909,  0.78475578, -0.33678221,  0.37262132,\n",
      "       -0.22927298, -0.05500246, -0.1163633 ,  0.31989444, -1.87953492,\n",
      "        0.0990904 ,  0.08758287,  0.26091666, -0.79854316, -0.68716348,\n",
      "       -2.74406797,  0.02257877, -0.19006523,  0.33976163,  0.70729678,\n",
      "       -0.59027558, -0.11169598, -1.56917314, -0.31342608, -1.32358103,\n",
      "       -1.78228915,  0.09282875,  0.8848384 ,  0.33595375, -1.62656842,\n",
      "        2.60971897, -0.46738962, -0.74964044,  0.35109406,  2.53663206,\n",
      "       -0.3119925 ,  1.14541289, -0.47895547, -0.23455323,  0.72924171,\n",
      "       -0.28502619, -0.03359525,  0.43419494,  0.2061406 ,  1.04291555,\n",
      "        0.27872141, -0.24961981, -0.76894173,  1.22066566, -0.55305624,\n",
      "        1.62339792, -1.00584447,  0.1907245 ,  0.39603709,  0.2376474 ])]\n",
      "[array([-3.82699548e+00, -1.88750646e+00, -4.76097937e+00, -3.12217198e+00,\n",
      "        2.28597889e+00,  1.25713837e+00,  2.64383094e-01, -1.10475613e+00,\n",
      "        1.12433155e-03,  1.74925081e+00,  3.38943456e+00, -7.49721301e-01,\n",
      "        9.36314621e-01,  3.23711798e+00,  4.55630376e+00, -7.72267988e-01,\n",
      "        5.09530691e-01,  1.71687235e+00, -4.48272712e+00,  7.73321928e-01,\n",
      "        5.61556435e-01, -2.79399428e-01,  1.36488326e+00,  1.04958763e-01,\n",
      "        3.96090476e+00, -3.16224189e+00,  1.34568331e+00,  2.62716954e-01,\n",
      "        1.77165846e+00, -1.51777146e+00, -1.39886216e+00, -2.28378484e+00,\n",
      "       -2.48828754e+00,  1.99083748e+00,  9.16591374e-01,  2.77468256e-01,\n",
      "       -3.52574663e+00,  1.32954859e+00, -1.12575060e-01,  2.05824075e-01,\n",
      "        2.50287628e-01, -1.47309303e+00, -1.83383175e+00, -1.31029350e+00,\n",
      "        6.13258268e-02, -3.85420206e+00,  2.18267990e-01,  1.48244459e+00,\n",
      "       -2.09272187e-01,  6.49425858e-01, -3.38373420e-01, -4.24703658e-02,\n",
      "       -4.72975022e-01,  1.19453977e+00, -2.91901204e-01,  1.92628815e+00,\n",
      "       -1.11803004e+00,  3.11444316e+00,  2.57813274e+00,  2.88705435e+00,\n",
      "       -6.12800565e-01,  2.55286709e+00,  1.77020241e+00, -1.75636106e-01,\n",
      "       -3.91181033e-01,  5.59551986e-01, -9.94787847e-02, -4.04884803e+00,\n",
      "        1.25706676e-01,  5.92331625e-01, -4.18341336e+00, -2.56259576e+00,\n",
      "       -2.06264929e+00,  1.65969526e+00, -1.94321018e+00, -3.28587772e+00,\n",
      "       -2.14605040e+00,  1.08511682e+00, -3.11799056e+00,  1.09105723e+00,\n",
      "       -2.87285459e+00, -6.41429741e-01,  9.20112381e-01,  1.22414432e+00,\n",
      "       -3.46975890e+00, -3.12923830e+00, -7.14623205e-01, -2.90873900e+00,\n",
      "       -2.14000980e+00,  2.15412185e+00,  8.85324279e-01, -1.20969964e+00,\n",
      "       -3.77258461e-01,  1.42387546e+00, -1.47836750e-01,  3.11418452e-01,\n",
      "        9.71799716e-01, -1.14199093e+00,  1.24010892e+00, -1.13370320e+00])]\n",
      "[array([ 4.88478513,  2.97825024, -1.13958894, -4.63837956,  3.10445944,\n",
      "        1.90363632,  0.31489914, -0.16859143,  2.39426796,  0.33444063,\n",
      "        5.02959011, -1.30918426, -1.00867062,  2.75654992, -1.78956227,\n",
      "        1.83041221, -2.61156854,  0.4507361 ,  0.44394668, -5.8925176 ,\n",
      "        3.3914766 ,  1.75433049, -1.71845297,  2.38330142, -3.24924073,\n",
      "       -5.18540608,  1.68824242,  0.0948583 ,  0.1445921 , -1.21566559,\n",
      "        3.20253452,  0.07061556,  3.51836473,  0.91382578,  0.69642228,\n",
      "       -2.22690733, -0.45652825, -4.52298103, -5.33335773, -7.42804159,\n",
      "       -3.10380405, -3.76340881, -1.68895929, -1.88409695, -2.93447288,\n",
      "        1.27456861,  0.17731036, -9.93701896,  2.23687847,  4.84037341,\n",
      "        7.81594999, -3.84130418, -2.46636912,  2.86964657, -2.68068543,\n",
      "       -6.76384851,  6.49672139,  1.06687294, -2.22411909, -2.93807347,\n",
      "       -2.45483494,  1.40790938,  0.60799893,  1.73546344,  4.39669738,\n",
      "        2.52628957,  7.64864869, -0.41382383,  8.0528474 , -6.52031007,\n",
      "       -1.70979927, -4.26541531,  1.50204615, -0.39095805, -2.08175582,\n",
      "        3.55555593,  5.40535191,  3.30049201, -0.09141239,  6.14872247,\n",
      "        3.38173149, -2.61375376, -5.67451809, -1.05209691, -3.70166584,\n",
      "       -2.38540577,  4.52739387, -3.16800483, -3.48494824, -3.87244742,\n",
      "       -2.82335283, -2.58030413, -2.12674265,  3.41084745,  5.09695812,\n",
      "        5.69493332, -0.66480202, -0.81945933, -0.3897222 , -1.18455534])]\n",
      "[array([ 4.88478513,  2.97825024, -1.13958894, -4.63837956,  3.10445944,\n",
      "        1.90363632,  0.31489914, -0.16859143,  2.39426796,  0.33444063,\n",
      "        5.02959011, -1.30918426, -1.00867062,  2.75654992, -1.78956227,\n",
      "        1.83041221, -2.61156854,  0.4507361 ,  0.44394668, -5.8925176 ,\n",
      "        3.3914766 ,  1.75433049, -1.71845297,  2.38330142, -3.24924073,\n",
      "       -5.18540608,  1.68824242,  0.0948583 ,  0.1445921 , -1.21566559,\n",
      "        3.20253452,  0.07061556,  3.51836473,  0.91382578,  0.69642228,\n",
      "       -2.22690733, -0.45652825, -4.52298103, -5.33335773, -7.42804159,\n",
      "       -3.10380405, -3.76340881, -1.68895929, -1.88409695, -2.93447288,\n",
      "        1.27456861,  0.17731036, -9.93701896,  2.23687847,  4.84037341,\n",
      "        7.81594999, -3.84130418, -2.46636912,  2.86964657, -2.68068543,\n",
      "       -6.76384851,  6.49672139,  1.06687294, -2.22411909, -2.93807347,\n",
      "       -2.45483494,  1.40790938,  0.60799893,  1.73546344,  4.39669738,\n",
      "        2.52628957,  7.64864869, -0.41382383,  8.0528474 , -6.52031007,\n",
      "       -1.70979927, -4.26541531,  1.50204615, -0.39095805, -2.08175582,\n",
      "        3.55555593,  5.40535191,  3.30049201, -0.09141239,  6.14872247,\n",
      "        3.38173149, -2.61375376, -5.67451809, -1.05209691, -3.70166584,\n",
      "       -2.38540577,  4.52739387, -3.16800483, -3.48494824, -3.87244742,\n",
      "       -2.82335283, -2.58030413, -2.12674265,  3.41084745,  5.09695812,\n",
      "        5.69493332, -0.66480202, -0.81945933, -0.3897222 , -1.18455534])]\n"
     ]
    },
    {
     "data": {
      "text/plain": [
       "{'whiskers': [<matplotlib.lines.Line2D at 0x1a3c2502648>,\n",
       "  <matplotlib.lines.Line2D at 0x1a3c2502bc8>],\n",
       " 'caps': [<matplotlib.lines.Line2D at 0x1a3c2502b48>,\n",
       "  <matplotlib.lines.Line2D at 0x1a3c2502d08>],\n",
       " 'boxes': [<matplotlib.lines.Line2D at 0x1a3c24f9dc8>],\n",
       " 'medians': [<matplotlib.lines.Line2D at 0x1a3c2508c48>],\n",
       " 'fliers': [<matplotlib.lines.Line2D at 0x1a3c2508bc8>],\n",
       " 'means': []}"
      ]
     },
     "execution_count": 114,
     "metadata": {},
     "output_type": "execute_result"
    },
    {
     "data": {
      "image/png": "[encoded data removed]",
      "text/plain": [
       "<Figure size 432x288 with 1 Axes>"
      ]
     },
     "metadata": {
      "needs_background": "light"
     },
     "output_type": "display_data"
    }
   ],
   "source": [
    "s=[]\n",
    "for i in range(0,4):\n",
    "    data=[np.random.normal(0,i,100)]\n",
    "    print(data)\n",
    "s=data\n",
    "print(s)\n",
    "plt.boxplot(s,vert=False,patch_artist=False)"
   ]
  },
  {
   "cell_type": "code",
   "execution_count": 43,
   "metadata": {},
   "outputs": [
    {
     "name": "stdout",
     "output_type": "stream",
     "text": [
      "[array([0., 0., 0., 0., 0., 0., 0., 0., 0., 0.])]\n",
      "[array([-0.14763865,  0.33372094, -0.01722819, -0.52045162, -0.7134725 ,\n",
      "       -0.37106241, -0.1678596 ,  1.80395245,  0.03118796, -0.68416728])]\n",
      "[array([ 3.10354955,  1.34590208,  0.10258303, -1.36684677, -2.34294917,\n",
      "        0.23747144,  0.64608905, -2.4905058 ,  1.98861065,  1.37657635])]\n"
     ]
    },
    {
     "data": {
      "text/plain": [
       "{'whiskers': [<matplotlib.lines.Line2D at 0x1ab6b81ac48>,\n",
       "  <matplotlib.lines.Line2D at 0x1ab6b81af88>],\n",
       " 'caps': [<matplotlib.lines.Line2D at 0x1ab6b820e08>,\n",
       "  <matplotlib.lines.Line2D at 0x1ab6b820bc8>],\n",
       " 'boxes': [<matplotlib.lines.Line2D at 0x1ab6b81ab08>],\n",
       " 'medians': [<matplotlib.lines.Line2D at 0x1ab6b825908>],\n",
       " 'fliers': [<matplotlib.lines.Line2D at 0x1ab6b825e88>],\n",
       " 'means': []}"
      ]
     },
     "execution_count": 43,
     "metadata": {},
     "output_type": "execute_result"
    },
    {
     "data": {
      "image/png": "[encoded data removed]",
      "text/plain": [
       "<Figure size 432x288 with 1 Axes>"
      ]
     },
     "metadata": {
      "needs_background": "light"
     },
     "output_type": "display_data"
    }
   ],
   "source": [
    "t=[]\n",
    "for i in range(3):\n",
    "    data=[np.random.normal(0,i,10)]\n",
    "    print(data)\n",
    "t=data\n",
    "plt.boxplot(data)"
   ]
  },
  {
   "cell_type": "code",
   "execution_count": 115,
   "metadata": {},
   "outputs": [
    {
     "data": {
      "text/plain": [
       "{'whiskers': [<matplotlib.lines.Line2D at 0x1a3c2567948>,\n",
       "  <matplotlib.lines.Line2D at 0x1a3c2567ac8>],\n",
       " 'caps': [<matplotlib.lines.Line2D at 0x1a3c256db08>,\n",
       "  <matplotlib.lines.Line2D at 0x1a3c256da88>],\n",
       " 'boxes': [<matplotlib.patches.PathPatch at 0x1a3c2567388>],\n",
       " 'medians': [<matplotlib.lines.Line2D at 0x1a3c2571a88>],\n",
       " 'fliers': [<matplotlib.lines.Line2D at 0x1a3c2571a08>],\n",
       " 'means': []}"
      ]
     },
     "execution_count": 115,
     "metadata": {},
     "output_type": "execute_result"
    },
    {
     "data": {
      "image/png": "[encoded data removed]",
      "text/plain": [
       "<Figure size 432x288 with 1 Axes>"
      ]
     },
     "metadata": {
      "needs_background": "light"
     },
     "output_type": "display_data"
    }
   ],
   "source": [
    "plt.boxplot(s,vert=True,patch_artist=True)"
   ]
  },
  {
   "cell_type": "code",
   "execution_count": 46,
   "metadata": {},
   "outputs": [
    {
     "data": {
      "text/plain": [
       "array([ 6.40524646, -1.03548498,  1.65263847, -8.36956011,  1.88262946,\n",
       "        3.15611932,  0.95069957,  1.60675586,  2.16695998, -4.61868619])"
      ]
     },
     "execution_count": 46,
     "metadata": {},
     "output_type": "execute_result"
    }
   ],
   "source": [
    "np.random.normal(0,3,10)"
   ]
  },
  {
   "cell_type": "code",
   "execution_count": 54,
   "metadata": {},
   "outputs": [
    {
     "data": {
      "text/plain": [
       "array([2, 2, 4, 2, 2, 3, 2, 3, 0, 2])"
      ]
     },
     "execution_count": 54,
     "metadata": {},
     "output_type": "execute_result"
    }
   ],
   "source": [
    "np.random.randint(0,5,10)"
   ]
  },
  {
   "cell_type": "code",
   "execution_count": 52,
   "metadata": {},
   "outputs": [
    {
     "data": {
      "text/plain": [
       "array([[-0.64700861,  1.30105142,  0.43028707,  0.95601627],\n",
       "       [ 1.78472312,  2.04785608,  0.06842321, -1.02899946]])"
      ]
     },
     "execution_count": 52,
     "metadata": {},
     "output_type": "execute_result"
    }
   ],
   "source": [
    "np.random.randn(2,4)"
   ]
  },
  {
   "cell_type": "code",
   "execution_count": 55,
   "metadata": {},
   "outputs": [
    {
     "data": {
      "text/plain": [
       "array([[[0.64604354, 0.63503582, 0.92052797, 0.79275257, 0.47385013],\n",
       "        [0.61675627, 0.82435005, 0.19643067, 0.63740246, 0.68733579],\n",
       "        [0.90849739, 0.81993092, 0.36460723, 0.44829792, 0.6232097 ],\n",
       "        [0.06193934, 0.96996977, 0.77286922, 0.2312414 , 0.39531648]],\n",
       "\n",
       "       [[0.46347496, 0.64868214, 0.77073268, 0.81573414, 0.82847299],\n",
       "        [0.14654548, 0.8501787 , 0.20214704, 0.4684052 , 0.84964707],\n",
       "        [0.03518251, 0.30223991, 0.40233938, 0.25237277, 0.68145442],\n",
       "        [0.14095492, 0.81940442, 0.62028521, 0.59883588, 0.19219478]],\n",
       "\n",
       "       [[0.18679915, 0.41789412, 0.66272765, 0.99109215, 0.72626144],\n",
       "        [0.08433752, 0.79825521, 0.11052719, 0.79797921, 0.04511961],\n",
       "        [0.66617403, 0.72972844, 0.38378257, 0.11105224, 0.21344389],\n",
       "        [0.09164875, 0.90489848, 0.23129261, 0.19883754, 0.11791281]]])"
      ]
     },
     "execution_count": 55,
     "metadata": {},
     "output_type": "execute_result"
    }
   ],
   "source": [
    "np.random.rand(3,4,5)"
   ]
  },
  {
   "cell_type": "markdown",
   "metadata": {},
   "source": [
    "## PIE CHART"
   ]
  },
  {
   "cell_type": "code",
   "execution_count": 60,
   "metadata": {},
   "outputs": [
    {
     "data": {
      "text/plain": [
       "([<matplotlib.patches.Wedge at 0x1ab6b9f7288>,\n",
       "  <matplotlib.patches.Wedge at 0x1ab6b9fc408>,\n",
       "  <matplotlib.patches.Wedge at 0x1ab6ba027c8>,\n",
       "  <matplotlib.patches.Wedge at 0x1ab6ba08c08>],\n",
       " [Text(1.2246066444759491, 0.43627808368671983, 'Python'),\n",
       "  Text(-0.23939224491597344, 1.0736346459918713, 'Java'),\n",
       "  Text(-0.6034141326745937, -0.9197235369873754, 'Ruby'),\n",
       "  Text(0.9867377887074491, -0.4861569050591937, 'SQL')],\n",
       " [Text(0.7536040889082763, 0.2684788207302891, '11%'),\n",
       "  Text(-0.1305775881359855, 0.5856188978137479, '35%'),\n",
       "  Text(-0.32913498145886927, -0.5016673838112956, '39%'),\n",
       "  Text(0.5382206120222449, -0.26517649366865104, '15%')])"
      ]
     },
     "execution_count": 60,
     "metadata": {},
     "output_type": "execute_result"
    },
    {
     "data": {
      "image/png": "[encoded data removed]",
      "text/plain": [
       "<Figure size 432x288 with 1 Axes>"
      ]
     },
     "metadata": {},
     "output_type": "display_data"
    }
   ],
   "source": [
    "\n",
    "size=[234,756,845,313]\n",
    "lst=[\"Python\",\"Java\",\"Ruby\",\"SQL\"]\n",
    "explode=(0.2,0,0,0)\n",
    "colors=[\"blue\",\"green\",\"red\",\"yellow\"]\n",
    "#labels=[\"\"]\n",
    "plt.pie( size,explode=explode,labels=lst,colors=None,autopct='%1.0f%%',shadow=True,)"
   ]
  },
  {
   "cell_type": "markdown",
   "metadata": {},
   "source": [
    "## seaborn"
   ]
  },
  {
   "cell_type": "code",
   "execution_count": 124,
   "metadata": {},
   "outputs": [],
   "source": [
    "import seaborn as sns"
   ]
  },
  {
   "cell_type": "code",
   "execution_count": 125,
   "metadata": {},
   "outputs": [],
   "source": [
    "data=sns.load_dataset(\"tips\")"
   ]
  },
  {
   "cell_type": "code",
   "execution_count": 126,
   "metadata": {},
   "outputs": [
    {
     "data": {
      "text/html": [
       "<div>\n",
       "<style scoped>\n",
       "    .dataframe tbody tr th:only-of-type {\n",
       "        vertical-align: middle;\n",
       "    }\n",
       "\n",
       "    .dataframe tbody tr th {\n",
       "        vertical-align: top;\n",
       "    }\n",
       "\n",
       "    .dataframe thead th {\n",
       "        text-align: right;\n",
       "    }\n",
       "</style>\n",
       "<table border=\"1\" class=\"dataframe\">\n",
       "  <thead>\n",
       "    <tr style=\"text-align: right;\">\n",
       "      <th></th>\n",
       "      <th>total_bill</th>\n",
       "      <th>tip</th>\n",
       "      <th>sex</th>\n",
       "      <th>smoker</th>\n",
       "      <th>day</th>\n",
       "      <th>time</th>\n",
       "      <th>size</th>\n",
       "    </tr>\n",
       "  </thead>\n",
       "  <tbody>\n",
       "    <tr>\n",
       "      <th>0</th>\n",
       "      <td>16.99</td>\n",
       "      <td>1.01</td>\n",
       "      <td>Female</td>\n",
       "      <td>No</td>\n",
       "      <td>Sun</td>\n",
       "      <td>Dinner</td>\n",
       "      <td>2</td>\n",
       "    </tr>\n",
       "    <tr>\n",
       "      <th>1</th>\n",
       "      <td>10.34</td>\n",
       "      <td>1.66</td>\n",
       "      <td>Male</td>\n",
       "      <td>No</td>\n",
       "      <td>Sun</td>\n",
       "      <td>Dinner</td>\n",
       "      <td>3</td>\n",
       "    </tr>\n",
       "    <tr>\n",
       "      <th>2</th>\n",
       "      <td>21.01</td>\n",
       "      <td>3.50</td>\n",
       "      <td>Male</td>\n",
       "      <td>No</td>\n",
       "      <td>Sun</td>\n",
       "      <td>Dinner</td>\n",
       "      <td>3</td>\n",
       "    </tr>\n",
       "    <tr>\n",
       "      <th>3</th>\n",
       "      <td>23.68</td>\n",
       "      <td>3.31</td>\n",
       "      <td>Male</td>\n",
       "      <td>No</td>\n",
       "      <td>Sun</td>\n",
       "      <td>Dinner</td>\n",
       "      <td>2</td>\n",
       "    </tr>\n",
       "    <tr>\n",
       "      <th>4</th>\n",
       "      <td>24.59</td>\n",
       "      <td>3.61</td>\n",
       "      <td>Female</td>\n",
       "      <td>No</td>\n",
       "      <td>Sun</td>\n",
       "      <td>Dinner</td>\n",
       "      <td>4</td>\n",
       "    </tr>\n",
       "    <tr>\n",
       "      <th>...</th>\n",
       "      <td>...</td>\n",
       "      <td>...</td>\n",
       "      <td>...</td>\n",
       "      <td>...</td>\n",
       "      <td>...</td>\n",
       "      <td>...</td>\n",
       "      <td>...</td>\n",
       "    </tr>\n",
       "    <tr>\n",
       "      <th>239</th>\n",
       "      <td>29.03</td>\n",
       "      <td>5.92</td>\n",
       "      <td>Male</td>\n",
       "      <td>No</td>\n",
       "      <td>Sat</td>\n",
       "      <td>Dinner</td>\n",
       "      <td>3</td>\n",
       "    </tr>\n",
       "    <tr>\n",
       "      <th>240</th>\n",
       "      <td>27.18</td>\n",
       "      <td>2.00</td>\n",
       "      <td>Female</td>\n",
       "      <td>Yes</td>\n",
       "      <td>Sat</td>\n",
       "      <td>Dinner</td>\n",
       "      <td>2</td>\n",
       "    </tr>\n",
       "    <tr>\n",
       "      <th>241</th>\n",
       "      <td>22.67</td>\n",
       "      <td>2.00</td>\n",
       "      <td>Male</td>\n",
       "      <td>Yes</td>\n",
       "      <td>Sat</td>\n",
       "      <td>Dinner</td>\n",
       "      <td>2</td>\n",
       "    </tr>\n",
       "    <tr>\n",
       "      <th>242</th>\n",
       "      <td>17.82</td>\n",
       "      <td>1.75</td>\n",
       "      <td>Male</td>\n",
       "      <td>No</td>\n",
       "      <td>Sat</td>\n",
       "      <td>Dinner</td>\n",
       "      <td>2</td>\n",
       "    </tr>\n",
       "    <tr>\n",
       "      <th>243</th>\n",
       "      <td>18.78</td>\n",
       "      <td>3.00</td>\n",
       "      <td>Female</td>\n",
       "      <td>No</td>\n",
       "      <td>Thur</td>\n",
       "      <td>Dinner</td>\n",
       "      <td>2</td>\n",
       "    </tr>\n",
       "  </tbody>\n",
       "</table>\n",
       "<p>244 rows × 7 columns</p>\n",
       "</div>"
      ],
      "text/plain": [
       "     total_bill   tip     sex smoker   day    time  size\n",
       "0         16.99  1.01  Female     No   Sun  Dinner     2\n",
       "1         10.34  1.66    Male     No   Sun  Dinner     3\n",
       "2         21.01  3.50    Male     No   Sun  Dinner     3\n",
       "3         23.68  3.31    Male     No   Sun  Dinner     2\n",
       "4         24.59  3.61  Female     No   Sun  Dinner     4\n",
       "..          ...   ...     ...    ...   ...     ...   ...\n",
       "239       29.03  5.92    Male     No   Sat  Dinner     3\n",
       "240       27.18  2.00  Female    Yes   Sat  Dinner     2\n",
       "241       22.67  2.00    Male    Yes   Sat  Dinner     2\n",
       "242       17.82  1.75    Male     No   Sat  Dinner     2\n",
       "243       18.78  3.00  Female     No  Thur  Dinner     2\n",
       "\n",
       "[244 rows x 7 columns]"
      ]
     },
     "execution_count": 126,
     "metadata": {},
     "output_type": "execute_result"
    }
   ],
   "source": [
    "data"
   ]
  },
  {
   "cell_type": "markdown",
   "metadata": {},
   "source": [
    " ## correlation with heatmap"
   ]
  },
  {
   "cell_type": "code",
   "execution_count": 127,
   "metadata": {},
   "outputs": [
    {
     "data": {
      "text/html": [
       "<div>\n",
       "<style scoped>\n",
       "    .dataframe tbody tr th:only-of-type {\n",
       "        vertical-align: middle;\n",
       "    }\n",
       "\n",
       "    .dataframe tbody tr th {\n",
       "        vertical-align: top;\n",
       "    }\n",
       "\n",
       "    .dataframe thead th {\n",
       "        text-align: right;\n",
       "    }\n",
       "</style>\n",
       "<table border=\"1\" class=\"dataframe\">\n",
       "  <thead>\n",
       "    <tr style=\"text-align: right;\">\n",
       "      <th></th>\n",
       "      <th>total_bill</th>\n",
       "      <th>tip</th>\n",
       "      <th>size</th>\n",
       "    </tr>\n",
       "  </thead>\n",
       "  <tbody>\n",
       "    <tr>\n",
       "      <th>total_bill</th>\n",
       "      <td>1.000000</td>\n",
       "      <td>0.675734</td>\n",
       "      <td>0.598315</td>\n",
       "    </tr>\n",
       "    <tr>\n",
       "      <th>tip</th>\n",
       "      <td>0.675734</td>\n",
       "      <td>1.000000</td>\n",
       "      <td>0.489299</td>\n",
       "    </tr>\n",
       "    <tr>\n",
       "      <th>size</th>\n",
       "      <td>0.598315</td>\n",
       "      <td>0.489299</td>\n",
       "      <td>1.000000</td>\n",
       "    </tr>\n",
       "  </tbody>\n",
       "</table>\n",
       "</div>"
      ],
      "text/plain": [
       "            total_bill       tip      size\n",
       "total_bill    1.000000  0.675734  0.598315\n",
       "tip           0.675734  1.000000  0.489299\n",
       "size          0.598315  0.489299  1.000000"
      ]
     },
     "execution_count": 127,
     "metadata": {},
     "output_type": "execute_result"
    }
   ],
   "source": [
    "data.corr()"
   ]
  },
  {
   "cell_type": "code",
   "execution_count": 128,
   "metadata": {},
   "outputs": [
    {
     "data": {
      "text/plain": [
       "<matplotlib.axes._subplots.AxesSubplot at 0x1a3c56b1248>"
      ]
     },
     "execution_count": 128,
     "metadata": {},
     "output_type": "execute_result"
    },
    {
     "data": {
      "image/png": "[encoded data removed]",
      "text/plain": [
       "<Figure size 432x288 with 2 Axes>"
      ]
     },
     "metadata": {
      "needs_background": "light"
     },
     "output_type": "display_data"
    }
   ],
   "source": [
    "sns.heatmap(data.corr())"
   ]
  },
  {
   "cell_type": "markdown",
   "metadata": {},
   "source": [
    "## Joint Plot"
   ]
  },
  {
   "cell_type": "code",
   "execution_count": 137,
   "metadata": {},
   "outputs": [
    {
     "data": {
      "text/plain": [
       "<seaborn.axisgrid.JointGrid at 0x1a3c2212b48>"
      ]
     },
     "execution_count": 137,
     "metadata": {},
     "output_type": "execute_result"
    },
    {
     "data": {
      "image/png": "[encoded data removed]",
      "text/plain": [
       "<Figure size 432x432 with 3 Axes>"
      ]
     },
     "metadata": {
      "needs_background": "light"
     },
     "output_type": "display_data"
    }
   ],
   "source": [
    "sns.jointplot(x=\"tip\",y=\"total_bill\",data=data, kind=\"hex\")"
   ]
  },
  {
   "cell_type": "code",
   "execution_count": 143,
   "metadata": {},
   "outputs": [
    {
     "data": {
      "text/plain": [
       "<seaborn.axisgrid.JointGrid at 0x1a3c6fcee88>"
      ]
     },
     "execution_count": 143,
     "metadata": {},
     "output_type": "execute_result"
    },
    {
     "data": {
      "image/png": "[encoded data removed]",
      "text/plain": [
       "<Figure size 432x432 with 3 Axes>"
      ]
     },
     "metadata": {
      "needs_background": "light"
     },
     "output_type": "display_data"
    }
   ],
   "source": [
    "sns.jointplot(x=\"tip\",y=\"total_bill\",data=data,kind=\"reg\") #\"scatter\" | \"reg\" | \"resid\" | \"kde\" | \"hex\""
   ]
  },
  {
   "cell_type": "markdown",
   "metadata": {},
   "source": [
    "## Pair plot"
   ]
  },
  {
   "cell_type": "code",
   "execution_count": 144,
   "metadata": {},
   "outputs": [
    {
     "data": {
      "text/plain": [
       "<seaborn.axisgrid.PairGrid at 0x1a3c71064c8>"
      ]
     },
     "execution_count": 144,
     "metadata": {},
     "output_type": "execute_result"
    },
    {
     "data": {
      "image/png": "[encoded data removed]",
      "text/plain": [
       "<Figure size 540x540 with 12 Axes>"
      ]
     },
     "metadata": {
      "needs_background": "light"
     },
     "output_type": "display_data"
    }
   ],
   "source": [
    "sns.pairplot(data)"
   ]
  },
  {
   "cell_type": "code",
   "execution_count": 145,
   "metadata": {},
   "outputs": [
    {
     "data": {
      "text/plain": [
       "<seaborn.axisgrid.PairGrid at 0x1a3c709a3c8>"
      ]
     },
     "execution_count": 145,
     "metadata": {},
     "output_type": "execute_result"
    },
    {
     "data": {
      "image/png": "[encoded data removed]",
      "text/plain": [
       "<Figure size 612.625x540 with 12 Axes>"
      ]
     },
     "metadata": {
      "needs_background": "light"
     },
     "output_type": "display_data"
    }
   ],
   "source": [
    "sns.pairplot(data,hue=\"sex\")"
   ]
  },
  {
   "cell_type": "markdown",
   "metadata": {},
   "source": [
    "## Dist join"
   ]
  },
  {
   "cell_type": "code",
   "execution_count": 153,
   "metadata": {},
   "outputs": [
    {
     "data": {
      "text/plain": [
       "<matplotlib.axes._subplots.AxesSubplot at 0x1a3c90975c8>"
      ]
     },
     "execution_count": 153,
     "metadata": {},
     "output_type": "execute_result"
    },
    {
     "data": {
      "image/png": "[encoded data removed]",
      "text/plain": [
       "<Figure size 432x288 with 1 Axes>"
      ]
     },
     "metadata": {
      "needs_background": "light"
     },
     "output_type": "display_data"
    }
   ],
   "source": [
    "sns.distplot(data[[\"tip\",\"total_bill\"]]) ## when KDE = True  y axis will be percentage"
   ]
  },
  {
   "cell_type": "code",
   "execution_count": 155,
   "metadata": {},
   "outputs": [
    {
     "data": {
      "text/plain": [
       "<matplotlib.axes._subplots.AxesSubplot at 0x1a3c92592c8>"
      ]
     },
     "execution_count": 155,
     "metadata": {},
     "output_type": "execute_result"
    },
    {
     "data": {
      "image/png": "[encoded data removed]",
      "text/plain": [
       "<Figure size 432x288 with 1 Axes>"
      ]
     },
     "metadata": {
      "needs_background": "light"
     },
     "output_type": "display_data"
    }
   ],
   "source": [
    "sns.distplot(data[\"size\"],kde=False,bins=10) # Kde  - Kernel density distribution,  when KDE = false , y axis will be value "
   ]
  },
  {
   "cell_type": "markdown",
   "metadata": {},
   "source": [
    "## for the categorial value "
   ]
  },
  {
   "cell_type": "markdown",
   "metadata": {},
   "source": [
    "## Count plot"
   ]
  },
  {
   "cell_type": "code",
   "execution_count": 157,
   "metadata": {},
   "outputs": [
    {
     "data": {
      "text/plain": [
       "<matplotlib.axes._subplots.AxesSubplot at 0x1a3c93135c8>"
      ]
     },
     "execution_count": 157,
     "metadata": {},
     "output_type": "execute_result"
    },
    {
     "data": {
      "image/png": "[encoded data removed]",
      "text/plain": [
       "<Figure size 432x288 with 1 Axes>"
      ]
     },
     "metadata": {
      "needs_background": "light"
     },
     "output_type": "display_data"
    }
   ],
   "source": [
    "sns.countplot(x=\"sex\" ,data=data)"
   ]
  },
  {
   "cell_type": "code",
   "execution_count": 160,
   "metadata": {},
   "outputs": [
    {
     "data": {
      "text/plain": [
       "<matplotlib.axes._subplots.AxesSubplot at 0x1a3c93928c8>"
      ]
     },
     "execution_count": 160,
     "metadata": {},
     "output_type": "execute_result"
    },
    {
     "data": {
      "image/png": "[encoded data removed]",
      "text/plain": [
       "<Figure size 432x288 with 1 Axes>"
      ]
     },
     "metadata": {
      "needs_background": "light"
     },
     "output_type": "display_data"
    }
   ],
   "source": [
    "sns.countplot(y=\"day\",data=data) # either x or y value is enough in count plot"
   ]
  },
  {
   "cell_type": "code",
   "execution_count": 161,
   "metadata": {},
   "outputs": [
    {
     "data": {
      "text/plain": [
       "<matplotlib.axes._subplots.AxesSubplot at 0x1a3c93e31c8>"
      ]
     },
     "execution_count": 161,
     "metadata": {},
     "output_type": "execute_result"
    },
    {
     "data": {
      "image/png": "[encoded data removed]",
      "text/plain": [
       "<Figure size 432x288 with 1 Axes>"
      ]
     },
     "metadata": {
      "needs_background": "light"
     },
     "output_type": "display_data"
    }
   ],
   "source": [
    "sns.barplot(x=\"sex\", y=\"tip\",data=data)"
   ]
  },
  {
   "cell_type": "markdown",
   "metadata": {},
   "source": [
    "## Bar plot"
   ]
  },
  {
   "cell_type": "code",
   "execution_count": 163,
   "metadata": {},
   "outputs": [
    {
     "data": {
      "text/plain": [
       "<matplotlib.axes._subplots.AxesSubplot at 0x1a3c94a7bc8>"
      ]
     },
     "execution_count": 163,
     "metadata": {},
     "output_type": "execute_result"
    },
    {
     "data": {
      "image/png": "[encoded data removed]",
      "text/plain": [
       "<Figure size 432x288 with 1 Axes>"
      ]
     },
     "metadata": {
      "needs_background": "light"
     },
     "output_type": "display_data"
    }
   ],
   "source": [
    "sns.barplot(y=\"day\",x=\"total_bill\", data=data,palette=\"rainbow\")"
   ]
  },
  {
   "cell_type": "code",
   "execution_count": 164,
   "metadata": {},
   "outputs": [
    {
     "data": {
      "text/plain": [
       "<matplotlib.axes._subplots.AxesSubplot at 0x1a3c94f98c8>"
      ]
     },
     "execution_count": 164,
     "metadata": {},
     "output_type": "execute_result"
    },
    {
     "data": {
      "image/png": "[encoded data removed]",
      "text/plain": [
       "<Figure size 432x288 with 1 Axes>"
      ]
     },
     "metadata": {
      "needs_background": "light"
     },
     "output_type": "display_data"
    }
   ],
   "source": [
    "sns.boxplot(data=data)"
   ]
  },
  {
   "cell_type": "markdown",
   "metadata": {},
   "source": [
    "## Box plot"
   ]
  },
  {
   "cell_type": "code",
   "execution_count": 167,
   "metadata": {},
   "outputs": [
    {
     "data": {
      "text/plain": [
       "<matplotlib.axes._subplots.AxesSubplot at 0x1a3c9633f48>"
      ]
     },
     "execution_count": 167,
     "metadata": {},
     "output_type": "execute_result"
    },
    {
     "data": {
      "image/png": "[encoded data removed]",
      "text/plain": [
       "<Figure size 432x288 with 1 Axes>"
      ]
     },
     "metadata": {
      "needs_background": "light"
     },
     "output_type": "display_data"
    }
   ],
   "source": [
    "sns.boxplot(data=data,orient='h')"
   ]
  },
  {
   "cell_type": "code",
   "execution_count": 178,
   "metadata": {},
   "outputs": [
    {
     "data": {
      "text/plain": [
       "<matplotlib.axes._subplots.AxesSubplot at 0x1a3c225fcc8>"
      ]
     },
     "execution_count": 178,
     "metadata": {},
     "output_type": "execute_result"
    },
    {
     "data": {
      "image/png": "[encoded data removed]",
      "text/plain": [
       "<Figure size 432x288 with 1 Axes>"
      ]
     },
     "metadata": {
      "needs_background": "light"
     },
     "output_type": "display_data"
    }
   ],
   "source": [
    "sns.boxplot(x=\"day\", y=\"tip\", hue=\"smoker\",data=data)"
   ]
  },
  {
   "cell_type": "markdown",
   "metadata": {},
   "source": [
    "## violin plot"
   ]
  },
  {
   "cell_type": "code",
   "execution_count": 176,
   "metadata": {},
   "outputs": [
    {
     "data": {
      "text/plain": [
       "<matplotlib.axes._subplots.AxesSubplot at 0x1a3c7db4a88>"
      ]
     },
     "execution_count": 176,
     "metadata": {},
     "output_type": "execute_result"
    },
    {
     "data": {
      "image/png": "[encoded data removed]",
      "text/plain": [
       "<Figure size 432x288 with 1 Axes>"
      ]
     },
     "metadata": {
      "needs_background": "light"
     },
     "output_type": "display_data"
    }
   ],
   "source": [
    "sns.violinplot(data=data, orient='h')"
   ]
  },
  {
   "cell_type": "code",
   "execution_count": 181,
   "metadata": {},
   "outputs": [
    {
     "data": {
      "text/plain": [
       "<matplotlib.axes._subplots.AxesSubplot at 0x1a3c577d748>"
      ]
     },
     "execution_count": 181,
     "metadata": {},
     "output_type": "execute_result"
    },
    {
     "data": {
      "image/png": "[encoded data removed]",
      "text/plain": [
       "<Figure size 432x288 with 1 Axes>"
      ]
     },
     "metadata": {
      "needs_background": "light"
     },
     "output_type": "display_data"
    }
   ],
   "source": [
    "sns.violinplot(y=\"day\", x=\"tip\" , data=data,palette=\"rainbow\")"
   ]
  },
  {
   "cell_type": "markdown",
   "metadata": {},
   "source": [
    "## Function"
   ]
  },
  {
   "cell_type": "code",
   "execution_count": 1,
   "metadata": {},
   "outputs": [],
   "source": [
    "def hello_world():\n",
    "    print(\"Hello World\")"
   ]
  },
  {
   "cell_type": "code",
   "execution_count": 2,
   "metadata": {},
   "outputs": [
    {
     "name": "stdout",
     "output_type": "stream",
     "text": [
      "Hello World\n"
     ]
    }
   ],
   "source": [
    "hello_world()"
   ]
  },
  {
   "cell_type": "code",
   "execution_count": 3,
   "metadata": {},
   "outputs": [],
   "source": [
    "def hello_py():\n",
    "    print(\"Hello Python\")"
   ]
  },
  {
   "cell_type": "code",
   "execution_count": 4,
   "metadata": {},
   "outputs": [
    {
     "name": "stdout",
     "output_type": "stream",
     "text": [
      "Hello Python\n"
     ]
    }
   ],
   "source": [
    "val=hello_py()"
   ]
  },
  {
   "cell_type": "code",
   "execution_count": 6,
   "metadata": {},
   "outputs": [],
   "source": [
    "val # will not return any output , print statement will print the statement , it won't return any output"
   ]
  },
  {
   "cell_type": "code",
   "execution_count": 7,
   "metadata": {},
   "outputs": [],
   "source": [
    "def hello():\n",
    "    return \"Hello!!!\"\n"
   ]
  },
  {
   "cell_type": "code",
   "execution_count": 8,
   "metadata": {},
   "outputs": [],
   "source": [
    "cal=hello()"
   ]
  },
  {
   "cell_type": "code",
   "execution_count": 9,
   "metadata": {},
   "outputs": [
    {
     "data": {
      "text/plain": [
       "'Hello!!!'"
      ]
     },
     "execution_count": 9,
     "metadata": {},
     "output_type": "execute_result"
    }
   ],
   "source": [
    "cal"
   ]
  },
  {
   "cell_type": "code",
   "execution_count": 14,
   "metadata": {},
   "outputs": [],
   "source": [
    "## here name is the positional argument amd age is keyword argument\n",
    "def details(name,age=25):\n",
    "    print(\"The enter name is {} and age is {}.\".format(name,age))"
   ]
  },
  {
   "cell_type": "code",
   "execution_count": 15,
   "metadata": {},
   "outputs": [
    {
     "name": "stdout",
     "output_type": "stream",
     "text": [
      "The enter name is Priya and age is 25.\n"
     ]
    }
   ],
   "source": [
    "details(\"Priya\")"
   ]
  },
  {
   "cell_type": "code",
   "execution_count": 16,
   "metadata": {},
   "outputs": [],
   "source": [
    "def num(*args,**kwargs): ## where *args represent positional argument, **kwargs represent keyword argument\n",
    "    print(args)\n",
    "    print(kwargs)"
   ]
  },
  {
   "cell_type": "code",
   "execution_count": 17,
   "metadata": {},
   "outputs": [
    {
     "name": "stdout",
     "output_type": "stream",
     "text": [
      "('shanmuga', 'priya', '.K')\n",
      "{'age': '25', 'role': 'ML Engineer'}\n"
     ]
    }
   ],
   "source": [
    "num(\"shanmuga\",\"priya\",\".K\",age=\"25\",role=\"ML Engineer\")"
   ]
  },
  {
   "cell_type": "code",
   "execution_count": 20,
   "metadata": {},
   "outputs": [],
   "source": [
    "lst=['shanmuga', 'priya', '.K']\n",
    "key={'age': '25', 'role': 'ML Engineer'}"
   ]
  },
  {
   "cell_type": "code",
   "execution_count": 21,
   "metadata": {},
   "outputs": [
    {
     "name": "stdout",
     "output_type": "stream",
     "text": [
      "('shanmuga', 'priya', '.K')\n",
      "{'age': '25', 'role': 'ML Engineer'}\n"
     ]
    }
   ],
   "source": [
    "num(*lst,**key)"
   ]
  },
  {
   "cell_type": "code",
   "execution_count": 32,
   "metadata": {},
   "outputs": [],
   "source": [
    "def eos(ls):\n",
    "    e=0\n",
    "    o=0\n",
    "    for i in ls:\n",
    "        if i%2==0:\n",
    "            e+=i;\n",
    "        else:\n",
    "            o+=i;\n",
    "    return e,o\n",
    "\n",
    "        \n",
    "    "
   ]
  },
  {
   "cell_type": "code",
   "execution_count": 33,
   "metadata": {},
   "outputs": [
    {
     "data": {
      "text/plain": [
       "(6, 9)"
      ]
     },
     "execution_count": 33,
     "metadata": {},
     "output_type": "execute_result"
    }
   ],
   "source": [
    "ls=[1,2,3,4,5]\n",
    "eos(ls)"
   ]
  },
  {
   "cell_type": "markdown",
   "metadata": {},
   "source": [
    "## Map function "
   ]
  },
  {
   "cell_type": "code",
   "execution_count": 40,
   "metadata": {},
   "outputs": [],
   "source": [
    "def even_or_odd(num):\n",
    "    if num%2==0:\n",
    "        return \"The number {} is Even.\".format(num)\n",
    "    else:\n",
    "        return \"The number {} is Odd.\".format(num)"
   ]
  },
  {
   "cell_type": "code",
   "execution_count": 35,
   "metadata": {},
   "outputs": [
    {
     "name": "stdout",
     "output_type": "stream",
     "text": [
      "The number 31 is Odd.\n"
     ]
    }
   ],
   "source": [
    "even_or_odd(31)"
   ]
  },
  {
   "cell_type": "markdown",
   "metadata": {},
   "source": [
    "#### to the list of number even or odd , usually we will do the for loop, instead we can use MAP function"
   ]
  },
  {
   "cell_type": "code",
   "execution_count": 36,
   "metadata": {},
   "outputs": [],
   "source": [
    "lst=[1,2,3,4,5,6,7,8,9,10]"
   ]
  },
  {
   "cell_type": "code",
   "execution_count": 37,
   "metadata": {},
   "outputs": [
    {
     "data": {
      "text/plain": [
       "<map at 0x227f3ccf548>"
      ]
     },
     "execution_count": 37,
     "metadata": {},
     "output_type": "execute_result"
    }
   ],
   "source": [
    "map(even_or_odd,lst) ## since memory is not initialise "
   ]
  },
  {
   "cell_type": "code",
   "execution_count": 41,
   "metadata": {},
   "outputs": [
    {
     "data": {
      "text/plain": [
       "['The number 1 is Odd.',\n",
       " 'The number 2 is Even.',\n",
       " 'The number 3 is Odd.',\n",
       " 'The number 4 is Even.',\n",
       " 'The number 5 is Odd.',\n",
       " 'The number 6 is Even.',\n",
       " 'The number 7 is Odd.',\n",
       " 'The number 8 is Even.',\n",
       " 'The number 9 is Odd.',\n",
       " 'The number 10 is Even.']"
      ]
     },
     "execution_count": 41,
     "metadata": {},
     "output_type": "execute_result"
    }
   ],
   "source": [
    "list(map(even_or_odd,lst))## to get the output convert the map into list "
   ]
  },
  {
   "cell_type": "markdown",
   "metadata": {},
   "source": [
    "## LAMBDA"
   ]
  },
  {
   "cell_type": "markdown",
   "metadata": {},
   "source": [
    "##### Anonymous function , function with no name, faster function\n",
    "##### if the function have only one exceution statement(single expression), we can convert the function into lamda function "
   ]
  },
  {
   "cell_type": "code",
   "execution_count": 42,
   "metadata": {},
   "outputs": [],
   "source": [
    "def re(a,b):\n",
    "    return a+b"
   ]
  },
  {
   "cell_type": "code",
   "execution_count": 43,
   "metadata": {},
   "outputs": [
    {
     "data": {
      "text/plain": [
       "6"
      ]
     },
     "execution_count": 43,
     "metadata": {},
     "output_type": "execute_result"
    }
   ],
   "source": [
    "re(2,4)"
   ]
  },
  {
   "cell_type": "code",
   "execution_count": 44,
   "metadata": {},
   "outputs": [],
   "source": [
    "add=lambda a,b:a+b"
   ]
  },
  {
   "cell_type": "code",
   "execution_count": 45,
   "metadata": {},
   "outputs": [
    {
     "data": {
      "text/plain": [
       "5"
      ]
     },
     "execution_count": 45,
     "metadata": {},
     "output_type": "execute_result"
    }
   ],
   "source": [
    "add(2,3)"
   ]
  },
  {
   "cell_type": "code",
   "execution_count": 46,
   "metadata": {},
   "outputs": [],
   "source": [
    "even=lambda num:num%2==0"
   ]
  },
  {
   "cell_type": "code",
   "execution_count": 49,
   "metadata": {},
   "outputs": [
    {
     "data": {
      "text/plain": [
       "True"
      ]
     },
     "execution_count": 49,
     "metadata": {},
     "output_type": "execute_result"
    }
   ],
   "source": [
    "even(20)"
   ]
  },
  {
   "cell_type": "code",
   "execution_count": 50,
   "metadata": {},
   "outputs": [],
   "source": [
    "mul=lambda x,y,z:x*y*z"
   ]
  },
  {
   "cell_type": "code",
   "execution_count": 51,
   "metadata": {},
   "outputs": [
    {
     "data": {
      "text/plain": [
       "6"
      ]
     },
     "execution_count": 51,
     "metadata": {},
     "output_type": "execute_result"
    }
   ],
   "source": [
    "mul(1,2,3)"
   ]
  },
  {
   "cell_type": "markdown",
   "metadata": {},
   "source": [
    "## Filter function "
   ]
  },
  {
   "cell_type": "code",
   "execution_count": 61,
   "metadata": {},
   "outputs": [],
   "source": [
    "def iseven(num):\n",
    "    if num%2==0:\n",
    "        return True\n",
    "    "
   ]
  },
  {
   "cell_type": "code",
   "execution_count": 53,
   "metadata": {},
   "outputs": [
    {
     "data": {
      "text/plain": [
       "True"
      ]
     },
     "execution_count": 53,
     "metadata": {},
     "output_type": "execute_result"
    }
   ],
   "source": [
    "iseven(12)"
   ]
  },
  {
   "cell_type": "code",
   "execution_count": 54,
   "metadata": {},
   "outputs": [],
   "source": [
    "lst=[1,2,3,4,5,6,7,8,9,10]"
   ]
  },
  {
   "cell_type": "code",
   "execution_count": 55,
   "metadata": {},
   "outputs": [
    {
     "data": {
      "text/plain": [
       "<filter at 0x227f3ccb108>"
      ]
     },
     "execution_count": 55,
     "metadata": {},
     "output_type": "execute_result"
    }
   ],
   "source": [
    "filter(iseven,lst)"
   ]
  },
  {
   "cell_type": "code",
   "execution_count": 62,
   "metadata": {},
   "outputs": [
    {
     "data": {
      "text/plain": [
       "[2, 4, 6, 8, 10]"
      ]
     },
     "execution_count": 62,
     "metadata": {},
     "output_type": "execute_result"
    }
   ],
   "source": [
    "list(filter(iseven,lst)) # filter will give only the value will is true on the function"
   ]
  },
  {
   "cell_type": "code",
   "execution_count": 63,
   "metadata": {},
   "outputs": [
    {
     "data": {
      "text/plain": [
       "[2, 4, 6, 8, 10]"
      ]
     },
     "execution_count": 63,
     "metadata": {},
     "output_type": "execute_result"
    }
   ],
   "source": [
    "list(filter(lambda num:num%2==0,lst))"
   ]
  },
  {
   "cell_type": "code",
   "execution_count": 64,
   "metadata": {},
   "outputs": [
    {
     "data": {
      "text/plain": [
       "[False, True, False, True, False, True, False, True, False, True]"
      ]
     },
     "execution_count": 64,
     "metadata": {},
     "output_type": "execute_result"
    }
   ],
   "source": [
    "list(map(lambda num:num%2==0,lst))"
   ]
  },
  {
   "cell_type": "markdown",
   "metadata": {},
   "source": [
    "## List Comprehension\n",
    "- List comprehension is the concise way to create the list. It consists of brackets containing expression followed by for clause, then zen or more for or if clauses. The expression can be anything or meaning or all kind of objects you can put in the lists"
   ]
  },
  {
   "cell_type": "code",
   "execution_count": 2,
   "metadata": {},
   "outputs": [],
   "source": [
    "lst1=[]\n",
    "def new_list(lst):\n",
    "    for i in lst:\n",
    "        lst1.append(i*i)\n",
    "    return lst1"
   ]
  },
  {
   "cell_type": "code",
   "execution_count": 1,
   "metadata": {},
   "outputs": [],
   "source": [
    "lst=[1,2,3,4,5]"
   ]
  },
  {
   "cell_type": "code",
   "execution_count": 3,
   "metadata": {},
   "outputs": [
    {
     "data": {
      "text/plain": [
       "[1, 4, 9, 16, 25]"
      ]
     },
     "execution_count": 3,
     "metadata": {},
     "output_type": "execute_result"
    }
   ],
   "source": [
    "new_list(lst)"
   ]
  },
  {
   "cell_type": "code",
   "execution_count": 4,
   "metadata": {},
   "outputs": [
    {
     "data": {
      "text/plain": [
       "[1, 4, 9, 16, 25]"
      ]
     },
     "execution_count": 4,
     "metadata": {},
     "output_type": "execute_result"
    }
   ],
   "source": [
    "lst1"
   ]
  },
  {
   "cell_type": "code",
   "execution_count": 5,
   "metadata": {},
   "outputs": [
    {
     "data": {
      "text/plain": [
       "[1, 4, 9, 16, 25]"
      ]
     },
     "execution_count": 5,
     "metadata": {},
     "output_type": "execute_result"
    }
   ],
   "source": [
    "[i*i for i in lst ] ## list comprehension"
   ]
  },
  {
   "cell_type": "code",
   "execution_count": 6,
   "metadata": {},
   "outputs": [],
   "source": [
    "lst2=[i*i for i in lst]"
   ]
  },
  {
   "cell_type": "code",
   "execution_count": 7,
   "metadata": {},
   "outputs": [
    {
     "data": {
      "text/plain": [
       "[1, 4, 9, 16, 25]"
      ]
     },
     "execution_count": 7,
     "metadata": {},
     "output_type": "execute_result"
    }
   ],
   "source": [
    "lst2"
   ]
  },
  {
   "cell_type": "code",
   "execution_count": 8,
   "metadata": {},
   "outputs": [
    {
     "data": {
      "text/plain": [
       "[14, 26]"
      ]
     },
     "execution_count": 8,
     "metadata": {},
     "output_type": "execute_result"
    }
   ],
   "source": [
    "[i+10 for i in lst2 if i%2==0]"
   ]
  },
  {
   "cell_type": "code",
   "execution_count": 10,
   "metadata": {},
   "outputs": [
    {
     "data": {
      "text/plain": [
       "[2, 14, 10, 26, 26]"
      ]
     },
     "execution_count": 10,
     "metadata": {},
     "output_type": "execute_result"
    }
   ],
   "source": [
    "[i+10 if i%2==0 else i+1 for i in lst2 ]"
   ]
  },
  {
   "cell_type": "markdown",
   "metadata": {},
   "source": [
    "## String formatting"
   ]
  },
  {
   "cell_type": "code",
   "execution_count": 83,
   "metadata": {},
   "outputs": [],
   "source": [
    "def det(name,age):\n",
    "    return \"Welcome {} , your age is {}\".format(name,age)"
   ]
  },
  {
   "cell_type": "code",
   "execution_count": 85,
   "metadata": {},
   "outputs": [
    {
     "data": {
      "text/plain": [
       "'Welcome priya , your age is 25'"
      ]
     },
     "execution_count": 85,
     "metadata": {},
     "output_type": "execute_result"
    }
   ],
   "source": [
    "det(\"Priya\",25)"
   ]
  },
  {
   "cell_type": "code",
   "execution_count": 89,
   "metadata": {},
   "outputs": [],
   "source": [
    "def det1(name,age):\n",
    "    return \"Welcome {} , your age is {}\".format(age, name)"
   ]
  },
  {
   "cell_type": "code",
   "execution_count": 90,
   "metadata": {},
   "outputs": [
    {
     "data": {
      "text/plain": [
       "'Welcome 23 , your age is priya'"
      ]
     },
     "execution_count": 90,
     "metadata": {},
     "output_type": "execute_result"
    }
   ],
   "source": [
    "det1(\"priya\",23)"
   ]
  },
  {
   "cell_type": "code",
   "execution_count": 91,
   "metadata": {},
   "outputs": [],
   "source": [
    "def det2(name,age):\n",
    "    return \"Welcome {n} , your age is {a}\".format(n=name,a=age)"
   ]
  },
  {
   "cell_type": "code",
   "execution_count": 92,
   "metadata": {},
   "outputs": [
    {
     "data": {
      "text/plain": [
       "'Welcome priya , your age is 23'"
      ]
     },
     "execution_count": 92,
     "metadata": {},
     "output_type": "execute_result"
    }
   ],
   "source": [
    "det2(\"priya\",23)"
   ]
  },
  {
   "cell_type": "code",
   "execution_count": 98,
   "metadata": {},
   "outputs": [],
   "source": [
    "def det4(name,age=25):\n",
    "    return \"Welcome {} , your age is {}\".format(name,age)"
   ]
  },
  {
   "cell_type": "code",
   "execution_count": 99,
   "metadata": {},
   "outputs": [
    {
     "data": {
      "text/plain": [
       "'Welcome priya , your age is 25'"
      ]
     },
     "execution_count": 99,
     "metadata": {},
     "output_type": "execute_result"
    }
   ],
   "source": [
    "det4(\"priya\")"
   ]
  },
  {
   "cell_type": "markdown",
   "metadata": {},
   "source": [
    "## List Iterables VS Iterators VS Generator"
   ]
  },
  {
   "cell_type": "code",
   "execution_count": 100,
   "metadata": {},
   "outputs": [],
   "source": [
    "lst=[1,2,3,4,5,6,7,8,9,10] # here lst is iterables, memory will intialised and stored in one place"
   ]
  },
  {
   "cell_type": "code",
   "execution_count": 103,
   "metadata": {},
   "outputs": [
    {
     "name": "stdout",
     "output_type": "stream",
     "text": [
      "1\n",
      "2\n",
      "3\n",
      "4\n",
      "5\n",
      "6\n",
      "7\n",
      "8\n",
      "9\n",
      "10\n"
     ]
    }
   ],
   "source": [
    "\n",
    "for i in lst:\n",
    "    print (i)"
   ]
  },
  {
   "cell_type": "code",
   "execution_count": 122,
   "metadata": {},
   "outputs": [],
   "source": [
    "lst1=iter(lst) ## iter fucntion # memory is not initialized , memory will be initialised using the  next function one by one "
   ]
  },
  {
   "cell_type": "markdown",
   "metadata": {},
   "source": [
    "- if list having more elements,it will use the more space, when we make the list into iter, it won't take memory space, since for iter memory won't be initialise at once.  "
   ]
  },
  {
   "cell_type": "code",
   "execution_count": 108,
   "metadata": {},
   "outputs": [
    {
     "data": {
      "text/plain": [
       "3"
      ]
     },
     "execution_count": 108,
     "metadata": {},
     "output_type": "execute_result"
    }
   ],
   "source": [
    "next(lst1)"
   ]
  },
  {
   "cell_type": "code",
   "execution_count": 116,
   "metadata": {},
   "outputs": [
    {
     "ename": "StopIteration",
     "evalue": "",
     "output_type": "error",
     "traceback": [
      "\u001b[1;31m---------------------------------------------------------------------------\u001b[0m",
      "\u001b[1;31mStopIteration\u001b[0m                             Traceback (most recent call last)",
      "\u001b[1;32m<ipython-input-116-15dfa6f6acfc>\u001b[0m in \u001b[0;36m<module>\u001b[1;34m\u001b[0m\n\u001b[1;32m----> 1\u001b[1;33m \u001b[0mnext\u001b[0m\u001b[1;33m(\u001b[0m\u001b[0mlst1\u001b[0m\u001b[1;33m)\u001b[0m\u001b[1;33m\u001b[0m\u001b[1;33m\u001b[0m\u001b[0m\n\u001b[0m",
      "\u001b[1;31mStopIteration\u001b[0m: "
     ]
    }
   ],
   "source": [
    "next(lst1) # once element is fetched , it throw the error"
   ]
  },
  {
   "cell_type": "code",
   "execution_count": 123,
   "metadata": {},
   "outputs": [
    {
     "name": "stdout",
     "output_type": "stream",
     "text": [
      "1\n",
      "2\n",
      "3\n",
      "4\n",
      "5\n",
      "6\n",
      "7\n",
      "8\n",
      "9\n",
      "10\n"
     ]
    }
   ],
   "source": [
    "for i in lst1:\n",
    "    print(i) # after reaching the last elemet of the iterator, because exception defaultly handled by the iter function  "
   ]
  },
  {
   "cell_type": "markdown",
   "metadata": {},
   "source": [
    "## D/B Iterators and Generator\n",
    "    1. Iterators are created using the Iter() function and to Generator we use the function with yield keyword.\n",
    "    2. Generator wuse the yield keyword and it save the local variable.\n",
    "    3. Generator in python helps us to write the code fast and compact code.\n",
    "    4. Python Iterators is mucn more memory efficeint"
   ]
  },
  {
   "cell_type": "code",
   "execution_count": 45,
   "metadata": {},
   "outputs": [],
   "source": [
    "\n",
    "def square(n):\n",
    "        for i in range(n):\n",
    "            print (i*i)"
   ]
  },
  {
   "cell_type": "code",
   "execution_count": 44,
   "metadata": {},
   "outputs": [
    {
     "name": "stdout",
     "output_type": "stream",
     "text": [
      "0\n",
      "1\n",
      "4\n"
     ]
    }
   ],
   "source": [
    "c=square(3)"
   ]
  },
  {
   "cell_type": "code",
   "execution_count": 11,
   "metadata": {},
   "outputs": [],
   "source": [
    "## Generator\n",
    "def square(n):\n",
    "        for i in range(n):\n",
    "            yield (i*i)"
   ]
  },
  {
   "cell_type": "code",
   "execution_count": 12,
   "metadata": {},
   "outputs": [
    {
     "name": "stdout",
     "output_type": "stream",
     "text": [
      "0\n",
      "1\n",
      "4\n",
      "9\n",
      "16\n"
     ]
    }
   ],
   "source": [
    "for i in square(5):\n",
    "    print (i) "
   ]
  },
  {
   "cell_type": "code",
   "execution_count": 13,
   "metadata": {},
   "outputs": [
    {
     "data": {
      "text/plain": [
       "<generator object square at 0x0000028DD50D1890>"
      ]
     },
     "execution_count": 13,
     "metadata": {},
     "output_type": "execute_result"
    }
   ],
   "source": [
    "a=square(3)\n",
    "a"
   ]
  },
  {
   "cell_type": "code",
   "execution_count": 14,
   "metadata": {},
   "outputs": [
    {
     "data": {
      "text/plain": [
       "0"
      ]
     },
     "execution_count": 14,
     "metadata": {},
     "output_type": "execute_result"
    }
   ],
   "source": [
    "next(a)"
   ]
  },
  {
   "cell_type": "code",
   "execution_count": 15,
   "metadata": {},
   "outputs": [
    {
     "data": {
      "text/plain": [
       "1"
      ]
     },
     "execution_count": 15,
     "metadata": {},
     "output_type": "execute_result"
    }
   ],
   "source": [
    "next(a)"
   ]
  },
  {
   "cell_type": "code",
   "execution_count": 49,
   "metadata": {},
   "outputs": [],
   "source": [
    "import types, collections"
   ]
  },
  {
   "cell_type": "code",
   "execution_count": 54,
   "metadata": {},
   "outputs": [
    {
     "name": "stderr",
     "output_type": "stream",
     "text": [
      "C:\\Users\\Dell\\anaconda3\\lib\\site-packages\\ipykernel_launcher.py:1: DeprecationWarning: Using or importing the ABCs from 'collections' instead of from 'collections.abc' is deprecated since Python 3.3,and in 3.9 it will stop working\n",
      "  \"\"\"Entry point for launching an IPython kernel.\n"
     ]
    },
    {
     "data": {
      "text/plain": [
       "True"
      ]
     },
     "execution_count": 54,
     "metadata": {},
     "output_type": "execute_result"
    }
   ],
   "source": [
    "issubclass(types.GeneratorType,collections.Iterator)"
   ]
  },
  {
   "cell_type": "markdown",
   "metadata": {},
   "source": [
    "## PYFOREST -Lazy - Import all the python data science libraries\n",
    "- pyforest lazy import all data science python libraries so that they are always available whenever they needed. If u don't use the libraries , it won't  available. Once your script is ready , u can export the python code for the import statement. "
   ]
  },
  {
   "cell_type": "code",
   "execution_count": 1,
   "metadata": {},
   "outputs": [
    {
     "name": "stdout",
     "output_type": "stream",
     "text": [
      "Requirement already satisfied: Pyforest in c:\\users\\dell\\anaconda3\\lib\\site-packages (1.1.0)\n",
      "Note: you may need to restart the kernel to use updated packages.\n"
     ]
    }
   ],
   "source": [
    "pip install Pyforest"
   ]
  },
  {
   "cell_type": "code",
   "execution_count": 4,
   "metadata": {},
   "outputs": [
    {
     "data": {
      "application/javascript": [
       "\n",
       "        if (window._pyforest_update_imports_cell) { window._pyforest_update_imports_cell('import pandas as pd'); }\n",
       "    "
      ],
      "text/plain": [
       "<IPython.core.display.Javascript object>"
      ]
     },
     "metadata": {},
     "output_type": "display_data"
    }
   ],
   "source": [
    "df=pd.read_csv(\"http://winterolympicsmedals.com/medals.csv\")"
   ]
  },
  {
   "cell_type": "code",
   "execution_count": 6,
   "metadata": {},
   "outputs": [
    {
     "data": {
      "text/html": [
       "<div>\n",
       "<style scoped>\n",
       "    .dataframe tbody tr th:only-of-type {\n",
       "        vertical-align: middle;\n",
       "    }\n",
       "\n",
       "    .dataframe tbody tr th {\n",
       "        vertical-align: top;\n",
       "    }\n",
       "\n",
       "    .dataframe thead th {\n",
       "        text-align: right;\n",
       "    }\n",
       "</style>\n",
       "<table border=\"1\" class=\"dataframe\">\n",
       "  <thead>\n",
       "    <tr style=\"text-align: right;\">\n",
       "      <th></th>\n",
       "      <th>Year</th>\n",
       "      <th>City</th>\n",
       "      <th>Sport</th>\n",
       "      <th>Discipline</th>\n",
       "      <th>NOC</th>\n",
       "      <th>Event</th>\n",
       "      <th>Event gender</th>\n",
       "      <th>Medal</th>\n",
       "    </tr>\n",
       "  </thead>\n",
       "  <tbody>\n",
       "    <tr>\n",
       "      <th>0</th>\n",
       "      <td>1924</td>\n",
       "      <td>Chamonix</td>\n",
       "      <td>Skating</td>\n",
       "      <td>Figure skating</td>\n",
       "      <td>AUT</td>\n",
       "      <td>individual</td>\n",
       "      <td>M</td>\n",
       "      <td>Silver</td>\n",
       "    </tr>\n",
       "    <tr>\n",
       "      <th>1</th>\n",
       "      <td>1924</td>\n",
       "      <td>Chamonix</td>\n",
       "      <td>Skating</td>\n",
       "      <td>Figure skating</td>\n",
       "      <td>AUT</td>\n",
       "      <td>individual</td>\n",
       "      <td>W</td>\n",
       "      <td>Gold</td>\n",
       "    </tr>\n",
       "    <tr>\n",
       "      <th>2</th>\n",
       "      <td>1924</td>\n",
       "      <td>Chamonix</td>\n",
       "      <td>Skating</td>\n",
       "      <td>Figure skating</td>\n",
       "      <td>AUT</td>\n",
       "      <td>pairs</td>\n",
       "      <td>X</td>\n",
       "      <td>Gold</td>\n",
       "    </tr>\n",
       "    <tr>\n",
       "      <th>3</th>\n",
       "      <td>1924</td>\n",
       "      <td>Chamonix</td>\n",
       "      <td>Bobsleigh</td>\n",
       "      <td>Bobsleigh</td>\n",
       "      <td>BEL</td>\n",
       "      <td>four-man</td>\n",
       "      <td>M</td>\n",
       "      <td>Bronze</td>\n",
       "    </tr>\n",
       "    <tr>\n",
       "      <th>4</th>\n",
       "      <td>1924</td>\n",
       "      <td>Chamonix</td>\n",
       "      <td>Ice Hockey</td>\n",
       "      <td>Ice Hockey</td>\n",
       "      <td>CAN</td>\n",
       "      <td>ice hockey</td>\n",
       "      <td>M</td>\n",
       "      <td>Gold</td>\n",
       "    </tr>\n",
       "  </tbody>\n",
       "</table>\n",
       "</div>"
      ],
      "text/plain": [
       "   Year      City       Sport      Discipline  NOC       Event Event gender  \\\n",
       "0  1924  Chamonix     Skating  Figure skating  AUT  individual            M   \n",
       "1  1924  Chamonix     Skating  Figure skating  AUT  individual            W   \n",
       "2  1924  Chamonix     Skating  Figure skating  AUT       pairs            X   \n",
       "3  1924  Chamonix   Bobsleigh       Bobsleigh  BEL    four-man            M   \n",
       "4  1924  Chamonix  Ice Hockey      Ice Hockey  CAN  ice hockey            M   \n",
       "\n",
       "    Medal  \n",
       "0  Silver  \n",
       "1    Gold  \n",
       "2    Gold  \n",
       "3  Bronze  \n",
       "4    Gold  "
      ]
     },
     "execution_count": 6,
     "metadata": {},
     "output_type": "execute_result"
    }
   ],
   "source": [
    "df.head()"
   ]
  },
  {
   "cell_type": "code",
   "execution_count": 5,
   "metadata": {},
   "outputs": [
    {
     "name": "stdout",
     "output_type": "stream",
     "text": [
      "import pandas as pd\n"
     ]
    },
    {
     "data": {
      "text/plain": [
       "['import pandas as pd']"
      ]
     },
     "execution_count": 5,
     "metadata": {},
     "output_type": "execute_result"
    }
   ],
   "source": [
    "active_imports()"
   ]
  },
  {
   "cell_type": "code",
   "execution_count": 7,
   "metadata": {},
   "outputs": [
    {
     "data": {
      "application/javascript": [
       "\n",
       "        if (window._pyforest_update_imports_cell) { window._pyforest_update_imports_cell('import pandas as pd\\nimport numpy as np'); }\n",
       "    "
      ],
      "text/plain": [
       "<IPython.core.display.Javascript object>"
      ]
     },
     "metadata": {},
     "output_type": "display_data"
    },
    {
     "data": {
      "text/plain": [
       "array([0, 1, 2, 3, 4, 5, 6, 7, 8, 9])"
      ]
     },
     "execution_count": 7,
     "metadata": {},
     "output_type": "execute_result"
    }
   ],
   "source": [
    "np.arange(0,10)"
   ]
  },
  {
   "cell_type": "code",
   "execution_count": 8,
   "metadata": {},
   "outputs": [
    {
     "name": "stdout",
     "output_type": "stream",
     "text": [
      "import pandas as pd\n",
      "import numpy as np\n"
     ]
    },
    {
     "data": {
      "text/plain": [
       "['import pandas as pd', 'import numpy as np']"
      ]
     },
     "execution_count": 8,
     "metadata": {},
     "output_type": "execute_result"
    }
   ],
   "source": [
    "active_imports()"
   ]
  },
  {
   "cell_type": "code",
   "execution_count": 9,
   "metadata": {},
   "outputs": [],
   "source": [
    "lst1=[1,2,3,4,5]\n",
    "lst2=[1,4,9,16,25]"
   ]
  },
  {
   "cell_type": "code",
   "execution_count": 10,
   "metadata": {},
   "outputs": [
    {
     "data": {
      "application/javascript": [
       "\n",
       "        if (window._pyforest_update_imports_cell) { window._pyforest_update_imports_cell('import pandas as pd\\nimport matplotlib.pyplot as plt\\nimport numpy as np'); }\n",
       "    "
      ],
      "text/plain": [
       "<IPython.core.display.Javascript object>"
      ]
     },
     "metadata": {},
     "output_type": "display_data"
    },
    {
     "data": {
      "text/plain": [
       "<matplotlib.collections.PathCollection at 0x25ea1228c48>"
      ]
     },
     "execution_count": 10,
     "metadata": {},
     "output_type": "execute_result"
    },
    {
     "data": {
      "image/png": "[encoded data removed]",
      "text/plain": [
       "<Figure size 432x288 with 1 Axes>"
      ]
     },
     "metadata": {
      "needs_background": "light"
     },
     "output_type": "display_data"
    }
   ],
   "source": [
    "plt.scatter(lst1,lst2)"
   ]
  },
  {
   "cell_type": "code",
   "execution_count": 11,
   "metadata": {},
   "outputs": [
    {
     "name": "stdout",
     "output_type": "stream",
     "text": [
      "import pandas as pd\n",
      "import matplotlib.pyplot as plt\n",
      "import numpy as np\n"
     ]
    },
    {
     "data": {
      "text/plain": [
       "['import pandas as pd',\n",
       " 'import matplotlib.pyplot as plt',\n",
       " 'import numpy as np']"
      ]
     },
     "execution_count": 11,
     "metadata": {},
     "output_type": "execute_result"
    }
   ],
   "source": [
    "active_imports()"
   ]
  },
  {
   "cell_type": "code",
   "execution_count": 14,
   "metadata": {},
   "outputs": [
    {
     "data": {
      "application/javascript": [
       "\n",
       "        if (window._pyforest_update_imports_cell) { window._pyforest_update_imports_cell('import seaborn as sns\\nimport pandas as pd\\nimport matplotlib.pyplot as plt\\nimport numpy as np'); }\n",
       "    "
      ],
      "text/plain": [
       "<IPython.core.display.Javascript object>"
      ]
     },
     "metadata": {},
     "output_type": "display_data"
    }
   ],
   "source": [
    "data=pd.read_csv(\"D:/DATA SETS/titanic_data.csv\")"
   ]
  },
  {
   "cell_type": "code",
   "execution_count": 15,
   "metadata": {},
   "outputs": [
    {
     "data": {
      "text/plain": [
       "Index(['PassengerId', 'Survived', 'Pclass', 'Name', 'Sex', 'Age', 'SibSp',\n",
       "       'Parch', 'Ticket', 'Fare', 'Cabin', 'Embarked'],\n",
       "      dtype='object')"
      ]
     },
     "execution_count": 15,
     "metadata": {},
     "output_type": "execute_result"
    }
   ],
   "source": [
    "data.columns"
   ]
  },
  {
   "cell_type": "code",
   "execution_count": 16,
   "metadata": {},
   "outputs": [
    {
     "data": {
      "application/javascript": [
       "\n",
       "        if (window._pyforest_update_imports_cell) { window._pyforest_update_imports_cell('import seaborn as sns\\nimport pandas as pd\\nimport matplotlib.pyplot as plt\\nimport numpy as np'); }\n",
       "    "
      ],
      "text/plain": [
       "<IPython.core.display.Javascript object>"
      ]
     },
     "metadata": {},
     "output_type": "display_data"
    },
    {
     "data": {
      "text/plain": [
       "<matplotlib.axes._subplots.AxesSubplot at 0x25ea3c44dc8>"
      ]
     },
     "execution_count": 16,
     "metadata": {},
     "output_type": "execute_result"
    },
    {
     "data": {
      "image/png": "[encoded data removed]",
      "text/plain": [
       "<Figure size 432x288 with 1 Axes>"
      ]
     },
     "metadata": {
      "needs_background": "light"
     },
     "output_type": "display_data"
    }
   ],
   "source": [
    "sns.distplot(data[\"Survived\"])"
   ]
  },
  {
   "cell_type": "code",
   "execution_count": 17,
   "metadata": {},
   "outputs": [
    {
     "name": "stdout",
     "output_type": "stream",
     "text": [
      "import seaborn as sns\n",
      "import pandas as pd\n",
      "import matplotlib.pyplot as plt\n",
      "import numpy as np\n"
     ]
    },
    {
     "data": {
      "text/plain": [
       "['import seaborn as sns',\n",
       " 'import pandas as pd',\n",
       " 'import matplotlib.pyplot as plt',\n",
       " 'import numpy as np']"
      ]
     },
     "execution_count": 17,
     "metadata": {},
     "output_type": "execute_result"
    }
   ],
   "source": [
    "active_imports()"
   ]
  },
  {
   "cell_type": "markdown",
   "metadata": {},
   "source": [
    "### OOPS TUTORIAL\n",
    "\n",
    "- Class"
   ]
  },
  {
   "cell_type": "code",
   "execution_count": 23,
   "metadata": {},
   "outputs": [],
   "source": [
    "class Car:\n",
    "    def __init__(self,window,door,enginetype):\n",
    "        self.win=window\n",
    "        self.dr=door\n",
    "        self.et=enginetype\n",
    "        "
   ]
  },
  {
   "cell_type": "code",
   "execution_count": 25,
   "metadata": {},
   "outputs": [
    {
     "data": {
      "text/plain": [
       "<__main__.Car at 0x25ea3cdcbc8>"
      ]
     },
     "execution_count": 25,
     "metadata": {},
     "output_type": "execute_result"
    }
   ],
   "source": [
    "Car(5,4,\"Disel\")"
   ]
  },
  {
   "cell_type": "code",
   "execution_count": 35,
   "metadata": {},
   "outputs": [],
   "source": [
    "cal1=Car(5,4,\"Diesel\")"
   ]
  },
  {
   "cell_type": "code",
   "execution_count": 33,
   "metadata": {},
   "outputs": [
    {
     "data": {
      "text/plain": [
       "5"
      ]
     },
     "execution_count": 33,
     "metadata": {},
     "output_type": "execute_result"
    }
   ],
   "source": [
    "cal1.win"
   ]
  },
  {
   "cell_type": "code",
   "execution_count": 36,
   "metadata": {},
   "outputs": [
    {
     "name": "stdout",
     "output_type": "stream",
     "text": [
      "Diesel\n"
     ]
    }
   ],
   "source": [
    "print(cal1.et)"
   ]
  },
  {
   "cell_type": "code",
   "execution_count": 43,
   "metadata": {},
   "outputs": [],
   "source": [
    "class School:\n",
    "    def __init__(self,girl, boys, teacher):\n",
    "        self.g=g\\irl\n",
    "        self.b=boys\n",
    "        self.t=teacher\n",
    "    \n",
    "    def Girls(self):\n",
    "        print(\"NO.of girls is {}\".format(self.g))\n",
    "    def Boys(self):\n",
    "        print(\"NO.of boys is {}\".format(self.b))\n",
    "    def Teacher(self):\n",
    "        print(\"NO.of Teacher is {}\".format(self.t))\n",
    "        \n",
    "        "
   ]
  },
  {
   "cell_type": "code",
   "execution_count": 45,
   "metadata": {},
   "outputs": [],
   "source": [
    "s1=School(45,58,10)"
   ]
  },
  {
   "cell_type": "code",
   "execution_count": 47,
   "metadata": {},
   "outputs": [
    {
     "name": "stdout",
     "output_type": "stream",
     "text": [
      "NO.of girls is 45\n"
     ]
    }
   ],
   "source": [
    "s1.Girls()"
   ]
  },
  {
   "cell_type": "code",
   "execution_count": 50,
   "metadata": {},
   "outputs": [
    {
     "name": "stdout",
     "output_type": "stream",
     "text": [
      "NO.of Teacher is 10\n"
     ]
    }
   ],
   "source": [
    "s1.Teacher()"
   ]
  },
  {
   "cell_type": "code",
   "execution_count": 72,
   "metadata": {},
   "outputs": [
    {
     "name": "stdout",
     "output_type": "stream",
     "text": [
      "The total no.of employee is 0.\n"
     ]
    }
   ],
   "source": [
    "class Emp:\n",
    "    total_emp=0\n",
    "    def __init__(self,name,salary,year):\n",
    "        self.n=name\n",
    "        self.y=year\n",
    "        self.s=salary\n",
    "        Emp.total_emp+=1\n",
    "    def emp_name(self):\n",
    "        print(\"Employee name is {} and working for {} years.\" .format(self.n,self.y))\n",
    "    def emp_salary(self):\n",
    "        print(\"{} salary is {}\".format(self.n,self.s))\n",
    "    def tot_count(self):\n",
    "        print(\"The total no.of employee is {}.\".format(Emp.total_emp))"
   ]
  },
  {
   "cell_type": "code",
   "execution_count": 73,
   "metadata": {},
   "outputs": [],
   "source": [
    "e1=Emp(\"Priya\",30000,3)"
   ]
  },
  {
   "cell_type": "code",
   "execution_count": 66,
   "metadata": {},
   "outputs": [
    {
     "name": "stdout",
     "output_type": "stream",
     "text": [
      "Employee name is Priya and working for 3 years.\n"
     ]
    }
   ],
   "source": [
    "e1.emp_name()"
   ]
  },
  {
   "cell_type": "code",
   "execution_count": 74,
   "metadata": {},
   "outputs": [
    {
     "name": "stdout",
     "output_type": "stream",
     "text": [
      "Priya salary is 30000\n"
     ]
    }
   ],
   "source": [
    "e1.emp_salary()"
   ]
  },
  {
   "cell_type": "code",
   "execution_count": 71,
   "metadata": {},
   "outputs": [
    {
     "name": "stdout",
     "output_type": "stream",
     "text": [
      "The total no.of employee is 1.\n"
     ]
    }
   ],
   "source": [
    "e1.tot_count()"
   ]
  },
  {
   "cell_type": "code",
   "execution_count": 75,
   "metadata": {},
   "outputs": [
    {
     "name": "stdout",
     "output_type": "stream",
     "text": [
      "The total no.of employee is 2.\n"
     ]
    }
   ],
   "source": [
    "class Emp:\n",
    "    total_emp=0\n",
    "    def __init__(self,name,salary,year):\n",
    "        self.n=name\n",
    "        self.y=year\n",
    "        self.s=salary\n",
    "        Emp.total_emp+=1\n",
    "    def emp_name(self):\n",
    "        print(\"Employee name is {} and working for {} years.\" .format(self.n,self.y))\n",
    "    def emp_salary(self):\n",
    "        print(\"{} salary is {}\".format(self.n,self.s))\n",
    "emp1=Emp(\"Priya\",30000,3)\n",
    "emp2=Emp(\"Roja\",40000,4)\n",
    "print(\"The total no.of employee is {}.\".format(Emp.total_emp))"
   ]
  },
  {
   "cell_type": "markdown",
   "metadata": {},
   "source": [
    "## EXCEPTIONAL Handling \n",
    "- Exception should be popluate with proper msg , which user able to understand."
   ]
  },
  {
   "cell_type": "code",
   "execution_count": 76,
   "metadata": {},
   "outputs": [
    {
     "ename": "NameError",
     "evalue": "name 'b' is not defined",
     "output_type": "error",
     "traceback": [
      "\u001b[1;31m---------------------------------------------------------------------------\u001b[0m",
      "\u001b[1;31mNameError\u001b[0m                                 Traceback (most recent call last)",
      "\u001b[1;32m<ipython-input-76-488068fe1e94>\u001b[0m in \u001b[0;36m<module>\u001b[1;34m\u001b[0m\n\u001b[1;32m----> 1\u001b[1;33m \u001b[0ma\u001b[0m\u001b[1;33m=\u001b[0m\u001b[0mb\u001b[0m\u001b[1;33m\u001b[0m\u001b[1;33m\u001b[0m\u001b[0m\n\u001b[0m",
      "\u001b[1;31mNameError\u001b[0m: name 'b' is not defined"
     ]
    }
   ],
   "source": [
    "a=b"
   ]
  },
  {
   "cell_type": "code",
   "execution_count": 81,
   "metadata": {},
   "outputs": [
    {
     "name": "stdout",
     "output_type": "stream",
     "text": [
      "name 'b' is not defined\n"
     ]
    }
   ],
   "source": [
    "try:\n",
    "    a=b\n",
    "except Exception as e:## main exception class\n",
    "    print(e)"
   ]
  },
  {
   "cell_type": "code",
   "execution_count": 85,
   "metadata": {},
   "outputs": [
    {
     "name": "stdout",
     "output_type": "stream",
     "text": [
      " Variable is not defined\n"
     ]
    }
   ],
   "source": [
    "try:\n",
    "    a=b\n",
    "except NameError : # child exception , if child exception doesn't catch the error, mail exception will catch\n",
    "    print(\" Variable is not defined\")\n",
    "except Exception as e:## main exception class\n",
    "    print(e)"
   ]
  },
  {
   "cell_type": "code",
   "execution_count": 86,
   "metadata": {},
   "outputs": [
    {
     "ename": "TypeError",
     "evalue": "unsupported operand type(s) for +: 'int' and 'str'",
     "output_type": "error",
     "traceback": [
      "\u001b[1;31m---------------------------------------------------------------------------\u001b[0m",
      "\u001b[1;31mTypeError\u001b[0m                                 Traceback (most recent call last)",
      "\u001b[1;32m<ipython-input-86-ec0cb533526b>\u001b[0m in \u001b[0;36m<module>\u001b[1;34m\u001b[0m\n\u001b[1;32m----> 1\u001b[1;33m \u001b[1;36m1\u001b[0m\u001b[1;33m+\u001b[0m\u001b[1;34m\"number\"\u001b[0m\u001b[1;33m\u001b[0m\u001b[1;33m\u001b[0m\u001b[0m\n\u001b[0m",
      "\u001b[1;31mTypeError\u001b[0m: unsupported operand type(s) for +: 'int' and 'str'"
     ]
    }
   ],
   "source": [
    "1+\"number\""
   ]
  },
  {
   "cell_type": "code",
   "execution_count": 87,
   "metadata": {},
   "outputs": [
    {
     "name": "stdout",
     "output_type": "stream",
     "text": [
      "Please enter the value of same datatypes.\n"
     ]
    }
   ],
   "source": [
    "try:\n",
    "    a=1\n",
    "    b=\"number\"\n",
    "    c=a+b\n",
    "except TypeError:\n",
    "    print(\"Please enter the value of same datatypes.\")\n",
    "except Exception as e:\n",
    "    print(e)"
   ]
  },
  {
   "cell_type": "code",
   "execution_count": 88,
   "metadata": {},
   "outputs": [
    {
     "ename": "ZeroDivisionError",
     "evalue": "division by zero",
     "output_type": "error",
     "traceback": [
      "\u001b[1;31m---------------------------------------------------------------------------\u001b[0m",
      "\u001b[1;31mZeroDivisionError\u001b[0m                         Traceback (most recent call last)",
      "\u001b[1;32m<ipython-input-88-9e1622b385b6>\u001b[0m in \u001b[0;36m<module>\u001b[1;34m\u001b[0m\n\u001b[1;32m----> 1\u001b[1;33m \u001b[1;36m1\u001b[0m\u001b[1;33m/\u001b[0m\u001b[1;36m0\u001b[0m\u001b[1;33m\u001b[0m\u001b[1;33m\u001b[0m\u001b[0m\n\u001b[0m",
      "\u001b[1;31mZeroDivisionError\u001b[0m: division by zero"
     ]
    }
   ],
   "source": [
    "1/0"
   ]
  },
  {
   "cell_type": "code",
   "execution_count": 89,
   "metadata": {},
   "outputs": [
    {
     "name": "stdout",
     "output_type": "stream",
     "text": [
      "Enter the 1st value:5\n",
      "Enter the 2nd value:0\n",
      "Please enter the value other than Zero.\n"
     ]
    }
   ],
   "source": [
    "try:\n",
    "    a=int(input(\"Enter the 1st value:\"))\n",
    "    b=int(input(\"Enter the 2nd value:\"))\n",
    "    c=a/b\n",
    "\n",
    "except ZeroDivisionError:\n",
    "    print(\"Please enter the value other than Zero.\")\n",
    "except exception as e:\n",
    "    print(e)\n",
    "    "
   ]
  },
  {
   "cell_type": "code",
   "execution_count": 1,
   "metadata": {},
   "outputs": [
    {
     "name": "stdout",
     "output_type": "stream",
     "text": [
      "Enter the 1st value:1\n",
      "Enter the 2nd value:0\n",
      "Please enter the value other than Zero.\n"
     ]
    }
   ],
   "source": [
    "try:\n",
    "    a=int(input(\"Enter the 1st value:\"))\n",
    "    b=int(input(\"Enter the 2nd value:\"))\n",
    "    c=a+b\n",
    "    d=a-b\n",
    "    e=a/b\n",
    "\n",
    "except TypeError:\n",
    "    print(\"Please enter the value of same datatypes......\")\n",
    "except NameError:\n",
    "    print(\"Variable is not defined\")\n",
    "except ZeroDivisionError:\n",
    "    print(\"Please enter the value other than Zero........\")\n",
    "except exception as e:\n",
    "    print(e)\n",
    "\n",
    "    "
   ]
  },
  {
   "cell_type": "code",
   "execution_count": 5,
   "metadata": {},
   "outputs": [
    {
     "name": "stdout",
     "output_type": "stream",
     "text": [
      "Enter the 1st value:55\n",
      "Enter the 2nd value:2\n",
      "C : 57\n",
      "D : 53\n",
      "E : 27.5\n",
      "None of Exception Caught!!!\n"
     ]
    }
   ],
   "source": [
    "## we can have the else block in exception, if exceptional doesn't happens then else block will be executed\n",
    "try:\n",
    "    a=int(input(\"Enter the 1st value:\"))\n",
    "    b=int(input(\"Enter the 2nd value:\"))\n",
    "except TypeError:\n",
    "    print(\"Please enter the value of same datatypes.\")\n",
    "except NameError:\n",
    "    print(\" Variable is not defined\")\n",
    "except ZeroDivisionError:\n",
    "    print(\"Please enter the value other than Zero.\")\n",
    "except exception as e:\n",
    "    print(e)\n",
    "else:\n",
    "    c=a+b\n",
    "    d=a-b\n",
    "    e=a/b\n",
    "    print(\"C :\",c)\n",
    "    print(\"D :\",d)\n",
    "    print(\"E :\",e)\n",
    "    print(\"None of Exception Caught!!!\")"
   ]
  },
  {
   "cell_type": "code",
   "execution_count": 9,
   "metadata": {},
   "outputs": [
    {
     "name": "stdout",
     "output_type": "stream",
     "text": [
      "Enter the 1st value:25\n",
      "Enter the 2nd value:5\n",
      "C : 30\n",
      "D : 20\n",
      "E : 5.0\n",
      "None of Exception Caught!!!\n",
      "**** Process is done ****\n"
     ]
    }
   ],
   "source": [
    "### we can have the finally block, either exception occurs or not , finally block will execute always\n",
    "try:\n",
    "    a=int(input(\"Enter the 1st value:\"))\n",
    "    b=int(input(\"Enter the 2nd value:\"))\n",
    "    c=a+b\n",
    "    d=a-b\n",
    "    e=a/b\n",
    "except TypeError:\n",
    "    print(\"Please enter the value of same datatypes.\")\n",
    "except NameError:\n",
    "    print(\" Variable is not defined\")\n",
    "except ZeroDivisionError:\n",
    "    print(\"Please enter the value other than Zero.\")\n",
    "except exception as e:\n",
    "    print(e)\n",
    "else:\n",
    "    \n",
    "    print(\"C :\",c)\n",
    "    print(\"D :\",d)\n",
    "    print(\"E :\",e)\n",
    "    print(\"None of Exception Caught!!!\")\n",
    "finally:\n",
    "    print(\"**** Process is done ****\")\n"
   ]
  },
  {
   "cell_type": "code",
   "execution_count": 8,
   "metadata": {},
   "outputs": [
    {
     "name": "stdout",
     "output_type": "stream",
     "text": [
      "Enter the 1st value:25\n",
      "Enter the 2nd value:0\n",
      "Please enter the value other than Zero.\n",
      "**** Process is done ****\n"
     ]
    }
   ],
   "source": [
    "try:\n",
    "    a=int(input(\"Enter the 1st value:\"))\n",
    "    b=int(input(\"Enter the 2nd value:\"))\n",
    "    c=a+b\n",
    "    d=a-b\n",
    "    e=a/b\n",
    "except TypeError:\n",
    "    print(\"Please enter the value of same datatypes.\")\n",
    "except NameError:\n",
    "    print(\" Variable is not defined\")\n",
    "except ZeroDivisionError:\n",
    "    print(\"Please enter the value other than Zero.\")\n",
    "except exception as e:\n",
    "    print(e)\n",
    "else:\n",
    "   \n",
    "    print(\"C :\",c)\n",
    "    print(\"D :\",d)\n",
    "    print(\"E :\",e)\n",
    "    print(\"None of Exception Caught!!!\")\n",
    "finally:\n",
    "    print(\"**** Process is done ****\")"
   ]
  },
  {
   "cell_type": "markdown",
   "metadata": {},
   "source": [
    "## Custom exception"
   ]
  },
  {
   "cell_type": "code",
   "execution_count": 23,
   "metadata": {},
   "outputs": [
    {
     "name": "stdout",
     "output_type": "stream",
     "text": [
      "Enter your year of birth:1996\n",
      "Age is valid. Your are allowed to apply for exam.\n"
     ]
    }
   ],
   "source": [
    "year= int(input(\"Enter your year of birth:\"))\n",
    "age=2021-year\n",
    "try:\n",
    "    if (age>20) & (age<30):\n",
    "        print(\"Age is valid. Your are allowed to apply for exam.\")\n",
    "    else:\n",
    "        raise Dob_expection\n",
    "except Dob_expection:\n",
    "    print(\"Age is invalid. Your are not allowed to apply for exam.\")"
   ]
  },
  {
   "cell_type": "code",
   "execution_count": 22,
   "metadata": {},
   "outputs": [],
   "source": [
    "class Err(Exception): # here inhertiance concept is present\n",
    "    pass\n",
    "class Dob_expection(Err):\n",
    "    pass"
   ]
  },
  {
   "cell_type": "markdown",
   "metadata": {},
   "source": [
    "## OOPS - Public, Private, Protected"
   ]
  },
  {
   "cell_type": "code",
   "execution_count": 44,
   "metadata": {},
   "outputs": [],
   "source": [
    "# all the variable inside this class is public .. can be access anywhere ,\n",
    "class Cars():\n",
    "    def __init__(self,window,door,enginetype):\n",
    "        self.wi=window\n",
    "        self.dr=door\n",
    "        self.et=enginetype\n",
    "        "
   ]
  },
  {
   "cell_type": "code",
   "execution_count": 46,
   "metadata": {},
   "outputs": [],
   "source": [
    "\n",
    "mar=Cars(5,4,\"Petrol\") # where audi is object of the class"
   ]
  },
  {
   "cell_type": "code",
   "execution_count": 50,
   "metadata": {},
   "outputs": [
    {
     "data": {
      "text/plain": [
       "5"
      ]
     },
     "execution_count": 50,
     "metadata": {},
     "output_type": "execute_result"
    }
   ],
   "source": [
    "mar.wi"
   ]
  },
  {
   "cell_type": "code",
   "execution_count": 51,
   "metadata": {},
   "outputs": [
    {
     "data": {
      "text/plain": [
       "'Petrol'"
      ]
     },
     "execution_count": 51,
     "metadata": {},
     "output_type": "execute_result"
    }
   ],
   "source": [
    "mar.et"
   ]
  },
  {
   "cell_type": "code",
   "execution_count": 52,
   "metadata": {},
   "outputs": [],
   "source": [
    "mar.et=\"Diesel\" #we can overide the public variable"
   ]
  },
  {
   "cell_type": "code",
   "execution_count": 53,
   "metadata": {},
   "outputs": [
    {
     "data": {
      "text/plain": [
       "'Diesel'"
      ]
     },
     "execution_count": 53,
     "metadata": {},
     "output_type": "execute_result"
    }
   ],
   "source": [
    "mar.et"
   ]
  },
  {
   "cell_type": "code",
   "execution_count": 55,
   "metadata": {},
   "outputs": [
    {
     "data": {
      "text/plain": [
       "['__class__',\n",
       " '__delattr__',\n",
       " '__dict__',\n",
       " '__dir__',\n",
       " '__doc__',\n",
       " '__eq__',\n",
       " '__format__',\n",
       " '__ge__',\n",
       " '__getattribute__',\n",
       " '__gt__',\n",
       " '__hash__',\n",
       " '__init__',\n",
       " '__init_subclass__',\n",
       " '__le__',\n",
       " '__lt__',\n",
       " '__module__',\n",
       " '__ne__',\n",
       " '__new__',\n",
       " '__reduce__',\n",
       " '__reduce_ex__',\n",
       " '__repr__',\n",
       " '__setattr__',\n",
       " '__sizeof__',\n",
       " '__str__',\n",
       " '__subclasshook__',\n",
       " '__weakref__',\n",
       " 'dr',\n",
       " 'et',\n",
       " 'wi']"
      ]
     },
     "execution_count": 55,
     "metadata": {},
     "output_type": "execute_result"
    }
   ],
   "source": [
    "dir(mar)"
   ]
  },
  {
   "cell_type": "code",
   "execution_count": 61,
   "metadata": {},
   "outputs": [],
   "source": [
    "# Protected varibale , variable name start underscore (_), variable can be access and override by child class\n",
    "\n",
    "class Cars1():\n",
    "    def __init__(self,window,door,enginetype):\n",
    "        self._win=window\n",
    "        self._dor=door\n",
    "        self._engt=enginetype\n",
    "        \n",
    "        "
   ]
  },
  {
   "cell_type": "code",
   "execution_count": 63,
   "metadata": {},
   "outputs": [],
   "source": [
    "audi=Cars1(2,3,\"P\")"
   ]
  },
  {
   "cell_type": "code",
   "execution_count": 65,
   "metadata": {},
   "outputs": [
    {
     "data": {
      "text/plain": [
       "2"
      ]
     },
     "execution_count": 65,
     "metadata": {},
     "output_type": "execute_result"
    }
   ],
   "source": [
    "audi._win"
   ]
  },
  {
   "cell_type": "code",
   "execution_count": 66,
   "metadata": {},
   "outputs": [],
   "source": [
    "audi._win=5"
   ]
  },
  {
   "cell_type": "code",
   "execution_count": 67,
   "metadata": {},
   "outputs": [
    {
     "data": {
      "text/plain": [
       "5"
      ]
     },
     "execution_count": 67,
     "metadata": {},
     "output_type": "execute_result"
    }
   ],
   "source": [
    "audi._win"
   ]
  },
  {
   "cell_type": "code",
   "execution_count": 68,
   "metadata": {},
   "outputs": [
    {
     "data": {
      "text/plain": [
       "['__class__',\n",
       " '__delattr__',\n",
       " '__dict__',\n",
       " '__dir__',\n",
       " '__doc__',\n",
       " '__eq__',\n",
       " '__format__',\n",
       " '__ge__',\n",
       " '__getattribute__',\n",
       " '__gt__',\n",
       " '__hash__',\n",
       " '__init__',\n",
       " '__init_subclass__',\n",
       " '__le__',\n",
       " '__lt__',\n",
       " '__module__',\n",
       " '__ne__',\n",
       " '__new__',\n",
       " '__reduce__',\n",
       " '__reduce_ex__',\n",
       " '__repr__',\n",
       " '__setattr__',\n",
       " '__sizeof__',\n",
       " '__str__',\n",
       " '__subclasshook__',\n",
       " '__weakref__',\n",
       " '_dor',\n",
       " '_engt',\n",
       " '_win']"
      ]
     },
     "execution_count": 68,
     "metadata": {},
     "output_type": "execute_result"
    }
   ],
   "source": [
    "dir(audi)"
   ]
  },
  {
   "cell_type": "code",
   "execution_count": 73,
   "metadata": {},
   "outputs": [],
   "source": [
    "## child class\n",
    "class Truck(Cars1):\n",
    "    def __init__(self,window,doors,enginetypes,horsepower):\n",
    "        super().__init__(window,doors,enginetypes)\n",
    "        self.hp=horsepower\n",
    "    "
   ]
  },
  {
   "cell_type": "code",
   "execution_count": 74,
   "metadata": {},
   "outputs": [],
   "source": [
    "Trucks=Truck(3,4,\"Petrol\",3000)"
   ]
  },
  {
   "cell_type": "code",
   "execution_count": 75,
   "metadata": {},
   "outputs": [
    {
     "data": {
      "text/plain": [
       "3000"
      ]
     },
     "execution_count": 75,
     "metadata": {},
     "output_type": "execute_result"
    }
   ],
   "source": [
    "Trucks.hp"
   ]
  },
  {
   "cell_type": "code",
   "execution_count": 79,
   "metadata": {},
   "outputs": [
    {
     "data": {
      "text/plain": [
       "4"
      ]
     },
     "execution_count": 79,
     "metadata": {},
     "output_type": "execute_result"
    }
   ],
   "source": [
    "Trucks._dor"
   ]
  },
  {
   "cell_type": "code",
   "execution_count": 80,
   "metadata": {},
   "outputs": [],
   "source": [
    "Trucks._dor=6 # can override protected variable value using child class,child object"
   ]
  },
  {
   "cell_type": "code",
   "execution_count": 81,
   "metadata": {},
   "outputs": [
    {
     "data": {
      "text/plain": [
       "6"
      ]
     },
     "execution_count": 81,
     "metadata": {},
     "output_type": "execute_result"
    }
   ],
   "source": [
    "Trucks._dor"
   ]
  },
  {
   "cell_type": "code",
   "execution_count": 82,
   "metadata": {},
   "outputs": [
    {
     "data": {
      "text/plain": [
       "['__class__',\n",
       " '__delattr__',\n",
       " '__dict__',\n",
       " '__dir__',\n",
       " '__doc__',\n",
       " '__eq__',\n",
       " '__format__',\n",
       " '__ge__',\n",
       " '__getattribute__',\n",
       " '__gt__',\n",
       " '__hash__',\n",
       " '__init__',\n",
       " '__init_subclass__',\n",
       " '__le__',\n",
       " '__lt__',\n",
       " '__module__',\n",
       " '__ne__',\n",
       " '__new__',\n",
       " '__reduce__',\n",
       " '__reduce_ex__',\n",
       " '__repr__',\n",
       " '__setattr__',\n",
       " '__sizeof__',\n",
       " '__str__',\n",
       " '__subclasshook__',\n",
       " '__weakref__',\n",
       " '_dor',\n",
       " '_engt',\n",
       " '_win',\n",
       " 'hp']"
      ]
     },
     "execution_count": 82,
     "metadata": {},
     "output_type": "execute_result"
    }
   ],
   "source": [
    "dir(Trucks)"
   ]
  },
  {
   "cell_type": "code",
   "execution_count": 83,
   "metadata": {},
   "outputs": [],
   "source": [
    "# Private variables, variable name start with double underscore(__)\n",
    "\n",
    "class mark():\n",
    "    def __init__(self,eng,mat,rank):\n",
    "        self.__e=eng\n",
    "        self.__m=mat\n",
    "        self.__r=rank"
   ]
  },
  {
   "cell_type": "code",
   "execution_count": 84,
   "metadata": {},
   "outputs": [],
   "source": [
    "op=mark(2,3,\"A\")"
   ]
  },
  {
   "cell_type": "code",
   "execution_count": 87,
   "metadata": {},
   "outputs": [
    {
     "data": {
      "text/plain": [
       "['__class__',\n",
       " '__delattr__',\n",
       " '__dict__',\n",
       " '__dir__',\n",
       " '__doc__',\n",
       " '__eq__',\n",
       " '__format__',\n",
       " '__ge__',\n",
       " '__getattribute__',\n",
       " '__gt__',\n",
       " '__hash__',\n",
       " '__init__',\n",
       " '__init_subclass__',\n",
       " '__le__',\n",
       " '__lt__',\n",
       " '__module__',\n",
       " '__ne__',\n",
       " '__new__',\n",
       " '__reduce__',\n",
       " '__reduce_ex__',\n",
       " '__repr__',\n",
       " '__setattr__',\n",
       " '__sizeof__',\n",
       " '__str__',\n",
       " '__subclasshook__',\n",
       " '__weakref__',\n",
       " '_mark__e',\n",
       " '_mark__m',\n",
       " '_mark__r']"
      ]
     },
     "execution_count": 87,
     "metadata": {},
     "output_type": "execute_result"
    }
   ],
   "source": [
    "dir(op)"
   ]
  },
  {
   "cell_type": "code",
   "execution_count": 89,
   "metadata": {},
   "outputs": [
    {
     "data": {
      "text/plain": [
       "2"
      ]
     },
     "execution_count": 89,
     "metadata": {},
     "output_type": "execute_result"
    }
   ],
   "source": [
    "op._mark__e"
   ]
  },
  {
   "cell_type": "code",
   "execution_count": 90,
   "metadata": {},
   "outputs": [
    {
     "data": {
      "text/plain": [
       "'A'"
      ]
     },
     "execution_count": 90,
     "metadata": {},
     "output_type": "execute_result"
    }
   ],
   "source": [
    "op._mark__r"
   ]
  },
  {
   "cell_type": "code",
   "execution_count": 91,
   "metadata": {},
   "outputs": [],
   "source": [
    "op._mark__r =\"B\""
   ]
  },
  {
   "cell_type": "code",
   "execution_count": 92,
   "metadata": {},
   "outputs": [
    {
     "data": {
      "text/plain": [
       "'B'"
      ]
     },
     "execution_count": 92,
     "metadata": {},
     "output_type": "execute_result"
    }
   ],
   "source": [
    "op._mark__r"
   ]
  },
  {
   "cell_type": "markdown",
   "metadata": {},
   "source": [
    "## Inheritance"
   ]
  },
  {
   "cell_type": "code",
   "execution_count": 95,
   "metadata": {},
   "outputs": [],
   "source": [
    "# all the variables are public here \n",
    "# car is blueprint\n",
    "class Car():\n",
    "    def __init__(self,window,door,enginetype):\n",
    "        self.win=window\n",
    "        self.dr=door\n",
    "        self.et=enginetype\n",
    "    def Drive(self):\n",
    "        print(\"Car is in drive\")        "
   ]
  },
  {
   "cell_type": "code",
   "execution_count": 110,
   "metadata": {},
   "outputs": [],
   "source": [
    "class Audi(Car):\n",
    "    def __init__(self,winds,dors,engtype,isAI):\n",
    "        super().__init__(winds,dors,engtype)\n",
    "        self.ai=isAI\n",
    "    def Selfdrive(self):\n",
    "        print(\"Audi is self driving car\")\n"
   ]
  },
  {
   "cell_type": "code",
   "execution_count": 111,
   "metadata": {},
   "outputs": [],
   "source": [
    "audi1=Audi(4,5,\"Petrol\",True)"
   ]
  },
  {
   "cell_type": "code",
   "execution_count": 112,
   "metadata": {},
   "outputs": [
    {
     "data": {
      "text/plain": [
       "True"
      ]
     },
     "execution_count": 112,
     "metadata": {},
     "output_type": "execute_result"
    }
   ],
   "source": [
    "audi1.ai"
   ]
  },
  {
   "cell_type": "code",
   "execution_count": 114,
   "metadata": {},
   "outputs": [
    {
     "data": {
      "text/plain": [
       "5"
      ]
     },
     "execution_count": 114,
     "metadata": {},
     "output_type": "execute_result"
    }
   ],
   "source": [
    "audi1.dr"
   ]
  },
  {
   "cell_type": "code",
   "execution_count": 115,
   "metadata": {},
   "outputs": [
    {
     "name": "stdout",
     "output_type": "stream",
     "text": [
      "Audi is self driving car\n"
     ]
    }
   ],
   "source": [
    "audi1.Selfdrive()"
   ]
  },
  {
   "cell_type": "code",
   "execution_count": 117,
   "metadata": {},
   "outputs": [
    {
     "name": "stdout",
     "output_type": "stream",
     "text": [
      "Car is in drive\n"
     ]
    }
   ],
   "source": [
    "audi1.Drive()"
   ]
  },
  {
   "cell_type": "markdown",
   "metadata": {},
   "source": [
    "## MULTIPLE INHERITANCE "
   ]
  },
  {
   "cell_type": "code",
   "execution_count": 49,
   "metadata": {},
   "outputs": [],
   "source": [
    "class A():\n",
    "    def method1(self):\n",
    "        print(\"A method is called.\")"
   ]
  },
  {
   "cell_type": "code",
   "execution_count": 25,
   "metadata": {},
   "outputs": [],
   "source": [
    "class B(A):\n",
    "    def method1(self):\n",
    "        print(\"B method is called.\")"
   ]
  },
  {
   "cell_type": "code",
   "execution_count": 32,
   "metadata": {},
   "outputs": [],
   "source": [
    "class C(A):\n",
    "    def method1(self):\n",
    "        print(\"C method is called.\")\n",
    "    def method2 (Self):\n",
    "        print(\"C Method 2 is called.\")"
   ]
  },
  {
   "cell_type": "code",
   "execution_count": 36,
   "metadata": {},
   "outputs": [],
   "source": [
    "class D(B,C):\n",
    "    def method1(self):\n",
    "        print(\"D method is called.\")"
   ]
  },
  {
   "cell_type": "code",
   "execution_count": 38,
   "metadata": {},
   "outputs": [],
   "source": [
    "d=D()"
   ]
  },
  {
   "cell_type": "code",
   "execution_count": 39,
   "metadata": {},
   "outputs": [
    {
     "name": "stdout",
     "output_type": "stream",
     "text": [
      "D method is called.\n"
     ]
    }
   ],
   "source": [
    "d.method1()"
   ]
  },
  {
   "cell_type": "code",
   "execution_count": 40,
   "metadata": {},
   "outputs": [
    {
     "name": "stdout",
     "output_type": "stream",
     "text": [
      "C Method 2 is called.\n"
     ]
    }
   ],
   "source": [
    "d.method2()"
   ]
  },
  {
   "cell_type": "code",
   "execution_count": 50,
   "metadata": {},
   "outputs": [],
   "source": [
    "class E(D):\n",
    "    def method1(self):\n",
    "        print(\"E method is called.\")\n",
    "        A.method1(self)\n",
    "        B.method1(self)\n",
    "        C.method1(self)\n",
    "        D.method1(self)"
   ]
  },
  {
   "cell_type": "code",
   "execution_count": 52,
   "metadata": {},
   "outputs": [],
   "source": [
    "e=E()"
   ]
  },
  {
   "cell_type": "code",
   "execution_count": 53,
   "metadata": {},
   "outputs": [
    {
     "name": "stdout",
     "output_type": "stream",
     "text": [
      "E method is called.\n",
      "A method is called.\n",
      "B method is called.\n",
      "C method is called.\n",
      "D method is called.\n"
     ]
    }
   ],
   "source": [
    "e.method1()"
   ]
  },
  {
   "cell_type": "markdown",
   "metadata": {},
   "source": [
    "## Magic method in class"
   ]
  },
  {
   "cell_type": "code",
   "execution_count": 2,
   "metadata": {},
   "outputs": [],
   "source": [
    "class Car():\n",
    "    def __init__(self,window, doors,enginetype):\n",
    "        self.w=window\n",
    "        self.d =doors\n",
    "        self.et=enginetype\n",
    "    def drive(self):\n",
    "        print(\"Car is in drive\")\n",
    "    "
   ]
  },
  {
   "cell_type": "code",
   "execution_count": 3,
   "metadata": {},
   "outputs": [],
   "source": [
    "c=Car(2,44,\"Petrol\")"
   ]
  },
  {
   "cell_type": "code",
   "execution_count": 4,
   "metadata": {},
   "outputs": [
    {
     "data": {
      "text/plain": [
       "2"
      ]
     },
     "execution_count": 4,
     "metadata": {},
     "output_type": "execute_result"
    }
   ],
   "source": [
    "c.w"
   ]
  },
  {
   "cell_type": "code",
   "execution_count": 7,
   "metadata": {},
   "outputs": [
    {
     "name": "stdout",
     "output_type": "stream",
     "text": [
      "Car is in drive\n"
     ]
    }
   ],
   "source": [
    "c.drive()"
   ]
  },
  {
   "cell_type": "code",
   "execution_count": 5,
   "metadata": {},
   "outputs": [
    {
     "data": {
      "text/plain": [
       "['__class__',\n",
       " '__delattr__',\n",
       " '__dict__',\n",
       " '__dir__',\n",
       " '__doc__',\n",
       " '__eq__',\n",
       " '__format__',\n",
       " '__ge__',\n",
       " '__getattribute__',\n",
       " '__gt__',\n",
       " '__hash__',\n",
       " '__init__',\n",
       " '__init_subclass__',\n",
       " '__le__',\n",
       " '__lt__',\n",
       " '__module__',\n",
       " '__ne__',\n",
       " '__new__',\n",
       " '__reduce__',\n",
       " '__reduce_ex__',\n",
       " '__repr__',\n",
       " '__setattr__',\n",
       " '__sizeof__',\n",
       " '__str__',\n",
       " '__subclasshook__',\n",
       " '__weakref__',\n",
       " 'd',\n",
       " 'drive',\n",
       " 'et',\n",
       " 'w']"
      ]
     },
     "execution_count": 5,
     "metadata": {},
     "output_type": "execute_result"
    }
   ],
   "source": [
    "dir(c)"
   ]
  },
  {
   "cell_type": "code",
   "execution_count": 8,
   "metadata": {},
   "outputs": [
    {
     "data": {
      "text/plain": [
       "32"
      ]
     },
     "execution_count": 8,
     "metadata": {},
     "output_type": "execute_result"
    }
   ],
   "source": [
    "c.__sizeof__()"
   ]
  },
  {
   "cell_type": "code",
   "execution_count": 21,
   "metadata": {},
   "outputs": [],
   "source": [
    "class Car():\n",
    "    def __init__(self,window, doors,enginetype):\n",
    "        self.w=window\n",
    "        self.d =doors\n",
    "        self.et=enginetype\n",
    "    def drive(self):\n",
    "        print(\"Car is in drive\")\n",
    "    def __sizeof__(self):\n",
    "        return \"Sizeof method is called\""
   ]
  },
  {
   "cell_type": "code",
   "execution_count": 22,
   "metadata": {},
   "outputs": [],
   "source": [
    "c1=Car(5,6,\"Diesel\")"
   ]
  },
  {
   "cell_type": "code",
   "execution_count": 23,
   "metadata": {},
   "outputs": [
    {
     "data": {
      "text/plain": [
       "'Sizeof method is called'"
      ]
     },
     "execution_count": 23,
     "metadata": {},
     "output_type": "execute_result"
    }
   ],
   "source": [
    "c1.__sizeof__()"
   ]
  },
  {
   "cell_type": "code",
   "execution_count": 28,
   "metadata": {},
   "outputs": [],
   "source": [
    "class Car():\n",
    "    def __new__(self,window, doors,enginetype):\n",
    "        print (\"New method is called\")\n",
    "    def __init__(self,window, doors,enginetype):\n",
    "        self.w=window\n",
    "        self.d =doors\n",
    "        self.et=enginetype\n",
    "    def drive(self):\n",
    "        print(\"Car is in drive\")\n",
    "    def __sizeof__(self):\n",
    "        return \"Sizeof method is called\""
   ]
  },
  {
   "cell_type": "code",
   "execution_count": 29,
   "metadata": {},
   "outputs": [
    {
     "name": "stdout",
     "output_type": "stream",
     "text": [
      "New method is called\n"
     ]
    }
   ],
   "source": [
    "c2=Car(3,6,\"P/D\")"
   ]
  },
  {
   "cell_type": "markdown",
   "metadata": {},
   "source": [
    "## Python ASSERT\n",
    "- Python provide the assert statement to check if a given logical statement is True or false. Program execution proceeds only if the expression is true and raise ther assertion error when it is false "
   ]
  },
  {
   "cell_type": "code",
   "execution_count": 37,
   "metadata": {},
   "outputs": [
    {
     "ename": "AssertionError",
     "evalue": "",
     "output_type": "error",
     "traceback": [
      "\u001b[1;31m---------------------------------------------------------------------------\u001b[0m",
      "\u001b[1;31mAssertionError\u001b[0m                            Traceback (most recent call last)",
      "\u001b[1;32m<ipython-input-37-65ead8485ccb>\u001b[0m in \u001b[0;36m<module>\u001b[1;34m\u001b[0m\n\u001b[0;32m      1\u001b[0m \u001b[0mnum\u001b[0m\u001b[1;33m=\u001b[0m\u001b[1;36m10\u001b[0m\u001b[1;33m\u001b[0m\u001b[1;33m\u001b[0m\u001b[0m\n\u001b[1;32m----> 2\u001b[1;33m \u001b[1;32massert\u001b[0m \u001b[0mnum\u001b[0m \u001b[1;33m>\u001b[0m\u001b[1;36m10\u001b[0m \u001b[1;31m# logical expression\u001b[0m\u001b[1;33m\u001b[0m\u001b[1;33m\u001b[0m\u001b[0m\n\u001b[0m",
      "\u001b[1;31mAssertionError\u001b[0m: "
     ]
    }
   ],
   "source": [
    "num=10\n",
    "assert num >10 # logical expression"
   ]
  },
  {
   "cell_type": "code",
   "execution_count": 40,
   "metadata": {},
   "outputs": [
    {
     "name": "stdout",
     "output_type": "stream",
     "text": [
      "Enter the even number:51\n",
      "Please enter the even number.\n"
     ]
    }
   ],
   "source": [
    "try:\n",
    "    number = int(input(\"Enter the even number:\"))\n",
    "    assert number%2==0 \n",
    "    print(\"Number is Even.\")\n",
    "except AssertionError :\n",
    "    print(\"Please enter the even number.\")\n",
    "        "
   ]
  },
  {
   "cell_type": "markdown",
   "metadata": {},
   "source": [
    "## COPY Function"
   ]
  },
  {
   "cell_type": "code",
   "execution_count": 22,
   "metadata": {},
   "outputs": [],
   "source": [
    "def add():\n",
    "    return \"ADDITION\""
   ]
  },
  {
   "cell_type": "code",
   "execution_count": 23,
   "metadata": {},
   "outputs": [],
   "source": [
    "val=add()"
   ]
  },
  {
   "cell_type": "code",
   "execution_count": 25,
   "metadata": {},
   "outputs": [
    {
     "data": {
      "text/plain": [
       "'ADDITION'"
      ]
     },
     "execution_count": 25,
     "metadata": {},
     "output_type": "execute_result"
    }
   ],
   "source": [
    "val"
   ]
  },
  {
   "cell_type": "code",
   "execution_count": 27,
   "metadata": {},
   "outputs": [],
   "source": [
    "del add"
   ]
  },
  {
   "cell_type": "code",
   "execution_count": 28,
   "metadata": {},
   "outputs": [
    {
     "data": {
      "text/plain": [
       "'ADDITION'"
      ]
     },
     "execution_count": 28,
     "metadata": {},
     "output_type": "execute_result"
    }
   ],
   "source": [
    "val"
   ]
  },
  {
   "cell_type": "code",
   "execution_count": 29,
   "metadata": {},
   "outputs": [
    {
     "ename": "NameError",
     "evalue": "name 'add' is not defined",
     "output_type": "error",
     "traceback": [
      "\u001b[1;31m---------------------------------------------------------------------------\u001b[0m",
      "\u001b[1;31mNameError\u001b[0m                                 Traceback (most recent call last)",
      "\u001b[1;32m<ipython-input-29-aa1c9dd68401>\u001b[0m in \u001b[0;36m<module>\u001b[1;34m\u001b[0m\n\u001b[1;32m----> 1\u001b[1;33m \u001b[0mval\u001b[0m\u001b[1;33m=\u001b[0m\u001b[0madd\u001b[0m\u001b[1;33m(\u001b[0m\u001b[1;33m)\u001b[0m\u001b[1;33m\u001b[0m\u001b[1;33m\u001b[0m\u001b[0m\n\u001b[0m",
      "\u001b[1;31mNameError\u001b[0m: name 'add' is not defined"
     ]
    }
   ],
   "source": [
    "val=add()"
   ]
  },
  {
   "cell_type": "markdown",
   "metadata": {},
   "source": [
    "## Closure\n",
    "- Function with in a function is called closure."
   ]
  },
  {
   "cell_type": "code",
   "execution_count": 35,
   "metadata": {},
   "outputs": [],
   "source": [
    "def main_fun():\n",
    "    a=10\n",
    "    def sub_fun():\n",
    "        print(\"This statement is from the sub function.\")\n",
    "        print(\"The value of a is :\",a)\n",
    "        print(\"Inside the subclass, we will be able to access the main function variable.\")\n",
    "    return sub_fun()\n"
   ]
  },
  {
   "cell_type": "code",
   "execution_count": 36,
   "metadata": {},
   "outputs": [
    {
     "name": "stdout",
     "output_type": "stream",
     "text": [
      "This statement is from the sub function.\n",
      "The value of a is : 10\n",
      "Inside the subclass, we will be able to access the mail function variable.\n"
     ]
    }
   ],
   "source": [
    "f1=main_fun()"
   ]
  },
  {
   "cell_type": "code",
   "execution_count": 39,
   "metadata": {},
   "outputs": [],
   "source": [
    "def main_fun(msg):\n",
    "    def sub_fun():\n",
    "        print(\"This statement is from the sub function.\")\n",
    "        print(msg)\n",
    "        print(\"Inside the subclass, we will be able to access the mail function variable.\")\n",
    "    return sub_fun()"
   ]
  },
  {
   "cell_type": "code",
   "execution_count": 40,
   "metadata": {},
   "outputs": [
    {
     "name": "stdout",
     "output_type": "stream",
     "text": [
      "This statement is from the sub function.\n",
      "we can passs the argument.\n",
      "Inside the subclass, we will be able to access the mail function variable.\n"
     ]
    }
   ],
   "source": [
    "f2=main_fun(\"we can passs the argument.\")"
   ]
  },
  {
   "cell_type": "code",
   "execution_count": 41,
   "metadata": {},
   "outputs": [
    {
     "ename": "NameError",
     "evalue": "name 'sub_fun' is not defined",
     "output_type": "error",
     "traceback": [
      "\u001b[1;31m---------------------------------------------------------------------------\u001b[0m",
      "\u001b[1;31mNameError\u001b[0m                                 Traceback (most recent call last)",
      "\u001b[1;32m<ipython-input-41-e56a42aaf07a>\u001b[0m in \u001b[0;36m<module>\u001b[1;34m\u001b[0m\n\u001b[1;32m----> 1\u001b[1;33m \u001b[0mf3\u001b[0m\u001b[1;33m=\u001b[0m\u001b[0msub_fun\u001b[0m\u001b[1;33m(\u001b[0m\u001b[1;33m)\u001b[0m\u001b[1;33m\u001b[0m\u001b[1;33m\u001b[0m\u001b[0m\n\u001b[0m",
      "\u001b[1;31mNameError\u001b[0m: name 'sub_fun' is not defined"
     ]
    }
   ],
   "source": [
    "f3=sub_fun() # we can't directly access the sub function "
   ]
  },
  {
   "cell_type": "code",
   "execution_count": 42,
   "metadata": {},
   "outputs": [],
   "source": [
    "## closures and initial of decorators\n",
    "def main_func(func):\n",
    "    def sub_func():\n",
    "        print(\"This statement is from the sub function.\")\n",
    "        func(\"This is main fucntion statement.\")\n",
    "        print(\"End of subfunction.\")\n",
    "    return sub_func()"
   ]
  },
  {
   "cell_type": "code",
   "execution_count": 43,
   "metadata": {},
   "outputs": [
    {
     "name": "stdout",
     "output_type": "stream",
     "text": [
      "This statement is from the sub function.\n",
      "This is main fucntion statement.\n",
      "End of subfunction.\n"
     ]
    }
   ],
   "source": [
    "v1=main_func(print)"
   ]
  },
  {
   "cell_type": "code",
   "execution_count": 50,
   "metadata": {},
   "outputs": [],
   "source": [
    "def main_func(func):\n",
    "    def sub_func():\n",
    "        print(\"This statement is from the sub function.\")\n",
    "        print (func([1,2,3,4,5,67,7]))\n",
    "        print(\"End of subfunction.\")\n",
    "    return sub_func()"
   ]
  },
  {
   "cell_type": "code",
   "execution_count": 51,
   "metadata": {},
   "outputs": [
    {
     "name": "stdout",
     "output_type": "stream",
     "text": [
      "This statement is from the sub function.\n",
      "7\n",
      "End of subfunction.\n"
     ]
    }
   ],
   "source": [
    "v2=main_func(len)"
   ]
  },
  {
   "cell_type": "markdown",
   "metadata": {},
   "source": [
    "## DECORATORS \n",
    "- passing the function as parameters"
   ]
  },
  {
   "cell_type": "code",
   "execution_count": 52,
   "metadata": {},
   "outputs": [],
   "source": [
    "# decorators\n",
    "def main_func(func):\n",
    "    def sub_func():\n",
    "        print(\"This statement is from the sub function.\")\n",
    "        func()\n",
    "        print(\"End of subfunction.\")\n",
    "    return sub_func()"
   ]
  },
  {
   "cell_type": "code",
   "execution_count": 53,
   "metadata": {},
   "outputs": [],
   "source": [
    "def pass_func():\n",
    "    print(\"We are passing the fucntion as parameters.\")\n",
    "    "
   ]
  },
  {
   "cell_type": "code",
   "execution_count": 59,
   "metadata": {},
   "outputs": [
    {
     "name": "stdout",
     "output_type": "stream",
     "text": [
      "This statement is from the sub function.\n",
      "We are passing the fucntion as parameters.\n",
      "End of subfunction.\n"
     ]
    }
   ],
   "source": [
    "main_func(pass_func)"
   ]
  },
  {
   "cell_type": "code",
   "execution_count": 62,
   "metadata": {},
   "outputs": [
    {
     "name": "stdout",
     "output_type": "stream",
     "text": [
      "This statement is from the sub function.\n",
      "Another way of calling the decorators is by adding @main_func() at the top of the passing function.\n",
      "End of subfunction.\n"
     ]
    }
   ],
   "source": [
    "#another way of calling the decorators\n",
    "@main_func\n",
    "def another_fun():\n",
    "    print(\"Another way of calling the decorators is by adding @main_func() at the top of the passing function.\") "
   ]
  },
  {
   "cell_type": "markdown",
   "metadata": {},
   "source": [
    "## Shallow copy  Vs Deep Copy"
   ]
  },
  {
   "cell_type": "code",
   "execution_count": 63,
   "metadata": {},
   "outputs": [],
   "source": [
    "# =, copy(), deepcopy()"
   ]
  },
  {
   "cell_type": "code",
   "execution_count": 65,
   "metadata": {},
   "outputs": [],
   "source": [
    "lst1=[1,2,3,4,5]\n",
    "lst2=lst1"
   ]
  },
  {
   "cell_type": "code",
   "execution_count": 66,
   "metadata": {},
   "outputs": [
    {
     "data": {
      "text/plain": [
       "[1, 2, 3, 4, 5]"
      ]
     },
     "execution_count": 66,
     "metadata": {},
     "output_type": "execute_result"
    }
   ],
   "source": [
    "lst1"
   ]
  },
  {
   "cell_type": "code",
   "execution_count": 67,
   "metadata": {},
   "outputs": [
    {
     "data": {
      "text/plain": [
       "[1, 2, 3, 4, 5]"
      ]
     },
     "execution_count": 67,
     "metadata": {},
     "output_type": "execute_result"
    }
   ],
   "source": [
    "lst2"
   ]
  },
  {
   "cell_type": "code",
   "execution_count": 69,
   "metadata": {},
   "outputs": [],
   "source": [
    "lst2[3]=100 "
   ]
  },
  {
   "cell_type": "code",
   "execution_count": 70,
   "metadata": {},
   "outputs": [
    {
     "data": {
      "text/plain": [
       "[1, 2, 3, 100, 5]"
      ]
     },
     "execution_count": 70,
     "metadata": {},
     "output_type": "execute_result"
    }
   ],
   "source": [
    "lst2"
   ]
  },
  {
   "cell_type": "code",
   "execution_count": 72,
   "metadata": {},
   "outputs": [
    {
     "data": {
      "text/plain": [
       "[1, 2, 3, 100, 5]"
      ]
     },
     "execution_count": 72,
     "metadata": {},
     "output_type": "execute_result"
    }
   ],
   "source": [
    "lst1 \n",
    "# here = will make the single memory location referred by both lst1, lst2. \n",
    "#whenever we change one element, it will change happen in both the list "
   ]
  },
  {
   "cell_type": "code",
   "execution_count": 73,
   "metadata": {},
   "outputs": [],
   "source": [
    " # copy() - shallow copy\n",
    "lst3=[1,2,3,4,5,6,7]\n",
    "lst4=lst3.copy()"
   ]
  },
  {
   "cell_type": "code",
   "execution_count": 74,
   "metadata": {},
   "outputs": [
    {
     "data": {
      "text/plain": [
       "[1, 2, 3, 4, 5, 6, 7]"
      ]
     },
     "execution_count": 74,
     "metadata": {},
     "output_type": "execute_result"
    }
   ],
   "source": [
    "lst4"
   ]
  },
  {
   "cell_type": "code",
   "execution_count": 76,
   "metadata": {},
   "outputs": [],
   "source": [
    "lst4[4]=1000"
   ]
  },
  {
   "cell_type": "code",
   "execution_count": 77,
   "metadata": {},
   "outputs": [
    {
     "data": {
      "text/plain": [
       "[1, 2, 3, 4, 1000, 6, 7]"
      ]
     },
     "execution_count": 77,
     "metadata": {},
     "output_type": "execute_result"
    }
   ],
   "source": [
    "lst4"
   ]
  },
  {
   "cell_type": "code",
   "execution_count": 79,
   "metadata": {},
   "outputs": [
    {
     "data": {
      "text/plain": [
       "[1, 2, 3, 4, 5, 6, 7]"
      ]
     },
     "execution_count": 79,
     "metadata": {},
     "output_type": "execute_result"
    }
   ],
   "source": [
    "lst3\n",
    "# whenever we do the shallow copy, different memory location are created for the lst3, lst4\n",
    "# even we change element on one elemt , it won't affect the other"
   ]
  },
  {
   "cell_type": "code",
   "execution_count": 81,
   "metadata": {},
   "outputs": [],
   "source": [
    "l1=[[1,2,3,4],[5,6,7,8]]\n",
    "l2=l1.copy()"
   ]
  },
  {
   "cell_type": "code",
   "execution_count": 82,
   "metadata": {},
   "outputs": [
    {
     "data": {
      "text/plain": [
       "[[1, 2, 3, 4], [5, 6, 7, 8]]"
      ]
     },
     "execution_count": 82,
     "metadata": {},
     "output_type": "execute_result"
    }
   ],
   "source": [
    "l1"
   ]
  },
  {
   "cell_type": "code",
   "execution_count": 83,
   "metadata": {},
   "outputs": [
    {
     "data": {
      "text/plain": [
       "[[1, 2, 3, 4], [5, 6, 7, 8]]"
      ]
     },
     "execution_count": 83,
     "metadata": {},
     "output_type": "execute_result"
    }
   ],
   "source": [
    "l2"
   ]
  },
  {
   "cell_type": "code",
   "execution_count": 84,
   "metadata": {},
   "outputs": [
    {
     "data": {
      "text/plain": [
       "7"
      ]
     },
     "execution_count": 84,
     "metadata": {},
     "output_type": "execute_result"
    }
   ],
   "source": [
    "l2[1][2]"
   ]
  },
  {
   "cell_type": "code",
   "execution_count": 85,
   "metadata": {},
   "outputs": [],
   "source": [
    "l2[1][2]=200"
   ]
  },
  {
   "cell_type": "code",
   "execution_count": 86,
   "metadata": {},
   "outputs": [
    {
     "data": {
      "text/plain": [
       "[[1, 2, 3, 4], [5, 6, 200, 8]]"
      ]
     },
     "execution_count": 86,
     "metadata": {},
     "output_type": "execute_result"
    }
   ],
   "source": [
    "l2"
   ]
  },
  {
   "cell_type": "code",
   "execution_count": 87,
   "metadata": {},
   "outputs": [
    {
     "data": {
      "text/plain": [
       "[[1, 2, 3, 4], [5, 6, 200, 8]]"
      ]
     },
     "execution_count": 87,
     "metadata": {},
     "output_type": "execute_result"
    }
   ],
   "source": [
    "l1\n",
    " # in case of nested list, shallow copy won't support, it will act as = only, for thatwe are going for the deep copy()"
   ]
  },
  {
   "cell_type": "code",
   "execution_count": 90,
   "metadata": {},
   "outputs": [],
   "source": [
    "# deep copy()\n",
    "import copy as c"
   ]
  },
  {
   "cell_type": "code",
   "execution_count": 91,
   "metadata": {},
   "outputs": [],
   "source": [
    "lst1=[[1,2,3,4,5],[6,7,8,9,10],[11,12,13,14,15]]\n",
    "lst2=c.deepcopy(lst1)"
   ]
  },
  {
   "cell_type": "code",
   "execution_count": 92,
   "metadata": {},
   "outputs": [
    {
     "data": {
      "text/plain": [
       "[[1, 2, 3, 4, 5], [6, 7, 8, 9, 10], [11, 12, 13, 14, 15]]"
      ]
     },
     "execution_count": 92,
     "metadata": {},
     "output_type": "execute_result"
    }
   ],
   "source": [
    "\n",
    "lst1"
   ]
  },
  {
   "cell_type": "code",
   "execution_count": 93,
   "metadata": {},
   "outputs": [
    {
     "data": {
      "text/plain": [
       "[[1, 2, 3, 4, 5], [6, 7, 8, 9, 10], [11, 12, 13, 14, 15]]"
      ]
     },
     "execution_count": 93,
     "metadata": {},
     "output_type": "execute_result"
    }
   ],
   "source": [
    "lst2"
   ]
  },
  {
   "cell_type": "code",
   "execution_count": 94,
   "metadata": {},
   "outputs": [
    {
     "data": {
      "text/plain": [
       "13"
      ]
     },
     "execution_count": 94,
     "metadata": {},
     "output_type": "execute_result"
    }
   ],
   "source": [
    "lst1[2][2]"
   ]
  },
  {
   "cell_type": "code",
   "execution_count": 95,
   "metadata": {},
   "outputs": [],
   "source": [
    "lst1[2][2]=1000"
   ]
  },
  {
   "cell_type": "code",
   "execution_count": 96,
   "metadata": {},
   "outputs": [
    {
     "data": {
      "text/plain": [
       "[[1, 2, 3, 4, 5], [6, 7, 8, 9, 10], [11, 12, 1000, 14, 15]]"
      ]
     },
     "execution_count": 96,
     "metadata": {},
     "output_type": "execute_result"
    }
   ],
   "source": [
    "lst1"
   ]
  },
  {
   "cell_type": "code",
   "execution_count": 97,
   "metadata": {},
   "outputs": [
    {
     "data": {
      "text/plain": [
       "[[1, 2, 3, 4, 5], [6, 7, 8, 9, 10], [11, 12, 13, 14, 15]]"
      ]
     },
     "execution_count": 97,
     "metadata": {},
     "output_type": "execute_result"
    }
   ],
   "source": [
    "lst2"
   ]
  },
  {
   "cell_type": "markdown",
   "metadata": {},
   "source": [
    "## Pandas Modin \n",
    "- used to fast the pandas functionality\n",
    "- pip install modin[ray], pip install modin[disk]\n",
    "- import modin.pandas as pd"
   ]
  },
  {
   "cell_type": "markdown",
   "metadata": {},
   "source": [
    "## Class Methods and Class Variable "
   ]
  },
  {
   "cell_type": "code",
   "execution_count": 31,
   "metadata": {},
   "outputs": [],
   "source": [
    "class Car():\n",
    "    base_price=10000\n",
    "    def __init__(self,window, door, enginetype):\n",
    "        self.w=window\n",
    "        self.d=door\n",
    "        self.et=enginetype\n",
    "    def base_pr(self):\n",
    "        print(\"The value of Base Price is : {}\".format(base_price))\n",
    "    def revise_base_price(cls,inflation):\n",
    "        cls.base_price=cls.base_price+cls.base_price*inflation\n",
    "        \n",
    "        "
   ]
  },
  {
   "cell_type": "code",
   "execution_count": 32,
   "metadata": {},
   "outputs": [],
   "source": [
    "c1=Car(2,3,\"PETROL\")"
   ]
  },
  {
   "cell_type": "code",
   "execution_count": 33,
   "metadata": {},
   "outputs": [],
   "source": [
    "c1.revise_base_price(1500)"
   ]
  },
  {
   "cell_type": "code",
   "execution_count": 34,
   "metadata": {},
   "outputs": [
    {
     "data": {
      "text/plain": [
       "15010000"
      ]
     },
     "execution_count": 34,
     "metadata": {},
     "output_type": "execute_result"
    }
   ],
   "source": [
    "c1.base_price"
   ]
  },
  {
   "cell_type": "code",
   "execution_count": 37,
   "metadata": {},
   "outputs": [],
   "source": [
    "class Cars():\n",
    "    base_price=10000\n",
    "    def __init__(self,window, door, enginetype):\n",
    "        self.w=window\n",
    "        self.d=door\n",
    "        self.et=enginetype\n",
    "    def base_pr(self):\n",
    "        print(\"The value of Base Price is : {}\".format(base_price))\n",
    "    @classmethod ## calling of method\n",
    "    def revise_base_price(cls,inflation):\n",
    "        cls.base_price=cls.base_price+cls.base_price*inflation\n",
    "       \n",
    "        "
   ]
  },
  {
   "cell_type": "code",
   "execution_count": 38,
   "metadata": {},
   "outputs": [],
   "source": [
    "Cars.revise_base_price(0.10)"
   ]
  },
  {
   "cell_type": "code",
   "execution_count": 39,
   "metadata": {},
   "outputs": [
    {
     "data": {
      "text/plain": [
       "11000.0"
      ]
     },
     "execution_count": 39,
     "metadata": {},
     "output_type": "execute_result"
    }
   ],
   "source": [
    "Cars.base_price"
   ]
  },
  {
   "cell_type": "markdown",
   "metadata": {},
   "source": [
    "## OverLoading - not supported"
   ]
  },
  {
   "cell_type": "markdown",
   "metadata": {},
   "source": [
    "Overloading is not supported by python, but we can achieve by multipledispatch"
   ]
  },
  {
   "cell_type": "code",
   "execution_count": 2,
   "metadata": {},
   "outputs": [
    {
     "name": "stdout",
     "output_type": "stream",
     "text": [
      "Requirement already satisfied: multipledispatch in c:\\users\\dell\\anaconda3\\lib\\site-packages (0.6.0)\n",
      "Requirement already satisfied: six in c:\\users\\dell\\anaconda3\\lib\\site-packages (from multipledispatch) (1.14.0)\n",
      "Note: you may need to restart the kernel to use updated packages.\n"
     ]
    }
   ],
   "source": [
    "pip install multipledispatch"
   ]
  },
  {
   "cell_type": "code",
   "execution_count": 3,
   "metadata": {},
   "outputs": [
    {
     "name": "stdout",
     "output_type": "stream",
     "text": [
      "12\n",
      "17.204\n"
     ]
    }
   ],
   "source": [
    "from multipledispatch import dispatch\n",
    "  \n",
    "#passing one parameter\n",
    "@dispatch(int,int)\n",
    "def product(first,second):\n",
    "    result = first*second\n",
    "    print(result);\n",
    "  \n",
    "#passing two parameters\n",
    "@dispatch(int,int,int)\n",
    "def product(first,second,third):\n",
    "    result  = first * second * third\n",
    "    print(result);\n",
    "  \n",
    "#you can also pass data type of any value as per requirement\n",
    "@dispatch(float,float,float)\n",
    "def product(first,second,third):\n",
    "    result  = first * second * third\n",
    "    print(result);\n",
    "  \n",
    "  \n",
    "#calling product method with 2 arguments\n",
    "product(2,3,2) #this will give output of 12\n",
    "product(2.2,3.4,2.3) # this will give output of 17.985999999999997"
   ]
  },
  {
   "cell_type": "markdown",
   "metadata": {},
   "source": [
    "## Operator Overloading"
   ]
  },
  {
   "cell_type": "markdown",
   "metadata": {},
   "source": [
    "Operator Overloading means giving extended meaning beyond their predefined operational meaning.\n",
    "Consider that we have two objects which are a physical representation of a class (user-defined data type) \n",
    "and we have to add two objects with binary ‘+’ operator it throws an error, \n",
    "because compiler don’t know how to add two objects.\n",
    "So we define a method for an operator and that process is called operator overloading"
   ]
  },
  {
   "cell_type": "markdown",
   "metadata": {},
   "source": [
    "## STATIC METHOD\n",
    "- Static method will get initialised as soon as class loaded\n",
    "- only one static method we can have in the class\n",
    "- no need of giving parameter as self, class name\n",
    "- Static method is fast method"
   ]
  },
  {
   "cell_type": "code",
   "execution_count": 3,
   "metadata": {},
   "outputs": [],
   "source": [
    "import datetime as d\n",
    "now=d.datetime.now()"
   ]
  },
  {
   "cell_type": "code",
   "execution_count": 18,
   "metadata": {},
   "outputs": [],
   "source": [
    "class Car():\n",
    "    base_price=10000\n",
    "    def __init__(self, window, door, horsepower):\n",
    "        self.w=window\n",
    "        self.d=door\n",
    "        self.hp=horsepower\n",
    "    def base_price_val(self):\n",
    "        print(\"The value of baseprice is :\".format(base_price))\n",
    "    @classmethod\n",
    "    def revised_base_price(Cls,inflation):\n",
    "        cls.base_price=cls.base_price+cls.base_price*inflation\n",
    "    @staticmethod\n",
    "    def check_year():\n",
    "        if now.year==2021 :\n",
    "            return True\n",
    "        else:\n",
    "            return False\n",
    "        "
   ]
  },
  {
   "cell_type": "code",
   "execution_count": 6,
   "metadata": {},
   "outputs": [
    {
     "data": {
      "text/plain": [
       "<__main__.Car at 0x1eafa117ac8>"
      ]
     },
     "execution_count": 6,
     "metadata": {},
     "output_type": "execute_result"
    }
   ],
   "source": []
  },
  {
   "cell_type": "code",
   "execution_count": 19,
   "metadata": {},
   "outputs": [
    {
     "data": {
      "text/plain": [
       "True"
      ]
     },
     "execution_count": 19,
     "metadata": {},
     "output_type": "execute_result"
    }
   ],
   "source": [
    "Car.check_year()"
   ]
  },
  {
   "cell_type": "code",
   "execution_count": 20,
   "metadata": {},
   "outputs": [],
   "source": [
    "Cv1=Car(2,3,555)"
   ]
  },
  {
   "cell_type": "code",
   "execution_count": 21,
   "metadata": {},
   "outputs": [
    {
     "data": {
      "text/plain": [
       "True"
      ]
     },
     "execution_count": 21,
     "metadata": {},
     "output_type": "execute_result"
    }
   ],
   "source": [
    "Cv1.check_year()"
   ]
  },
  {
   "cell_type": "code",
   "execution_count": 22,
   "metadata": {},
   "outputs": [],
   "source": [
    "if(Cv1.check_year()):\n",
    "    pass\n",
    "else:\n",
    "    Car.revised_base_price(10)"
   ]
  },
  {
   "cell_type": "code",
   "execution_count": 23,
   "metadata": {},
   "outputs": [
    {
     "data": {
      "text/plain": [
       "10000"
      ]
     },
     "execution_count": 23,
     "metadata": {},
     "output_type": "execute_result"
    }
   ],
   "source": [
    "Cv1.base_price"
   ]
  },
  {
   "cell_type": "markdown",
   "metadata": {},
   "source": [
    "## EVAL function\n",
    "- eval function will evaluate the python expression which written as string format. expression should be valid otherwise error will be throwed\n",
    "\n",
    "#### How eval works:\n",
    "1. Parse the python expression\n",
    "2. complie into byte code\n",
    "3. evaluate the python expression\n",
    "4. it will return the result\n",
    "\n",
    "##### Disadvantage: Security issue , mostly not recommended"
   ]
  },
  {
   "cell_type": "code",
   "execution_count": 54,
   "metadata": {},
   "outputs": [
    {
     "data": {
      "text/plain": [
       "9"
      ]
     },
     "execution_count": 54,
     "metadata": {},
     "output_type": "execute_result"
    }
   ],
   "source": [
    "eval(\"4+5\")"
   ]
  },
  {
   "cell_type": "code",
   "execution_count": 56,
   "metadata": {},
   "outputs": [
    {
     "name": "stdout",
     "output_type": "stream",
     "text": [
      "Enter the value:  568\n"
     ]
    },
    {
     "data": {
      "text/plain": [
       "568"
      ]
     },
     "execution_count": 56,
     "metadata": {},
     "output_type": "execute_result"
    }
   ],
   "source": [
    "eval(input(\"Enter the value:  \"))"
   ]
  },
  {
   "cell_type": "code",
   "execution_count": 17,
   "metadata": {},
   "outputs": [
    {
     "name": "stdout",
     "output_type": "stream",
     "text": [
      "Enter the value:  len([1,2,3,4])\n"
     ]
    },
    {
     "data": {
      "text/plain": [
       "4"
      ]
     },
     "execution_count": 17,
     "metadata": {},
     "output_type": "execute_result"
    }
   ],
   "source": [
    "eval(input(\"Enter the value:  \"))"
   ]
  },
  {
   "cell_type": "code",
   "execution_count": 58,
   "metadata": {},
   "outputs": [],
   "source": [
    "def fun(num):\n",
    "    print(num**2)"
   ]
  },
  {
   "cell_type": "code",
   "execution_count": 60,
   "metadata": {},
   "outputs": [
    {
     "name": "stdout",
     "output_type": "stream",
     "text": [
      "25\n"
     ]
    }
   ],
   "source": [
    "eval(\"fun(5)\")"
   ]
  },
  {
   "cell_type": "code",
   "execution_count": 61,
   "metadata": {},
   "outputs": [],
   "source": [
    "Var=compile(\"2+2\",\"<string>\",\"eval\")"
   ]
  },
  {
   "cell_type": "code",
   "execution_count": 64,
   "metadata": {},
   "outputs": [
    {
     "data": {
      "text/plain": [
       "4"
      ]
     },
     "execution_count": 64,
     "metadata": {},
     "output_type": "execute_result"
    }
   ],
   "source": [
    "eval(Var)"
   ]
  },
  {
   "cell_type": "code",
   "execution_count": 65,
   "metadata": {},
   "outputs": [
    {
     "data": {
      "text/plain": [
       "80"
      ]
     },
     "execution_count": 65,
     "metadata": {},
     "output_type": "execute_result"
    }
   ],
   "source": [
    "#Global\n",
    "eval(\"x+50+x*2\",{\"x\":10})"
   ]
  },
  {
   "cell_type": "code",
   "execution_count": 66,
   "metadata": {},
   "outputs": [
    {
     "data": {
      "text/plain": [
       "80"
      ]
     },
     "execution_count": 66,
     "metadata": {},
     "output_type": "execute_result"
    }
   ],
   "source": [
    "x=10\n",
    "eval(\"x+50+x*2\")"
   ]
  },
  {
   "cell_type": "code",
   "execution_count": 67,
   "metadata": {},
   "outputs": [
    {
     "data": {
      "text/plain": [
       "30"
      ]
     },
     "execution_count": 67,
     "metadata": {},
     "output_type": "execute_result"
    }
   ],
   "source": [
    "eval(\"x+y\",{\"x\":10,\"y\":20})"
   ]
  },
  {
   "cell_type": "code",
   "execution_count": 68,
   "metadata": {},
   "outputs": [
    {
     "data": {
      "text/plain": [
       "9"
      ]
     },
     "execution_count": 68,
     "metadata": {},
     "output_type": "execute_result"
    }
   ],
   "source": [
    "#local\n",
    "\n",
    "eval(\"x+y+z\",{},{\"x\":2,\"y\":3,\"z\":4})"
   ]
  },
  {
   "cell_type": "markdown",
   "metadata": {},
   "source": [
    "## Asynchronous Execution (Parallel execution)\n",
    "- concurrent.futures\n",
    "- to make the process to be in parallel.\n",
    "- can be done using Thread with Threadpool Executor or process with processpool executor"
   ]
  },
  {
   "cell_type": "code",
   "execution_count": 75,
   "metadata": {},
   "outputs": [],
   "source": [
    "def result_num(num):\n",
    "    t.sleep(1)\n",
    "    return num"
   ]
  },
  {
   "cell_type": "code",
   "execution_count": 73,
   "metadata": {},
   "outputs": [],
   "source": [
    "import time as t\n",
    "from concurrent.futures import ThreadPoolExecutor \n"
   ]
  },
  {
   "cell_type": "code",
   "execution_count": 77,
   "metadata": {},
   "outputs": [
    {
     "name": "stdout",
     "output_type": "stream",
     "text": [
      "The count is 0\n",
      "The count is 1\n",
      "The count is 2\n",
      "The count is 3\n",
      "The count is 4\n",
      "The count is 5\n",
      "The count is 6\n",
      "The count is 7\n",
      "The count is 8\n",
      "The count is 9\n",
      "The count is 10\n",
      "The count is 11\n",
      "The count is 12\n",
      "The count is 13\n",
      "The count is 14\n",
      "The count is 15\n",
      "The count is 16\n",
      "The count is 17\n",
      "The count is 18\n",
      "The count is 19\n",
      "the total time is 7.051385402679443\n"
     ]
    }
   ],
   "source": [
    "start= t.time()\n",
    "with ThreadPoolExecutor(max_workers=3) as executor: # max_workers - no.of thread or process we want to run parallel\n",
    "    for result in executor.map(result_num,range(20)):\n",
    "        print(\"The count is {}\".format(result))\n",
    "print(\"the total time is {}\".format(t.time() - start))"
   ]
  },
  {
   "cell_type": "markdown",
   "metadata": {},
   "source": [
    "## VULTURE library\n",
    "- used to find the unused code in python program.\n",
    "- used to clean and find the error in large code.\n",
    "\n"
   ]
  },
  {
   "cell_type": "markdown",
   "metadata": {},
   "source": [
    " ## ZIP function - Parallel Iteration \n",
    "- helpful in data preprocessing, feature engineering\n",
    "- It is iterable , we can use for loop, next()\n",
    "- parallel iteration through mulitple iterables"
   ]
  },
  {
   "cell_type": "code",
   "execution_count": 79,
   "metadata": {},
   "outputs": [],
   "source": [
    "lst1=[\"Priya\",\"Roja\",\"Meenu\"]\n",
    "lst2=[\"a\",\"b\",\"c\"]"
   ]
  },
  {
   "cell_type": "code",
   "execution_count": 92,
   "metadata": {},
   "outputs": [],
   "source": [
    "op=zip(lst1,lst2)"
   ]
  },
  {
   "cell_type": "code",
   "execution_count": 82,
   "metadata": {},
   "outputs": [
    {
     "data": {
      "text/plain": [
       "<zip at 0x1eaf9820348>"
      ]
     },
     "execution_count": 82,
     "metadata": {},
     "output_type": "execute_result"
    }
   ],
   "source": [
    "op"
   ]
  },
  {
   "cell_type": "code",
   "execution_count": 83,
   "metadata": {},
   "outputs": [
    {
     "data": {
      "text/plain": [
       "[('Priya', 'a'), ('Roja', 'b'), ('Meenu', 'c')]"
      ]
     },
     "execution_count": 83,
     "metadata": {},
     "output_type": "execute_result"
    }
   ],
   "source": [
    "list(op)"
   ]
  },
  {
   "cell_type": "code",
   "execution_count": 87,
   "metadata": {},
   "outputs": [
    {
     "data": {
      "text/plain": [
       "('Roja', 'b')"
      ]
     },
     "execution_count": 87,
     "metadata": {},
     "output_type": "execute_result"
    }
   ],
   "source": [
    " ## zip object is an iterator\n",
    "next(op)"
   ]
  },
  {
   "cell_type": "code",
   "execution_count": 89,
   "metadata": {},
   "outputs": [
    {
     "name": "stdout",
     "output_type": "stream",
     "text": [
      "Priya\n",
      "Roja\n",
      "Meenu\n"
     ]
    }
   ],
   "source": [
    "for i in lst1:\n",
    "    print (i)"
   ]
  },
  {
   "cell_type": "code",
   "execution_count": 93,
   "metadata": {},
   "outputs": [
    {
     "name": "stdout",
     "output_type": "stream",
     "text": [
      "Priya a\n",
      "Roja b\n",
      "Meenu c\n"
     ]
    }
   ],
   "source": [
    "for i,j in op:\n",
    "    print(i,j)"
   ]
  },
  {
   "cell_type": "code",
   "execution_count": 97,
   "metadata": {},
   "outputs": [],
   "source": [
    "lst1=[\"Priya\",\"Roja\",\"Meenu\",4]\n",
    "lst2=[\"a\",\"b\",\"c\"]\n",
    "lst3=[1,2,3]"
   ]
  },
  {
   "cell_type": "code",
   "execution_count": 98,
   "metadata": {},
   "outputs": [],
   "source": [
    "output = zip(lst1,lst2,lst3)"
   ]
  },
  {
   "cell_type": "code",
   "execution_count": 99,
   "metadata": {},
   "outputs": [
    {
     "name": "stdout",
     "output_type": "stream",
     "text": [
      "Priya a 1\n",
      "Roja b 2\n",
      "Meenu c 3\n"
     ]
    }
   ],
   "source": [
    "for i,j,k in output:\n",
    "    print(i,j,k)"
   ]
  },
  {
   "cell_type": "code",
   "execution_count": 110,
   "metadata": {},
   "outputs": [
    {
     "data": {
      "text/plain": [
       "[]"
      ]
     },
     "execution_count": 110,
     "metadata": {},
     "output_type": "execute_result"
    }
   ],
   "source": [
    "list(zip())"
   ]
  },
  {
   "cell_type": "code",
   "execution_count": 1,
   "metadata": {},
   "outputs": [],
   "source": [
    "dict1 ={'name':'priya','age':'25','sal':33000}\n",
    "dict2 ={'name':'roja','age':'26','sal':40000}"
   ]
  },
  {
   "cell_type": "code",
   "execution_count": 2,
   "metadata": {},
   "outputs": [],
   "source": [
    "dict = zip(dict1.items(),dict2.items())"
   ]
  },
  {
   "cell_type": "code",
   "execution_count": 3,
   "metadata": {},
   "outputs": [
    {
     "data": {
      "text/plain": [
       "[(('name', 'priya'), ('name', 'roja')),\n",
       " (('age', '25'), ('age', '26')),\n",
       " (('sal', 33000), ('sal', 40000))]"
      ]
     },
     "execution_count": 3,
     "metadata": {},
     "output_type": "execute_result"
    }
   ],
   "source": [
    "list(dict)"
   ]
  },
  {
   "cell_type": "code",
   "execution_count": 4,
   "metadata": {},
   "outputs": [],
   "source": [
    "dict3=zip(dict1,dict2)"
   ]
  },
  {
   "cell_type": "code",
   "execution_count": 5,
   "metadata": {},
   "outputs": [
    {
     "name": "stdout",
     "output_type": "stream",
     "text": [
      "name name\n",
      "age age\n",
      "sal sal\n"
     ]
    }
   ],
   "source": [
    " for i,j in dict3:\n",
    "        print(i,j)"
   ]
  },
  {
   "cell_type": "code",
   "execution_count": 8,
   "metadata": {},
   "outputs": [],
   "source": [
    "for (i,j),(i2,j2) in dict3:\n",
    "    print(i,j)\n",
    "    print(i2,j2)\n"
   ]
  },
  {
   "cell_type": "code",
   "execution_count": 3,
   "metadata": {},
   "outputs": [
    {
     "name": "stdout",
     "output_type": "stream",
     "text": [
      "Enter the word: Artificial Intelligence\n",
      "I\n"
     ]
    }
   ],
   "source": [
    "inp = str(input(\"Enter the word:\"))\n",
    "text= inp.split()\n",
    "b = \" \"\n",
    "for i in text:\n",
    "    b= str(i[0].upper())\n",
    "print(b)"
   ]
  },
  {
   "cell_type": "code",
   "execution_count": 8,
   "metadata": {},
   "outputs": [
    {
     "data": {
      "text/plain": [
       "['Artificial', 'Intelligence']"
      ]
     },
     "execution_count": 8,
     "metadata": {},
     "output_type": "execute_result"
    }
   ],
   "source": [
    "a =\" Artificial Intelligence\".split()\n",
    "a"
   ]
  },
  {
   "cell_type": "code",
   "execution_count": 7,
   "metadata": {},
   "outputs": [
    {
     "data": {
      "text/plain": [
       "'Artificial'"
      ]
     },
     "execution_count": 7,
     "metadata": {},
     "output_type": "execute_result"
    }
   ],
   "source": [
    "str(a[0])"
   ]
  },
  {
   "cell_type": "markdown",
   "metadata": {},
   "source": [
    "# To find the outliers"
   ]
  },
  {
   "cell_type": "code",
   "execution_count": 2,
   "metadata": {},
   "outputs": [],
   "source": [
    "import numpy as np\n",
    "import matplotlib.pyplot as plt\n",
    "%matplotlib inline"
   ]
  },
  {
   "cell_type": "code",
   "execution_count": 48,
   "metadata": {},
   "outputs": [],
   "source": [
    "data=[1,2,3,4,5,6,77,103,23,1,4,5,7,8,23,235,23,45,14,567,45,78,5,2,76,505,585,34,5,7,22]"
   ]
  },
  {
   "cell_type": "code",
   "execution_count": 49,
   "metadata": {},
   "outputs": [],
   "source": [
    "outliers=[]\n",
    "def get_outliers(data):\n",
    "    outliers = []\n",
    "    Thershold = 3\n",
    "    data_mean = np.mean(data)\n",
    "    data_std = np.std(data)\n",
    "    \n",
    "    for i in data:\n",
    "        z_score=(i-data_mean)/data_std\n",
    "        if np.abs(z_score)>Thershold:\n",
    "            outliers.append(i)\n",
    "    \n",
    "    return outliers\n",
    "    "
   ]
  },
  {
   "cell_type": "code",
   "execution_count": 50,
   "metadata": {},
   "outputs": [],
   "source": [
    "outl =get_outliers(data)"
   ]
  },
  {
   "cell_type": "code",
   "execution_count": 51,
   "metadata": {},
   "outputs": [
    {
     "data": {
      "text/plain": [
       "[567, 585]"
      ]
     },
     "execution_count": 51,
     "metadata": {},
     "output_type": "execute_result"
    }
   ],
   "source": [
    "outl"
   ]
  },
  {
   "cell_type": "markdown",
   "metadata": {},
   "source": [
    "\n",
    "## InterQuantile Range\n",
    "75%- 25% values in a dataset"
   ]
  },
  {
   "cell_type": "markdown",
   "metadata": {},
   "source": [
    "### Steps:\n",
    "#### 1. Arrange the data in increasing order\n",
    "#### 2. Calculate first(q1) and third quartile(q3)\n",
    "#### 3. Find interquartile range (q3-q1)\n",
    "#### 4.Find lower bound q1*1.5\n",
    "#### 5.Find upper bound q3*1.5\n",
    "Anything that lies outside of lower and upper bound is an outlier"
   ]
  },
  {
   "cell_type": "code",
   "execution_count": 54,
   "metadata": {},
   "outputs": [
    {
     "data": {
      "text/plain": [
       "[1,\n",
       " 1,\n",
       " 2,\n",
       " 2,\n",
       " 3,\n",
       " 4,\n",
       " 4,\n",
       " 5,\n",
       " 5,\n",
       " 5,\n",
       " 5,\n",
       " 6,\n",
       " 7,\n",
       " 7,\n",
       " 8,\n",
       " 14,\n",
       " 22,\n",
       " 23,\n",
       " 23,\n",
       " 23,\n",
       " 34,\n",
       " 45,\n",
       " 45,\n",
       " 76,\n",
       " 77,\n",
       " 78,\n",
       " 103,\n",
       " 235,\n",
       " 505,\n",
       " 567,\n",
       " 585]"
      ]
     },
     "execution_count": 54,
     "metadata": {},
     "output_type": "execute_result"
    }
   ],
   "source": [
    "sorted(data)"
   ]
  },
  {
   "cell_type": "code",
   "execution_count": 55,
   "metadata": {},
   "outputs": [
    {
     "data": {
      "text/plain": [
       "[1,\n",
       " 2,\n",
       " 3,\n",
       " 4,\n",
       " 5,\n",
       " 6,\n",
       " 77,\n",
       " 103,\n",
       " 23,\n",
       " 1,\n",
       " 4,\n",
       " 5,\n",
       " 7,\n",
       " 8,\n",
       " 23,\n",
       " 235,\n",
       " 23,\n",
       " 45,\n",
       " 14,\n",
       " 567,\n",
       " 45,\n",
       " 78,\n",
       " 5,\n",
       " 2,\n",
       " 76,\n",
       " 505,\n",
       " 585,\n",
       " 34,\n",
       " 5,\n",
       " 7,\n",
       " 22]"
      ]
     },
     "execution_count": 55,
     "metadata": {},
     "output_type": "execute_result"
    }
   ],
   "source": [
    "data\n"
   ]
  },
  {
   "cell_type": "code",
   "execution_count": 57,
   "metadata": {},
   "outputs": [],
   "source": [
    "quantile1, quantile3= np.percentile(data,[25,75])"
   ]
  },
  {
   "cell_type": "code",
   "execution_count": 58,
   "metadata": {},
   "outputs": [
    {
     "name": "stdout",
     "output_type": "stream",
     "text": [
      "5.0 60.5\n"
     ]
    }
   ],
   "source": [
    "print(quantile1, quantile3) "
   ]
  },
  {
   "cell_type": "code",
   "execution_count": 60,
   "metadata": {},
   "outputs": [
    {
     "name": "stdout",
     "output_type": "stream",
     "text": [
      "55.5\n"
     ]
    }
   ],
   "source": [
    "## to find IQR\n",
    "IQR=quantile3-quantile1\n",
    "print(IQR)"
   ]
  },
  {
   "cell_type": "code",
   "execution_count": 64,
   "metadata": {},
   "outputs": [],
   "source": [
    "# to find the lower bound value and higher bound value\n",
    "lower_bound_value= quantile1 - (1.5 *IQR)\n",
    "higher_bound_value= quantile3 + (1.5 *IQR)"
   ]
  },
  {
   "cell_type": "code",
   "execution_count": 65,
   "metadata": {},
   "outputs": [
    {
     "name": "stdout",
     "output_type": "stream",
     "text": [
      "-78.25 143.75\n"
     ]
    }
   ],
   "source": [
    "print(lower_bound_value,higher_bound_value)"
   ]
  },
  {
   "cell_type": "code",
   "execution_count": 66,
   "metadata": {},
   "outputs": [],
   "source": [
    "#sorted value of dataset\n",
    "s_data=np.sort(data)"
   ]
  },
  {
   "cell_type": "code",
   "execution_count": 68,
   "metadata": {},
   "outputs": [],
   "source": [
    "s_q_1,s_q_2=np.percentile(s_data,[25,75])"
   ]
  },
  {
   "cell_type": "code",
   "execution_count": 71,
   "metadata": {},
   "outputs": [
    {
     "name": "stdout",
     "output_type": "stream",
     "text": [
      "55.5\n"
     ]
    }
   ],
   "source": [
    "iqr=s_q_2 - s_q_1\n",
    "print(iqr)"
   ]
  },
  {
   "cell_type": "code",
   "execution_count": 73,
   "metadata": {},
   "outputs": [],
   "source": [
    "l_b_v=s_q_1-(1.5*iqr)\n",
    "h_b_v=s_q_2+(1.5*iqr)"
   ]
  },
  {
   "cell_type": "code",
   "execution_count": 74,
   "metadata": {},
   "outputs": [
    {
     "name": "stdout",
     "output_type": "stream",
     "text": [
      "-78.25\n",
      "143.75\n"
     ]
    }
   ],
   "source": [
    "print(l_b_v)\n",
    "print(h_b_v)"
   ]
  },
  {
   "cell_type": "markdown",
   "metadata": {},
   "source": [
    "# to find the skewness of data"
   ]
  },
  {
   "cell_type": "code",
   "execution_count": 2,
   "metadata": {},
   "outputs": [],
   "source": [
    "import pylab as p\n",
    "import numpy as np\n",
    "from scipy.stats import skew\n"
   ]
  },
  {
   "cell_type": "code",
   "execution_count": 30,
   "metadata": {},
   "outputs": [
    {
     "name": "stdout",
     "output_type": "stream",
     "text": [
      "\n",
      "Skewness for data :  -0.26788685153279773\n"
     ]
    },
    {
     "data": {
      "image/png": "[encoded data removed]",
      "text/plain": [
       "<Figure size 432x288 with 1 Axes>"
      ]
     },
     "metadata": {
      "needs_background": "light"
     },
     "output_type": "display_data"
    }
   ],
   "source": [
    "data1 =[1,50,101,102,103,104,20,30]\n",
    "x = np.linspace(0,6,8)\n",
    "p.plot(x,data1)\n",
    "print( '\\nSkewness for data : ', skew(data1))"
   ]
  },
  {
   "cell_type": "code",
   "execution_count": 35,
   "metadata": {},
   "outputs": [
    {
     "name": "stdout",
     "output_type": "stream",
     "text": [
      "\n",
      "Skewness for data :  0.9772962973433531\n"
     ]
    },
    {
     "data": {
      "image/png": "[encoded data removed]",
      "text/plain": [
       "<Figure size 432x288 with 1 Axes>"
      ]
     },
     "metadata": {
      "needs_background": "light"
     },
     "output_type": "display_data"
    }
   ],
   "source": [
    "data2 =[1,2,3,4,5,34,56,101,52,40,30]\n",
    "x = np.linspace(0,11,11)\n",
    "p.plot(x,data1)\n",
    "print( '\\nSkewness for data : ', skew(data2))"
   ]
  },
  {
   "cell_type": "code",
   "execution_count": null,
   "metadata": {},
   "outputs": [],
   "source": []
  }
 ],
 "metadata": {
  "kernelspec": {
   "display_name": "Python 3 (ipykernel)",
   "language": "python",
   "name": "python3"
  },
  "language_info": {
   "codemirror_mode": {
    "name": "ipython",
    "version": 3
   },
   "file_extension": ".py",
   "mimetype": "text/x-python",
   "name": "python",
   "nbconvert_exporter": "python",
   "pygments_lexer": "ipython3",
   "version": "3.9.7"
  }
 },
 "nbformat": 4,
 "nbformat_minor": 4
}
