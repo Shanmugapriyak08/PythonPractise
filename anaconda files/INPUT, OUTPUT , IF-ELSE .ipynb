{
 "cells": [
  {
   "cell_type": "code",
   "execution_count": 1,
   "metadata": {},
   "outputs": [],
   "source": [
    "# output formatting"
   ]
  },
  {
   "cell_type": "code",
   "execution_count": 2,
   "metadata": {},
   "outputs": [
    {
     "name": "stdout",
     "output_type": "stream",
     "text": [
      "Print the value of a= 10,b= 20\n"
     ]
    }
   ],
   "source": [
    "a=10;b=20\n",
    "print(\"Print the value of a= {},b= {}\".format(a,b))"
   ]
  },
  {
   "cell_type": "code",
   "execution_count": 3,
   "metadata": {},
   "outputs": [
    {
     "name": "stdout",
     "output_type": "stream",
     "text": [
      "Print the value of b= 20,a= 10\n"
     ]
    }
   ],
   "source": [
    "a=10;b=20\n",
    "print(\"Print the value of b= {1},a= {0}\".format(a,b))"
   ]
  },
  {
   "cell_type": "code",
   "execution_count": 4,
   "metadata": {},
   "outputs": [
    {
     "name": "stdout",
     "output_type": "stream",
     "text": [
      "My name is priya. gud morng \n"
     ]
    }
   ],
   "source": [
    "\n",
    "print(\"My name is {c}. {d} \".format(c=\"priya\",d=\"gud morng\"))"
   ]
  },
  {
   "cell_type": "code",
   "execution_count": 5,
   "metadata": {},
   "outputs": [
    {
     "name": "stdout",
     "output_type": "stream",
     "text": [
      "Gud Mrng! to all, myself Priya. Lets Be freinds \n"
     ]
    }
   ],
   "source": [
    "print(\"{Msg} to all, myself {name}. {0} \".format(\"Lets Be freinds\",name='Priya',Msg=\"Gud Mrng!\"))"
   ]
  },
  {
   "cell_type": "code",
   "execution_count": 6,
   "metadata": {},
   "outputs": [],
   "source": [
    "# to get input from user "
   ]
  },
  {
   "cell_type": "code",
   "execution_count": 7,
   "metadata": {},
   "outputs": [
    {
     "name": "stdout",
     "output_type": "stream",
     "text": [
      "ENter the num 9989\n",
      "9989\n"
     ]
    }
   ],
   "source": [
    "num = int(input(\"ENter the num \"))\n",
    "print(num)"
   ]
  },
  {
   "cell_type": "code",
   "execution_count": 8,
   "metadata": {},
   "outputs": [
    {
     "name": "stdout",
     "output_type": "stream",
     "text": [
      "ENter the string ugjkhkj\n",
      "ugjkhkj\n"
     ]
    }
   ],
   "source": [
    "str1 = str(input(\"ENter the string \"))\n",
    "print(str1)"
   ]
  },
  {
   "cell_type": "code",
   "execution_count": 9,
   "metadata": {},
   "outputs": [
    {
     "name": "stdout",
     "output_type": "stream",
     "text": [
      "B is largest\n"
     ]
    }
   ],
   "source": [
    "# if else \n",
    "\n",
    "a=10\n",
    "b=20\n",
    "if a>b:\n",
    "    print(\"A is largest\")\n",
    "else:\n",
    "    print(\"B is largest\")\n"
   ]
  },
  {
   "cell_type": "code",
   "execution_count": 10,
   "metadata": {},
   "outputs": [
    {
     "name": "stdout",
     "output_type": "stream",
     "text": [
      "Z 30  is the largest\n"
     ]
    }
   ],
   "source": [
    "x=10;y=20; z=30\n",
    "if (x>y) and (x>z):\n",
    "    print(\"X\",x ,\" is the largest\")\n",
    "elif(y>x) and (y>z):\n",
    "    print(\"Y\",y ,\" is the largest\")\n",
    "else:\n",
    "    print(\"Z\",z ,\" is the largest\")\n",
    "    "
   ]
  },
  {
   "cell_type": "markdown",
   "metadata": {},
   "source": [
    "# while Loop"
   ]
  },
  {
   "cell_type": "code",
   "execution_count": null,
   "metadata": {},
   "outputs": [],
   "source": [
    "l1=[10,20,30,40,50]\n",
    "index=0\n",
    "product=1\n",
    "while index<len(l1):\n",
    "    product *=l1[index]\n",
    "    index +=1\n",
    "print(\"Product is {}\".format(product))"
   ]
  },
  {
   "cell_type": "code",
   "execution_count": null,
   "metadata": {},
   "outputs": [],
   "source": [
    "l1=[10,20,30,40,50]\n",
    "index=0\n",
    "product=1\n",
    "while index<len(l1):\n",
    "    product *=l1[index]\n",
    "    index +=index\n",
    "print(product)"
   ]
  },
  {
   "cell_type": "code",
   "execution_count": null,
   "metadata": {},
   "outputs": [],
   "source": [
    "l1=[10,20,30,40,50]\n",
    "index=0\n",
    "product=1\n",
    "while index<len(l1):\n",
    "    product *=l1[index]\n",
    "    index +=1\n",
    "print(\"Product is {}\".format(product))"
   ]
  },
  {
   "cell_type": "code",
   "execution_count": null,
   "metadata": {},
   "outputs": [],
   "source": []
  },
  {
   "cell_type": "code",
   "execution_count": null,
   "metadata": {},
   "outputs": [],
   "source": []
  },
  {
   "cell_type": "code",
   "execution_count": null,
   "metadata": {},
   "outputs": [],
   "source": []
  },
  {
   "cell_type": "code",
   "execution_count": null,
   "metadata": {},
   "outputs": [],
   "source": []
  },
  {
   "cell_type": "code",
   "execution_count": null,
   "metadata": {},
   "outputs": [],
   "source": []
  },
  {
   "cell_type": "code",
   "execution_count": null,
   "metadata": {},
   "outputs": [],
   "source": []
  }
 ],
 "metadata": {
  "kernelspec": {
   "display_name": "Python 3",
   "language": "python",
   "name": "python3"
  },
  "language_info": {
   "codemirror_mode": {
    "name": "ipython",
    "version": 3
   },
   "file_extension": ".py",
   "mimetype": "text/x-python",
   "name": "python",
   "nbconvert_exporter": "python",
   "pygments_lexer": "ipython3",
   "version": "3.7.6"
  }
 },
 "nbformat": 4,
 "nbformat_minor": 4
}
