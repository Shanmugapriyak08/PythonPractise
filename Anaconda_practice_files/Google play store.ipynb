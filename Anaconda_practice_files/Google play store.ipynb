{
 "cells": [
  {
   "cell_type": "code",
   "execution_count": 40,
   "id": "78915d3d",
   "metadata": {},
   "outputs": [],
   "source": [
    "import pandas as pd\n",
    "import numpy as np\n",
    "import matplotlib.pyplot as plt\n",
    "import seaborn as sns\n",
    "import warnings\n",
    "warnings.filterwarnings('ignore')"
   ]
  },
  {
   "cell_type": "code",
   "execution_count": 2,
   "id": "93dc420a",
   "metadata": {
    "scrolled": true
   },
   "outputs": [],
   "source": [
    "dataset=pd.read_csv('D:\\\\CV DA Assignment\\\\Project Presentation\\\\Google play store\\\\Google-Playstore.csv')"
   ]
  },
  {
   "cell_type": "code",
   "execution_count": 3,
   "id": "675ae115",
   "metadata": {},
   "outputs": [
    {
     "data": {
      "text/html": [
       "<div>\n",
       "<style scoped>\n",
       "    .dataframe tbody tr th:only-of-type {\n",
       "        vertical-align: middle;\n",
       "    }\n",
       "\n",
       "    .dataframe tbody tr th {\n",
       "        vertical-align: top;\n",
       "    }\n",
       "\n",
       "    .dataframe thead th {\n",
       "        text-align: right;\n",
       "    }\n",
       "</style>\n",
       "<table border=\"1\" class=\"dataframe\">\n",
       "  <thead>\n",
       "    <tr style=\"text-align: right;\">\n",
       "      <th></th>\n",
       "      <th>App Name</th>\n",
       "      <th>App Id</th>\n",
       "      <th>Category</th>\n",
       "      <th>Rating</th>\n",
       "      <th>Rating Count</th>\n",
       "      <th>Installs</th>\n",
       "      <th>Minimum Installs</th>\n",
       "      <th>Maximum Installs</th>\n",
       "      <th>Free</th>\n",
       "      <th>Price</th>\n",
       "      <th>...</th>\n",
       "      <th>Developer Website</th>\n",
       "      <th>Developer Email</th>\n",
       "      <th>Released</th>\n",
       "      <th>Last Updated</th>\n",
       "      <th>Content Rating</th>\n",
       "      <th>Privacy Policy</th>\n",
       "      <th>Ad Supported</th>\n",
       "      <th>In App Purchases</th>\n",
       "      <th>Editors Choice</th>\n",
       "      <th>Scraped Time</th>\n",
       "    </tr>\n",
       "  </thead>\n",
       "  <tbody>\n",
       "    <tr>\n",
       "      <th>0</th>\n",
       "      <td>Gakondo</td>\n",
       "      <td>com.ishakwe.gakondo</td>\n",
       "      <td>Adventure</td>\n",
       "      <td>0.0</td>\n",
       "      <td>0.0</td>\n",
       "      <td>10+</td>\n",
       "      <td>10.0</td>\n",
       "      <td>15</td>\n",
       "      <td>True</td>\n",
       "      <td>0.0</td>\n",
       "      <td>...</td>\n",
       "      <td>https://beniyizibyose.tk/#/</td>\n",
       "      <td>jean21101999@gmail.com</td>\n",
       "      <td>Feb 26, 2020</td>\n",
       "      <td>Feb 26, 2020</td>\n",
       "      <td>Everyone</td>\n",
       "      <td>https://beniyizibyose.tk/projects/</td>\n",
       "      <td>False</td>\n",
       "      <td>False</td>\n",
       "      <td>False</td>\n",
       "      <td>2021-06-15 20:19:35</td>\n",
       "    </tr>\n",
       "    <tr>\n",
       "      <th>1</th>\n",
       "      <td>Ampere Battery Info</td>\n",
       "      <td>com.webserveis.batteryinfo</td>\n",
       "      <td>Tools</td>\n",
       "      <td>4.4</td>\n",
       "      <td>64.0</td>\n",
       "      <td>5,000+</td>\n",
       "      <td>5000.0</td>\n",
       "      <td>7662</td>\n",
       "      <td>True</td>\n",
       "      <td>0.0</td>\n",
       "      <td>...</td>\n",
       "      <td>https://webserveis.netlify.app/</td>\n",
       "      <td>webserveis@gmail.com</td>\n",
       "      <td>May 21, 2020</td>\n",
       "      <td>May 06, 2021</td>\n",
       "      <td>Everyone</td>\n",
       "      <td>https://dev4phones.wordpress.com/licencia-de-uso/</td>\n",
       "      <td>True</td>\n",
       "      <td>False</td>\n",
       "      <td>False</td>\n",
       "      <td>2021-06-15 20:19:35</td>\n",
       "    </tr>\n",
       "    <tr>\n",
       "      <th>2</th>\n",
       "      <td>Vibook</td>\n",
       "      <td>com.doantiepvien.crm</td>\n",
       "      <td>Productivity</td>\n",
       "      <td>0.0</td>\n",
       "      <td>0.0</td>\n",
       "      <td>50+</td>\n",
       "      <td>50.0</td>\n",
       "      <td>58</td>\n",
       "      <td>True</td>\n",
       "      <td>0.0</td>\n",
       "      <td>...</td>\n",
       "      <td>NaN</td>\n",
       "      <td>vnacrewit@gmail.com</td>\n",
       "      <td>Aug 9, 2019</td>\n",
       "      <td>Aug 19, 2019</td>\n",
       "      <td>Everyone</td>\n",
       "      <td>https://www.vietnamairlines.com/vn/en/terms-an...</td>\n",
       "      <td>False</td>\n",
       "      <td>False</td>\n",
       "      <td>False</td>\n",
       "      <td>2021-06-15 20:19:35</td>\n",
       "    </tr>\n",
       "    <tr>\n",
       "      <th>3</th>\n",
       "      <td>Smart City Trichy Public Service Vehicles 17UC...</td>\n",
       "      <td>cst.stJoseph.ug17ucs548</td>\n",
       "      <td>Communication</td>\n",
       "      <td>5.0</td>\n",
       "      <td>5.0</td>\n",
       "      <td>10+</td>\n",
       "      <td>10.0</td>\n",
       "      <td>19</td>\n",
       "      <td>True</td>\n",
       "      <td>0.0</td>\n",
       "      <td>...</td>\n",
       "      <td>http://www.climatesmarttech.com/</td>\n",
       "      <td>climatesmarttech2@gmail.com</td>\n",
       "      <td>Sep 10, 2018</td>\n",
       "      <td>Oct 13, 2018</td>\n",
       "      <td>Everyone</td>\n",
       "      <td>NaN</td>\n",
       "      <td>True</td>\n",
       "      <td>False</td>\n",
       "      <td>False</td>\n",
       "      <td>2021-06-15 20:19:35</td>\n",
       "    </tr>\n",
       "    <tr>\n",
       "      <th>4</th>\n",
       "      <td>GROW.me</td>\n",
       "      <td>com.horodyski.grower</td>\n",
       "      <td>Tools</td>\n",
       "      <td>0.0</td>\n",
       "      <td>0.0</td>\n",
       "      <td>100+</td>\n",
       "      <td>100.0</td>\n",
       "      <td>478</td>\n",
       "      <td>True</td>\n",
       "      <td>0.0</td>\n",
       "      <td>...</td>\n",
       "      <td>http://www.horodyski.com.pl</td>\n",
       "      <td>rmilekhorodyski@gmail.com</td>\n",
       "      <td>Feb 21, 2020</td>\n",
       "      <td>Nov 12, 2018</td>\n",
       "      <td>Everyone</td>\n",
       "      <td>http://www.horodyski.com.pl</td>\n",
       "      <td>False</td>\n",
       "      <td>False</td>\n",
       "      <td>False</td>\n",
       "      <td>2021-06-15 20:19:35</td>\n",
       "    </tr>\n",
       "  </tbody>\n",
       "</table>\n",
       "<p>5 rows × 24 columns</p>\n",
       "</div>"
      ],
      "text/plain": [
       "                                            App Name  \\\n",
       "0                                            Gakondo   \n",
       "1                                Ampere Battery Info   \n",
       "2                                             Vibook   \n",
       "3  Smart City Trichy Public Service Vehicles 17UC...   \n",
       "4                                            GROW.me   \n",
       "\n",
       "                       App Id       Category  Rating  Rating Count Installs  \\\n",
       "0         com.ishakwe.gakondo      Adventure     0.0           0.0      10+   \n",
       "1  com.webserveis.batteryinfo          Tools     4.4          64.0   5,000+   \n",
       "2        com.doantiepvien.crm   Productivity     0.0           0.0      50+   \n",
       "3     cst.stJoseph.ug17ucs548  Communication     5.0           5.0      10+   \n",
       "4        com.horodyski.grower          Tools     0.0           0.0     100+   \n",
       "\n",
       "   Minimum Installs  Maximum Installs  Free  Price  ...  \\\n",
       "0              10.0                15  True    0.0  ...   \n",
       "1            5000.0              7662  True    0.0  ...   \n",
       "2              50.0                58  True    0.0  ...   \n",
       "3              10.0                19  True    0.0  ...   \n",
       "4             100.0               478  True    0.0  ...   \n",
       "\n",
       "                  Developer Website              Developer Email  \\\n",
       "0       https://beniyizibyose.tk/#/       jean21101999@gmail.com   \n",
       "1   https://webserveis.netlify.app/         webserveis@gmail.com   \n",
       "2                               NaN          vnacrewit@gmail.com   \n",
       "3  http://www.climatesmarttech.com/  climatesmarttech2@gmail.com   \n",
       "4       http://www.horodyski.com.pl    rmilekhorodyski@gmail.com   \n",
       "\n",
       "       Released  Last Updated Content Rating  \\\n",
       "0  Feb 26, 2020  Feb 26, 2020       Everyone   \n",
       "1  May 21, 2020  May 06, 2021       Everyone   \n",
       "2   Aug 9, 2019  Aug 19, 2019       Everyone   \n",
       "3  Sep 10, 2018  Oct 13, 2018       Everyone   \n",
       "4  Feb 21, 2020  Nov 12, 2018       Everyone   \n",
       "\n",
       "                                      Privacy Policy Ad Supported  \\\n",
       "0                 https://beniyizibyose.tk/projects/        False   \n",
       "1  https://dev4phones.wordpress.com/licencia-de-uso/         True   \n",
       "2  https://www.vietnamairlines.com/vn/en/terms-an...        False   \n",
       "3                                                NaN         True   \n",
       "4                        http://www.horodyski.com.pl        False   \n",
       "\n",
       "  In App Purchases Editors Choice         Scraped Time  \n",
       "0            False          False  2021-06-15 20:19:35  \n",
       "1            False          False  2021-06-15 20:19:35  \n",
       "2            False          False  2021-06-15 20:19:35  \n",
       "3            False          False  2021-06-15 20:19:35  \n",
       "4            False          False  2021-06-15 20:19:35  \n",
       "\n",
       "[5 rows x 24 columns]"
      ]
     },
     "execution_count": 3,
     "metadata": {},
     "output_type": "execute_result"
    }
   ],
   "source": [
    "dataset.head(5)"
   ]
  },
  {
   "cell_type": "code",
   "execution_count": 4,
   "id": "77fd2df9",
   "metadata": {},
   "outputs": [
    {
     "data": {
      "text/plain": [
       "(2312944, 24)"
      ]
     },
     "execution_count": 4,
     "metadata": {},
     "output_type": "execute_result"
    }
   ],
   "source": [
    "dataset.shape"
   ]
  },
  {
   "cell_type": "code",
   "execution_count": 5,
   "id": "5b44a0b1",
   "metadata": {},
   "outputs": [
    {
     "data": {
      "text/plain": [
       "Index(['App Name', 'App Id', 'Category', 'Rating', 'Rating Count', 'Installs',\n",
       "       'Minimum Installs', 'Maximum Installs', 'Free', 'Price', 'Currency',\n",
       "       'Size', 'Minimum Android', 'Developer Id', 'Developer Website',\n",
       "       'Developer Email', 'Released', 'Last Updated', 'Content Rating',\n",
       "       'Privacy Policy', 'Ad Supported', 'In App Purchases', 'Editors Choice',\n",
       "       'Scraped Time'],\n",
       "      dtype='object')"
      ]
     },
     "execution_count": 5,
     "metadata": {},
     "output_type": "execute_result"
    }
   ],
   "source": [
    "dataset.columns"
   ]
  },
  {
   "cell_type": "code",
   "execution_count": 6,
   "id": "3e022ee4",
   "metadata": {},
   "outputs": [
    {
     "data": {
      "text/plain": [
       "pandas.core.frame.DataFrame"
      ]
     },
     "execution_count": 6,
     "metadata": {},
     "output_type": "execute_result"
    }
   ],
   "source": [
    "type(dataset)"
   ]
  },
  {
   "cell_type": "code",
   "execution_count": 7,
   "id": "e92ac34a",
   "metadata": {},
   "outputs": [],
   "source": [
    "df=dataset.copy()"
   ]
  },
  {
   "cell_type": "code",
   "execution_count": 8,
   "id": "46e3d9a8",
   "metadata": {},
   "outputs": [
    {
     "data": {
      "text/plain": [
       "pandas.core.frame.DataFrame"
      ]
     },
     "execution_count": 8,
     "metadata": {},
     "output_type": "execute_result"
    }
   ],
   "source": [
    "type(df)"
   ]
  },
  {
   "cell_type": "code",
   "execution_count": 9,
   "id": "459c7116",
   "metadata": {},
   "outputs": [
    {
     "data": {
      "text/plain": [
       "Index(['App_Name', 'App_Id', 'Category', 'Rating', 'Rating_Count', 'Installs',\n",
       "       'Minimum_Installs', 'Maximum_Installs', 'Free', 'Price', 'Currency',\n",
       "       'Size', 'Minimum_Android', 'Developer_Id', 'Developer_Website',\n",
       "       'Developer_Email', 'Released', 'Last_Updated', 'Content_Rating',\n",
       "       'Privacy_Policy', 'Ad_Supported', 'In_App_Purchases', 'Editors_Choice',\n",
       "       'Scraped_Time'],\n",
       "      dtype='object')"
      ]
     },
     "execution_count": 9,
     "metadata": {},
     "output_type": "execute_result"
    }
   ],
   "source": [
    "## Column Rename \n",
    "\n",
    "for col in df.columns:\n",
    "    col1 = col.replace(' ','_')\n",
    "    df = df.rename(columns={col:col1})\n",
    "df.columns"
   ]
  },
  {
   "cell_type": "code",
   "execution_count": 10,
   "id": "48fc0263",
   "metadata": {},
   "outputs": [
    {
     "name": "stdout",
     "output_type": "stream",
     "text": [
      "<class 'pandas.core.frame.DataFrame'>\n",
      "RangeIndex: 2312944 entries, 0 to 2312943\n",
      "Data columns (total 24 columns):\n",
      " #   Column             Dtype  \n",
      "---  ------             -----  \n",
      " 0   App_Name           object \n",
      " 1   App_Id             object \n",
      " 2   Category           object \n",
      " 3   Rating             float64\n",
      " 4   Rating_Count       float64\n",
      " 5   Installs           object \n",
      " 6   Minimum_Installs   float64\n",
      " 7   Maximum_Installs   int64  \n",
      " 8   Free               bool   \n",
      " 9   Price              float64\n",
      " 10  Currency           object \n",
      " 11  Size               object \n",
      " 12  Minimum_Android    object \n",
      " 13  Developer_Id       object \n",
      " 14  Developer_Website  object \n",
      " 15  Developer_Email    object \n",
      " 16  Released           object \n",
      " 17  Last_Updated       object \n",
      " 18  Content_Rating     object \n",
      " 19  Privacy_Policy     object \n",
      " 20  Ad_Supported       bool   \n",
      " 21  In_App_Purchases   bool   \n",
      " 22  Editors_Choice     bool   \n",
      " 23  Scraped_Time       object \n",
      "dtypes: bool(4), float64(4), int64(1), object(15)\n",
      "memory usage: 361.8+ MB\n"
     ]
    }
   ],
   "source": [
    "df.info()"
   ]
  },
  {
   "cell_type": "markdown",
   "id": "5dce9b80",
   "metadata": {},
   "source": [
    "# Exploratory Data Analysis "
   ]
  },
  {
   "cell_type": "markdown",
   "id": "5ca200fc",
   "metadata": {},
   "source": [
    "## Handling Missing values"
   ]
  },
  {
   "cell_type": "code",
   "execution_count": 11,
   "id": "dd44c35c",
   "metadata": {},
   "outputs": [
    {
     "data": {
      "text/plain": [
       "App_Name                  2\n",
       "App_Id                    0\n",
       "Category                  0\n",
       "Rating                22883\n",
       "Rating_Count          22883\n",
       "Installs                107\n",
       "Minimum_Installs        107\n",
       "Maximum_Installs          0\n",
       "Free                      0\n",
       "Price                     0\n",
       "Currency                135\n",
       "Size                    196\n",
       "Minimum_Android        6530\n",
       "Developer_Id             33\n",
       "Developer_Website    760835\n",
       "Developer_Email          31\n",
       "Released              71053\n",
       "Last_Updated              0\n",
       "Content_Rating            0\n",
       "Privacy_Policy       420953\n",
       "Ad_Supported              0\n",
       "In_App_Purchases          0\n",
       "Editors_Choice            0\n",
       "Scraped_Time              0\n",
       "dtype: int64"
      ]
     },
     "execution_count": 11,
     "metadata": {},
     "output_type": "execute_result"
    }
   ],
   "source": [
    "df.isnull().sum()"
   ]
  },
  {
   "cell_type": "code",
   "execution_count": 12,
   "id": "675b1339",
   "metadata": {},
   "outputs": [
    {
     "name": "stdout",
     "output_type": "stream",
     "text": [
      "The App_Name have 0.0 % of missing values.\n",
      "The Rating have 0.0099 % of missing values.\n",
      "The Rating_Count have 0.0099 % of missing values.\n",
      "The Installs have 0.0 % of missing values.\n",
      "The Minimum_Installs have 0.0 % of missing values.\n",
      "The Currency have 0.0001 % of missing values.\n",
      "The Size have 0.0001 % of missing values.\n",
      "The Minimum_Android have 0.0028 % of missing values.\n",
      "The Developer_Id have 0.0 % of missing values.\n",
      "The Developer_Website have 0.3289 % of missing values.\n",
      "The Developer_Email have 0.0 % of missing values.\n",
      "The Released have 0.0307 % of missing values.\n",
      "The Privacy_Policy have 0.182 % of missing values.\n"
     ]
    }
   ],
   "source": [
    "feature_na=[feature for feature in df.columns if df[feature].isnull().sum()>=1]\n",
    "for features in feature_na:\n",
    "    print(\"The {} have {} % of missing values.\".format(features,np.round(df[features].isnull().mean(),4)))"
   ]
  },
  {
   "cell_type": "code",
   "execution_count": 13,
   "id": "e57dccdf",
   "metadata": {
    "scrolled": true
   },
   "outputs": [
    {
     "name": "stdout",
     "output_type": "stream",
     "text": [
      "Number of rows having null values in the dataset: 1025753  which is  44.35 %\n"
     ]
    }
   ],
   "source": [
    "missing_info = (len(df[df.isnull().any(axis=1)]) / len(df) )*100\n",
    "print(\"Number of rows having null values in the dataset:\",len(df[df.isnull().any(axis=1)]),' which is ' ,round(missing_info,2), '%')"
   ]
  },
  {
   "cell_type": "markdown",
   "id": "71bb2933",
   "metadata": {},
   "source": [
    "###### Dropping Unnecessary Features "
   ]
  },
  {
   "cell_type": "code",
   "execution_count": 14,
   "id": "bd5ba8ab",
   "metadata": {},
   "outputs": [
    {
     "name": "stdout",
     "output_type": "stream",
     "text": [
      "Dropping the following columns - App_Id, Developer_Website, Developer_Email, Privacy_Policy, Currency,Installs, Developer_Id, Scraped_Time,Maximum_Installs which are not needed for the analysis purposes.\n"
     ]
    }
   ],
   "source": [
    "## Dropping of unnecessary columns\n",
    "\n",
    "print (\"Dropping the following columns - App_Id, Developer_Website, Developer_Email, Privacy_Policy, Currency,Installs, Developer_Id, Scraped_Time,Maximum_Installs which are not needed for the analysis purposes.\")\n",
    "\n",
    "df.drop(['App_Id','Developer_Website','Developer_Email','Privacy_Policy','Currency','Developer_Id','Installs','Scraped_Time','Maximum_Installs'],axis=1,inplace=True)\n"
   ]
  },
  {
   "cell_type": "code",
   "execution_count": 16,
   "id": "fc4ddfce",
   "metadata": {},
   "outputs": [
    {
     "name": "stdout",
     "output_type": "stream",
     "text": [
      "Now, we have 15 no. of columns\n"
     ]
    }
   ],
   "source": [
    "df.shape\n",
    "print(\"Now, we have {} no. of columns\".format(df.shape[1]))"
   ]
  },
  {
   "cell_type": "code",
   "execution_count": 17,
   "id": "868ccf65",
   "metadata": {},
   "outputs": [
    {
     "name": "stdout",
     "output_type": "stream",
     "text": [
      "The App_Name have 0.0 % of missing values.\n",
      "The Rating have 0.0099 % of missing values.\n",
      "The Rating_Count have 0.0099 % of missing values.\n",
      "The Minimum_Installs have 0.0 % of missing values.\n",
      "The Size have 0.0001 % of missing values.\n",
      "The Minimum_Android have 0.0028 % of missing values.\n",
      "The Released have 0.0307 % of missing values.\n"
     ]
    }
   ],
   "source": [
    "feature_na=[feature for feature in df.columns if df[feature].isnull().sum()>=1]\n",
    "for features in feature_na:\n",
    "    print(\"The {} have {} % of missing values.\".format(features,np.round(df[features].isnull().mean(),4)))"
   ]
  },
  {
   "cell_type": "code",
   "execution_count": 18,
   "id": "466400da",
   "metadata": {},
   "outputs": [
    {
     "name": "stdout",
     "output_type": "stream",
     "text": [
      "Number of rows having null values in the dataset: 77615  which is  3.36 %\n"
     ]
    }
   ],
   "source": [
    "## Missing values % calculation\n",
    "\n",
    "missing_info = (len(df[df.isnull().any(axis=1)]) / len(df) )*100\n",
    "print(\"Number of rows having null values in the dataset:\",len(df[df.isnull().any(axis=1)]),' which is ' ,round(missing_info,2) , '%')"
   ]
  },
  {
   "cell_type": "markdown",
   "id": "34aaac57",
   "metadata": {},
   "source": [
    "Since we have 3.08% of null values in dataset we can drop those NAN values "
   ]
  },
  {
   "cell_type": "code",
   "execution_count": 19,
   "id": "8b41f9a9",
   "metadata": {},
   "outputs": [],
   "source": [
    "df=df.dropna()"
   ]
  },
  {
   "cell_type": "code",
   "execution_count": 20,
   "id": "8e088900",
   "metadata": {},
   "outputs": [
    {
     "data": {
      "text/plain": [
       "(2235329, 15)"
      ]
     },
     "execution_count": 20,
     "metadata": {},
     "output_type": "execute_result"
    }
   ],
   "source": [
    "df.shape"
   ]
  },
  {
   "cell_type": "code",
   "execution_count": 21,
   "id": "f6bab4f8",
   "metadata": {},
   "outputs": [],
   "source": [
    "## Rename Minimum_installs as No.of. Installs\n",
    "df.rename(columns = {'Minimum_Installs':'Installs'}, inplace = True)"
   ]
  },
  {
   "cell_type": "code",
   "execution_count": 22,
   "id": "26733830",
   "metadata": {},
   "outputs": [],
   "source": [
    "## Tableau data\n",
    "df.to_csv('D:\\\\CV DA Assignment\\\\Project Presentation\\\\Google play store\\\\Play_store_WON.csv')"
   ]
  },
  {
   "cell_type": "code",
   "execution_count": 25,
   "id": "af7f6bda",
   "metadata": {},
   "outputs": [],
   "source": [
    "## converting datatype into Integer \n",
    "\n",
    "convert_dt = {'Installs': 'int64', 'Rating':'int64','Rating_Count':'object'}\n",
    " \n",
    "df = df.astype(convert_dt)"
   ]
  },
  {
   "cell_type": "code",
   "execution_count": 26,
   "id": "9408e085",
   "metadata": {},
   "outputs": [
    {
     "name": "stdout",
     "output_type": "stream",
     "text": [
      "<class 'pandas.core.frame.DataFrame'>\n",
      "Int64Index: 2235329 entries, 0 to 2312943\n",
      "Data columns (total 15 columns):\n",
      " #   Column            Dtype  \n",
      "---  ------            -----  \n",
      " 0   App_Name          object \n",
      " 1   Category          object \n",
      " 2   Rating            int64  \n",
      " 3   Rating_Count      object \n",
      " 4   Installs          int64  \n",
      " 5   Free              bool   \n",
      " 6   Price             float64\n",
      " 7   Size              object \n",
      " 8   Minimum_Android   object \n",
      " 9   Released          object \n",
      " 10  Last_Updated      object \n",
      " 11  Content_Rating    object \n",
      " 12  Ad_Supported      bool   \n",
      " 13  In_App_Purchases  bool   \n",
      " 14  Editors_Choice    bool   \n",
      "dtypes: bool(4), float64(1), int64(2), object(8)\n",
      "memory usage: 213.2+ MB\n"
     ]
    }
   ],
   "source": [
    "df.info()"
   ]
  },
  {
   "cell_type": "markdown",
   "id": "3280776c",
   "metadata": {},
   "source": [
    "## Boolean Column"
   ]
  },
  {
   "cell_type": "code",
   "execution_count": 27,
   "id": "f0bfac09",
   "metadata": {},
   "outputs": [
    {
     "name": "stdout",
     "output_type": "stream",
     "text": [
      "No. of numberical features are: 4\n"
     ]
    }
   ],
   "source": [
    "df_bool=df.select_dtypes(bool)\n",
    "print(\"No. of numberical features are:\",len((df_bool.columns)))"
   ]
  },
  {
   "cell_type": "code",
   "execution_count": 28,
   "id": "e90c8fda",
   "metadata": {},
   "outputs": [
    {
     "data": {
      "text/html": [
       "<div>\n",
       "<style scoped>\n",
       "    .dataframe tbody tr th:only-of-type {\n",
       "        vertical-align: middle;\n",
       "    }\n",
       "\n",
       "    .dataframe tbody tr th {\n",
       "        vertical-align: top;\n",
       "    }\n",
       "\n",
       "    .dataframe thead th {\n",
       "        text-align: right;\n",
       "    }\n",
       "</style>\n",
       "<table border=\"1\" class=\"dataframe\">\n",
       "  <thead>\n",
       "    <tr style=\"text-align: right;\">\n",
       "      <th></th>\n",
       "      <th>Free</th>\n",
       "      <th>Ad_Supported</th>\n",
       "      <th>In_App_Purchases</th>\n",
       "      <th>Editors_Choice</th>\n",
       "    </tr>\n",
       "  </thead>\n",
       "  <tbody>\n",
       "    <tr>\n",
       "      <th>0</th>\n",
       "      <td>True</td>\n",
       "      <td>False</td>\n",
       "      <td>False</td>\n",
       "      <td>False</td>\n",
       "    </tr>\n",
       "    <tr>\n",
       "      <th>1</th>\n",
       "      <td>True</td>\n",
       "      <td>True</td>\n",
       "      <td>False</td>\n",
       "      <td>False</td>\n",
       "    </tr>\n",
       "  </tbody>\n",
       "</table>\n",
       "</div>"
      ],
      "text/plain": [
       "   Free  Ad_Supported  In_App_Purchases  Editors_Choice\n",
       "0  True         False             False           False\n",
       "1  True          True             False           False"
      ]
     },
     "execution_count": 28,
     "metadata": {},
     "output_type": "execute_result"
    }
   ],
   "source": [
    "df_bool.head(2)"
   ]
  },
  {
   "cell_type": "code",
   "execution_count": 29,
   "id": "04b2f213",
   "metadata": {},
   "outputs": [],
   "source": [
    "\n",
    "for feature in df_bool:\n",
    "    df_bool[feature]=df_bool[feature].replace({True:1,False:0}) \n",
    "        "
   ]
  },
  {
   "cell_type": "code",
   "execution_count": 30,
   "id": "a13b45f4",
   "metadata": {},
   "outputs": [
    {
     "data": {
      "text/html": [
       "<div>\n",
       "<style scoped>\n",
       "    .dataframe tbody tr th:only-of-type {\n",
       "        vertical-align: middle;\n",
       "    }\n",
       "\n",
       "    .dataframe tbody tr th {\n",
       "        vertical-align: top;\n",
       "    }\n",
       "\n",
       "    .dataframe thead th {\n",
       "        text-align: right;\n",
       "    }\n",
       "</style>\n",
       "<table border=\"1\" class=\"dataframe\">\n",
       "  <thead>\n",
       "    <tr style=\"text-align: right;\">\n",
       "      <th></th>\n",
       "      <th>Free</th>\n",
       "      <th>Ad_Supported</th>\n",
       "      <th>In_App_Purchases</th>\n",
       "      <th>Editors_Choice</th>\n",
       "    </tr>\n",
       "  </thead>\n",
       "  <tbody>\n",
       "    <tr>\n",
       "      <th>0</th>\n",
       "      <td>1</td>\n",
       "      <td>0</td>\n",
       "      <td>0</td>\n",
       "      <td>0</td>\n",
       "    </tr>\n",
       "    <tr>\n",
       "      <th>1</th>\n",
       "      <td>1</td>\n",
       "      <td>1</td>\n",
       "      <td>0</td>\n",
       "      <td>0</td>\n",
       "    </tr>\n",
       "    <tr>\n",
       "      <th>2</th>\n",
       "      <td>1</td>\n",
       "      <td>0</td>\n",
       "      <td>0</td>\n",
       "      <td>0</td>\n",
       "    </tr>\n",
       "    <tr>\n",
       "      <th>3</th>\n",
       "      <td>1</td>\n",
       "      <td>1</td>\n",
       "      <td>0</td>\n",
       "      <td>0</td>\n",
       "    </tr>\n",
       "    <tr>\n",
       "      <th>4</th>\n",
       "      <td>1</td>\n",
       "      <td>0</td>\n",
       "      <td>0</td>\n",
       "      <td>0</td>\n",
       "    </tr>\n",
       "  </tbody>\n",
       "</table>\n",
       "</div>"
      ],
      "text/plain": [
       "   Free  Ad_Supported  In_App_Purchases  Editors_Choice\n",
       "0     1             0                 0               0\n",
       "1     1             1                 0               0\n",
       "2     1             0                 0               0\n",
       "3     1             1                 0               0\n",
       "4     1             0                 0               0"
      ]
     },
     "execution_count": 30,
     "metadata": {},
     "output_type": "execute_result"
    }
   ],
   "source": [
    "df_bool.head(5)"
   ]
  },
  {
   "cell_type": "code",
   "execution_count": 31,
   "id": "777c2790",
   "metadata": {},
   "outputs": [
    {
     "name": "stdout",
     "output_type": "stream",
     "text": [
      "<class 'pandas.core.frame.DataFrame'>\n",
      "Int64Index: 2235329 entries, 0 to 2312943\n",
      "Data columns (total 4 columns):\n",
      " #   Column            Dtype\n",
      "---  ------            -----\n",
      " 0   Free              int64\n",
      " 1   Ad_Supported      int64\n",
      " 2   In_App_Purchases  int64\n",
      " 3   Editors_Choice    int64\n",
      "dtypes: int64(4)\n",
      "memory usage: 85.3 MB\n"
     ]
    }
   ],
   "source": [
    "df_bool.info()"
   ]
  },
  {
   "cell_type": "markdown",
   "id": "986ab04b",
   "metadata": {},
   "source": [
    "## Date columns"
   ]
  },
  {
   "cell_type": "code",
   "execution_count": 32,
   "id": "252b7d0c",
   "metadata": {},
   "outputs": [
    {
     "name": "stdout",
     "output_type": "stream",
     "text": [
      "App_Name                    object\n",
      "Category                    object\n",
      "Rating                       int64\n",
      "Rating_Count                object\n",
      "Installs                     int64\n",
      "Free                          bool\n",
      "Price                      float64\n",
      "Size                        object\n",
      "Minimum_Android             object\n",
      "Released            datetime64[ns]\n",
      "Last_Updated        datetime64[ns]\n",
      "Content_Rating              object\n",
      "Ad_Supported                  bool\n",
      "In_App_Purchases              bool\n",
      "Editors_Choice                bool\n",
      "dtype: object\n"
     ]
    }
   ],
   "source": [
    "# Use pandas.to_datetime() to convert string to datetime format\n",
    "\n",
    "df[\"Released\"] = pd.to_datetime(df[\"Released\"])\n",
    "df[\"Last_Updated\"] = pd.to_datetime(df[\"Last_Updated\"])\n",
    "print (df.dtypes)"
   ]
  },
  {
   "cell_type": "code",
   "execution_count": 33,
   "id": "edc6d5db",
   "metadata": {},
   "outputs": [
    {
     "name": "stdout",
     "output_type": "stream",
     "text": [
      "No. of numberical features are: 2\n"
     ]
    }
   ],
   "source": [
    "df_date=df.select_dtypes('datetime64')\n",
    "print(\"No. of numberical features are:\",len((df_date.columns)))"
   ]
  },
  {
   "cell_type": "markdown",
   "id": "16bad93c",
   "metadata": {},
   "source": [
    "## Numerical Column"
   ]
  },
  {
   "cell_type": "code",
   "execution_count": 34,
   "id": "c538abc3",
   "metadata": {},
   "outputs": [],
   "source": [
    "def define_size(data):\n",
    "    data=data.replace(',','')\n",
    "    num=data[:-1]\n",
    "    if data[-1]=='K' or data[-1]=='k' :\n",
    "        return float(num)\n",
    "    elif data[-1]=='M' or data[-1]=='m':\n",
    "        return float(num)*1000\n",
    "    elif data[-1]=='G' or data[-1]=='g':\n",
    "        return float(num)*1000000\n",
    "    else:\n",
    "        return 1000"
   ]
  },
  {
   "cell_type": "markdown",
   "id": "1acbe1c9",
   "metadata": {},
   "source": [
    "Function to convert every size of App to kb."
   ]
  },
  {
   "cell_type": "code",
   "execution_count": 35,
   "id": "b54cdc4c",
   "metadata": {},
   "outputs": [],
   "source": [
    "df['Size']=df['Size'].apply(define_size)"
   ]
  },
  {
   "cell_type": "code",
   "execution_count": 36,
   "id": "0aedb649",
   "metadata": {},
   "outputs": [
    {
     "name": "stdout",
     "output_type": "stream",
     "text": [
      "<class 'pandas.core.frame.DataFrame'>\n",
      "Int64Index: 2235329 entries, 0 to 2312943\n",
      "Data columns (total 15 columns):\n",
      " #   Column            Dtype         \n",
      "---  ------            -----         \n",
      " 0   App_Name          object        \n",
      " 1   Category          object        \n",
      " 2   Rating            int64         \n",
      " 3   Rating_Count      object        \n",
      " 4   Installs          int64         \n",
      " 5   Free              bool          \n",
      " 6   Price             float64       \n",
      " 7   Size              float64       \n",
      " 8   Minimum_Android   object        \n",
      " 9   Released          datetime64[ns]\n",
      " 10  Last_Updated      datetime64[ns]\n",
      " 11  Content_Rating    object        \n",
      " 12  Ad_Supported      bool          \n",
      " 13  In_App_Purchases  bool          \n",
      " 14  Editors_Choice    bool          \n",
      "dtypes: bool(4), datetime64[ns](2), float64(2), int64(2), object(5)\n",
      "memory usage: 213.2+ MB\n"
     ]
    }
   ],
   "source": [
    "df.info()"
   ]
  },
  {
   "cell_type": "code",
   "execution_count": 37,
   "id": "f80f96c0",
   "metadata": {},
   "outputs": [
    {
     "name": "stdout",
     "output_type": "stream",
     "text": [
      "No. of numberical features are: 4\n"
     ]
    }
   ],
   "source": [
    "df_num=df.select_dtypes(['int64','float64'])\n",
    "print(\"No. of numberical features are:\",len((df_num.columns)))"
   ]
  },
  {
   "cell_type": "code",
   "execution_count": 38,
   "id": "3c6e8f34",
   "metadata": {},
   "outputs": [
    {
     "name": "stdout",
     "output_type": "stream",
     "text": [
      "<class 'pandas.core.frame.DataFrame'>\n",
      "Int64Index: 2235329 entries, 0 to 2312943\n",
      "Data columns (total 4 columns):\n",
      " #   Column    Dtype  \n",
      "---  ------    -----  \n",
      " 0   Rating    int64  \n",
      " 1   Installs  int64  \n",
      " 2   Price     float64\n",
      " 3   Size      float64\n",
      "dtypes: float64(2), int64(2)\n",
      "memory usage: 85.3 MB\n"
     ]
    }
   ],
   "source": [
    "df_num.info()"
   ]
  },
  {
   "cell_type": "code",
   "execution_count": 39,
   "id": "a54cfc19",
   "metadata": {},
   "outputs": [
    {
     "data": {
      "text/html": [
       "<div>\n",
       "<style scoped>\n",
       "    .dataframe tbody tr th:only-of-type {\n",
       "        vertical-align: middle;\n",
       "    }\n",
       "\n",
       "    .dataframe tbody tr th {\n",
       "        vertical-align: top;\n",
       "    }\n",
       "\n",
       "    .dataframe thead th {\n",
       "        text-align: right;\n",
       "    }\n",
       "</style>\n",
       "<table border=\"1\" class=\"dataframe\">\n",
       "  <thead>\n",
       "    <tr style=\"text-align: right;\">\n",
       "      <th></th>\n",
       "      <th>Rating</th>\n",
       "      <th>Installs</th>\n",
       "      <th>Price</th>\n",
       "      <th>Size</th>\n",
       "    </tr>\n",
       "  </thead>\n",
       "  <tbody>\n",
       "    <tr>\n",
       "      <th>0</th>\n",
       "      <td>0</td>\n",
       "      <td>10</td>\n",
       "      <td>0.0</td>\n",
       "      <td>10000.0</td>\n",
       "    </tr>\n",
       "    <tr>\n",
       "      <th>1</th>\n",
       "      <td>4</td>\n",
       "      <td>5000</td>\n",
       "      <td>0.0</td>\n",
       "      <td>2900.0</td>\n",
       "    </tr>\n",
       "    <tr>\n",
       "      <th>2</th>\n",
       "      <td>0</td>\n",
       "      <td>50</td>\n",
       "      <td>0.0</td>\n",
       "      <td>3700.0</td>\n",
       "    </tr>\n",
       "    <tr>\n",
       "      <th>3</th>\n",
       "      <td>5</td>\n",
       "      <td>10</td>\n",
       "      <td>0.0</td>\n",
       "      <td>1800.0</td>\n",
       "    </tr>\n",
       "    <tr>\n",
       "      <th>4</th>\n",
       "      <td>0</td>\n",
       "      <td>100</td>\n",
       "      <td>0.0</td>\n",
       "      <td>6200.0</td>\n",
       "    </tr>\n",
       "  </tbody>\n",
       "</table>\n",
       "</div>"
      ],
      "text/plain": [
       "   Rating  Installs  Price     Size\n",
       "0       0        10    0.0  10000.0\n",
       "1       4      5000    0.0   2900.0\n",
       "2       0        50    0.0   3700.0\n",
       "3       5        10    0.0   1800.0\n",
       "4       0       100    0.0   6200.0"
      ]
     },
     "execution_count": 39,
     "metadata": {},
     "output_type": "execute_result"
    }
   ],
   "source": [
    "df_num.head()"
   ]
  },
  {
   "cell_type": "markdown",
   "id": "063251e1",
   "metadata": {},
   "source": [
    "## Categorical Column"
   ]
  },
  {
   "cell_type": "code",
   "execution_count": 41,
   "id": "f838e646",
   "metadata": {},
   "outputs": [
    {
     "name": "stdout",
     "output_type": "stream",
     "text": [
      "No. of Categorical features are: 5\n"
     ]
    }
   ],
   "source": [
    "df_cat=df.select_dtypes(object)\n",
    "print(\"No. of Categorical features are:\",len((df_cat.columns)))"
   ]
  },
  {
   "cell_type": "code",
   "execution_count": 42,
   "id": "afcb05c8",
   "metadata": {},
   "outputs": [
    {
     "data": {
      "text/html": [
       "<div>\n",
       "<style scoped>\n",
       "    .dataframe tbody tr th:only-of-type {\n",
       "        vertical-align: middle;\n",
       "    }\n",
       "\n",
       "    .dataframe tbody tr th {\n",
       "        vertical-align: top;\n",
       "    }\n",
       "\n",
       "    .dataframe thead th {\n",
       "        text-align: right;\n",
       "    }\n",
       "</style>\n",
       "<table border=\"1\" class=\"dataframe\">\n",
       "  <thead>\n",
       "    <tr style=\"text-align: right;\">\n",
       "      <th></th>\n",
       "      <th>App_Name</th>\n",
       "      <th>Category</th>\n",
       "      <th>Rating_Count</th>\n",
       "      <th>Minimum_Android</th>\n",
       "      <th>Content_Rating</th>\n",
       "    </tr>\n",
       "  </thead>\n",
       "  <tbody>\n",
       "    <tr>\n",
       "      <th>0</th>\n",
       "      <td>Gakondo</td>\n",
       "      <td>Adventure</td>\n",
       "      <td>0.0</td>\n",
       "      <td>7.1 and up</td>\n",
       "      <td>Everyone</td>\n",
       "    </tr>\n",
       "    <tr>\n",
       "      <th>1</th>\n",
       "      <td>Ampere Battery Info</td>\n",
       "      <td>Tools</td>\n",
       "      <td>64.0</td>\n",
       "      <td>5.0 and up</td>\n",
       "      <td>Everyone</td>\n",
       "    </tr>\n",
       "    <tr>\n",
       "      <th>2</th>\n",
       "      <td>Vibook</td>\n",
       "      <td>Productivity</td>\n",
       "      <td>0.0</td>\n",
       "      <td>4.0.3 and up</td>\n",
       "      <td>Everyone</td>\n",
       "    </tr>\n",
       "    <tr>\n",
       "      <th>3</th>\n",
       "      <td>Smart City Trichy Public Service Vehicles 17UC...</td>\n",
       "      <td>Communication</td>\n",
       "      <td>5.0</td>\n",
       "      <td>4.0.3 and up</td>\n",
       "      <td>Everyone</td>\n",
       "    </tr>\n",
       "    <tr>\n",
       "      <th>4</th>\n",
       "      <td>GROW.me</td>\n",
       "      <td>Tools</td>\n",
       "      <td>0.0</td>\n",
       "      <td>4.1 and up</td>\n",
       "      <td>Everyone</td>\n",
       "    </tr>\n",
       "  </tbody>\n",
       "</table>\n",
       "</div>"
      ],
      "text/plain": [
       "                                            App_Name       Category  \\\n",
       "0                                            Gakondo      Adventure   \n",
       "1                                Ampere Battery Info          Tools   \n",
       "2                                             Vibook   Productivity   \n",
       "3  Smart City Trichy Public Service Vehicles 17UC...  Communication   \n",
       "4                                            GROW.me          Tools   \n",
       "\n",
       "  Rating_Count Minimum_Android Content_Rating  \n",
       "0          0.0      7.1 and up       Everyone  \n",
       "1         64.0      5.0 and up       Everyone  \n",
       "2          0.0    4.0.3 and up       Everyone  \n",
       "3          5.0    4.0.3 and up       Everyone  \n",
       "4          0.0      4.1 and up       Everyone  "
      ]
     },
     "execution_count": 42,
     "metadata": {},
     "output_type": "execute_result"
    }
   ],
   "source": [
    "df_cat.head(5)"
   ]
  },
  {
   "cell_type": "code",
   "execution_count": 43,
   "id": "f5381ba6",
   "metadata": {},
   "outputs": [
    {
     "data": {
      "text/plain": [
       "Education                  235582\n",
       "Music & Audio              153242\n",
       "Tools                      137724\n",
       "Business                   136050\n",
       "Entertainment              135179\n",
       "Books & Reference          115397\n",
       "Lifestyle                  115165\n",
       "Personalization             88633\n",
       "Health & Fitness            80464\n",
       "Productivity                74884\n",
       "Shopping                    71460\n",
       "Food & Drink                70873\n",
       "Travel & Local              64709\n",
       "Finance                     61880\n",
       "Arcade                      52222\n",
       "Puzzle                      49730\n",
       "Casual                      48672\n",
       "Communication               45969\n",
       "Sports                      45676\n",
       "Social                      43039\n",
       "News & Magazines            41779\n",
       "Photography                 35109\n",
       "Medical                     29974\n",
       "Action                      26487\n",
       "Maps & Navigation           24969\n",
       "Adventure                   22461\n",
       "Simulation                  22399\n",
       "Educational                 20635\n",
       "Art & Design                18238\n",
       "Auto & Vehicles             16879\n",
       "Video Players & Editors     13697\n",
       "House & Home                13637\n",
       "Events                      12345\n",
       "Trivia                      11491\n",
       "Beauty                      11424\n",
       "Board                       10315\n",
       "Racing                      10119\n",
       "Role Playing                 9152\n",
       "Word                         8385\n",
       "Strategy                     8039\n",
       "Card                         7896\n",
       "Weather                      6936\n",
       "Dating                       6300\n",
       "Casino                       4907\n",
       "Libraries & Demo             4778\n",
       "Music                        4084\n",
       "Parenting                    3582\n",
       "Comics                       2762\n",
       "Name: Category, dtype: int64"
      ]
     },
     "execution_count": 43,
     "metadata": {},
     "output_type": "execute_result"
    }
   ],
   "source": [
    "df_cat['Category'].value_counts()"
   ]
  },
  {
   "cell_type": "code",
   "execution_count": 44,
   "id": "4a382a74",
   "metadata": {},
   "outputs": [
    {
     "data": {
      "text/plain": [
       "48"
      ]
     },
     "execution_count": 44,
     "metadata": {},
     "output_type": "execute_result"
    }
   ],
   "source": [
    "df_cat['Category'].nunique()"
   ]
  },
  {
   "cell_type": "code",
   "execution_count": 45,
   "id": "31ba3aad",
   "metadata": {},
   "outputs": [],
   "source": [
    "df_cat['Category'] = df_cat['Category'].replace(['Music & Audio'], 'Music')"
   ]
  },
  {
   "cell_type": "code",
   "execution_count": 46,
   "id": "8a31f704",
   "metadata": {},
   "outputs": [
    {
     "data": {
      "text/plain": [
       "47"
      ]
     },
     "execution_count": 46,
     "metadata": {},
     "output_type": "execute_result"
    }
   ],
   "source": [
    "df_cat['Category'].nunique()"
   ]
  },
  {
   "cell_type": "code",
   "execution_count": 47,
   "id": "eb47e66b",
   "metadata": {},
   "outputs": [
    {
     "data": {
      "text/plain": [
       "Everyone           1954021\n",
       "Teen                189794\n",
       "Mature 17+           58527\n",
       "Everyone 10+         32706\n",
       "Unrated                152\n",
       "Adults only 18+        129\n",
       "Name: Content_Rating, dtype: int64"
      ]
     },
     "execution_count": 47,
     "metadata": {},
     "output_type": "execute_result"
    }
   ],
   "source": [
    "df_cat['Content_Rating'].value_counts()"
   ]
  },
  {
   "cell_type": "code",
   "execution_count": 48,
   "id": "92bce48b",
   "metadata": {},
   "outputs": [
    {
     "data": {
      "text/plain": [
       "6"
      ]
     },
     "execution_count": 48,
     "metadata": {},
     "output_type": "execute_result"
    }
   ],
   "source": [
    "df_cat['Content_Rating'].nunique()"
   ]
  },
  {
   "cell_type": "code",
   "execution_count": 49,
   "id": "ba56ff32",
   "metadata": {},
   "outputs": [],
   "source": [
    "## replace Content_Rating values\n",
    "\n",
    "df_cat['Content_Rating']=df_cat['Content_Rating'].replace({'Unrated':'Everyone',\n",
    "                                 'Mature 17+':\"Adults\",\n",
    "                                 'Adults only 18+':\"Adults\",\n",
    "                                 'Everyone 10+':\"Everyone\"}) "
   ]
  },
  {
   "cell_type": "code",
   "execution_count": 50,
   "id": "1464c531",
   "metadata": {},
   "outputs": [
    {
     "data": {
      "text/plain": [
       "Everyone    1986879\n",
       "Teen         189794\n",
       "Adults        58656\n",
       "Name: Content_Rating, dtype: int64"
      ]
     },
     "execution_count": 50,
     "metadata": {},
     "output_type": "execute_result"
    }
   ],
   "source": [
    "df_cat['Content_Rating'].value_counts()"
   ]
  },
  {
   "cell_type": "code",
   "execution_count": 51,
   "id": "6917d960",
   "metadata": {},
   "outputs": [
    {
     "data": {
      "text/plain": [
       "Less than 10K           1164948\n",
       "NoRating                1034405\n",
       "Between 10K and 500K      34386\n",
       "More than 500K             1590\n",
       "Name: Rating_Range, dtype: int64"
      ]
     },
     "execution_count": 51,
     "metadata": {},
     "output_type": "execute_result"
    }
   ],
   "source": [
    "## replace Rating_Count into Rating_range values\n",
    "\n",
    "df_cat['Rating_Range'] = 'NoRating'\n",
    "df_cat.loc[(df['Rating_Count'] > 0) & (df_cat['Rating_Count'] <= 10000.0),'Rating_Range'] = 'Less than 10K'\n",
    "df_cat.loc[(df['Rating_Count'] > 10000) & (df_cat['Rating_Count'] <= 500000.0),'Rating_Range'] = 'Between 10K and 500K'\n",
    "df_cat.loc[(df['Rating_Count'] > 500000) & (df_cat['Rating_Count'] <= 138557570.0),'Rating_Range'] = 'More than 500K'\n",
    "df_cat.Rating_Range.value_counts()"
   ]
  },
  {
   "cell_type": "code",
   "execution_count": 52,
   "id": "174f14b1",
   "metadata": {},
   "outputs": [
    {
     "data": {
      "text/html": [
       "<div>\n",
       "<style scoped>\n",
       "    .dataframe tbody tr th:only-of-type {\n",
       "        vertical-align: middle;\n",
       "    }\n",
       "\n",
       "    .dataframe tbody tr th {\n",
       "        vertical-align: top;\n",
       "    }\n",
       "\n",
       "    .dataframe thead th {\n",
       "        text-align: right;\n",
       "    }\n",
       "</style>\n",
       "<table border=\"1\" class=\"dataframe\">\n",
       "  <thead>\n",
       "    <tr style=\"text-align: right;\">\n",
       "      <th></th>\n",
       "      <th>App_Name</th>\n",
       "      <th>Category</th>\n",
       "      <th>Rating_Count</th>\n",
       "      <th>Minimum_Android</th>\n",
       "      <th>Content_Rating</th>\n",
       "      <th>Rating_Range</th>\n",
       "    </tr>\n",
       "  </thead>\n",
       "  <tbody>\n",
       "    <tr>\n",
       "      <th>0</th>\n",
       "      <td>Gakondo</td>\n",
       "      <td>Adventure</td>\n",
       "      <td>0.0</td>\n",
       "      <td>7.1 and up</td>\n",
       "      <td>Everyone</td>\n",
       "      <td>NoRating</td>\n",
       "    </tr>\n",
       "    <tr>\n",
       "      <th>1</th>\n",
       "      <td>Ampere Battery Info</td>\n",
       "      <td>Tools</td>\n",
       "      <td>64.0</td>\n",
       "      <td>5.0 and up</td>\n",
       "      <td>Everyone</td>\n",
       "      <td>Less than 10K</td>\n",
       "    </tr>\n",
       "    <tr>\n",
       "      <th>2</th>\n",
       "      <td>Vibook</td>\n",
       "      <td>Productivity</td>\n",
       "      <td>0.0</td>\n",
       "      <td>4.0.3 and up</td>\n",
       "      <td>Everyone</td>\n",
       "      <td>NoRating</td>\n",
       "    </tr>\n",
       "    <tr>\n",
       "      <th>3</th>\n",
       "      <td>Smart City Trichy Public Service Vehicles 17UC...</td>\n",
       "      <td>Communication</td>\n",
       "      <td>5.0</td>\n",
       "      <td>4.0.3 and up</td>\n",
       "      <td>Everyone</td>\n",
       "      <td>Less than 10K</td>\n",
       "    </tr>\n",
       "    <tr>\n",
       "      <th>4</th>\n",
       "      <td>GROW.me</td>\n",
       "      <td>Tools</td>\n",
       "      <td>0.0</td>\n",
       "      <td>4.1 and up</td>\n",
       "      <td>Everyone</td>\n",
       "      <td>NoRating</td>\n",
       "    </tr>\n",
       "  </tbody>\n",
       "</table>\n",
       "</div>"
      ],
      "text/plain": [
       "                                            App_Name       Category  \\\n",
       "0                                            Gakondo      Adventure   \n",
       "1                                Ampere Battery Info          Tools   \n",
       "2                                             Vibook   Productivity   \n",
       "3  Smart City Trichy Public Service Vehicles 17UC...  Communication   \n",
       "4                                            GROW.me          Tools   \n",
       "\n",
       "  Rating_Count Minimum_Android Content_Rating   Rating_Range  \n",
       "0          0.0      7.1 and up       Everyone       NoRating  \n",
       "1         64.0      5.0 and up       Everyone  Less than 10K  \n",
       "2          0.0    4.0.3 and up       Everyone       NoRating  \n",
       "3          5.0    4.0.3 and up       Everyone  Less than 10K  \n",
       "4          0.0      4.1 and up       Everyone       NoRating  "
      ]
     },
     "execution_count": 52,
     "metadata": {},
     "output_type": "execute_result"
    }
   ],
   "source": [
    "df_cat.head()"
   ]
  },
  {
   "cell_type": "code",
   "execution_count": 53,
   "id": "76a67e2e",
   "metadata": {},
   "outputs": [],
   "source": [
    "## dropping of Rating count column\n",
    "\n",
    "df_cat.drop('Rating_Count',axis=1, inplace=True)"
   ]
  },
  {
   "cell_type": "code",
   "execution_count": 54,
   "id": "bca63d8d",
   "metadata": {},
   "outputs": [
    {
     "data": {
      "text/html": [
       "<div>\n",
       "<style scoped>\n",
       "    .dataframe tbody tr th:only-of-type {\n",
       "        vertical-align: middle;\n",
       "    }\n",
       "\n",
       "    .dataframe tbody tr th {\n",
       "        vertical-align: top;\n",
       "    }\n",
       "\n",
       "    .dataframe thead th {\n",
       "        text-align: right;\n",
       "    }\n",
       "</style>\n",
       "<table border=\"1\" class=\"dataframe\">\n",
       "  <thead>\n",
       "    <tr style=\"text-align: right;\">\n",
       "      <th></th>\n",
       "      <th>App_Name</th>\n",
       "      <th>Category</th>\n",
       "      <th>Minimum_Android</th>\n",
       "      <th>Content_Rating</th>\n",
       "      <th>Rating_Range</th>\n",
       "    </tr>\n",
       "  </thead>\n",
       "  <tbody>\n",
       "    <tr>\n",
       "      <th>0</th>\n",
       "      <td>Gakondo</td>\n",
       "      <td>Adventure</td>\n",
       "      <td>7.1 and up</td>\n",
       "      <td>Everyone</td>\n",
       "      <td>NoRating</td>\n",
       "    </tr>\n",
       "    <tr>\n",
       "      <th>1</th>\n",
       "      <td>Ampere Battery Info</td>\n",
       "      <td>Tools</td>\n",
       "      <td>5.0 and up</td>\n",
       "      <td>Everyone</td>\n",
       "      <td>Less than 10K</td>\n",
       "    </tr>\n",
       "    <tr>\n",
       "      <th>2</th>\n",
       "      <td>Vibook</td>\n",
       "      <td>Productivity</td>\n",
       "      <td>4.0.3 and up</td>\n",
       "      <td>Everyone</td>\n",
       "      <td>NoRating</td>\n",
       "    </tr>\n",
       "    <tr>\n",
       "      <th>3</th>\n",
       "      <td>Smart City Trichy Public Service Vehicles 17UC...</td>\n",
       "      <td>Communication</td>\n",
       "      <td>4.0.3 and up</td>\n",
       "      <td>Everyone</td>\n",
       "      <td>Less than 10K</td>\n",
       "    </tr>\n",
       "    <tr>\n",
       "      <th>4</th>\n",
       "      <td>GROW.me</td>\n",
       "      <td>Tools</td>\n",
       "      <td>4.1 and up</td>\n",
       "      <td>Everyone</td>\n",
       "      <td>NoRating</td>\n",
       "    </tr>\n",
       "    <tr>\n",
       "      <th>...</th>\n",
       "      <td>...</td>\n",
       "      <td>...</td>\n",
       "      <td>...</td>\n",
       "      <td>...</td>\n",
       "      <td>...</td>\n",
       "    </tr>\n",
       "    <tr>\n",
       "      <th>2312938</th>\n",
       "      <td>Lero TOEFL Recorder + Timer</td>\n",
       "      <td>Education</td>\n",
       "      <td>4.1 and up</td>\n",
       "      <td>Everyone</td>\n",
       "      <td>Less than 10K</td>\n",
       "    </tr>\n",
       "    <tr>\n",
       "      <th>2312940</th>\n",
       "      <td>ORU Online</td>\n",
       "      <td>Education</td>\n",
       "      <td>4.1 and up</td>\n",
       "      <td>Everyone</td>\n",
       "      <td>NoRating</td>\n",
       "    </tr>\n",
       "    <tr>\n",
       "      <th>2312941</th>\n",
       "      <td>Data Structure</td>\n",
       "      <td>Education</td>\n",
       "      <td>5.0 and up</td>\n",
       "      <td>Everyone</td>\n",
       "      <td>NoRating</td>\n",
       "    </tr>\n",
       "    <tr>\n",
       "      <th>2312942</th>\n",
       "      <td>Devi Suktam</td>\n",
       "      <td>Music</td>\n",
       "      <td>5.0 and up</td>\n",
       "      <td>Everyone</td>\n",
       "      <td>Less than 10K</td>\n",
       "    </tr>\n",
       "    <tr>\n",
       "      <th>2312943</th>\n",
       "      <td>Biliyor Musun - Sonsuz Yarış</td>\n",
       "      <td>Trivia</td>\n",
       "      <td>5.0 and up</td>\n",
       "      <td>Everyone</td>\n",
       "      <td>Less than 10K</td>\n",
       "    </tr>\n",
       "  </tbody>\n",
       "</table>\n",
       "<p>2235329 rows × 5 columns</p>\n",
       "</div>"
      ],
      "text/plain": [
       "                                                  App_Name       Category  \\\n",
       "0                                                  Gakondo      Adventure   \n",
       "1                                      Ampere Battery Info          Tools   \n",
       "2                                                   Vibook   Productivity   \n",
       "3        Smart City Trichy Public Service Vehicles 17UC...  Communication   \n",
       "4                                                  GROW.me          Tools   \n",
       "...                                                    ...            ...   \n",
       "2312938                        Lero TOEFL Recorder + Timer      Education   \n",
       "2312940                                         ORU Online      Education   \n",
       "2312941                                     Data Structure      Education   \n",
       "2312942                                        Devi Suktam          Music   \n",
       "2312943                       Biliyor Musun - Sonsuz Yarış         Trivia   \n",
       "\n",
       "        Minimum_Android Content_Rating   Rating_Range  \n",
       "0            7.1 and up       Everyone       NoRating  \n",
       "1            5.0 and up       Everyone  Less than 10K  \n",
       "2          4.0.3 and up       Everyone       NoRating  \n",
       "3          4.0.3 and up       Everyone  Less than 10K  \n",
       "4            4.1 and up       Everyone       NoRating  \n",
       "...                 ...            ...            ...  \n",
       "2312938      4.1 and up       Everyone  Less than 10K  \n",
       "2312940      4.1 and up       Everyone       NoRating  \n",
       "2312941      5.0 and up       Everyone       NoRating  \n",
       "2312942      5.0 and up       Everyone  Less than 10K  \n",
       "2312943      5.0 and up       Everyone  Less than 10K  \n",
       "\n",
       "[2235329 rows x 5 columns]"
      ]
     },
     "execution_count": 54,
     "metadata": {},
     "output_type": "execute_result"
    }
   ],
   "source": [
    "df_cat"
   ]
  },
  {
   "cell_type": "code",
   "execution_count": 55,
   "id": "b5699962",
   "metadata": {},
   "outputs": [],
   "source": [
    "## New Dataset\n",
    "\n",
    "playstore=pd.concat([df_cat,df_num,df_date,df_bool],axis=1)"
   ]
  },
  {
   "cell_type": "code",
   "execution_count": 56,
   "id": "712023e3",
   "metadata": {},
   "outputs": [
    {
     "data": {
      "text/html": [
       "<div>\n",
       "<style scoped>\n",
       "    .dataframe tbody tr th:only-of-type {\n",
       "        vertical-align: middle;\n",
       "    }\n",
       "\n",
       "    .dataframe tbody tr th {\n",
       "        vertical-align: top;\n",
       "    }\n",
       "\n",
       "    .dataframe thead th {\n",
       "        text-align: right;\n",
       "    }\n",
       "</style>\n",
       "<table border=\"1\" class=\"dataframe\">\n",
       "  <thead>\n",
       "    <tr style=\"text-align: right;\">\n",
       "      <th></th>\n",
       "      <th>App_Name</th>\n",
       "      <th>Category</th>\n",
       "      <th>Minimum_Android</th>\n",
       "      <th>Content_Rating</th>\n",
       "      <th>Rating_Range</th>\n",
       "      <th>Rating</th>\n",
       "      <th>Installs</th>\n",
       "      <th>Price</th>\n",
       "      <th>Size</th>\n",
       "      <th>Released</th>\n",
       "      <th>Last_Updated</th>\n",
       "      <th>Free</th>\n",
       "      <th>Ad_Supported</th>\n",
       "      <th>In_App_Purchases</th>\n",
       "      <th>Editors_Choice</th>\n",
       "    </tr>\n",
       "  </thead>\n",
       "  <tbody>\n",
       "    <tr>\n",
       "      <th>0</th>\n",
       "      <td>Gakondo</td>\n",
       "      <td>Adventure</td>\n",
       "      <td>7.1 and up</td>\n",
       "      <td>Everyone</td>\n",
       "      <td>NoRating</td>\n",
       "      <td>0</td>\n",
       "      <td>10</td>\n",
       "      <td>0.0</td>\n",
       "      <td>10000.0</td>\n",
       "      <td>2020-02-26</td>\n",
       "      <td>2020-02-26</td>\n",
       "      <td>1</td>\n",
       "      <td>0</td>\n",
       "      <td>0</td>\n",
       "      <td>0</td>\n",
       "    </tr>\n",
       "    <tr>\n",
       "      <th>1</th>\n",
       "      <td>Ampere Battery Info</td>\n",
       "      <td>Tools</td>\n",
       "      <td>5.0 and up</td>\n",
       "      <td>Everyone</td>\n",
       "      <td>Less than 10K</td>\n",
       "      <td>4</td>\n",
       "      <td>5000</td>\n",
       "      <td>0.0</td>\n",
       "      <td>2900.0</td>\n",
       "      <td>2020-05-21</td>\n",
       "      <td>2021-05-06</td>\n",
       "      <td>1</td>\n",
       "      <td>1</td>\n",
       "      <td>0</td>\n",
       "      <td>0</td>\n",
       "    </tr>\n",
       "    <tr>\n",
       "      <th>2</th>\n",
       "      <td>Vibook</td>\n",
       "      <td>Productivity</td>\n",
       "      <td>4.0.3 and up</td>\n",
       "      <td>Everyone</td>\n",
       "      <td>NoRating</td>\n",
       "      <td>0</td>\n",
       "      <td>50</td>\n",
       "      <td>0.0</td>\n",
       "      <td>3700.0</td>\n",
       "      <td>2019-08-09</td>\n",
       "      <td>2019-08-19</td>\n",
       "      <td>1</td>\n",
       "      <td>0</td>\n",
       "      <td>0</td>\n",
       "      <td>0</td>\n",
       "    </tr>\n",
       "    <tr>\n",
       "      <th>3</th>\n",
       "      <td>Smart City Trichy Public Service Vehicles 17UC...</td>\n",
       "      <td>Communication</td>\n",
       "      <td>4.0.3 and up</td>\n",
       "      <td>Everyone</td>\n",
       "      <td>Less than 10K</td>\n",
       "      <td>5</td>\n",
       "      <td>10</td>\n",
       "      <td>0.0</td>\n",
       "      <td>1800.0</td>\n",
       "      <td>2018-09-10</td>\n",
       "      <td>2018-10-13</td>\n",
       "      <td>1</td>\n",
       "      <td>1</td>\n",
       "      <td>0</td>\n",
       "      <td>0</td>\n",
       "    </tr>\n",
       "    <tr>\n",
       "      <th>4</th>\n",
       "      <td>GROW.me</td>\n",
       "      <td>Tools</td>\n",
       "      <td>4.1 and up</td>\n",
       "      <td>Everyone</td>\n",
       "      <td>NoRating</td>\n",
       "      <td>0</td>\n",
       "      <td>100</td>\n",
       "      <td>0.0</td>\n",
       "      <td>6200.0</td>\n",
       "      <td>2020-02-21</td>\n",
       "      <td>2018-11-12</td>\n",
       "      <td>1</td>\n",
       "      <td>0</td>\n",
       "      <td>0</td>\n",
       "      <td>0</td>\n",
       "    </tr>\n",
       "  </tbody>\n",
       "</table>\n",
       "</div>"
      ],
      "text/plain": [
       "                                            App_Name       Category  \\\n",
       "0                                            Gakondo      Adventure   \n",
       "1                                Ampere Battery Info          Tools   \n",
       "2                                             Vibook   Productivity   \n",
       "3  Smart City Trichy Public Service Vehicles 17UC...  Communication   \n",
       "4                                            GROW.me          Tools   \n",
       "\n",
       "  Minimum_Android Content_Rating   Rating_Range  Rating  Installs  Price  \\\n",
       "0      7.1 and up       Everyone       NoRating       0        10    0.0   \n",
       "1      5.0 and up       Everyone  Less than 10K       4      5000    0.0   \n",
       "2    4.0.3 and up       Everyone       NoRating       0        50    0.0   \n",
       "3    4.0.3 and up       Everyone  Less than 10K       5        10    0.0   \n",
       "4      4.1 and up       Everyone       NoRating       0       100    0.0   \n",
       "\n",
       "      Size   Released Last_Updated  Free  Ad_Supported  In_App_Purchases  \\\n",
       "0  10000.0 2020-02-26   2020-02-26     1             0                 0   \n",
       "1   2900.0 2020-05-21   2021-05-06     1             1                 0   \n",
       "2   3700.0 2019-08-09   2019-08-19     1             0                 0   \n",
       "3   1800.0 2018-09-10   2018-10-13     1             1                 0   \n",
       "4   6200.0 2020-02-21   2018-11-12     1             0                 0   \n",
       "\n",
       "   Editors_Choice  \n",
       "0               0  \n",
       "1               0  \n",
       "2               0  \n",
       "3               0  \n",
       "4               0  "
      ]
     },
     "execution_count": 56,
     "metadata": {},
     "output_type": "execute_result"
    }
   ],
   "source": [
    "playstore.head()"
   ]
  },
  {
   "cell_type": "code",
   "execution_count": 57,
   "id": "a82e4f21",
   "metadata": {},
   "outputs": [
    {
     "data": {
      "text/plain": [
       "(2235329, 15)"
      ]
     },
     "execution_count": 57,
     "metadata": {},
     "output_type": "execute_result"
    }
   ],
   "source": [
    "playstore.shape"
   ]
  },
  {
   "cell_type": "code",
   "execution_count": 58,
   "id": "f4c45641",
   "metadata": {},
   "outputs": [
    {
     "data": {
      "text/plain": [
       "Index(['App_Name', 'Category', 'Minimum_Android', 'Content_Rating',\n",
       "       'Rating_Range', 'Rating', 'Installs', 'Price', 'Size', 'Released',\n",
       "       'Last_Updated', 'Free', 'Ad_Supported', 'In_App_Purchases',\n",
       "       'Editors_Choice'],\n",
       "      dtype='object')"
      ]
     },
     "execution_count": 58,
     "metadata": {},
     "output_type": "execute_result"
    }
   ],
   "source": [
    "playstore.columns"
   ]
  },
  {
   "cell_type": "code",
   "execution_count": 59,
   "id": "1549471a",
   "metadata": {},
   "outputs": [
    {
     "name": "stdout",
     "output_type": "stream",
     "text": [
      "<class 'pandas.core.frame.DataFrame'>\n",
      "Int64Index: 2235329 entries, 0 to 2312943\n",
      "Data columns (total 15 columns):\n",
      " #   Column            Dtype         \n",
      "---  ------            -----         \n",
      " 0   App_Name          object        \n",
      " 1   Category          object        \n",
      " 2   Minimum_Android   object        \n",
      " 3   Content_Rating    object        \n",
      " 4   Rating_Range      object        \n",
      " 5   Rating            int64         \n",
      " 6   Installs          int64         \n",
      " 7   Price             float64       \n",
      " 8   Size              float64       \n",
      " 9   Released          datetime64[ns]\n",
      " 10  Last_Updated      datetime64[ns]\n",
      " 11  Free              int64         \n",
      " 12  Ad_Supported      int64         \n",
      " 13  In_App_Purchases  int64         \n",
      " 14  Editors_Choice    int64         \n",
      "dtypes: datetime64[ns](2), float64(2), int64(6), object(5)\n",
      "memory usage: 272.9+ MB\n"
     ]
    }
   ],
   "source": [
    "playstore.info()"
   ]
  },
  {
   "cell_type": "code",
   "execution_count": 60,
   "id": "98c6ae26",
   "metadata": {},
   "outputs": [
    {
     "data": {
      "text/html": [
       "<div>\n",
       "<style scoped>\n",
       "    .dataframe tbody tr th:only-of-type {\n",
       "        vertical-align: middle;\n",
       "    }\n",
       "\n",
       "    .dataframe tbody tr th {\n",
       "        vertical-align: top;\n",
       "    }\n",
       "\n",
       "    .dataframe thead th {\n",
       "        text-align: right;\n",
       "    }\n",
       "</style>\n",
       "<table border=\"1\" class=\"dataframe\">\n",
       "  <thead>\n",
       "    <tr style=\"text-align: right;\">\n",
       "      <th></th>\n",
       "      <th>Rating</th>\n",
       "      <th>Installs</th>\n",
       "      <th>Price</th>\n",
       "      <th>Size</th>\n",
       "      <th>Free</th>\n",
       "      <th>Ad_Supported</th>\n",
       "      <th>In_App_Purchases</th>\n",
       "      <th>Editors_Choice</th>\n",
       "    </tr>\n",
       "  </thead>\n",
       "  <tbody>\n",
       "    <tr>\n",
       "      <th>Rating</th>\n",
       "      <td>1.000000</td>\n",
       "      <td>0.011998</td>\n",
       "      <td>-0.003910</td>\n",
       "      <td>0.044424</td>\n",
       "      <td>-0.009334</td>\n",
       "      <td>0.158073</td>\n",
       "      <td>0.151873</td>\n",
       "      <td>0.019123</td>\n",
       "    </tr>\n",
       "    <tr>\n",
       "      <th>Installs</th>\n",
       "      <td>0.011998</td>\n",
       "      <td>1.000000</td>\n",
       "      <td>-0.000471</td>\n",
       "      <td>0.005127</td>\n",
       "      <td>0.001667</td>\n",
       "      <td>0.002149</td>\n",
       "      <td>0.014907</td>\n",
       "      <td>0.057287</td>\n",
       "    </tr>\n",
       "    <tr>\n",
       "      <th>Price</th>\n",
       "      <td>-0.003910</td>\n",
       "      <td>-0.000471</td>\n",
       "      <td>1.000000</td>\n",
       "      <td>0.003971</td>\n",
       "      <td>-0.278063</td>\n",
       "      <td>-0.035017</td>\n",
       "      <td>-0.002744</td>\n",
       "      <td>0.000584</td>\n",
       "    </tr>\n",
       "    <tr>\n",
       "      <th>Size</th>\n",
       "      <td>0.044424</td>\n",
       "      <td>0.005127</td>\n",
       "      <td>0.003971</td>\n",
       "      <td>1.000000</td>\n",
       "      <td>-0.003546</td>\n",
       "      <td>-0.046035</td>\n",
       "      <td>0.168255</td>\n",
       "      <td>0.039995</td>\n",
       "    </tr>\n",
       "    <tr>\n",
       "      <th>Free</th>\n",
       "      <td>-0.009334</td>\n",
       "      <td>0.001667</td>\n",
       "      <td>-0.278063</td>\n",
       "      <td>-0.003546</td>\n",
       "      <td>1.000000</td>\n",
       "      <td>0.127042</td>\n",
       "      <td>0.008999</td>\n",
       "      <td>-0.003544</td>\n",
       "    </tr>\n",
       "    <tr>\n",
       "      <th>Ad_Supported</th>\n",
       "      <td>0.158073</td>\n",
       "      <td>0.002149</td>\n",
       "      <td>-0.035017</td>\n",
       "      <td>-0.046035</td>\n",
       "      <td>0.127042</td>\n",
       "      <td>1.000000</td>\n",
       "      <td>0.135363</td>\n",
       "      <td>0.005809</td>\n",
       "    </tr>\n",
       "    <tr>\n",
       "      <th>In_App_Purchases</th>\n",
       "      <td>0.151873</td>\n",
       "      <td>0.014907</td>\n",
       "      <td>-0.002744</td>\n",
       "      <td>0.168255</td>\n",
       "      <td>0.008999</td>\n",
       "      <td>0.135363</td>\n",
       "      <td>1.000000</td>\n",
       "      <td>0.046679</td>\n",
       "    </tr>\n",
       "    <tr>\n",
       "      <th>Editors_Choice</th>\n",
       "      <td>0.019123</td>\n",
       "      <td>0.057287</td>\n",
       "      <td>0.000584</td>\n",
       "      <td>0.039995</td>\n",
       "      <td>-0.003544</td>\n",
       "      <td>0.005809</td>\n",
       "      <td>0.046679</td>\n",
       "      <td>1.000000</td>\n",
       "    </tr>\n",
       "  </tbody>\n",
       "</table>\n",
       "</div>"
      ],
      "text/plain": [
       "                    Rating  Installs     Price      Size      Free  \\\n",
       "Rating            1.000000  0.011998 -0.003910  0.044424 -0.009334   \n",
       "Installs          0.011998  1.000000 -0.000471  0.005127  0.001667   \n",
       "Price            -0.003910 -0.000471  1.000000  0.003971 -0.278063   \n",
       "Size              0.044424  0.005127  0.003971  1.000000 -0.003546   \n",
       "Free             -0.009334  0.001667 -0.278063 -0.003546  1.000000   \n",
       "Ad_Supported      0.158073  0.002149 -0.035017 -0.046035  0.127042   \n",
       "In_App_Purchases  0.151873  0.014907 -0.002744  0.168255  0.008999   \n",
       "Editors_Choice    0.019123  0.057287  0.000584  0.039995 -0.003544   \n",
       "\n",
       "                  Ad_Supported  In_App_Purchases  Editors_Choice  \n",
       "Rating                0.158073          0.151873        0.019123  \n",
       "Installs              0.002149          0.014907        0.057287  \n",
       "Price                -0.035017         -0.002744        0.000584  \n",
       "Size                 -0.046035          0.168255        0.039995  \n",
       "Free                  0.127042          0.008999       -0.003544  \n",
       "Ad_Supported          1.000000          0.135363        0.005809  \n",
       "In_App_Purchases      0.135363          1.000000        0.046679  \n",
       "Editors_Choice        0.005809          0.046679        1.000000  "
      ]
     },
     "execution_count": 60,
     "metadata": {},
     "output_type": "execute_result"
    }
   ],
   "source": [
    "playstore.corr()"
   ]
  },
  {
   "cell_type": "code",
   "execution_count": 64,
   "id": "c3963522",
   "metadata": {},
   "outputs": [
    {
     "data": {
      "text/plain": [
       "[]"
      ]
     },
     "execution_count": 64,
     "metadata": {},
     "output_type": "execute_result"
    },
    {
     "data": {
      "image/png": "[encoded data removed]",
      "text/plain": [
       "<Figure size 720x576 with 2 Axes>"
      ]
     },
     "metadata": {
      "needs_background": "light"
     },
     "output_type": "display_data"
    }
   ],
   "source": [
    "plt.figure(figsize=(10,8))\n",
    "sns.heatmap(playstore.corr(),annot=True)\n",
    "plt.plot()"
   ]
  },
  {
   "cell_type": "markdown",
   "id": "0cc6fd01",
   "metadata": {},
   "source": [
    "## Scaling"
   ]
  },
  {
   "cell_type": "code",
   "execution_count": 65,
   "id": "6f1ce583",
   "metadata": {},
   "outputs": [],
   "source": [
    "Google_Playstore=playstore.copy()"
   ]
  },
  {
   "cell_type": "code",
   "execution_count": 66,
   "id": "d36e5a05",
   "metadata": {},
   "outputs": [],
   "source": [
    "from sklearn.preprocessing import StandardScaler\n",
    "\n",
    "sc = StandardScaler()\n",
    "def scaling(Google_Playstore):\n",
    "    try:\n",
    "        ps_n1 = Google_Playstore.select_dtypes(exclude='object')\n",
    "        ps_n2 = ps_n1.select_dtypes(exclude='datetime64')\n",
    "        # update the cols with their normalized values\n",
    "        Google_Playstore[ps_n2.columns] = sc.fit_transform(ps_n2)\n",
    "\n",
    "        # convert string variable to One Hot Encoding\n",
    "        Google_Playstore = pd.get_dummies(Google_Playstore)\n",
    "    except:\n",
    "           Google_Playstore "
   ]
  },
  {
   "cell_type": "code",
   "execution_count": 67,
   "id": "b08dbb78",
   "metadata": {},
   "outputs": [],
   "source": [
    "# method calling\n",
    "\n",
    "scaling(Google_Playstore)"
   ]
  },
  {
   "cell_type": "code",
   "execution_count": 68,
   "id": "52a8f7b7",
   "metadata": {},
   "outputs": [
    {
     "data": {
      "text/html": [
       "<div>\n",
       "<style scoped>\n",
       "    .dataframe tbody tr th:only-of-type {\n",
       "        vertical-align: middle;\n",
       "    }\n",
       "\n",
       "    .dataframe tbody tr th {\n",
       "        vertical-align: top;\n",
       "    }\n",
       "\n",
       "    .dataframe thead th {\n",
       "        text-align: right;\n",
       "    }\n",
       "</style>\n",
       "<table border=\"1\" class=\"dataframe\">\n",
       "  <thead>\n",
       "    <tr style=\"text-align: right;\">\n",
       "      <th></th>\n",
       "      <th>App_Name</th>\n",
       "      <th>Category</th>\n",
       "      <th>Minimum_Android</th>\n",
       "      <th>Content_Rating</th>\n",
       "      <th>Rating_Range</th>\n",
       "      <th>Rating</th>\n",
       "      <th>Installs</th>\n",
       "      <th>Price</th>\n",
       "      <th>Size</th>\n",
       "      <th>Released</th>\n",
       "      <th>Last_Updated</th>\n",
       "      <th>Free</th>\n",
       "      <th>Ad_Supported</th>\n",
       "      <th>In_App_Purchases</th>\n",
       "      <th>Editors_Choice</th>\n",
       "    </tr>\n",
       "  </thead>\n",
       "  <tbody>\n",
       "    <tr>\n",
       "      <th>0</th>\n",
       "      <td>Gakondo</td>\n",
       "      <td>Adventure</td>\n",
       "      <td>7.1 and up</td>\n",
       "      <td>Everyone</td>\n",
       "      <td>NoRating</td>\n",
       "      <td>-1.031918</td>\n",
       "      <td>-0.012392</td>\n",
       "      <td>-0.039373</td>\n",
       "      <td>-0.366920</td>\n",
       "      <td>2020-02-26</td>\n",
       "      <td>2020-02-26</td>\n",
       "      <td>0.141597</td>\n",
       "      <td>-1.013975</td>\n",
       "      <td>-0.305581</td>\n",
       "      <td>-0.018731</td>\n",
       "    </tr>\n",
       "    <tr>\n",
       "      <th>1</th>\n",
       "      <td>Ampere Battery Info</td>\n",
       "      <td>Tools</td>\n",
       "      <td>5.0 and up</td>\n",
       "      <td>Everyone</td>\n",
       "      <td>Less than 10K</td>\n",
       "      <td>1.060990</td>\n",
       "      <td>-0.012041</td>\n",
       "      <td>-0.039373</td>\n",
       "      <td>-0.665384</td>\n",
       "      <td>2020-05-21</td>\n",
       "      <td>2021-05-06</td>\n",
       "      <td>0.141597</td>\n",
       "      <td>0.986217</td>\n",
       "      <td>-0.305581</td>\n",
       "      <td>-0.018731</td>\n",
       "    </tr>\n",
       "    <tr>\n",
       "      <th>2</th>\n",
       "      <td>Vibook</td>\n",
       "      <td>Productivity</td>\n",
       "      <td>4.0.3 and up</td>\n",
       "      <td>Everyone</td>\n",
       "      <td>NoRating</td>\n",
       "      <td>-1.031918</td>\n",
       "      <td>-0.012389</td>\n",
       "      <td>-0.039373</td>\n",
       "      <td>-0.631754</td>\n",
       "      <td>2019-08-09</td>\n",
       "      <td>2019-08-19</td>\n",
       "      <td>0.141597</td>\n",
       "      <td>-1.013975</td>\n",
       "      <td>-0.305581</td>\n",
       "      <td>-0.018731</td>\n",
       "    </tr>\n",
       "    <tr>\n",
       "      <th>3</th>\n",
       "      <td>Smart City Trichy Public Service Vehicles 17UC...</td>\n",
       "      <td>Communication</td>\n",
       "      <td>4.0.3 and up</td>\n",
       "      <td>Everyone</td>\n",
       "      <td>Less than 10K</td>\n",
       "      <td>1.584217</td>\n",
       "      <td>-0.012392</td>\n",
       "      <td>-0.039373</td>\n",
       "      <td>-0.711624</td>\n",
       "      <td>2018-09-10</td>\n",
       "      <td>2018-10-13</td>\n",
       "      <td>0.141597</td>\n",
       "      <td>0.986217</td>\n",
       "      <td>-0.305581</td>\n",
       "      <td>-0.018731</td>\n",
       "    </tr>\n",
       "    <tr>\n",
       "      <th>4</th>\n",
       "      <td>GROW.me</td>\n",
       "      <td>Tools</td>\n",
       "      <td>4.1 and up</td>\n",
       "      <td>Everyone</td>\n",
       "      <td>NoRating</td>\n",
       "      <td>-1.031918</td>\n",
       "      <td>-0.012386</td>\n",
       "      <td>-0.039373</td>\n",
       "      <td>-0.526661</td>\n",
       "      <td>2020-02-21</td>\n",
       "      <td>2018-11-12</td>\n",
       "      <td>0.141597</td>\n",
       "      <td>-1.013975</td>\n",
       "      <td>-0.305581</td>\n",
       "      <td>-0.018731</td>\n",
       "    </tr>\n",
       "    <tr>\n",
       "      <th>...</th>\n",
       "      <td>...</td>\n",
       "      <td>...</td>\n",
       "      <td>...</td>\n",
       "      <td>...</td>\n",
       "      <td>...</td>\n",
       "      <td>...</td>\n",
       "      <td>...</td>\n",
       "      <td>...</td>\n",
       "      <td>...</td>\n",
       "      <td>...</td>\n",
       "      <td>...</td>\n",
       "      <td>...</td>\n",
       "      <td>...</td>\n",
       "      <td>...</td>\n",
       "      <td>...</td>\n",
       "    </tr>\n",
       "    <tr>\n",
       "      <th>2312938</th>\n",
       "      <td>Lero TOEFL Recorder + Timer</td>\n",
       "      <td>Education</td>\n",
       "      <td>4.1 and up</td>\n",
       "      <td>Everyone</td>\n",
       "      <td>Less than 10K</td>\n",
       "      <td>0.537763</td>\n",
       "      <td>-0.012322</td>\n",
       "      <td>-0.039373</td>\n",
       "      <td>-0.366920</td>\n",
       "      <td>2018-05-22</td>\n",
       "      <td>2018-12-14</td>\n",
       "      <td>0.141597</td>\n",
       "      <td>0.986217</td>\n",
       "      <td>-0.305581</td>\n",
       "      <td>-0.018731</td>\n",
       "    </tr>\n",
       "    <tr>\n",
       "      <th>2312940</th>\n",
       "      <td>ORU Online</td>\n",
       "      <td>Education</td>\n",
       "      <td>4.1 and up</td>\n",
       "      <td>Everyone</td>\n",
       "      <td>NoRating</td>\n",
       "      <td>-1.031918</td>\n",
       "      <td>-0.012386</td>\n",
       "      <td>-0.039373</td>\n",
       "      <td>1.062343</td>\n",
       "      <td>2018-01-17</td>\n",
       "      <td>2018-02-02</td>\n",
       "      <td>0.141597</td>\n",
       "      <td>-1.013975</td>\n",
       "      <td>-0.305581</td>\n",
       "      <td>-0.018731</td>\n",
       "    </tr>\n",
       "    <tr>\n",
       "      <th>2312941</th>\n",
       "      <td>Data Structure</td>\n",
       "      <td>Education</td>\n",
       "      <td>5.0 and up</td>\n",
       "      <td>Everyone</td>\n",
       "      <td>NoRating</td>\n",
       "      <td>-1.031918</td>\n",
       "      <td>-0.012386</td>\n",
       "      <td>-0.039373</td>\n",
       "      <td>0.431786</td>\n",
       "      <td>2018-08-19</td>\n",
       "      <td>2018-08-19</td>\n",
       "      <td>0.141597</td>\n",
       "      <td>-1.013975</td>\n",
       "      <td>-0.305581</td>\n",
       "      <td>-0.018731</td>\n",
       "    </tr>\n",
       "    <tr>\n",
       "      <th>2312942</th>\n",
       "      <td>Devi Suktam</td>\n",
       "      <td>Music</td>\n",
       "      <td>5.0 and up</td>\n",
       "      <td>Everyone</td>\n",
       "      <td>Less than 10K</td>\n",
       "      <td>0.537763</td>\n",
       "      <td>-0.012322</td>\n",
       "      <td>-0.039373</td>\n",
       "      <td>-0.366920</td>\n",
       "      <td>2016-08-01</td>\n",
       "      <td>2021-05-05</td>\n",
       "      <td>0.141597</td>\n",
       "      <td>0.986217</td>\n",
       "      <td>-0.305581</td>\n",
       "      <td>-0.018731</td>\n",
       "    </tr>\n",
       "    <tr>\n",
       "      <th>2312943</th>\n",
       "      <td>Biliyor Musun - Sonsuz Yarış</td>\n",
       "      <td>Trivia</td>\n",
       "      <td>5.0 and up</td>\n",
       "      <td>Everyone</td>\n",
       "      <td>Less than 10K</td>\n",
       "      <td>1.584217</td>\n",
       "      <td>-0.012386</td>\n",
       "      <td>-0.039373</td>\n",
       "      <td>-0.568698</td>\n",
       "      <td>2019-08-09</td>\n",
       "      <td>2019-08-19</td>\n",
       "      <td>0.141597</td>\n",
       "      <td>0.986217</td>\n",
       "      <td>-0.305581</td>\n",
       "      <td>-0.018731</td>\n",
       "    </tr>\n",
       "  </tbody>\n",
       "</table>\n",
       "<p>2235329 rows × 15 columns</p>\n",
       "</div>"
      ],
      "text/plain": [
       "                                                  App_Name       Category  \\\n",
       "0                                                  Gakondo      Adventure   \n",
       "1                                      Ampere Battery Info          Tools   \n",
       "2                                                   Vibook   Productivity   \n",
       "3        Smart City Trichy Public Service Vehicles 17UC...  Communication   \n",
       "4                                                  GROW.me          Tools   \n",
       "...                                                    ...            ...   \n",
       "2312938                        Lero TOEFL Recorder + Timer      Education   \n",
       "2312940                                         ORU Online      Education   \n",
       "2312941                                     Data Structure      Education   \n",
       "2312942                                        Devi Suktam          Music   \n",
       "2312943                       Biliyor Musun - Sonsuz Yarış         Trivia   \n",
       "\n",
       "        Minimum_Android Content_Rating   Rating_Range    Rating  Installs  \\\n",
       "0            7.1 and up       Everyone       NoRating -1.031918 -0.012392   \n",
       "1            5.0 and up       Everyone  Less than 10K  1.060990 -0.012041   \n",
       "2          4.0.3 and up       Everyone       NoRating -1.031918 -0.012389   \n",
       "3          4.0.3 and up       Everyone  Less than 10K  1.584217 -0.012392   \n",
       "4            4.1 and up       Everyone       NoRating -1.031918 -0.012386   \n",
       "...                 ...            ...            ...       ...       ...   \n",
       "2312938      4.1 and up       Everyone  Less than 10K  0.537763 -0.012322   \n",
       "2312940      4.1 and up       Everyone       NoRating -1.031918 -0.012386   \n",
       "2312941      5.0 and up       Everyone       NoRating -1.031918 -0.012386   \n",
       "2312942      5.0 and up       Everyone  Less than 10K  0.537763 -0.012322   \n",
       "2312943      5.0 and up       Everyone  Less than 10K  1.584217 -0.012386   \n",
       "\n",
       "            Price      Size   Released Last_Updated      Free  Ad_Supported  \\\n",
       "0       -0.039373 -0.366920 2020-02-26   2020-02-26  0.141597     -1.013975   \n",
       "1       -0.039373 -0.665384 2020-05-21   2021-05-06  0.141597      0.986217   \n",
       "2       -0.039373 -0.631754 2019-08-09   2019-08-19  0.141597     -1.013975   \n",
       "3       -0.039373 -0.711624 2018-09-10   2018-10-13  0.141597      0.986217   \n",
       "4       -0.039373 -0.526661 2020-02-21   2018-11-12  0.141597     -1.013975   \n",
       "...           ...       ...        ...          ...       ...           ...   \n",
       "2312938 -0.039373 -0.366920 2018-05-22   2018-12-14  0.141597      0.986217   \n",
       "2312940 -0.039373  1.062343 2018-01-17   2018-02-02  0.141597     -1.013975   \n",
       "2312941 -0.039373  0.431786 2018-08-19   2018-08-19  0.141597     -1.013975   \n",
       "2312942 -0.039373 -0.366920 2016-08-01   2021-05-05  0.141597      0.986217   \n",
       "2312943 -0.039373 -0.568698 2019-08-09   2019-08-19  0.141597      0.986217   \n",
       "\n",
       "         In_App_Purchases  Editors_Choice  \n",
       "0               -0.305581       -0.018731  \n",
       "1               -0.305581       -0.018731  \n",
       "2               -0.305581       -0.018731  \n",
       "3               -0.305581       -0.018731  \n",
       "4               -0.305581       -0.018731  \n",
       "...                   ...             ...  \n",
       "2312938         -0.305581       -0.018731  \n",
       "2312940         -0.305581       -0.018731  \n",
       "2312941         -0.305581       -0.018731  \n",
       "2312942         -0.305581       -0.018731  \n",
       "2312943         -0.305581       -0.018731  \n",
       "\n",
       "[2235329 rows x 15 columns]"
      ]
     },
     "execution_count": 68,
     "metadata": {},
     "output_type": "execute_result"
    }
   ],
   "source": [
    "Google_Playstore"
   ]
  },
  {
   "cell_type": "code",
   "execution_count": 69,
   "id": "465177d1",
   "metadata": {},
   "outputs": [
    {
     "name": "stdout",
     "output_type": "stream",
     "text": [
      "<class 'pandas.core.frame.DataFrame'>\n",
      "Int64Index: 2235329 entries, 0 to 2312943\n",
      "Data columns (total 15 columns):\n",
      " #   Column            Dtype         \n",
      "---  ------            -----         \n",
      " 0   App_Name          object        \n",
      " 1   Category          object        \n",
      " 2   Minimum_Android   object        \n",
      " 3   Content_Rating    object        \n",
      " 4   Rating_Range      object        \n",
      " 5   Rating            float64       \n",
      " 6   Installs          float64       \n",
      " 7   Price             float64       \n",
      " 8   Size              float64       \n",
      " 9   Released          datetime64[ns]\n",
      " 10  Last_Updated      datetime64[ns]\n",
      " 11  Free              float64       \n",
      " 12  Ad_Supported      float64       \n",
      " 13  In_App_Purchases  float64       \n",
      " 14  Editors_Choice    float64       \n",
      "dtypes: datetime64[ns](2), float64(8), object(5)\n",
      "memory usage: 272.9+ MB\n"
     ]
    }
   ],
   "source": [
    "Google_Playstore.info()"
   ]
  },
  {
   "cell_type": "markdown",
   "id": "4ea87c11",
   "metadata": {},
   "source": [
    "## Data Modelling"
   ]
  },
  {
   "cell_type": "code",
   "execution_count": 77,
   "id": "237a6441",
   "metadata": {},
   "outputs": [],
   "source": [
    "from sklearn.linear_model import LinearRegression\n",
    "from sklearn.metrics import r2_score\n",
    "from sklearn.metrics import mean_absolute_error \n",
    "from sklearn.tree import DecisionTreeRegressor\n",
    "from sklearn.ensemble import  RandomForestRegressor"
   ]
  },
  {
   "cell_type": "code",
   "execution_count": 72,
   "id": "d0fed955",
   "metadata": {},
   "outputs": [],
   "source": [
    "X = Google_Playstore.drop(['App_Name','Rating','Category','Minimum_Android','Content_Rating','Rating_Range','Released','Last_Updated'],axis=1)\n",
    "y = Google_Playstore['Rating']"
   ]
  },
  {
   "cell_type": "markdown",
   "id": "9367090f",
   "metadata": {},
   "source": [
    "###### Train & Test Data Spliting"
   ]
  },
  {
   "cell_type": "code",
   "execution_count": 73,
   "id": "8702bdff",
   "metadata": {},
   "outputs": [],
   "source": [
    "from sklearn.model_selection import train_test_split\n",
    "\n",
    "X_train,X_test, y_train, y_test=train_test_split(X,y,test_size=0.2, random_state=42)"
   ]
  },
  {
   "cell_type": "markdown",
   "id": "4ab5a4c0",
   "metadata": {},
   "source": [
    "## Linear Regression"
   ]
  },
  {
   "cell_type": "code",
   "execution_count": 78,
   "id": "66e4905e",
   "metadata": {},
   "outputs": [
    {
     "name": "stdout",
     "output_type": "stream",
     "text": [
      "r2_score of training data -20.256577790806478\n",
      "r2_score of testing data -20.244618599623006\n"
     ]
    }
   ],
   "source": [
    "model_1=LinearRegression()\n",
    "model_1.fit(X_train,y_train)\n",
    "print('r2_score of training data',r2_score(model_1.predict(X_train).round(1),y_train))\n",
    "print('r2_score of testing data',r2_score(model_1.predict(X_test).round(1),y_test))"
   ]
  },
  {
   "cell_type": "code",
   "execution_count": 79,
   "id": "d73151e0",
   "metadata": {},
   "outputs": [
    {
     "name": "stdout",
     "output_type": "stream",
     "text": [
      "mean absolute error of training data 0.9200305168357363\n",
      "mean absolute error of testing data 0.9200349225775141\n"
     ]
    }
   ],
   "source": [
    "print('mean absolute error of training data',mean_absolute_error(model_1.predict(X_train).round(1),y_train))\n",
    "print('mean absolute error of testing data',mean_absolute_error(model_1.predict(X_test).round(1),y_test))"
   ]
  },
  {
   "cell_type": "markdown",
   "id": "9c1399e0",
   "metadata": {},
   "source": [
    "## Decision Tree"
   ]
  },
  {
   "cell_type": "code",
   "execution_count": 80,
   "id": "b878f4fa",
   "metadata": {},
   "outputs": [
    {
     "name": "stdout",
     "output_type": "stream",
     "text": [
      "r2_score of training data -0.18154454063419578\n",
      "r2_score of testing data -0.18475594467031708\n"
     ]
    }
   ],
   "source": [
    "model_2=DecisionTreeRegressor(max_depth=9)\n",
    "model_2.fit(X_train,y_train)\n",
    "print('r2_score of training data',r2_score(model_2.predict(X_train).round(1),y_train))\n",
    "print('r2_score of testing data',r2_score(model_2.predict(X_test).round(1),y_test))"
   ]
  },
  {
   "cell_type": "code",
   "execution_count": 81,
   "id": "f680f2f4",
   "metadata": {},
   "outputs": [
    {
     "name": "stdout",
     "output_type": "stream",
     "text": [
      "mean absolute error of training data 0.532732021664604\n",
      "mean absolute error of testing data 0.5335462784085807\n"
     ]
    }
   ],
   "source": [
    "print('mean absolute error of training data',mean_absolute_error(model_2.predict(X_train).round(1),y_train))\n",
    "print('mean absolute error of testing data',mean_absolute_error(model_2.predict(X_test).round(1),y_test))"
   ]
  },
  {
   "cell_type": "markdown",
   "id": "e98e77c3",
   "metadata": {},
   "source": [
    "## RandomForest"
   ]
  },
  {
   "cell_type": "code",
   "execution_count": 82,
   "id": "1003a2c9",
   "metadata": {},
   "outputs": [
    {
     "name": "stdout",
     "output_type": "stream",
     "text": [
      "r2_score of training data -0.17896858831931994\n",
      "r2_score of testing data -0.1824330454120553\n"
     ]
    }
   ],
   "source": [
    "model_3=RandomForestRegressor(max_depth=9)\n",
    "model_3.fit(X_train,y_train)\n",
    "print('r2_score of training data',r2_score(model_3.predict(X_train).round(1),y_train))\n",
    "print('r2_score of testing data',r2_score(model_3.predict(X_test).round(1),y_test))"
   ]
  },
  {
   "cell_type": "code",
   "execution_count": 83,
   "id": "5d89553d",
   "metadata": {},
   "outputs": [
    {
     "name": "stdout",
     "output_type": "stream",
     "text": [
      "mean absolute error of training data 0.532660482801998\n",
      "mean absolute error of testing data 0.5334812180293311\n"
     ]
    }
   ],
   "source": [
    "print('mean absolute error of training data',mean_absolute_error(model_3.predict(X_train).round(1),y_train))\n",
    "print('mean absolute error of testing data',mean_absolute_error(model_3.predict(X_test).round(1),y_test))"
   ]
  },
  {
   "cell_type": "markdown",
   "id": "238c9c01",
   "metadata": {},
   "source": [
    "# XGBRegression"
   ]
  },
  {
   "cell_type": "code",
   "execution_count": 87,
   "id": "68365ef0",
   "metadata": {},
   "outputs": [
    {
     "name": "stdout",
     "output_type": "stream",
     "text": [
      "Collecting xgboost\n",
      "  Downloading xgboost-1.7.3-py3-none-win_amd64.whl (89.1 MB)\n",
      "Requirement already satisfied: scipy in c:\\anaconda_exe.files\\destinationfolder\\lib\\site-packages (from xgboost) (1.7.1)\n",
      "Requirement already satisfied: numpy in c:\\anaconda_exe.files\\destinationfolder\\lib\\site-packages (from xgboost) (1.20.3)\n",
      "Installing collected packages: xgboost\n",
      "Successfully installed xgboost-1.7.3\n",
      "Note: you may need to restart the kernel to use updated packages.\n"
     ]
    }
   ],
   "source": [
    "pip install xgboost"
   ]
  },
  {
   "cell_type": "code",
   "execution_count": 84,
   "id": "939658bb",
   "metadata": {},
   "outputs": [
    {
     "name": "stdout",
     "output_type": "stream",
     "text": [
      "r2_score of training data -0.16761371489129706\n",
      "r2_score of testing data -0.17237152786680854\n"
     ]
    }
   ],
   "source": [
    "from xgboost import XGBRegressor\n",
    "model_4=XGBRegressor()\n",
    "model_4.fit(X_train,y_train)\n",
    "print('r2_score of training data',r2_score(model_4.predict(X_train).round(1),y_train))\n",
    "print('r2_score of testing data',r2_score(model_4.predict(X_test).round(1),y_test))"
   ]
  },
  {
   "cell_type": "code",
   "execution_count": 85,
   "id": "9b099b78",
   "metadata": {},
   "outputs": [
    {
     "name": "stdout",
     "output_type": "stream",
     "text": [
      "mean absolute error of training data 0.5323959618826059\n",
      "mean absolute error of testing data 0.533653683149055\n"
     ]
    }
   ],
   "source": [
    "print('mean absolute error of training data',mean_absolute_error(model_4.predict(X_train).round(1),y_train))\n",
    "print('mean absolute error of testing data',mean_absolute_error(model_4.predict(X_test).round(1),y_test))"
   ]
  },
  {
   "cell_type": "code",
   "execution_count": null,
   "id": "05aebe02",
   "metadata": {},
   "outputs": [],
   "source": []
  },
  {
   "cell_type": "code",
   "execution_count": null,
   "id": "717eb241",
   "metadata": {},
   "outputs": [],
   "source": []
  },
  {
   "cell_type": "code",
   "execution_count": null,
   "id": "06f1e849",
   "metadata": {},
   "outputs": [],
   "source": []
  },
  {
   "cell_type": "code",
   "execution_count": null,
   "id": "00888d88",
   "metadata": {},
   "outputs": [],
   "source": []
  }
 ],
 "metadata": {
  "kernelspec": {
   "display_name": "Python 3 (ipykernel)",
   "language": "python",
   "name": "python3"
  },
  "language_info": {
   "codemirror_mode": {
    "name": "ipython",
    "version": 3
   },
   "file_extension": ".py",
   "mimetype": "text/x-python",
   "name": "python",
   "nbconvert_exporter": "python",
   "pygments_lexer": "ipython3",
   "version": "3.9.7"
  }
 },
 "nbformat": 4,
 "nbformat_minor": 5
}
