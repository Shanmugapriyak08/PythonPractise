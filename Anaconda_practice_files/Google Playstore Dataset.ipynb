{
 "cells": [
  {
   "cell_type": "code",
   "execution_count": 1,
   "id": "a7432764",
   "metadata": {},
   "outputs": [],
   "source": [
    "import pandas as pd\n",
    "import numpy as np\n",
    "import matplotlib.pyplot as plt\n",
    "import seaborn as sns\n",
    "import warnings\n",
    "warnings.filterwarnings('ignore')"
   ]
  },
  {
   "cell_type": "code",
   "execution_count": 2,
   "id": "8cf22f74",
   "metadata": {},
   "outputs": [],
   "source": [
    "dataset=pd.read_csv('D:\\\\CV DA Assignment\\\\Project Presentation\\\\Google play store\\\\Google-Playstore.csv')"
   ]
  },
  {
   "cell_type": "code",
   "execution_count": 3,
   "id": "9aab512f",
   "metadata": {},
   "outputs": [
    {
     "data": {
      "text/plain": [
       "(2312944, 24)"
      ]
     },
     "execution_count": 3,
     "metadata": {},
     "output_type": "execute_result"
    }
   ],
   "source": [
    "dataset.shape"
   ]
  },
  {
   "cell_type": "code",
   "execution_count": 4,
   "id": "9f2ff30c",
   "metadata": {},
   "outputs": [],
   "source": [
    "df=dataset.copy()"
   ]
  },
  {
   "cell_type": "code",
   "execution_count": 5,
   "id": "ae30eb59",
   "metadata": {},
   "outputs": [
    {
     "data": {
      "text/plain": [
       "(2312944, 24)"
      ]
     },
     "execution_count": 5,
     "metadata": {},
     "output_type": "execute_result"
    }
   ],
   "source": [
    "df.shape"
   ]
  },
  {
   "cell_type": "code",
   "execution_count": 6,
   "id": "81d62fd2",
   "metadata": {},
   "outputs": [
    {
     "data": {
      "text/plain": [
       "Index(['App_Name', 'App_Id', 'Category', 'Rating', 'Rating_Count', 'Installs',\n",
       "       'Minimum_Installs', 'Maximum_Installs', 'Free', 'Price', 'Currency',\n",
       "       'Size', 'Minimum_Android', 'Developer_Id', 'Developer_Website',\n",
       "       'Developer_Email', 'Released', 'Last_Updated', 'Content_Rating',\n",
       "       'Privacy_Policy', 'Ad_Supported', 'In_App_Purchases', 'Editors_Choice',\n",
       "       'Scraped_Time'],\n",
       "      dtype='object')"
      ]
     },
     "execution_count": 6,
     "metadata": {},
     "output_type": "execute_result"
    }
   ],
   "source": [
    "## Column Rename \n",
    "\n",
    "for col in df.columns:\n",
    "    col1 = col.replace(' ','_')\n",
    "    df = df.rename(columns={col:col1})\n",
    "df.columns"
   ]
  },
  {
   "cell_type": "code",
   "execution_count": 7,
   "id": "ff1f2820",
   "metadata": {},
   "outputs": [
    {
     "name": "stdout",
     "output_type": "stream",
     "text": [
      "Dropping the following columns - App_Id, Developer_Email, Privacy_Policy, Currency,Installs, Developer_Id, Scraped_Time,Maximum_Installs which are not needed for the analysis purposes.\n"
     ]
    }
   ],
   "source": [
    "## Dropping of unnecessary columns\n",
    "\n",
    "print (\"Dropping the following columns - App_Id, Developer_Email, Privacy_Policy, Currency,Installs, Developer_Id, Scraped_Time,Maximum_Installs which are not needed for the analysis purposes.\")\n",
    "\n",
    "df.drop(['App_Id','Developer_Website','Developer_Email','Privacy_Policy','Currency','Installs','Scraped_Time','Minimum_Installs'],axis=1,inplace=True)\n"
   ]
  },
  {
   "cell_type": "code",
   "execution_count": 8,
   "id": "482feee6",
   "metadata": {},
   "outputs": [
    {
     "data": {
      "text/plain": [
       "Index(['App_Name', 'Category', 'Rating', 'Rating_Count', 'Maximum_Installs',\n",
       "       'Free', 'Price', 'Size', 'Minimum_Android', 'Developer_Id', 'Released',\n",
       "       'Last_Updated', 'Content_Rating', 'Ad_Supported', 'In_App_Purchases',\n",
       "       'Editors_Choice'],\n",
       "      dtype='object')"
      ]
     },
     "execution_count": 8,
     "metadata": {},
     "output_type": "execute_result"
    }
   ],
   "source": [
    "df.columns"
   ]
  },
  {
   "cell_type": "code",
   "execution_count": 9,
   "id": "1c1128a5",
   "metadata": {},
   "outputs": [],
   "source": [
    "## Rename Minimum_installs as No.of. Installs\n",
    "df.rename(columns = {'Maximum_Installs':'Installs'}, inplace = True)"
   ]
  },
  {
   "cell_type": "code",
   "execution_count": 10,
   "id": "4ebc1407",
   "metadata": {},
   "outputs": [],
   "source": [
    "df.rename(columns = {'Free':'App_Free'}, inplace = True)"
   ]
  },
  {
   "cell_type": "code",
   "execution_count": 11,
   "id": "7e4b721e",
   "metadata": {},
   "outputs": [
    {
     "data": {
      "text/plain": [
       "Index(['App_Name', 'Category', 'Rating', 'Rating_Count', 'Installs',\n",
       "       'App_Free', 'Price', 'Size', 'Minimum_Android', 'Developer_Id',\n",
       "       'Released', 'Last_Updated', 'Content_Rating', 'Ad_Supported',\n",
       "       'In_App_Purchases', 'Editors_Choice'],\n",
       "      dtype='object')"
      ]
     },
     "execution_count": 11,
     "metadata": {},
     "output_type": "execute_result"
    }
   ],
   "source": [
    "df.columns"
   ]
  },
  {
   "cell_type": "code",
   "execution_count": 12,
   "id": "29f5f0a0",
   "metadata": {},
   "outputs": [
    {
     "data": {
      "text/plain": [
       "(2312944, 16)"
      ]
     },
     "execution_count": 12,
     "metadata": {},
     "output_type": "execute_result"
    }
   ],
   "source": [
    "df.shape"
   ]
  },
  {
   "cell_type": "code",
   "execution_count": 13,
   "id": "8d5ae827",
   "metadata": {},
   "outputs": [],
   "source": [
    "df=df.dropna()"
   ]
  },
  {
   "cell_type": "code",
   "execution_count": 14,
   "id": "7d328637",
   "metadata": {},
   "outputs": [
    {
     "data": {
      "text/plain": [
       "(2235298, 16)"
      ]
     },
     "execution_count": 14,
     "metadata": {},
     "output_type": "execute_result"
    }
   ],
   "source": [
    "df.shape"
   ]
  },
  {
   "cell_type": "code",
   "execution_count": 15,
   "id": "23e08028",
   "metadata": {},
   "outputs": [],
   "source": [
    "def define_size(data):\n",
    "    data=data.replace(',','')\n",
    "    num=data[:-1]\n",
    "    if data[-1]=='K' or data[-1]=='k' :\n",
    "        return float(num)\n",
    "    elif data[-1]=='M' or data[-1]=='m':\n",
    "        return float(num)*1000\n",
    "    elif data[-1]=='G' or data[-1]=='g':\n",
    "        return float(num)*1000000\n",
    "    else:\n",
    "        return 1000"
   ]
  },
  {
   "cell_type": "code",
   "execution_count": 16,
   "id": "cdbadd4f",
   "metadata": {},
   "outputs": [],
   "source": [
    "df['Size']=df['Size'].apply(define_size)"
   ]
  },
  {
   "cell_type": "code",
   "execution_count": 17,
   "id": "54b4db8b",
   "metadata": {},
   "outputs": [],
   "source": [
    "df['Category'] = df['Category'].replace(['Music & Audio'], 'Music')"
   ]
  },
  {
   "cell_type": "code",
   "execution_count": 18,
   "id": "9736b2b1",
   "metadata": {},
   "outputs": [],
   "source": [
    "## replace Content_Rating values\n",
    "\n",
    "df['Content_Rating']=df['Content_Rating'].replace({'Unrated':'Everyone',\n",
    "                                 'Mature 17+':\"Adults\",\n",
    "                                 'Adults only 18+':\"Adults\",\n",
    "                                 'Everyone 10+':\"Everyone\"}) "
   ]
  },
  {
   "cell_type": "code",
   "execution_count": 19,
   "id": "e005b365",
   "metadata": {},
   "outputs": [
    {
     "data": {
      "text/plain": [
       "Less than 10K           1164934\n",
       "NoRating                1034388\n",
       "Between 10K and 500K      34386\n",
       "More than 500K             1590\n",
       "Name: Rating_Range, dtype: int64"
      ]
     },
     "execution_count": 19,
     "metadata": {},
     "output_type": "execute_result"
    }
   ],
   "source": [
    "## replace Rating_Count into Rating_range values\n",
    "\n",
    "df['Rating_Range'] = 'NoRating'\n",
    "df.loc[(df['Rating_Count'] > 0) & (df['Rating_Count'] <= 10000.0),'Rating_Range'] = 'Less than 10K'\n",
    "df.loc[(df['Rating_Count'] > 10000) & (df['Rating_Count'] <= 500000.0),'Rating_Range'] = 'Between 10K and 500K'\n",
    "df.loc[(df['Rating_Count'] > 500000) & (df['Rating_Count'] <= 138557570.0),'Rating_Range'] = 'More than 500K'\n",
    "df.Rating_Range.value_counts()"
   ]
  },
  {
   "cell_type": "code",
   "execution_count": 20,
   "id": "d12bf76c",
   "metadata": {},
   "outputs": [
    {
     "data": {
      "text/plain": [
       "0.0    1034388\n",
       "4.0     703666\n",
       "3.0     316882\n",
       "5.0      98340\n",
       "2.0      69475\n",
       "1.0      12547\n",
       "Name: Rating, dtype: int64"
      ]
     },
     "execution_count": 20,
     "metadata": {},
     "output_type": "execute_result"
    }
   ],
   "source": [
    "## replace Rating_Count into Rating_range values\n",
    "\n",
    "df.loc[(df['Rating'] >= 1) & (df['Rating'] < 2),'Rating'] = 1\n",
    "df.loc[(df['Rating'] >=2) & (df['Rating'] <3),'Rating'] = 2\n",
    "df.loc[(df['Rating'] >=3) & (df['Rating'] <4),'Rating'] = 3\n",
    "df.loc[(df['Rating'] >=4) & (df['Rating'] <5),'Rating'] = 4\n",
    "df.loc[(df['Rating'] >=5) & (df['Rating'] <6),'Rating'] = 5\n",
    "df.Rating.value_counts()"
   ]
  },
  {
   "cell_type": "code",
   "execution_count": 21,
   "id": "a897fbf2",
   "metadata": {},
   "outputs": [],
   "source": [
    "d=df.copy()"
   ]
  },
  {
   "cell_type": "code",
   "execution_count": 22,
   "id": "6f648568",
   "metadata": {},
   "outputs": [
    {
     "data": {
      "text/html": [
       "<div>\n",
       "<style scoped>\n",
       "    .dataframe tbody tr th:only-of-type {\n",
       "        vertical-align: middle;\n",
       "    }\n",
       "\n",
       "    .dataframe tbody tr th {\n",
       "        vertical-align: top;\n",
       "    }\n",
       "\n",
       "    .dataframe thead th {\n",
       "        text-align: right;\n",
       "    }\n",
       "</style>\n",
       "<table border=\"1\" class=\"dataframe\">\n",
       "  <thead>\n",
       "    <tr style=\"text-align: right;\">\n",
       "      <th></th>\n",
       "      <th>App_Name</th>\n",
       "      <th>Category</th>\n",
       "      <th>Rating</th>\n",
       "      <th>Rating_Count</th>\n",
       "      <th>Installs</th>\n",
       "      <th>App_Free</th>\n",
       "      <th>Price</th>\n",
       "      <th>Size</th>\n",
       "      <th>Minimum_Android</th>\n",
       "      <th>Developer_Id</th>\n",
       "      <th>Released</th>\n",
       "      <th>Last_Updated</th>\n",
       "      <th>Content_Rating</th>\n",
       "      <th>Ad_Supported</th>\n",
       "      <th>In_App_Purchases</th>\n",
       "      <th>Editors_Choice</th>\n",
       "      <th>Rating_Range</th>\n",
       "    </tr>\n",
       "  </thead>\n",
       "  <tbody>\n",
       "    <tr>\n",
       "      <th>0</th>\n",
       "      <td>Gakondo</td>\n",
       "      <td>Adventure</td>\n",
       "      <td>0.0</td>\n",
       "      <td>0.0</td>\n",
       "      <td>15</td>\n",
       "      <td>True</td>\n",
       "      <td>0.0</td>\n",
       "      <td>10000.0</td>\n",
       "      <td>7.1 and up</td>\n",
       "      <td>Jean Confident Irénée NIYIZIBYOSE</td>\n",
       "      <td>Feb 26, 2020</td>\n",
       "      <td>Feb 26, 2020</td>\n",
       "      <td>Everyone</td>\n",
       "      <td>False</td>\n",
       "      <td>False</td>\n",
       "      <td>False</td>\n",
       "      <td>NoRating</td>\n",
       "    </tr>\n",
       "    <tr>\n",
       "      <th>1</th>\n",
       "      <td>Ampere Battery Info</td>\n",
       "      <td>Tools</td>\n",
       "      <td>4.0</td>\n",
       "      <td>64.0</td>\n",
       "      <td>7662</td>\n",
       "      <td>True</td>\n",
       "      <td>0.0</td>\n",
       "      <td>2900.0</td>\n",
       "      <td>5.0 and up</td>\n",
       "      <td>Webserveis</td>\n",
       "      <td>May 21, 2020</td>\n",
       "      <td>May 06, 2021</td>\n",
       "      <td>Everyone</td>\n",
       "      <td>True</td>\n",
       "      <td>False</td>\n",
       "      <td>False</td>\n",
       "      <td>Less than 10K</td>\n",
       "    </tr>\n",
       "  </tbody>\n",
       "</table>\n",
       "</div>"
      ],
      "text/plain": [
       "              App_Name   Category  Rating  Rating_Count  Installs  App_Free  \\\n",
       "0              Gakondo  Adventure     0.0           0.0        15      True   \n",
       "1  Ampere Battery Info      Tools     4.0          64.0      7662      True   \n",
       "\n",
       "   Price     Size Minimum_Android                       Developer_Id  \\\n",
       "0    0.0  10000.0      7.1 and up  Jean Confident Irénée NIYIZIBYOSE   \n",
       "1    0.0   2900.0      5.0 and up                         Webserveis   \n",
       "\n",
       "       Released  Last_Updated Content_Rating  Ad_Supported  In_App_Purchases  \\\n",
       "0  Feb 26, 2020  Feb 26, 2020       Everyone         False             False   \n",
       "1  May 21, 2020  May 06, 2021       Everyone          True             False   \n",
       "\n",
       "   Editors_Choice   Rating_Range  \n",
       "0           False       NoRating  \n",
       "1           False  Less than 10K  "
      ]
     },
     "execution_count": 22,
     "metadata": {},
     "output_type": "execute_result"
    }
   ],
   "source": [
    "d.head(2)"
   ]
  },
  {
   "cell_type": "code",
   "execution_count": 23,
   "id": "bd7e9879",
   "metadata": {},
   "outputs": [],
   "source": [
    "def is_ascii(s):\n",
    "    try:\n",
    "        s.encode(encoding='utf-8').decode('ascii')\n",
    "    except UnicodeDecodeError:\n",
    "        return False\n",
    "    else:\n",
    "        return True"
   ]
  },
  {
   "cell_type": "code",
   "execution_count": 24,
   "id": "7b76cb08",
   "metadata": {},
   "outputs": [],
   "source": [
    "a=df[df.App_Name.map(lambda x: x.isascii())]"
   ]
  },
  {
   "cell_type": "code",
   "execution_count": 25,
   "id": "38c1f5fb",
   "metadata": {},
   "outputs": [
    {
     "data": {
      "text/plain": [
       "(1936175, 17)"
      ]
     },
     "execution_count": 25,
     "metadata": {},
     "output_type": "execute_result"
    }
   ],
   "source": [
    "a.shape"
   ]
  },
  {
   "cell_type": "code",
   "execution_count": 32,
   "id": "b5aadcec",
   "metadata": {},
   "outputs": [],
   "source": [
    "b=a[a.Developer_Id.map(lambda x: x.isascii())]"
   ]
  },
  {
   "cell_type": "code",
   "execution_count": 26,
   "id": "6c920b1d",
   "metadata": {},
   "outputs": [
    {
     "data": {
      "text/html": [
       "<div>\n",
       "<style scoped>\n",
       "    .dataframe tbody tr th:only-of-type {\n",
       "        vertical-align: middle;\n",
       "    }\n",
       "\n",
       "    .dataframe tbody tr th {\n",
       "        vertical-align: top;\n",
       "    }\n",
       "\n",
       "    .dataframe thead th {\n",
       "        text-align: right;\n",
       "    }\n",
       "</style>\n",
       "<table border=\"1\" class=\"dataframe\">\n",
       "  <thead>\n",
       "    <tr style=\"text-align: right;\">\n",
       "      <th></th>\n",
       "      <th>App_Name</th>\n",
       "      <th>Category</th>\n",
       "      <th>Rating</th>\n",
       "      <th>Rating_Count</th>\n",
       "      <th>Installs</th>\n",
       "      <th>App_Free</th>\n",
       "      <th>Price</th>\n",
       "      <th>Size</th>\n",
       "      <th>Minimum_Android</th>\n",
       "      <th>Developer_Id</th>\n",
       "      <th>Released</th>\n",
       "      <th>Last_Updated</th>\n",
       "      <th>Content_Rating</th>\n",
       "      <th>Ad_Supported</th>\n",
       "      <th>In_App_Purchases</th>\n",
       "      <th>Editors_Choice</th>\n",
       "      <th>Rating_Range</th>\n",
       "    </tr>\n",
       "  </thead>\n",
       "  <tbody>\n",
       "  </tbody>\n",
       "</table>\n",
       "</div>"
      ],
      "text/plain": [
       "Empty DataFrame\n",
       "Columns: [App_Name, Category, Rating, Rating_Count, Installs, App_Free, Price, Size, Minimum_Android, Developer_Id, Released, Last_Updated, Content_Rating, Ad_Supported, In_App_Purchases, Editors_Choice, Rating_Range]\n",
       "Index: []"
      ]
     },
     "execution_count": 26,
     "metadata": {},
     "output_type": "execute_result"
    }
   ],
   "source": [
    "a[a['App_Name']=='毎日野球']\n",
    "\n"
   ]
  },
  {
   "cell_type": "code",
   "execution_count": 33,
   "id": "6996044a",
   "metadata": {},
   "outputs": [
    {
     "data": {
      "text/html": [
       "<div>\n",
       "<style scoped>\n",
       "    .dataframe tbody tr th:only-of-type {\n",
       "        vertical-align: middle;\n",
       "    }\n",
       "\n",
       "    .dataframe tbody tr th {\n",
       "        vertical-align: top;\n",
       "    }\n",
       "\n",
       "    .dataframe thead th {\n",
       "        text-align: right;\n",
       "    }\n",
       "</style>\n",
       "<table border=\"1\" class=\"dataframe\">\n",
       "  <thead>\n",
       "    <tr style=\"text-align: right;\">\n",
       "      <th></th>\n",
       "      <th>App_Name</th>\n",
       "      <th>Category</th>\n",
       "      <th>Rating</th>\n",
       "      <th>Rating_Count</th>\n",
       "      <th>Installs</th>\n",
       "      <th>App_Free</th>\n",
       "      <th>Price</th>\n",
       "      <th>Size</th>\n",
       "      <th>Minimum_Android</th>\n",
       "      <th>Developer_Id</th>\n",
       "      <th>Released</th>\n",
       "      <th>Last_Updated</th>\n",
       "      <th>Content_Rating</th>\n",
       "      <th>Ad_Supported</th>\n",
       "      <th>In_App_Purchases</th>\n",
       "      <th>Editors_Choice</th>\n",
       "      <th>Rating_Range</th>\n",
       "    </tr>\n",
       "  </thead>\n",
       "  <tbody>\n",
       "    <tr>\n",
       "      <th>1</th>\n",
       "      <td>Ampere Battery Info</td>\n",
       "      <td>Tools</td>\n",
       "      <td>4.0</td>\n",
       "      <td>64.0</td>\n",
       "      <td>7662</td>\n",
       "      <td>True</td>\n",
       "      <td>0.0</td>\n",
       "      <td>2900.0</td>\n",
       "      <td>5.0 and up</td>\n",
       "      <td>Webserveis</td>\n",
       "      <td>May 21, 2020</td>\n",
       "      <td>May 06, 2021</td>\n",
       "      <td>Everyone</td>\n",
       "      <td>True</td>\n",
       "      <td>False</td>\n",
       "      <td>False</td>\n",
       "      <td>Less than 10K</td>\n",
       "    </tr>\n",
       "    <tr>\n",
       "      <th>2</th>\n",
       "      <td>Vibook</td>\n",
       "      <td>Productivity</td>\n",
       "      <td>0.0</td>\n",
       "      <td>0.0</td>\n",
       "      <td>58</td>\n",
       "      <td>True</td>\n",
       "      <td>0.0</td>\n",
       "      <td>3700.0</td>\n",
       "      <td>4.0.3 and up</td>\n",
       "      <td>Cabin Crew</td>\n",
       "      <td>Aug 9, 2019</td>\n",
       "      <td>Aug 19, 2019</td>\n",
       "      <td>Everyone</td>\n",
       "      <td>False</td>\n",
       "      <td>False</td>\n",
       "      <td>False</td>\n",
       "      <td>NoRating</td>\n",
       "    </tr>\n",
       "  </tbody>\n",
       "</table>\n",
       "</div>"
      ],
      "text/plain": [
       "              App_Name      Category  Rating  Rating_Count  Installs  \\\n",
       "1  Ampere Battery Info         Tools     4.0          64.0      7662   \n",
       "2               Vibook  Productivity     0.0           0.0        58   \n",
       "\n",
       "   App_Free  Price    Size Minimum_Android Developer_Id      Released  \\\n",
       "1      True    0.0  2900.0      5.0 and up   Webserveis  May 21, 2020   \n",
       "2      True    0.0  3700.0    4.0.3 and up   Cabin Crew   Aug 9, 2019   \n",
       "\n",
       "   Last_Updated Content_Rating  Ad_Supported  In_App_Purchases  \\\n",
       "1  May 06, 2021       Everyone          True             False   \n",
       "2  Aug 19, 2019       Everyone         False             False   \n",
       "\n",
       "   Editors_Choice   Rating_Range  \n",
       "1           False  Less than 10K  \n",
       "2           False       NoRating  "
      ]
     },
     "execution_count": 33,
     "metadata": {},
     "output_type": "execute_result"
    }
   ],
   "source": [
    "b.head(2)"
   ]
  },
  {
   "cell_type": "code",
   "execution_count": 35,
   "id": "d195f124",
   "metadata": {},
   "outputs": [
    {
     "data": {
      "text/plain": [
       "(1887713, 17)"
      ]
     },
     "execution_count": 35,
     "metadata": {},
     "output_type": "execute_result"
    }
   ],
   "source": [
    "b.shape"
   ]
  },
  {
   "cell_type": "code",
   "execution_count": 36,
   "id": "d7635187",
   "metadata": {},
   "outputs": [],
   "source": [
    "## Tableau data\n",
    "b.to_csv('D:\\\\CV DA Assignment\\\\Project Presentation\\\\Google play store\\\\Play_store_new.csv')"
   ]
  },
  {
   "cell_type": "code",
   "execution_count": 29,
   "id": "87e357f8",
   "metadata": {},
   "outputs": [
    {
     "data": {
      "text/plain": [
       "1500000.0"
      ]
     },
     "execution_count": 29,
     "metadata": {},
     "output_type": "execute_result"
    }
   ],
   "source": [
    "max(a.Size)"
   ]
  },
  {
   "cell_type": "code",
   "execution_count": 30,
   "id": "c2b14e79",
   "metadata": {},
   "outputs": [
    {
     "data": {
      "text/plain": [
       "3.2"
      ]
     },
     "execution_count": 30,
     "metadata": {},
     "output_type": "execute_result"
    }
   ],
   "source": [
    "min(a.Size)"
   ]
  },
  {
   "cell_type": "code",
   "execution_count": 38,
   "id": "6c64cb54",
   "metadata": {},
   "outputs": [
    {
     "data": {
      "text/plain": [
       "[]"
      ]
     },
     "execution_count": 38,
     "metadata": {},
     "output_type": "execute_result"
    },
    {
     "data": {
      "image/png": "[encoded data removed]",
      "text/plain": [
       "<Figure size 720x576 with 2 Axes>"
      ]
     },
     "metadata": {
      "needs_background": "light"
     },
     "output_type": "display_data"
    }
   ],
   "source": [
    "plt.figure(figsize=(10,8))\n",
    "sns.heatmap(b.corr(),annot=True)\n",
    "plt.plot()"
   ]
  },
  {
   "cell_type": "code",
   "execution_count": null,
   "id": "9e621a4b",
   "metadata": {},
   "outputs": [],
   "source": []
  }
 ],
 "metadata": {
  "kernelspec": {
   "display_name": "Python 3 (ipykernel)",
   "language": "python",
   "name": "python3"
  },
  "language_info": {
   "codemirror_mode": {
    "name": "ipython",
    "version": 3
   },
   "file_extension": ".py",
   "mimetype": "text/x-python",
   "name": "python",
   "nbconvert_exporter": "python",
   "pygments_lexer": "ipython3",
   "version": "3.9.7"
  }
 },
 "nbformat": 4,
 "nbformat_minor": 5
}
